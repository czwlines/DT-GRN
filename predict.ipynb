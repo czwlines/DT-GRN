{
 "cells": [
  {
   "cell_type": "code",
   "execution_count": 1,
   "metadata": {},
   "outputs": [],
   "source": [
    "import torch\n",
    "import argparse\n",
    "from model import Model, MaskLoss\n",
    "from train_10f import load_data\n",
    "from data_utils import parseDataFea, parseA2\n",
    "from model import calculate_pearsonr, calculate_spearmanr, calculate_r2score"
   ]
  },
  {
   "cell_type": "code",
   "execution_count": 2,
   "metadata": {},
   "outputs": [],
   "source": [
    "import os\n",
    "os.environ['CUDA_VISIBLE_DEVICES'] = \"2\""
   ]
  },
  {
   "cell_type": "code",
   "execution_count": 3,
   "metadata": {},
   "outputs": [],
   "source": [
    "from sklearn.metrics import mean_squared_error\n",
    "def calculate_mse(ipt, tar, mask):\n",
    "    a, b = [], []\n",
    "    for i, k in torch.nonzero(mask):\n",
    "        a.append(ipt[i, k])\n",
    "        b.append(tar[i, k])\n",
    "    a = torch.Tensor(a)\n",
    "    b = torch.Tensor(b)\n",
    "    return mean_squared_error(a, b)\n",
    "\n",
    "from sklearn import metrics\n",
    "def calculate_auc(ipt, tar, mask):\n",
    "    a, b = [], []\n",
    "    for i, k in torch.nonzero(mask):\n",
    "        a.append(ipt[i, k])\n",
    "        b.append(tar[i, k])\n",
    "    a = torch.Tensor(a)\n",
    "    b = torch.Tensor(b)\n",
    "    return metrics.roc_auc_score(a, b)\n",
    "\n",
    "def calculate_acc(ipt, tar, mask):\n",
    "    a, b = [], []\n",
    "    for i, k in torch.nonzero(mask):\n",
    "        a.append(ipt[i, k])\n",
    "        b.append(tar[i, k])\n",
    "    a = torch.Tensor(a)\n",
    "    b = torch.Tensor(b)\n",
    "    return metrics.accuracy_score(a, b)\n",
    "\n",
    "def calculate_aupr(ipt, tar, mask):\n",
    "    a, b = [], []\n",
    "    for i, k in torch.nonzero(mask):\n",
    "        a.append(ipt[i, k])\n",
    "        b.append(tar[i, k])\n",
    "    a = torch.Tensor(a)\n",
    "    b = torch.Tensor(b)\n",
    "    p, r, *_ = metrics.precision_recall_curve(a, b)\n",
    "    return metrics.auc(r, p)\n",
    "\n",
    "def calculate_kappa(ipt, tar, mask):\n",
    "    a, b = [], []\n",
    "    for i, k in torch.nonzero(mask):\n",
    "        a.append(ipt[i, k])\n",
    "        b.append(tar[i, k])\n",
    "    a = torch.Tensor(a)\n",
    "    b = torch.Tensor(b)\n",
    "    return metrics.cohen_kappa_score(a, b)"
   ]
  },
  {
   "cell_type": "code",
   "execution_count": 11,
   "metadata": {},
   "outputs": [],
   "source": [
    "def evaluate_ckp(ckp_file):\n",
    "    cur_fold = int(ckp_file.split('-')[-1][0])\n",
    "    checkpoint = torch.load(ckp_file)\n",
    "    args = checkpoint['args']\n",
    "    emb, A, target, mask = load_data('./data/', args.data_set, args.th_rate, args.edge_mask, 10, cur_fold)\n",
    "    dru_emb, dis_emb, tar_emb = emb\n",
    "    dru_dru_A, dis_dis_A, tar_tar_A, dru_dis_A, dru_tar_A = A\n",
    "    train_target, valid_target = target\n",
    "    train_mask, valid_mask = mask\n",
    "    device = args.device\n",
    "    dru_emb = dru_emb.to(device)\n",
    "    dis_emb = dis_emb.to(device)\n",
    "    tar_emb = tar_emb.to(device)\n",
    "    dru_dru_A = dru_dru_A.to(device)\n",
    "    dis_dis_A = dis_dis_A.to(device)\n",
    "    tar_tar_A = tar_tar_A.to(device)\n",
    "    dru_dis_A = dru_dis_A.to(device)\n",
    "    dru_tar_A = dru_tar_A.to(device)\n",
    "    \n",
    "    train_target = train_target.to(device)\n",
    "    valid_target = valid_target.to(device)\n",
    "\n",
    "    train_mask = train_mask.to(device)\n",
    "    valid_mask = valid_mask.to(device)\n",
    "\n",
    "    model = Model(\n",
    "        dru_emb=len(dru_emb[0]),\n",
    "        dis_emb=len(dis_emb[0]),\n",
    "        tar_emb=len(tar_emb[0]),\n",
    "        dru_hid=args.dru_hid_size,\n",
    "        dis_hid=args.dis_hid_size,\n",
    "        tar_hid=args.tar_hid_size,\n",
    "        edge_dim=args.edge_dim,\n",
    "        g_hid=args.g_hid,\n",
    "        layer=args.layer,\n",
    "        dp=args.dp,\n",
    "        decoder=args.decoder,\n",
    "        dru_agg=args.dru_agg,\n",
    "        device=args.device\n",
    "    )\n",
    "    model = model.to(device)\n",
    "    model.load_state_dict(checkpoint['model'])\n",
    "    \n",
    "    model.eval()\n",
    "    with torch.no_grad():\n",
    "        pred = model(dru_emb, dis_emb, tar_emb, dru_dru_A, dis_dis_A, tar_tar_A, dru_dis_A, dru_tar_A, valid_mask)\n",
    "\n",
    "        loss = calculate_mse(pred, valid_target, valid_mask)\n",
    "        pear = calculate_pearsonr(pred, valid_target, valid_mask)\n",
    "        spea = calculate_spearmanr(pred, valid_target, valid_mask)\n",
    "        r2sc = calculate_r2score(pred, valid_target, valid_mask)\n",
    "    \n",
    "    return [loss.item(), pear, spea, r2sc, valid_mask.cpu(), valid_target.cpu(), pred.cpu()]"
   ]
  },
  {
   "cell_type": "code",
   "execution_count": 41,
   "metadata": {},
   "outputs": [],
   "source": [
    "import os\n",
    "import pickle\n",
    "\n",
    "matchmaker_cell_line = pickle.load(open('./data/cell_line_vec_dict.pt', 'rb'))\n",
    "exists_cell_line = os.listdir('./data/')\n",
    "cell_line = [name for name in matchmaker_cell_line if name in exists_cell_line]\n",
    "\n",
    "from collections import defaultdict\n",
    "\n",
    "data_all_score = defaultdict(lambda: [])\n",
    "ckp_list = [item for item in os.listdir('./result/')]\n",
    "ckp_list = sorted([['./result/' + item, item[12:], item[12:].split('_[')[0]] for item in ckp_list], key=lambda x:x[1])\n",
    "ckp_list, ckp_name_list = [], []\n",
    "for ckp in ckp_list:\n",
    "    if ckp[1] not in ckp_name_list:\n",
    "        ckp_list.append(ckp)\n",
    "        ckp_name_list.append(ckp[1])"
   ]
  },
  {
   "cell_type": "code",
   "execution_count": 13,
   "metadata": {
    "scrolled": true
   },
   "outputs": [],
   "source": [
    "from tqdm import tqdm"
   ]
  },
  {
   "cell_type": "code",
   "execution_count": 8,
   "metadata": {},
   "outputs": [],
   "source": [
    "save_list = {}\n",
    "with open('res-grn-1201.pkl', 'rb') as f:\n",
    "    save_list = pickle.load(f)"
   ]
  },
  {
   "cell_type": "code",
   "execution_count": 16,
   "metadata": {
    "scrolled": true
   },
   "outputs": [
    {
     "name": "stderr",
     "output_type": "stream",
     "text": [
      "\n",
      "  0%|          | 0/530 [00:00<?, ?it/s]\u001b[A"
     ]
    },
    {
     "name": "stdout",
     "output_type": "stream",
     "text": [
      "-------------------  data info  -----------------\n",
      "dru_size: 64\n",
      "dru_fea_size: 945\n",
      "dis_size: 1036\n",
      "dis_fea_size: 322\n",
      "tar_size: 103\n",
      "tar_fea_size: 1437\n",
      "threshold: 0.79\n",
      "mask=4  reset dru_dis_A as zero, valid sum(dru_dis_A)=0\n"
     ]
    },
    {
     "name": "stderr",
     "output_type": "stream",
     "text": [
      "\n",
      "  4%|▍         | 21/530 [00:00<00:11, 45.61it/s]\u001b[A"
     ]
    },
    {
     "name": "stdout",
     "output_type": "stream",
     "text": [
      "-------------------  data info  -----------------\n",
      "dru_size: 64\n",
      "dru_fea_size: 945\n",
      "dis_size: 1036\n",
      "dis_fea_size: 322\n",
      "tar_size: 103\n",
      "tar_fea_size: 1437\n",
      "threshold: 0.79\n",
      "mask=4  reset dru_dis_A as zero, valid sum(dru_dis_A)=0\n",
      "-------------------  data info  -----------------\n",
      "dru_size: 64\n",
      "dru_fea_size: 945\n",
      "dis_size: 1036\n",
      "dis_fea_size: 322\n",
      "tar_size: 103\n",
      "tar_fea_size: 1437\n",
      "threshold: 0.79\n",
      "mask=4  reset dru_dis_A as zero, valid sum(dru_dis_A)=0\n"
     ]
    },
    {
     "name": "stderr",
     "output_type": "stream",
     "text": [
      "\n",
      "  4%|▍         | 23/530 [00:01<01:48,  4.69it/s]\u001b[A"
     ]
    },
    {
     "name": "stdout",
     "output_type": "stream",
     "text": [
      "-------------------  data info  -----------------\n",
      "dru_size: 64\n",
      "dru_fea_size: 945\n",
      "dis_size: 1036\n",
      "dis_fea_size: 322\n",
      "tar_size: 103\n",
      "tar_fea_size: 1437\n",
      "threshold: 0.79\n",
      "mask=4  reset dru_dis_A as zero, valid sum(dru_dis_A)=0\n",
      "-------------------  data info  -----------------\n",
      "dru_size: 64\n",
      "dru_fea_size: 945\n",
      "dis_size: 1036\n",
      "dis_fea_size: 322\n",
      "tar_size: 103\n",
      "tar_fea_size: 1437\n",
      "threshold: 0.79\n",
      "mask=4  reset dru_dis_A as zero, valid sum(dru_dis_A)=0\n"
     ]
    },
    {
     "name": "stderr",
     "output_type": "stream",
     "text": [
      "\n",
      "  5%|▍         | 25/530 [00:03<02:58,  2.83it/s]\u001b[A"
     ]
    },
    {
     "name": "stdout",
     "output_type": "stream",
     "text": [
      "-------------------  data info  -----------------\n",
      "dru_size: 64\n",
      "dru_fea_size: 945\n",
      "dis_size: 1036\n",
      "dis_fea_size: 322\n",
      "tar_size: 103\n",
      "tar_fea_size: 1437\n",
      "threshold: 0.79\n",
      "mask=4  reset dru_dis_A as zero, valid sum(dru_dis_A)=0\n"
     ]
    },
    {
     "name": "stderr",
     "output_type": "stream",
     "text": [
      "\n",
      "  5%|▍         | 26/530 [00:03<03:45,  2.24it/s]\u001b[A"
     ]
    },
    {
     "name": "stdout",
     "output_type": "stream",
     "text": [
      "-------------------  data info  -----------------\n",
      "dru_size: 64\n",
      "dru_fea_size: 945\n",
      "dis_size: 1036\n",
      "dis_fea_size: 322\n",
      "tar_size: 103\n",
      "tar_fea_size: 1437\n",
      "threshold: 0.79\n",
      "mask=4  reset dru_dis_A as zero, valid sum(dru_dis_A)=0\n"
     ]
    },
    {
     "name": "stderr",
     "output_type": "stream",
     "text": [
      "\n",
      "  5%|▌         | 27/530 [00:04<04:19,  1.94it/s]\u001b[A"
     ]
    },
    {
     "name": "stdout",
     "output_type": "stream",
     "text": [
      "-------------------  data info  -----------------\n",
      "dru_size: 64\n",
      "dru_fea_size: 945\n",
      "dis_size: 1036\n",
      "dis_fea_size: 322\n",
      "tar_size: 103\n",
      "tar_fea_size: 1437\n",
      "threshold: 0.79\n",
      "mask=4  reset dru_dis_A as zero, valid sum(dru_dis_A)=0\n"
     ]
    },
    {
     "name": "stderr",
     "output_type": "stream",
     "text": [
      "\n",
      "  5%|▌         | 28/530 [00:05<04:42,  1.78it/s]\u001b[A"
     ]
    },
    {
     "name": "stdout",
     "output_type": "stream",
     "text": [
      "-------------------  data info  -----------------\n",
      "dru_size: 64\n",
      "dru_fea_size: 945\n",
      "dis_size: 1036\n",
      "dis_fea_size: 322\n",
      "tar_size: 103\n",
      "tar_fea_size: 1437\n",
      "threshold: 0.79\n",
      "mask=4  reset dru_dis_A as zero, valid sum(dru_dis_A)=0\n"
     ]
    },
    {
     "name": "stderr",
     "output_type": "stream",
     "text": [
      "\n",
      "  5%|▌         | 29/530 [00:05<04:59,  1.67it/s]\u001b[A"
     ]
    },
    {
     "name": "stdout",
     "output_type": "stream",
     "text": [
      "-------------------  data info  -----------------\n",
      "dru_size: 64\n",
      "dru_fea_size: 945\n",
      "dis_size: 1036\n",
      "dis_fea_size: 322\n",
      "tar_size: 103\n",
      "tar_fea_size: 1437\n",
      "threshold: 0.79\n",
      "mask=4  reset dru_dis_A as zero, valid sum(dru_dis_A)=0\n"
     ]
    },
    {
     "name": "stderr",
     "output_type": "stream",
     "text": [
      "\n",
      "  6%|▌         | 30/530 [00:06<05:09,  1.61it/s]\u001b[A"
     ]
    },
    {
     "name": "stdout",
     "output_type": "stream",
     "text": [
      "-------------------  data info  -----------------\n",
      "dru_size: 64\n",
      "dru_fea_size: 945\n",
      "dis_size: 1036\n",
      "dis_fea_size: 322\n",
      "tar_size: 103\n",
      "tar_fea_size: 1437\n",
      "threshold: 0.79\n",
      "mask=4  reset dru_dis_A as zero, valid sum(dru_dis_A)=0\n"
     ]
    },
    {
     "name": "stderr",
     "output_type": "stream",
     "text": [
      "\n",
      "  6%|▌         | 31/530 [00:07<05:21,  1.55it/s]\u001b[A"
     ]
    },
    {
     "name": "stdout",
     "output_type": "stream",
     "text": [
      "-------------------  data info  -----------------\n",
      "dru_size: 64\n",
      "dru_fea_size: 945\n",
      "dis_size: 1036\n",
      "dis_fea_size: 322\n",
      "tar_size: 103\n",
      "tar_fea_size: 1437\n",
      "threshold: 0.79\n",
      "mask=4  reset dru_dis_A as zero, valid sum(dru_dis_A)=0\n"
     ]
    },
    {
     "name": "stderr",
     "output_type": "stream",
     "text": [
      "\n",
      "  6%|▌         | 32/530 [00:07<05:27,  1.52it/s]\u001b[A"
     ]
    },
    {
     "name": "stdout",
     "output_type": "stream",
     "text": [
      "-------------------  data info  -----------------\n",
      "dru_size: 64\n",
      "dru_fea_size: 945\n",
      "dis_size: 1036\n",
      "dis_fea_size: 322\n",
      "tar_size: 103\n",
      "tar_fea_size: 1437\n",
      "threshold: 0.79\n",
      "mask=4  reset dru_dis_A as zero, valid sum(dru_dis_A)=0\n"
     ]
    },
    {
     "name": "stderr",
     "output_type": "stream",
     "text": [
      "\n",
      "  6%|▌         | 33/530 [00:08<05:31,  1.50it/s]\u001b[A"
     ]
    },
    {
     "name": "stdout",
     "output_type": "stream",
     "text": [
      "-------------------  data info  -----------------\n",
      "dru_size: 64\n",
      "dru_fea_size: 945\n",
      "dis_size: 1036\n",
      "dis_fea_size: 322\n",
      "tar_size: 103\n",
      "tar_fea_size: 1437\n",
      "threshold: 0.79\n",
      "mask=4  reset dru_dis_A as zero, valid sum(dru_dis_A)=0\n"
     ]
    },
    {
     "name": "stderr",
     "output_type": "stream",
     "text": [
      "\n",
      "  6%|▋         | 34/530 [00:09<05:33,  1.49it/s]\u001b[A"
     ]
    },
    {
     "name": "stdout",
     "output_type": "stream",
     "text": [
      "-------------------  data info  -----------------\n",
      "dru_size: 64\n",
      "dru_fea_size: 945\n",
      "dis_size: 1036\n",
      "dis_fea_size: 322\n",
      "tar_size: 103\n",
      "tar_fea_size: 1437\n",
      "threshold: 0.79\n",
      "mask=4  reset dru_dis_A as zero, valid sum(dru_dis_A)=0\n"
     ]
    },
    {
     "name": "stderr",
     "output_type": "stream",
     "text": [
      "\n",
      "  7%|▋         | 35/530 [00:09<05:32,  1.49it/s]\u001b[A"
     ]
    },
    {
     "name": "stdout",
     "output_type": "stream",
     "text": [
      "-------------------  data info  -----------------\n",
      "dru_size: 64\n",
      "dru_fea_size: 945\n",
      "dis_size: 1036\n",
      "dis_fea_size: 322\n",
      "tar_size: 103\n",
      "tar_fea_size: 1437\n",
      "threshold: 0.79\n",
      "mask=4  reset dru_dis_A as zero, valid sum(dru_dis_A)=0\n"
     ]
    },
    {
     "name": "stderr",
     "output_type": "stream",
     "text": [
      "\n",
      "  7%|▋         | 36/530 [00:10<05:31,  1.49it/s]\u001b[A"
     ]
    },
    {
     "name": "stdout",
     "output_type": "stream",
     "text": [
      "-------------------  data info  -----------------\n",
      "dru_size: 64\n",
      "dru_fea_size: 945\n",
      "dis_size: 1036\n",
      "dis_fea_size: 322\n",
      "tar_size: 103\n",
      "tar_fea_size: 1437\n",
      "threshold: 0.79\n",
      "mask=4  reset dru_dis_A as zero, valid sum(dru_dis_A)=0\n"
     ]
    },
    {
     "name": "stderr",
     "output_type": "stream",
     "text": [
      "\n",
      "  7%|▋         | 37/530 [00:11<05:29,  1.50it/s]\u001b[A"
     ]
    },
    {
     "name": "stdout",
     "output_type": "stream",
     "text": [
      "-------------------  data info  -----------------\n",
      "dru_size: 64\n",
      "dru_fea_size: 945\n",
      "dis_size: 1036\n",
      "dis_fea_size: 322\n",
      "tar_size: 103\n",
      "tar_fea_size: 1437\n",
      "threshold: 0.79\n",
      "mask=4  reset dru_dis_A as zero, valid sum(dru_dis_A)=0\n"
     ]
    },
    {
     "name": "stderr",
     "output_type": "stream",
     "text": [
      "\n",
      "  7%|▋         | 38/530 [00:11<05:28,  1.50it/s]\u001b[A"
     ]
    },
    {
     "name": "stdout",
     "output_type": "stream",
     "text": [
      "-------------------  data info  -----------------\n",
      "dru_size: 64\n",
      "dru_fea_size: 945\n",
      "dis_size: 1036\n",
      "dis_fea_size: 322\n",
      "tar_size: 103\n",
      "tar_fea_size: 1437\n",
      "threshold: 0.79\n",
      "mask=4  reset dru_dis_A as zero, valid sum(dru_dis_A)=0\n"
     ]
    },
    {
     "name": "stderr",
     "output_type": "stream",
     "text": [
      "\n",
      "  7%|▋         | 39/530 [00:12<05:27,  1.50it/s]\u001b[A"
     ]
    },
    {
     "name": "stdout",
     "output_type": "stream",
     "text": [
      "-------------------  data info  -----------------\n",
      "dru_size: 64\n",
      "dru_fea_size: 945\n",
      "dis_size: 1036\n",
      "dis_fea_size: 322\n",
      "tar_size: 103\n",
      "tar_fea_size: 1437\n",
      "threshold: 0.79\n",
      "mask=4  reset dru_dis_A as zero, valid sum(dru_dis_A)=0\n"
     ]
    },
    {
     "name": "stderr",
     "output_type": "stream",
     "text": [
      "\n",
      "  8%|▊         | 40/530 [00:13<05:25,  1.50it/s]\u001b[A"
     ]
    },
    {
     "name": "stdout",
     "output_type": "stream",
     "text": [
      "-------------------  data info  -----------------\n",
      "dru_size: 64\n",
      "dru_fea_size: 945\n",
      "dis_size: 1036\n",
      "dis_fea_size: 322\n",
      "tar_size: 103\n",
      "tar_fea_size: 1437\n",
      "threshold: 0.79\n",
      "mask=4  reset dru_dis_A as zero, valid sum(dru_dis_A)=0\n"
     ]
    },
    {
     "name": "stderr",
     "output_type": "stream",
     "text": [
      "\n",
      "  8%|▊         | 41/530 [00:14<05:39,  1.44it/s]\u001b[A"
     ]
    },
    {
     "name": "stdout",
     "output_type": "stream",
     "text": [
      "-------------------  data info  -----------------\n",
      "dru_size: 64\n",
      "dru_fea_size: 945\n",
      "dis_size: 1036\n",
      "dis_fea_size: 322\n",
      "tar_size: 103\n",
      "tar_fea_size: 1437\n",
      "threshold: 0.79\n",
      "mask=4  reset dru_dis_A as zero, valid sum(dru_dis_A)=0\n"
     ]
    },
    {
     "name": "stderr",
     "output_type": "stream",
     "text": [
      "\n",
      "  8%|▊         | 42/530 [00:14<05:30,  1.48it/s]\u001b[A"
     ]
    },
    {
     "name": "stdout",
     "output_type": "stream",
     "text": [
      "-------------------  data info  -----------------\n",
      "dru_size: 64\n",
      "dru_fea_size: 945\n",
      "dis_size: 1036\n",
      "dis_fea_size: 322\n",
      "tar_size: 103\n",
      "tar_fea_size: 1437\n",
      "threshold: 0.79\n",
      "mask=4  reset dru_dis_A as zero, valid sum(dru_dis_A)=0\n"
     ]
    },
    {
     "name": "stderr",
     "output_type": "stream",
     "text": [
      "\n",
      "  8%|▊         | 43/530 [00:15<05:24,  1.50it/s]\u001b[A"
     ]
    },
    {
     "name": "stdout",
     "output_type": "stream",
     "text": [
      "-------------------  data info  -----------------\n",
      "dru_size: 64\n",
      "dru_fea_size: 945\n",
      "dis_size: 1036\n",
      "dis_fea_size: 322\n",
      "tar_size: 103\n",
      "tar_fea_size: 1437\n",
      "threshold: 0.79\n",
      "mask=4  reset dru_dis_A as zero, valid sum(dru_dis_A)=0\n"
     ]
    },
    {
     "name": "stderr",
     "output_type": "stream",
     "text": [
      "\n",
      "  8%|▊         | 44/530 [00:15<05:21,  1.51it/s]\u001b[A"
     ]
    },
    {
     "name": "stdout",
     "output_type": "stream",
     "text": [
      "-------------------  data info  -----------------\n",
      "dru_size: 64\n",
      "dru_fea_size: 945\n",
      "dis_size: 1036\n",
      "dis_fea_size: 322\n",
      "tar_size: 103\n",
      "tar_fea_size: 1437\n",
      "threshold: 0.79\n",
      "mask=4  reset dru_dis_A as zero, valid sum(dru_dis_A)=0\n"
     ]
    },
    {
     "name": "stderr",
     "output_type": "stream",
     "text": [
      "\n",
      "  8%|▊         | 45/530 [00:16<05:19,  1.52it/s]\u001b[A"
     ]
    },
    {
     "name": "stdout",
     "output_type": "stream",
     "text": [
      "-------------------  data info  -----------------\n",
      "dru_size: 64\n",
      "dru_fea_size: 945\n",
      "dis_size: 1036\n",
      "dis_fea_size: 322\n",
      "tar_size: 103\n",
      "tar_fea_size: 1437\n",
      "threshold: 0.79\n",
      "mask=4  reset dru_dis_A as zero, valid sum(dru_dis_A)=0\n"
     ]
    },
    {
     "name": "stderr",
     "output_type": "stream",
     "text": [
      "\n",
      "  9%|▊         | 46/530 [00:17<05:15,  1.53it/s]\u001b[A"
     ]
    },
    {
     "name": "stdout",
     "output_type": "stream",
     "text": [
      "-------------------  data info  -----------------\n",
      "dru_size: 64\n",
      "dru_fea_size: 945\n",
      "dis_size: 1036\n",
      "dis_fea_size: 322\n",
      "tar_size: 103\n",
      "tar_fea_size: 1437\n",
      "threshold: 0.79\n",
      "mask=4  reset dru_dis_A as zero, valid sum(dru_dis_A)=0\n"
     ]
    },
    {
     "name": "stderr",
     "output_type": "stream",
     "text": [
      "\n",
      "  9%|▉         | 47/530 [00:17<05:13,  1.54it/s]\u001b[A"
     ]
    },
    {
     "name": "stdout",
     "output_type": "stream",
     "text": [
      "-------------------  data info  -----------------\n",
      "dru_size: 64\n",
      "dru_fea_size: 945\n",
      "dis_size: 1036\n",
      "dis_fea_size: 322\n",
      "tar_size: 103\n",
      "tar_fea_size: 1437\n",
      "threshold: 0.79\n",
      "mask=4  reset dru_dis_A as zero, valid sum(dru_dis_A)=0\n"
     ]
    },
    {
     "name": "stderr",
     "output_type": "stream",
     "text": [
      "\n",
      "  9%|▉         | 48/530 [00:18<05:11,  1.55it/s]\u001b[A"
     ]
    },
    {
     "name": "stdout",
     "output_type": "stream",
     "text": [
      "-------------------  data info  -----------------\n",
      "dru_size: 64\n",
      "dru_fea_size: 945\n",
      "dis_size: 1036\n",
      "dis_fea_size: 322\n",
      "tar_size: 103\n",
      "tar_fea_size: 1437\n",
      "threshold: 0.79\n",
      "mask=4  reset dru_dis_A as zero, valid sum(dru_dis_A)=0\n"
     ]
    },
    {
     "name": "stderr",
     "output_type": "stream",
     "text": [
      "\n",
      "  9%|▉         | 49/530 [00:19<05:11,  1.55it/s]\u001b[A"
     ]
    },
    {
     "name": "stdout",
     "output_type": "stream",
     "text": [
      "-------------------  data info  -----------------\n",
      "dru_size: 64\n",
      "dru_fea_size: 945\n",
      "dis_size: 1036\n",
      "dis_fea_size: 322\n",
      "tar_size: 103\n",
      "tar_fea_size: 1437\n",
      "threshold: 0.79\n",
      "mask=4  reset dru_dis_A as zero, valid sum(dru_dis_A)=0\n"
     ]
    },
    {
     "name": "stderr",
     "output_type": "stream",
     "text": [
      "\n",
      "  9%|▉         | 50/530 [00:19<05:08,  1.56it/s]\u001b[A"
     ]
    },
    {
     "name": "stdout",
     "output_type": "stream",
     "text": [
      "-------------------  data info  -----------------\n",
      "dru_size: 64\n",
      "dru_fea_size: 945\n",
      "dis_size: 1036\n",
      "dis_fea_size: 322\n",
      "tar_size: 103\n",
      "tar_fea_size: 1437\n",
      "threshold: 0.79\n",
      "mask=4  reset dru_dis_A as zero, valid sum(dru_dis_A)=0\n"
     ]
    },
    {
     "name": "stderr",
     "output_type": "stream",
     "text": [
      "\n",
      " 10%|▉         | 51/530 [00:20<05:14,  1.52it/s]\u001b[A"
     ]
    },
    {
     "name": "stdout",
     "output_type": "stream",
     "text": [
      "-------------------  data info  -----------------\n",
      "dru_size: 64\n",
      "dru_fea_size: 945\n",
      "dis_size: 1036\n",
      "dis_fea_size: 322\n",
      "tar_size: 103\n",
      "tar_fea_size: 1437\n",
      "threshold: 0.79\n",
      "mask=4  reset dru_dis_A as zero, valid sum(dru_dis_A)=0\n"
     ]
    },
    {
     "name": "stderr",
     "output_type": "stream",
     "text": [
      "\n",
      " 10%|▉         | 52/530 [00:21<05:17,  1.51it/s]\u001b[A"
     ]
    },
    {
     "name": "stdout",
     "output_type": "stream",
     "text": [
      "-------------------  data info  -----------------\n",
      "dru_size: 64\n",
      "dru_fea_size: 945\n",
      "dis_size: 1036\n",
      "dis_fea_size: 322\n",
      "tar_size: 103\n",
      "tar_fea_size: 1437\n",
      "threshold: 0.79\n",
      "mask=4  reset dru_dis_A as zero, valid sum(dru_dis_A)=0\n"
     ]
    },
    {
     "name": "stderr",
     "output_type": "stream",
     "text": [
      "\n",
      " 10%|█         | 53/530 [00:21<05:16,  1.51it/s]\u001b[A"
     ]
    },
    {
     "name": "stdout",
     "output_type": "stream",
     "text": [
      "-------------------  data info  -----------------\n",
      "dru_size: 64\n",
      "dru_fea_size: 945\n",
      "dis_size: 1036\n",
      "dis_fea_size: 322\n",
      "tar_size: 103\n",
      "tar_fea_size: 1437\n",
      "threshold: 0.79\n",
      "mask=4  reset dru_dis_A as zero, valid sum(dru_dis_A)=0\n"
     ]
    },
    {
     "name": "stderr",
     "output_type": "stream",
     "text": [
      "\n",
      " 10%|█         | 54/530 [00:22<05:18,  1.49it/s]\u001b[A"
     ]
    },
    {
     "name": "stdout",
     "output_type": "stream",
     "text": [
      "-------------------  data info  -----------------\n",
      "dru_size: 64\n",
      "dru_fea_size: 945\n",
      "dis_size: 1036\n",
      "dis_fea_size: 322\n",
      "tar_size: 103\n",
      "tar_fea_size: 1437\n",
      "threshold: 0.79\n",
      "mask=4  reset dru_dis_A as zero, valid sum(dru_dis_A)=0\n"
     ]
    },
    {
     "name": "stderr",
     "output_type": "stream",
     "text": [
      "\n",
      " 10%|█         | 55/530 [00:23<05:15,  1.51it/s]\u001b[A"
     ]
    },
    {
     "name": "stdout",
     "output_type": "stream",
     "text": [
      "-------------------  data info  -----------------\n",
      "dru_size: 64\n",
      "dru_fea_size: 945\n",
      "dis_size: 1036\n",
      "dis_fea_size: 322\n",
      "tar_size: 103\n",
      "tar_fea_size: 1437\n",
      "threshold: 0.79\n",
      "mask=4  reset dru_dis_A as zero, valid sum(dru_dis_A)=0\n"
     ]
    },
    {
     "name": "stderr",
     "output_type": "stream",
     "text": [
      "\n",
      " 11%|█         | 56/530 [00:23<05:10,  1.52it/s]\u001b[A"
     ]
    },
    {
     "name": "stdout",
     "output_type": "stream",
     "text": [
      "-------------------  data info  -----------------\n",
      "dru_size: 64\n",
      "dru_fea_size: 945\n",
      "dis_size: 1036\n",
      "dis_fea_size: 322\n",
      "tar_size: 103\n",
      "tar_fea_size: 1437\n",
      "threshold: 0.79\n",
      "mask=4  reset dru_dis_A as zero, valid sum(dru_dis_A)=0\n"
     ]
    },
    {
     "name": "stderr",
     "output_type": "stream",
     "text": [
      "\n",
      " 11%|█         | 57/530 [00:24<05:11,  1.52it/s]\u001b[A"
     ]
    },
    {
     "name": "stdout",
     "output_type": "stream",
     "text": [
      "-------------------  data info  -----------------\n",
      "dru_size: 64\n",
      "dru_fea_size: 945\n",
      "dis_size: 1036\n",
      "dis_fea_size: 322\n",
      "tar_size: 103\n",
      "tar_fea_size: 1437\n",
      "threshold: 0.79\n",
      "mask=4  reset dru_dis_A as zero, valid sum(dru_dis_A)=0\n"
     ]
    },
    {
     "name": "stderr",
     "output_type": "stream",
     "text": [
      "\n",
      " 11%|█         | 58/530 [00:25<05:19,  1.48it/s]\u001b[A"
     ]
    },
    {
     "name": "stdout",
     "output_type": "stream",
     "text": [
      "-------------------  data info  -----------------\n",
      "dru_size: 64\n",
      "dru_fea_size: 945\n",
      "dis_size: 1036\n",
      "dis_fea_size: 322\n",
      "tar_size: 103\n",
      "tar_fea_size: 1437\n",
      "threshold: 0.79\n",
      "mask=4  reset dru_dis_A as zero, valid sum(dru_dis_A)=0\n"
     ]
    },
    {
     "name": "stderr",
     "output_type": "stream",
     "text": [
      "\n",
      " 11%|█         | 59/530 [00:25<05:20,  1.47it/s]\u001b[A"
     ]
    },
    {
     "name": "stdout",
     "output_type": "stream",
     "text": [
      "-------------------  data info  -----------------\n",
      "dru_size: 64\n",
      "dru_fea_size: 945\n",
      "dis_size: 1036\n",
      "dis_fea_size: 322\n",
      "tar_size: 103\n",
      "tar_fea_size: 1437\n",
      "threshold: 0.79\n",
      "mask=4  reset dru_dis_A as zero, valid sum(dru_dis_A)=0\n"
     ]
    },
    {
     "name": "stderr",
     "output_type": "stream",
     "text": [
      "\n",
      " 11%|█▏        | 60/530 [00:26<05:20,  1.47it/s]\u001b[A"
     ]
    },
    {
     "name": "stdout",
     "output_type": "stream",
     "text": [
      "-------------------  data info  -----------------\n",
      "dru_size: 64\n",
      "dru_fea_size: 945\n",
      "dis_size: 1036\n",
      "dis_fea_size: 322\n",
      "tar_size: 103\n",
      "tar_fea_size: 1437\n",
      "threshold: 0.79\n",
      "mask=4  reset dru_dis_A as zero, valid sum(dru_dis_A)=0\n"
     ]
    },
    {
     "name": "stderr",
     "output_type": "stream",
     "text": [
      "\n",
      " 12%|█▏        | 61/530 [00:27<05:21,  1.46it/s]\u001b[A"
     ]
    },
    {
     "name": "stdout",
     "output_type": "stream",
     "text": [
      "-------------------  data info  -----------------\n",
      "dru_size: 64\n",
      "dru_fea_size: 945\n",
      "dis_size: 1036\n",
      "dis_fea_size: 322\n",
      "tar_size: 103\n",
      "tar_fea_size: 1437\n",
      "threshold: 0.79\n",
      "mask=4  reset dru_dis_A as zero, valid sum(dru_dis_A)=0\n"
     ]
    },
    {
     "name": "stderr",
     "output_type": "stream",
     "text": [
      "\n",
      " 12%|█▏        | 62/530 [00:27<05:19,  1.47it/s]\u001b[A"
     ]
    },
    {
     "name": "stdout",
     "output_type": "stream",
     "text": [
      "-------------------  data info  -----------------\n",
      "dru_size: 64\n",
      "dru_fea_size: 945\n",
      "dis_size: 1036\n",
      "dis_fea_size: 322\n",
      "tar_size: 103\n",
      "tar_fea_size: 1437\n",
      "threshold: 0.79\n",
      "mask=4  reset dru_dis_A as zero, valid sum(dru_dis_A)=0\n"
     ]
    },
    {
     "name": "stderr",
     "output_type": "stream",
     "text": [
      "\n",
      " 12%|█▏        | 63/530 [00:28<05:16,  1.47it/s]\u001b[A"
     ]
    },
    {
     "name": "stdout",
     "output_type": "stream",
     "text": [
      "-------------------  data info  -----------------\n",
      "dru_size: 64\n",
      "dru_fea_size: 945\n",
      "dis_size: 1036\n",
      "dis_fea_size: 322\n",
      "tar_size: 103\n",
      "tar_fea_size: 1437\n",
      "threshold: 0.79\n",
      "mask=4  reset dru_dis_A as zero, valid sum(dru_dis_A)=0\n"
     ]
    },
    {
     "name": "stderr",
     "output_type": "stream",
     "text": [
      "\n",
      " 12%|█▏        | 64/530 [00:29<05:13,  1.48it/s]\u001b[A"
     ]
    },
    {
     "name": "stdout",
     "output_type": "stream",
     "text": [
      "-------------------  data info  -----------------\n",
      "dru_size: 64\n",
      "dru_fea_size: 945\n",
      "dis_size: 1036\n",
      "dis_fea_size: 322\n",
      "tar_size: 103\n",
      "tar_fea_size: 1437\n",
      "threshold: 0.79\n",
      "mask=4  reset dru_dis_A as zero, valid sum(dru_dis_A)=0\n"
     ]
    },
    {
     "name": "stderr",
     "output_type": "stream",
     "text": [
      "\n",
      " 12%|█▏        | 65/530 [00:29<05:10,  1.50it/s]\u001b[A"
     ]
    },
    {
     "name": "stdout",
     "output_type": "stream",
     "text": [
      "-------------------  data info  -----------------\n",
      "dru_size: 64\n",
      "dru_fea_size: 945\n",
      "dis_size: 1036\n",
      "dis_fea_size: 322\n",
      "tar_size: 103\n",
      "tar_fea_size: 1437\n",
      "threshold: 0.79\n",
      "mask=4  reset dru_dis_A as zero, valid sum(dru_dis_A)=0\n"
     ]
    },
    {
     "name": "stderr",
     "output_type": "stream",
     "text": [
      "\n",
      " 12%|█▏        | 66/530 [00:30<05:08,  1.50it/s]\u001b[A"
     ]
    },
    {
     "name": "stdout",
     "output_type": "stream",
     "text": [
      "-------------------  data info  -----------------\n",
      "dru_size: 64\n",
      "dru_fea_size: 945\n",
      "dis_size: 1036\n",
      "dis_fea_size: 322\n",
      "tar_size: 103\n",
      "tar_fea_size: 1437\n",
      "threshold: 0.79\n",
      "mask=4  reset dru_dis_A as zero, valid sum(dru_dis_A)=0\n"
     ]
    },
    {
     "name": "stderr",
     "output_type": "stream",
     "text": [
      "\n",
      " 13%|█▎        | 67/530 [00:31<05:08,  1.50it/s]\u001b[A"
     ]
    },
    {
     "name": "stdout",
     "output_type": "stream",
     "text": [
      "-------------------  data info  -----------------\n",
      "dru_size: 64\n",
      "dru_fea_size: 945\n",
      "dis_size: 1036\n",
      "dis_fea_size: 322\n",
      "tar_size: 103\n",
      "tar_fea_size: 1437\n",
      "threshold: 0.79\n",
      "mask=4  reset dru_dis_A as zero, valid sum(dru_dis_A)=0\n"
     ]
    },
    {
     "name": "stderr",
     "output_type": "stream",
     "text": [
      "\n",
      " 13%|█▎        | 68/530 [00:31<05:07,  1.50it/s]\u001b[A"
     ]
    },
    {
     "name": "stdout",
     "output_type": "stream",
     "text": [
      "-------------------  data info  -----------------\n",
      "dru_size: 64\n",
      "dru_fea_size: 945\n",
      "dis_size: 1036\n",
      "dis_fea_size: 322\n",
      "tar_size: 103\n",
      "tar_fea_size: 1437\n",
      "threshold: 0.79\n",
      "mask=4  reset dru_dis_A as zero, valid sum(dru_dis_A)=0\n"
     ]
    },
    {
     "name": "stderr",
     "output_type": "stream",
     "text": [
      "\n",
      " 13%|█▎        | 69/530 [00:32<05:07,  1.50it/s]\u001b[A"
     ]
    },
    {
     "name": "stdout",
     "output_type": "stream",
     "text": [
      "-------------------  data info  -----------------\n",
      "dru_size: 64\n",
      "dru_fea_size: 945\n",
      "dis_size: 1036\n",
      "dis_fea_size: 322\n",
      "tar_size: 103\n",
      "tar_fea_size: 1437\n",
      "threshold: 0.79\n",
      "mask=4  reset dru_dis_A as zero, valid sum(dru_dis_A)=0\n"
     ]
    },
    {
     "name": "stderr",
     "output_type": "stream",
     "text": [
      "\n",
      " 13%|█▎        | 70/530 [00:33<05:06,  1.50it/s]\u001b[A"
     ]
    },
    {
     "name": "stdout",
     "output_type": "stream",
     "text": [
      "-------------------  data info  -----------------\n",
      "dru_size: 64\n",
      "dru_fea_size: 945\n",
      "dis_size: 1036\n",
      "dis_fea_size: 322\n",
      "tar_size: 103\n",
      "tar_fea_size: 1437\n",
      "threshold: 0.79\n",
      "mask=4  reset dru_dis_A as zero, valid sum(dru_dis_A)=0\n"
     ]
    },
    {
     "name": "stderr",
     "output_type": "stream",
     "text": [
      "\n",
      " 13%|█▎        | 71/530 [00:33<05:09,  1.48it/s]\u001b[A"
     ]
    },
    {
     "name": "stdout",
     "output_type": "stream",
     "text": [
      "-------------------  data info  -----------------\n",
      "dru_size: 64\n",
      "dru_fea_size: 945\n",
      "dis_size: 1036\n",
      "dis_fea_size: 322\n",
      "tar_size: 103\n",
      "tar_fea_size: 1437\n",
      "threshold: 0.79\n",
      "mask=4  reset dru_dis_A as zero, valid sum(dru_dis_A)=0\n"
     ]
    },
    {
     "name": "stderr",
     "output_type": "stream",
     "text": [
      "\n",
      " 14%|█▎        | 72/530 [00:34<05:07,  1.49it/s]\u001b[A"
     ]
    },
    {
     "name": "stdout",
     "output_type": "stream",
     "text": [
      "-------------------  data info  -----------------\n",
      "dru_size: 64\n",
      "dru_fea_size: 945\n",
      "dis_size: 1036\n",
      "dis_fea_size: 322\n",
      "tar_size: 103\n",
      "tar_fea_size: 1437\n",
      "threshold: 0.79\n",
      "mask=4  reset dru_dis_A as zero, valid sum(dru_dis_A)=0\n"
     ]
    },
    {
     "name": "stderr",
     "output_type": "stream",
     "text": [
      "\n",
      " 14%|█▍        | 73/530 [00:35<05:02,  1.51it/s]\u001b[A"
     ]
    },
    {
     "name": "stdout",
     "output_type": "stream",
     "text": [
      "-------------------  data info  -----------------\n",
      "dru_size: 64\n",
      "dru_fea_size: 945\n",
      "dis_size: 1036\n",
      "dis_fea_size: 322\n",
      "tar_size: 103\n",
      "tar_fea_size: 1437\n",
      "threshold: 0.79\n",
      "mask=4  reset dru_dis_A as zero, valid sum(dru_dis_A)=0\n"
     ]
    },
    {
     "name": "stderr",
     "output_type": "stream",
     "text": [
      "\n",
      " 14%|█▍        | 74/530 [00:35<05:01,  1.51it/s]\u001b[A"
     ]
    },
    {
     "name": "stdout",
     "output_type": "stream",
     "text": [
      "-------------------  data info  -----------------\n",
      "dru_size: 64\n",
      "dru_fea_size: 945\n",
      "dis_size: 1036\n",
      "dis_fea_size: 322\n",
      "tar_size: 103\n",
      "tar_fea_size: 1437\n",
      "threshold: 0.79\n",
      "mask=4  reset dru_dis_A as zero, valid sum(dru_dis_A)=0\n"
     ]
    },
    {
     "name": "stderr",
     "output_type": "stream",
     "text": [
      "\n",
      " 14%|█▍        | 75/530 [00:36<05:00,  1.52it/s]\u001b[A"
     ]
    },
    {
     "name": "stdout",
     "output_type": "stream",
     "text": [
      "-------------------  data info  -----------------\n",
      "dru_size: 64\n",
      "dru_fea_size: 945\n",
      "dis_size: 1036\n",
      "dis_fea_size: 322\n",
      "tar_size: 103\n",
      "tar_fea_size: 1437\n",
      "threshold: 0.79\n",
      "mask=4  reset dru_dis_A as zero, valid sum(dru_dis_A)=0\n"
     ]
    },
    {
     "name": "stderr",
     "output_type": "stream",
     "text": [
      "\n",
      " 14%|█▍        | 76/530 [00:37<05:02,  1.50it/s]\u001b[A"
     ]
    },
    {
     "name": "stdout",
     "output_type": "stream",
     "text": [
      "-------------------  data info  -----------------\n",
      "dru_size: 64\n",
      "dru_fea_size: 945\n",
      "dis_size: 1036\n",
      "dis_fea_size: 322\n",
      "tar_size: 103\n",
      "tar_fea_size: 1437\n",
      "threshold: 0.79\n",
      "mask=4  reset dru_dis_A as zero, valid sum(dru_dis_A)=0\n"
     ]
    },
    {
     "name": "stderr",
     "output_type": "stream",
     "text": [
      "\n",
      " 15%|█▍        | 77/530 [00:37<05:00,  1.51it/s]\u001b[A"
     ]
    },
    {
     "name": "stdout",
     "output_type": "stream",
     "text": [
      "-------------------  data info  -----------------\n",
      "dru_size: 64\n",
      "dru_fea_size: 945\n",
      "dis_size: 1036\n",
      "dis_fea_size: 322\n",
      "tar_size: 103\n",
      "tar_fea_size: 1437\n",
      "threshold: 0.79\n",
      "mask=4  reset dru_dis_A as zero, valid sum(dru_dis_A)=0\n"
     ]
    },
    {
     "name": "stderr",
     "output_type": "stream",
     "text": [
      "\n",
      " 15%|█▍        | 78/530 [00:38<05:02,  1.50it/s]\u001b[A"
     ]
    },
    {
     "name": "stdout",
     "output_type": "stream",
     "text": [
      "-------------------  data info  -----------------\n",
      "dru_size: 64\n",
      "dru_fea_size: 945\n",
      "dis_size: 1036\n",
      "dis_fea_size: 322\n",
      "tar_size: 103\n",
      "tar_fea_size: 1437\n",
      "threshold: 0.79\n",
      "mask=4  reset dru_dis_A as zero, valid sum(dru_dis_A)=0\n"
     ]
    },
    {
     "name": "stderr",
     "output_type": "stream",
     "text": [
      "\n",
      " 15%|█▍        | 79/530 [00:39<04:58,  1.51it/s]\u001b[A"
     ]
    },
    {
     "name": "stdout",
     "output_type": "stream",
     "text": [
      "-------------------  data info  -----------------\n",
      "dru_size: 64\n",
      "dru_fea_size: 945\n",
      "dis_size: 1036\n",
      "dis_fea_size: 322\n",
      "tar_size: 103\n",
      "tar_fea_size: 1437\n",
      "threshold: 0.79\n",
      "mask=4  reset dru_dis_A as zero, valid sum(dru_dis_A)=0\n"
     ]
    },
    {
     "name": "stderr",
     "output_type": "stream",
     "text": [
      "\n",
      " 15%|█▌        | 80/530 [00:39<05:02,  1.49it/s]\u001b[A"
     ]
    },
    {
     "name": "stdout",
     "output_type": "stream",
     "text": [
      "-------------------  data info  -----------------\n",
      "dru_size: 64\n",
      "dru_fea_size: 945\n",
      "dis_size: 1036\n",
      "dis_fea_size: 322\n",
      "tar_size: 103\n",
      "tar_fea_size: 1437\n",
      "threshold: 0.79\n",
      "mask=4  reset dru_dis_A as zero, valid sum(dru_dis_A)=0\n"
     ]
    },
    {
     "name": "stderr",
     "output_type": "stream",
     "text": [
      "\n",
      " 15%|█▌        | 81/530 [00:40<05:03,  1.48it/s]\u001b[A"
     ]
    },
    {
     "name": "stdout",
     "output_type": "stream",
     "text": [
      "-------------------  data info  -----------------\n",
      "dru_size: 64\n",
      "dru_fea_size: 945\n",
      "dis_size: 1036\n",
      "dis_fea_size: 322\n",
      "tar_size: 103\n",
      "tar_fea_size: 1437\n",
      "threshold: 0.79\n",
      "mask=4  reset dru_dis_A as zero, valid sum(dru_dis_A)=0\n"
     ]
    },
    {
     "name": "stderr",
     "output_type": "stream",
     "text": [
      "\n",
      " 15%|█▌        | 82/530 [00:41<04:59,  1.50it/s]\u001b[A"
     ]
    },
    {
     "name": "stdout",
     "output_type": "stream",
     "text": [
      "-------------------  data info  -----------------\n",
      "dru_size: 64\n",
      "dru_fea_size: 945\n",
      "dis_size: 1036\n",
      "dis_fea_size: 322\n",
      "tar_size: 103\n",
      "tar_fea_size: 1437\n",
      "threshold: 0.79\n",
      "mask=4  reset dru_dis_A as zero, valid sum(dru_dis_A)=0\n"
     ]
    },
    {
     "name": "stderr",
     "output_type": "stream",
     "text": [
      "\n",
      " 16%|█▌        | 83/530 [00:41<04:59,  1.49it/s]\u001b[A"
     ]
    },
    {
     "name": "stdout",
     "output_type": "stream",
     "text": [
      "-------------------  data info  -----------------\n",
      "dru_size: 64\n",
      "dru_fea_size: 945\n",
      "dis_size: 1036\n",
      "dis_fea_size: 322\n",
      "tar_size: 103\n",
      "tar_fea_size: 1437\n",
      "threshold: 0.79\n",
      "mask=4  reset dru_dis_A as zero, valid sum(dru_dis_A)=0\n"
     ]
    },
    {
     "name": "stderr",
     "output_type": "stream",
     "text": [
      "\n",
      " 16%|█▌        | 84/530 [00:42<04:56,  1.51it/s]\u001b[A"
     ]
    },
    {
     "name": "stdout",
     "output_type": "stream",
     "text": [
      "-------------------  data info  -----------------\n",
      "dru_size: 64\n",
      "dru_fea_size: 945\n",
      "dis_size: 1036\n",
      "dis_fea_size: 322\n",
      "tar_size: 103\n",
      "tar_fea_size: 1437\n",
      "threshold: 0.79\n",
      "mask=4  reset dru_dis_A as zero, valid sum(dru_dis_A)=0\n"
     ]
    },
    {
     "name": "stderr",
     "output_type": "stream",
     "text": [
      "\n",
      " 16%|█▌        | 85/530 [00:43<04:54,  1.51it/s]\u001b[A"
     ]
    },
    {
     "name": "stdout",
     "output_type": "stream",
     "text": [
      "-------------------  data info  -----------------\n",
      "dru_size: 64\n",
      "dru_fea_size: 945\n",
      "dis_size: 1036\n",
      "dis_fea_size: 322\n",
      "tar_size: 103\n",
      "tar_fea_size: 1437\n",
      "threshold: 0.79\n",
      "mask=4  reset dru_dis_A as zero, valid sum(dru_dis_A)=0\n"
     ]
    },
    {
     "name": "stderr",
     "output_type": "stream",
     "text": [
      "\n",
      " 16%|█▌        | 86/530 [00:43<04:57,  1.49it/s]\u001b[A"
     ]
    },
    {
     "name": "stdout",
     "output_type": "stream",
     "text": [
      "-------------------  data info  -----------------\n",
      "dru_size: 64\n",
      "dru_fea_size: 945\n",
      "dis_size: 1036\n",
      "dis_fea_size: 322\n",
      "tar_size: 103\n",
      "tar_fea_size: 1437\n",
      "threshold: 0.79\n",
      "mask=4  reset dru_dis_A as zero, valid sum(dru_dis_A)=0\n"
     ]
    },
    {
     "name": "stderr",
     "output_type": "stream",
     "text": [
      "\n",
      " 16%|█▋        | 87/530 [00:44<04:57,  1.49it/s]\u001b[A"
     ]
    },
    {
     "name": "stdout",
     "output_type": "stream",
     "text": [
      "-------------------  data info  -----------------\n",
      "dru_size: 64\n",
      "dru_fea_size: 945\n",
      "dis_size: 1036\n",
      "dis_fea_size: 322\n",
      "tar_size: 103\n",
      "tar_fea_size: 1437\n",
      "threshold: 0.79\n",
      "mask=4  reset dru_dis_A as zero, valid sum(dru_dis_A)=0\n"
     ]
    },
    {
     "name": "stderr",
     "output_type": "stream",
     "text": [
      "\n",
      " 17%|█▋        | 88/530 [00:45<04:53,  1.51it/s]\u001b[A"
     ]
    },
    {
     "name": "stdout",
     "output_type": "stream",
     "text": [
      "-------------------  data info  -----------------\n",
      "dru_size: 64\n",
      "dru_fea_size: 945\n",
      "dis_size: 1036\n",
      "dis_fea_size: 322\n",
      "tar_size: 103\n",
      "tar_fea_size: 1437\n",
      "threshold: 0.79\n",
      "mask=4  reset dru_dis_A as zero, valid sum(dru_dis_A)=0\n"
     ]
    },
    {
     "name": "stderr",
     "output_type": "stream",
     "text": [
      "\n",
      " 17%|█▋        | 89/530 [00:45<04:50,  1.52it/s]\u001b[A"
     ]
    },
    {
     "name": "stdout",
     "output_type": "stream",
     "text": [
      "-------------------  data info  -----------------\n",
      "dru_size: 64\n",
      "dru_fea_size: 945\n",
      "dis_size: 1036\n",
      "dis_fea_size: 322\n",
      "tar_size: 103\n",
      "tar_fea_size: 1437\n",
      "threshold: 0.79\n",
      "mask=4  reset dru_dis_A as zero, valid sum(dru_dis_A)=0\n"
     ]
    },
    {
     "name": "stderr",
     "output_type": "stream",
     "text": [
      "\n",
      " 17%|█▋        | 90/530 [00:46<04:52,  1.51it/s]\u001b[A"
     ]
    },
    {
     "name": "stdout",
     "output_type": "stream",
     "text": [
      "-------------------  data info  -----------------\n",
      "dru_size: 64\n",
      "dru_fea_size: 945\n",
      "dis_size: 1036\n",
      "dis_fea_size: 322\n",
      "tar_size: 103\n",
      "tar_fea_size: 1437\n",
      "threshold: 0.79\n",
      "mask=4  reset dru_dis_A as zero, valid sum(dru_dis_A)=0\n"
     ]
    },
    {
     "name": "stderr",
     "output_type": "stream",
     "text": [
      "\n",
      " 17%|█▋        | 91/530 [00:47<04:56,  1.48it/s]\u001b[A"
     ]
    },
    {
     "name": "stdout",
     "output_type": "stream",
     "text": [
      "-------------------  data info  -----------------\n",
      "dru_size: 64\n",
      "dru_fea_size: 945\n",
      "dis_size: 1036\n",
      "dis_fea_size: 322\n",
      "tar_size: 103\n",
      "tar_fea_size: 1437\n",
      "threshold: 0.79\n",
      "mask=4  reset dru_dis_A as zero, valid sum(dru_dis_A)=0\n"
     ]
    },
    {
     "name": "stderr",
     "output_type": "stream",
     "text": [
      "\n",
      " 17%|█▋        | 92/530 [00:47<04:53,  1.49it/s]\u001b[A"
     ]
    },
    {
     "name": "stdout",
     "output_type": "stream",
     "text": [
      "-------------------  data info  -----------------\n",
      "dru_size: 64\n",
      "dru_fea_size: 945\n",
      "dis_size: 1036\n",
      "dis_fea_size: 322\n",
      "tar_size: 103\n",
      "tar_fea_size: 1437\n",
      "threshold: 0.79\n",
      "mask=4  reset dru_dis_A as zero, valid sum(dru_dis_A)=0\n"
     ]
    },
    {
     "name": "stderr",
     "output_type": "stream",
     "text": [
      "\n",
      " 18%|█▊        | 93/530 [00:48<04:51,  1.50it/s]\u001b[A"
     ]
    },
    {
     "name": "stdout",
     "output_type": "stream",
     "text": [
      "-------------------  data info  -----------------\n",
      "dru_size: 64\n",
      "dru_fea_size: 945\n",
      "dis_size: 1036\n",
      "dis_fea_size: 322\n",
      "tar_size: 103\n",
      "tar_fea_size: 1437\n",
      "threshold: 0.79\n",
      "mask=4  reset dru_dis_A as zero, valid sum(dru_dis_A)=0\n"
     ]
    },
    {
     "name": "stderr",
     "output_type": "stream",
     "text": [
      "\n",
      " 18%|█▊        | 94/530 [00:49<04:53,  1.48it/s]\u001b[A"
     ]
    },
    {
     "name": "stdout",
     "output_type": "stream",
     "text": [
      "-------------------  data info  -----------------\n",
      "dru_size: 64\n",
      "dru_fea_size: 945\n",
      "dis_size: 1036\n",
      "dis_fea_size: 322\n",
      "tar_size: 103\n",
      "tar_fea_size: 1437\n",
      "threshold: 0.79\n",
      "mask=4  reset dru_dis_A as zero, valid sum(dru_dis_A)=0\n"
     ]
    },
    {
     "name": "stderr",
     "output_type": "stream",
     "text": [
      "\n",
      " 18%|█▊        | 95/530 [00:49<04:51,  1.49it/s]\u001b[A"
     ]
    },
    {
     "name": "stdout",
     "output_type": "stream",
     "text": [
      "-------------------  data info  -----------------\n",
      "dru_size: 64\n",
      "dru_fea_size: 945\n",
      "dis_size: 1036\n",
      "dis_fea_size: 322\n",
      "tar_size: 103\n",
      "tar_fea_size: 1437\n",
      "threshold: 0.79\n",
      "mask=4  reset dru_dis_A as zero, valid sum(dru_dis_A)=0\n"
     ]
    },
    {
     "name": "stderr",
     "output_type": "stream",
     "text": [
      "\n",
      " 18%|█▊        | 96/530 [00:50<04:50,  1.49it/s]\u001b[A"
     ]
    },
    {
     "name": "stdout",
     "output_type": "stream",
     "text": [
      "-------------------  data info  -----------------\n",
      "dru_size: 64\n",
      "dru_fea_size: 945\n",
      "dis_size: 1036\n",
      "dis_fea_size: 322\n",
      "tar_size: 103\n",
      "tar_fea_size: 1437\n",
      "threshold: 0.79\n",
      "mask=4  reset dru_dis_A as zero, valid sum(dru_dis_A)=0\n"
     ]
    },
    {
     "name": "stderr",
     "output_type": "stream",
     "text": [
      "\n",
      " 18%|█▊        | 97/530 [00:51<04:50,  1.49it/s]\u001b[A"
     ]
    },
    {
     "name": "stdout",
     "output_type": "stream",
     "text": [
      "-------------------  data info  -----------------\n",
      "dru_size: 64\n",
      "dru_fea_size: 945\n",
      "dis_size: 1036\n",
      "dis_fea_size: 322\n",
      "tar_size: 103\n",
      "tar_fea_size: 1437\n",
      "threshold: 0.79\n",
      "mask=4  reset dru_dis_A as zero, valid sum(dru_dis_A)=0\n"
     ]
    },
    {
     "name": "stderr",
     "output_type": "stream",
     "text": [
      "\n",
      " 18%|█▊        | 98/530 [00:51<04:46,  1.51it/s]\u001b[A"
     ]
    },
    {
     "name": "stdout",
     "output_type": "stream",
     "text": [
      "-------------------  data info  -----------------\n",
      "dru_size: 64\n",
      "dru_fea_size: 945\n",
      "dis_size: 1036\n",
      "dis_fea_size: 322\n",
      "tar_size: 103\n",
      "tar_fea_size: 1437\n",
      "threshold: 0.79\n",
      "mask=4  reset dru_dis_A as zero, valid sum(dru_dis_A)=0\n"
     ]
    },
    {
     "name": "stderr",
     "output_type": "stream",
     "text": [
      "\n",
      " 19%|█▊        | 99/530 [00:52<04:45,  1.51it/s]\u001b[A"
     ]
    },
    {
     "name": "stdout",
     "output_type": "stream",
     "text": [
      "-------------------  data info  -----------------\n",
      "dru_size: 64\n",
      "dru_fea_size: 945\n",
      "dis_size: 1036\n",
      "dis_fea_size: 322\n",
      "tar_size: 103\n",
      "tar_fea_size: 1437\n",
      "threshold: 0.79\n",
      "mask=4  reset dru_dis_A as zero, valid sum(dru_dis_A)=0\n"
     ]
    },
    {
     "name": "stderr",
     "output_type": "stream",
     "text": [
      "\n",
      " 19%|█▉        | 100/530 [00:53<04:46,  1.50it/s]\u001b[A"
     ]
    },
    {
     "name": "stdout",
     "output_type": "stream",
     "text": [
      "-------------------  data info  -----------------\n",
      "dru_size: 64\n",
      "dru_fea_size: 945\n",
      "dis_size: 1036\n",
      "dis_fea_size: 322\n",
      "tar_size: 103\n",
      "tar_fea_size: 1437\n",
      "threshold: 0.79\n",
      "mask=4  reset dru_dis_A as zero, valid sum(dru_dis_A)=0\n"
     ]
    },
    {
     "name": "stderr",
     "output_type": "stream",
     "text": [
      "\n",
      " 19%|█▉        | 101/530 [00:53<04:46,  1.50it/s]\u001b[A"
     ]
    },
    {
     "name": "stdout",
     "output_type": "stream",
     "text": [
      "-------------------  data info  -----------------\n",
      "dru_size: 64\n",
      "dru_fea_size: 945\n",
      "dis_size: 1036\n",
      "dis_fea_size: 322\n",
      "tar_size: 103\n",
      "tar_fea_size: 1437\n",
      "threshold: 0.79\n",
      "mask=4  reset dru_dis_A as zero, valid sum(dru_dis_A)=0\n"
     ]
    },
    {
     "name": "stderr",
     "output_type": "stream",
     "text": [
      "\n",
      " 19%|█▉        | 102/530 [00:54<04:45,  1.50it/s]\u001b[A"
     ]
    },
    {
     "name": "stdout",
     "output_type": "stream",
     "text": [
      "-------------------  data info  -----------------\n",
      "dru_size: 64\n",
      "dru_fea_size: 945\n",
      "dis_size: 1036\n",
      "dis_fea_size: 322\n",
      "tar_size: 103\n",
      "tar_fea_size: 1437\n",
      "threshold: 0.79\n",
      "mask=4  reset dru_dis_A as zero, valid sum(dru_dis_A)=0\n"
     ]
    },
    {
     "name": "stderr",
     "output_type": "stream",
     "text": [
      "\n",
      " 19%|█▉        | 103/530 [00:55<04:50,  1.47it/s]\u001b[A"
     ]
    },
    {
     "name": "stdout",
     "output_type": "stream",
     "text": [
      "-------------------  data info  -----------------\n",
      "dru_size: 64\n",
      "dru_fea_size: 945\n",
      "dis_size: 1036\n",
      "dis_fea_size: 322\n",
      "tar_size: 103\n",
      "tar_fea_size: 1437\n",
      "threshold: 0.79\n",
      "mask=4  reset dru_dis_A as zero, valid sum(dru_dis_A)=0\n"
     ]
    },
    {
     "name": "stderr",
     "output_type": "stream",
     "text": [
      "\n",
      " 20%|█▉        | 104/530 [00:55<04:48,  1.48it/s]\u001b[A"
     ]
    },
    {
     "name": "stdout",
     "output_type": "stream",
     "text": [
      "-------------------  data info  -----------------\n",
      "dru_size: 64\n",
      "dru_fea_size: 945\n",
      "dis_size: 1036\n",
      "dis_fea_size: 322\n",
      "tar_size: 103\n",
      "tar_fea_size: 1437\n",
      "threshold: 0.79\n",
      "mask=4  reset dru_dis_A as zero, valid sum(dru_dis_A)=0\n"
     ]
    },
    {
     "name": "stderr",
     "output_type": "stream",
     "text": [
      "\n",
      " 20%|█▉        | 105/530 [00:56<04:46,  1.48it/s]\u001b[A"
     ]
    },
    {
     "name": "stdout",
     "output_type": "stream",
     "text": [
      "-------------------  data info  -----------------\n",
      "dru_size: 64\n",
      "dru_fea_size: 945\n",
      "dis_size: 1036\n",
      "dis_fea_size: 322\n",
      "tar_size: 103\n",
      "tar_fea_size: 1437\n",
      "threshold: 0.79\n",
      "mask=4  reset dru_dis_A as zero, valid sum(dru_dis_A)=0\n"
     ]
    },
    {
     "name": "stderr",
     "output_type": "stream",
     "text": [
      "\n",
      " 20%|██        | 106/530 [00:57<04:45,  1.48it/s]\u001b[A"
     ]
    },
    {
     "name": "stdout",
     "output_type": "stream",
     "text": [
      "-------------------  data info  -----------------\n",
      "dru_size: 64\n",
      "dru_fea_size: 945\n",
      "dis_size: 1036\n",
      "dis_fea_size: 322\n",
      "tar_size: 103\n",
      "tar_fea_size: 1437\n",
      "threshold: 0.79\n",
      "mask=4  reset dru_dis_A as zero, valid sum(dru_dis_A)=0\n"
     ]
    },
    {
     "name": "stderr",
     "output_type": "stream",
     "text": [
      "\n",
      " 20%|██        | 107/530 [00:57<04:43,  1.49it/s]\u001b[A"
     ]
    },
    {
     "name": "stdout",
     "output_type": "stream",
     "text": [
      "-------------------  data info  -----------------\n",
      "dru_size: 64\n",
      "dru_fea_size: 945\n",
      "dis_size: 1036\n",
      "dis_fea_size: 322\n",
      "tar_size: 103\n",
      "tar_fea_size: 1437\n",
      "threshold: 0.79\n",
      "mask=4  reset dru_dis_A as zero, valid sum(dru_dis_A)=0\n"
     ]
    },
    {
     "name": "stderr",
     "output_type": "stream",
     "text": [
      "\n",
      " 20%|██        | 108/530 [00:58<04:42,  1.50it/s]\u001b[A"
     ]
    },
    {
     "name": "stdout",
     "output_type": "stream",
     "text": [
      "-------------------  data info  -----------------\n",
      "dru_size: 64\n",
      "dru_fea_size: 945\n",
      "dis_size: 1036\n",
      "dis_fea_size: 322\n",
      "tar_size: 103\n",
      "tar_fea_size: 1437\n",
      "threshold: 0.79\n",
      "mask=4  reset dru_dis_A as zero, valid sum(dru_dis_A)=0\n"
     ]
    },
    {
     "name": "stderr",
     "output_type": "stream",
     "text": [
      "\n",
      " 21%|██        | 109/530 [00:59<04:49,  1.45it/s]\u001b[A"
     ]
    },
    {
     "name": "stdout",
     "output_type": "stream",
     "text": [
      "-------------------  data info  -----------------\n",
      "dru_size: 64\n",
      "dru_fea_size: 945\n",
      "dis_size: 1036\n",
      "dis_fea_size: 322\n",
      "tar_size: 103\n",
      "tar_fea_size: 1437\n",
      "threshold: 0.79\n",
      "mask=4  reset dru_dis_A as zero, valid sum(dru_dis_A)=0\n"
     ]
    },
    {
     "name": "stderr",
     "output_type": "stream",
     "text": [
      "\n",
      " 21%|██        | 110/530 [01:00<04:47,  1.46it/s]\u001b[A"
     ]
    },
    {
     "name": "stdout",
     "output_type": "stream",
     "text": [
      "-------------------  data info  -----------------\n",
      "dru_size: 64\n",
      "dru_fea_size: 945\n",
      "dis_size: 1036\n",
      "dis_fea_size: 322\n",
      "tar_size: 103\n",
      "tar_fea_size: 1437\n",
      "threshold: 0.79\n",
      "mask=4  reset dru_dis_A as zero, valid sum(dru_dis_A)=0\n"
     ]
    },
    {
     "name": "stderr",
     "output_type": "stream",
     "text": [
      "\n",
      " 21%|██        | 111/530 [01:00<04:47,  1.46it/s]\u001b[A"
     ]
    },
    {
     "name": "stdout",
     "output_type": "stream",
     "text": [
      "-------------------  data info  -----------------\n",
      "dru_size: 64\n",
      "dru_fea_size: 945\n",
      "dis_size: 1036\n",
      "dis_fea_size: 322\n",
      "tar_size: 103\n",
      "tar_fea_size: 1437\n",
      "threshold: 0.79\n",
      "mask=4  reset dru_dis_A as zero, valid sum(dru_dis_A)=0\n"
     ]
    },
    {
     "name": "stderr",
     "output_type": "stream",
     "text": [
      "\n",
      " 21%|██        | 112/530 [01:01<04:43,  1.48it/s]\u001b[A"
     ]
    },
    {
     "name": "stdout",
     "output_type": "stream",
     "text": [
      "-------------------  data info  -----------------\n",
      "dru_size: 64\n",
      "dru_fea_size: 945\n",
      "dis_size: 1036\n",
      "dis_fea_size: 322\n",
      "tar_size: 103\n",
      "tar_fea_size: 1437\n",
      "threshold: 0.79\n",
      "mask=4  reset dru_dis_A as zero, valid sum(dru_dis_A)=0\n"
     ]
    },
    {
     "name": "stderr",
     "output_type": "stream",
     "text": [
      "\n",
      " 21%|██▏       | 113/530 [01:02<04:38,  1.50it/s]\u001b[A"
     ]
    },
    {
     "name": "stdout",
     "output_type": "stream",
     "text": [
      "-------------------  data info  -----------------\n",
      "dru_size: 64\n",
      "dru_fea_size: 945\n",
      "dis_size: 1036\n",
      "dis_fea_size: 322\n",
      "tar_size: 103\n",
      "tar_fea_size: 1437\n",
      "threshold: 0.79\n",
      "mask=4  reset dru_dis_A as zero, valid sum(dru_dis_A)=0\n"
     ]
    },
    {
     "name": "stderr",
     "output_type": "stream",
     "text": [
      "\n",
      " 22%|██▏       | 114/530 [01:02<04:34,  1.51it/s]\u001b[A"
     ]
    },
    {
     "name": "stdout",
     "output_type": "stream",
     "text": [
      "-------------------  data info  -----------------\n",
      "dru_size: 64\n",
      "dru_fea_size: 945\n",
      "dis_size: 1036\n",
      "dis_fea_size: 322\n",
      "tar_size: 103\n",
      "tar_fea_size: 1437\n",
      "threshold: 0.79\n",
      "mask=4  reset dru_dis_A as zero, valid sum(dru_dis_A)=0\n"
     ]
    },
    {
     "name": "stderr",
     "output_type": "stream",
     "text": [
      "\n",
      " 22%|██▏       | 115/530 [01:03<04:30,  1.53it/s]\u001b[A"
     ]
    },
    {
     "name": "stdout",
     "output_type": "stream",
     "text": [
      "-------------------  data info  -----------------\n",
      "dru_size: 64\n",
      "dru_fea_size: 945\n",
      "dis_size: 1036\n",
      "dis_fea_size: 322\n",
      "tar_size: 103\n",
      "tar_fea_size: 1437\n",
      "threshold: 0.79\n",
      "mask=4  reset dru_dis_A as zero, valid sum(dru_dis_A)=0\n"
     ]
    },
    {
     "name": "stderr",
     "output_type": "stream",
     "text": [
      "\n",
      " 22%|██▏       | 116/530 [01:03<04:30,  1.53it/s]\u001b[A"
     ]
    },
    {
     "name": "stdout",
     "output_type": "stream",
     "text": [
      "-------------------  data info  -----------------\n",
      "dru_size: 64\n",
      "dru_fea_size: 945\n",
      "dis_size: 1036\n",
      "dis_fea_size: 322\n",
      "tar_size: 103\n",
      "tar_fea_size: 1437\n",
      "threshold: 0.79\n",
      "mask=4  reset dru_dis_A as zero, valid sum(dru_dis_A)=0\n"
     ]
    },
    {
     "name": "stderr",
     "output_type": "stream",
     "text": [
      "\n",
      " 22%|██▏       | 117/530 [01:04<04:31,  1.52it/s]\u001b[A"
     ]
    },
    {
     "name": "stdout",
     "output_type": "stream",
     "text": [
      "-------------------  data info  -----------------\n",
      "dru_size: 64\n",
      "dru_fea_size: 945\n",
      "dis_size: 1036\n",
      "dis_fea_size: 322\n",
      "tar_size: 103\n",
      "tar_fea_size: 1437\n",
      "threshold: 0.79\n",
      "mask=4  reset dru_dis_A as zero, valid sum(dru_dis_A)=0\n"
     ]
    },
    {
     "name": "stderr",
     "output_type": "stream",
     "text": [
      "\n",
      " 22%|██▏       | 118/530 [01:05<04:34,  1.50it/s]\u001b[A"
     ]
    },
    {
     "name": "stdout",
     "output_type": "stream",
     "text": [
      "-------------------  data info  -----------------\n",
      "dru_size: 64\n",
      "dru_fea_size: 945\n",
      "dis_size: 1036\n",
      "dis_fea_size: 322\n",
      "tar_size: 103\n",
      "tar_fea_size: 1437\n",
      "threshold: 0.79\n",
      "mask=4  reset dru_dis_A as zero, valid sum(dru_dis_A)=0\n"
     ]
    },
    {
     "name": "stderr",
     "output_type": "stream",
     "text": [
      "\n",
      " 22%|██▏       | 119/530 [01:06<04:35,  1.49it/s]\u001b[A"
     ]
    },
    {
     "name": "stdout",
     "output_type": "stream",
     "text": [
      "-------------------  data info  -----------------\n",
      "dru_size: 64\n",
      "dru_fea_size: 945\n",
      "dis_size: 1036\n",
      "dis_fea_size: 322\n",
      "tar_size: 103\n",
      "tar_fea_size: 1437\n",
      "threshold: 0.79\n",
      "mask=4  reset dru_dis_A as zero, valid sum(dru_dis_A)=0\n"
     ]
    },
    {
     "name": "stderr",
     "output_type": "stream",
     "text": [
      "\n",
      " 23%|██▎       | 120/530 [01:06<04:34,  1.49it/s]\u001b[A"
     ]
    },
    {
     "name": "stdout",
     "output_type": "stream",
     "text": [
      "-------------------  data info  -----------------\n",
      "dru_size: 81\n",
      "dru_fea_size: 962\n",
      "dis_size: 1157\n",
      "dis_fea_size: 322\n",
      "tar_size: 128\n",
      "tar_fea_size: 1437\n",
      "threshold: 0.74\n",
      "mask=4  reset dru_dis_A as zero, valid sum(dru_dis_A)=0\n"
     ]
    },
    {
     "name": "stderr",
     "output_type": "stream",
     "text": [
      "\n",
      " 23%|██▎       | 121/530 [01:07<04:40,  1.46it/s]\u001b[A"
     ]
    },
    {
     "name": "stdout",
     "output_type": "stream",
     "text": [
      "-------------------  data info  -----------------\n",
      "dru_size: 81\n",
      "dru_fea_size: 962\n",
      "dis_size: 1157\n",
      "dis_fea_size: 322\n",
      "tar_size: 128\n",
      "tar_fea_size: 1437\n",
      "threshold: 0.74\n",
      "mask=4  reset dru_dis_A as zero, valid sum(dru_dis_A)=0\n"
     ]
    },
    {
     "name": "stderr",
     "output_type": "stream",
     "text": [
      "\n",
      " 23%|██▎       | 122/530 [01:08<04:49,  1.41it/s]\u001b[A"
     ]
    },
    {
     "name": "stdout",
     "output_type": "stream",
     "text": [
      "-------------------  data info  -----------------\n",
      "dru_size: 81\n",
      "dru_fea_size: 962\n",
      "dis_size: 1157\n",
      "dis_fea_size: 322\n",
      "tar_size: 128\n",
      "tar_fea_size: 1437\n",
      "threshold: 0.74\n",
      "mask=4  reset dru_dis_A as zero, valid sum(dru_dis_A)=0\n"
     ]
    },
    {
     "name": "stderr",
     "output_type": "stream",
     "text": [
      "\n",
      " 23%|██▎       | 123/530 [01:08<04:49,  1.41it/s]\u001b[A"
     ]
    },
    {
     "name": "stdout",
     "output_type": "stream",
     "text": [
      "-------------------  data info  -----------------\n",
      "dru_size: 81\n",
      "dru_fea_size: 962\n",
      "dis_size: 1157\n",
      "dis_fea_size: 322\n",
      "tar_size: 128\n",
      "tar_fea_size: 1437\n",
      "threshold: 0.74\n",
      "mask=4  reset dru_dis_A as zero, valid sum(dru_dis_A)=0\n"
     ]
    },
    {
     "name": "stderr",
     "output_type": "stream",
     "text": [
      "\n",
      " 23%|██▎       | 124/530 [01:09<04:49,  1.40it/s]\u001b[A"
     ]
    },
    {
     "name": "stdout",
     "output_type": "stream",
     "text": [
      "-------------------  data info  -----------------\n",
      "dru_size: 81\n",
      "dru_fea_size: 962\n",
      "dis_size: 1157\n",
      "dis_fea_size: 322\n",
      "tar_size: 128\n",
      "tar_fea_size: 1437\n",
      "threshold: 0.74\n",
      "mask=4  reset dru_dis_A as zero, valid sum(dru_dis_A)=0\n"
     ]
    },
    {
     "name": "stderr",
     "output_type": "stream",
     "text": [
      "\n",
      " 24%|██▎       | 125/530 [01:10<04:49,  1.40it/s]\u001b[A"
     ]
    },
    {
     "name": "stdout",
     "output_type": "stream",
     "text": [
      "-------------------  data info  -----------------\n",
      "dru_size: 81\n",
      "dru_fea_size: 962\n",
      "dis_size: 1157\n",
      "dis_fea_size: 322\n",
      "tar_size: 128\n",
      "tar_fea_size: 1437\n",
      "threshold: 0.74\n",
      "mask=4  reset dru_dis_A as zero, valid sum(dru_dis_A)=0\n"
     ]
    },
    {
     "name": "stderr",
     "output_type": "stream",
     "text": [
      "\n",
      " 24%|██▍       | 126/530 [01:11<04:49,  1.39it/s]\u001b[A"
     ]
    },
    {
     "name": "stdout",
     "output_type": "stream",
     "text": [
      "-------------------  data info  -----------------\n",
      "dru_size: 81\n",
      "dru_fea_size: 962\n",
      "dis_size: 1157\n",
      "dis_fea_size: 322\n",
      "tar_size: 128\n",
      "tar_fea_size: 1437\n",
      "threshold: 0.74\n",
      "mask=4  reset dru_dis_A as zero, valid sum(dru_dis_A)=0\n"
     ]
    },
    {
     "name": "stderr",
     "output_type": "stream",
     "text": [
      "\n",
      " 24%|██▍       | 127/530 [01:11<04:53,  1.37it/s]\u001b[A"
     ]
    },
    {
     "name": "stdout",
     "output_type": "stream",
     "text": [
      "-------------------  data info  -----------------\n",
      "dru_size: 81\n",
      "dru_fea_size: 962\n",
      "dis_size: 1157\n",
      "dis_fea_size: 322\n",
      "tar_size: 128\n",
      "tar_fea_size: 1437\n",
      "threshold: 0.74\n",
      "mask=4  reset dru_dis_A as zero, valid sum(dru_dis_A)=0\n"
     ]
    },
    {
     "name": "stderr",
     "output_type": "stream",
     "text": [
      "\n",
      " 24%|██▍       | 128/530 [01:12<04:54,  1.37it/s]\u001b[A"
     ]
    },
    {
     "name": "stdout",
     "output_type": "stream",
     "text": [
      "-------------------  data info  -----------------\n",
      "dru_size: 81\n",
      "dru_fea_size: 962\n",
      "dis_size: 1157\n",
      "dis_fea_size: 322\n",
      "tar_size: 128\n",
      "tar_fea_size: 1437\n",
      "threshold: 0.74\n",
      "mask=4  reset dru_dis_A as zero, valid sum(dru_dis_A)=0\n"
     ]
    },
    {
     "name": "stderr",
     "output_type": "stream",
     "text": [
      "\n",
      " 24%|██▍       | 129/530 [01:13<04:56,  1.35it/s]\u001b[A"
     ]
    },
    {
     "name": "stdout",
     "output_type": "stream",
     "text": [
      "-------------------  data info  -----------------\n",
      "dru_size: 81\n",
      "dru_fea_size: 962\n",
      "dis_size: 1157\n",
      "dis_fea_size: 322\n",
      "tar_size: 128\n",
      "tar_fea_size: 1437\n",
      "threshold: 0.74\n",
      "mask=4  reset dru_dis_A as zero, valid sum(dru_dis_A)=0\n"
     ]
    },
    {
     "name": "stderr",
     "output_type": "stream",
     "text": [
      "\n",
      " 25%|██▍       | 130/530 [01:14<04:55,  1.35it/s]\u001b[A"
     ]
    },
    {
     "name": "stdout",
     "output_type": "stream",
     "text": [
      "-------------------  data info  -----------------\n",
      "dru_size: 64\n",
      "dru_fea_size: 945\n",
      "dis_size: 1036\n",
      "dis_fea_size: 322\n",
      "tar_size: 103\n",
      "tar_fea_size: 1437\n",
      "threshold: 0.79\n",
      "mask=4  reset dru_dis_A as zero, valid sum(dru_dis_A)=0\n"
     ]
    },
    {
     "name": "stderr",
     "output_type": "stream",
     "text": [
      "\n",
      " 25%|██▍       | 131/530 [01:14<04:46,  1.39it/s]\u001b[A"
     ]
    },
    {
     "name": "stdout",
     "output_type": "stream",
     "text": [
      "-------------------  data info  -----------------\n",
      "dru_size: 64\n",
      "dru_fea_size: 945\n",
      "dis_size: 1036\n",
      "dis_fea_size: 322\n",
      "tar_size: 103\n",
      "tar_fea_size: 1437\n",
      "threshold: 0.79\n",
      "mask=4  reset dru_dis_A as zero, valid sum(dru_dis_A)=0\n"
     ]
    },
    {
     "name": "stderr",
     "output_type": "stream",
     "text": [
      "\n",
      " 25%|██▍       | 132/530 [01:15<04:38,  1.43it/s]\u001b[A"
     ]
    },
    {
     "name": "stdout",
     "output_type": "stream",
     "text": [
      "-------------------  data info  -----------------\n",
      "dru_size: 64\n",
      "dru_fea_size: 945\n",
      "dis_size: 1036\n",
      "dis_fea_size: 322\n",
      "tar_size: 103\n",
      "tar_fea_size: 1437\n",
      "threshold: 0.79\n",
      "mask=4  reset dru_dis_A as zero, valid sum(dru_dis_A)=0\n"
     ]
    },
    {
     "name": "stderr",
     "output_type": "stream",
     "text": [
      "\n",
      " 25%|██▌       | 133/530 [01:15<04:30,  1.47it/s]\u001b[A"
     ]
    },
    {
     "name": "stdout",
     "output_type": "stream",
     "text": [
      "-------------------  data info  -----------------\n",
      "dru_size: 64\n",
      "dru_fea_size: 945\n",
      "dis_size: 1036\n",
      "dis_fea_size: 322\n",
      "tar_size: 103\n",
      "tar_fea_size: 1437\n",
      "threshold: 0.79\n",
      "mask=4  reset dru_dis_A as zero, valid sum(dru_dis_A)=0\n"
     ]
    },
    {
     "name": "stderr",
     "output_type": "stream",
     "text": [
      "\n",
      " 25%|██▌       | 134/530 [01:16<04:26,  1.49it/s]\u001b[A"
     ]
    },
    {
     "name": "stdout",
     "output_type": "stream",
     "text": [
      "-------------------  data info  -----------------\n",
      "dru_size: 64\n",
      "dru_fea_size: 945\n",
      "dis_size: 1036\n",
      "dis_fea_size: 322\n",
      "tar_size: 103\n",
      "tar_fea_size: 1437\n",
      "threshold: 0.79\n",
      "mask=4  reset dru_dis_A as zero, valid sum(dru_dis_A)=0\n"
     ]
    },
    {
     "name": "stderr",
     "output_type": "stream",
     "text": [
      "\n",
      " 25%|██▌       | 135/530 [01:17<04:24,  1.49it/s]\u001b[A"
     ]
    },
    {
     "name": "stdout",
     "output_type": "stream",
     "text": [
      "-------------------  data info  -----------------\n",
      "dru_size: 64\n",
      "dru_fea_size: 945\n",
      "dis_size: 1036\n",
      "dis_fea_size: 322\n",
      "tar_size: 103\n",
      "tar_fea_size: 1437\n",
      "threshold: 0.79\n",
      "mask=4  reset dru_dis_A as zero, valid sum(dru_dis_A)=0\n"
     ]
    },
    {
     "name": "stderr",
     "output_type": "stream",
     "text": [
      "\n",
      " 26%|██▌       | 136/530 [01:17<04:23,  1.50it/s]\u001b[A"
     ]
    },
    {
     "name": "stdout",
     "output_type": "stream",
     "text": [
      "-------------------  data info  -----------------\n",
      "dru_size: 64\n",
      "dru_fea_size: 945\n",
      "dis_size: 1036\n",
      "dis_fea_size: 322\n",
      "tar_size: 103\n",
      "tar_fea_size: 1437\n",
      "threshold: 0.79\n",
      "mask=4  reset dru_dis_A as zero, valid sum(dru_dis_A)=0\n"
     ]
    },
    {
     "name": "stderr",
     "output_type": "stream",
     "text": [
      "\n",
      " 26%|██▌       | 137/530 [01:18<04:20,  1.51it/s]\u001b[A"
     ]
    },
    {
     "name": "stdout",
     "output_type": "stream",
     "text": [
      "-------------------  data info  -----------------\n",
      "dru_size: 64\n",
      "dru_fea_size: 945\n",
      "dis_size: 1036\n",
      "dis_fea_size: 322\n",
      "tar_size: 103\n",
      "tar_fea_size: 1437\n",
      "threshold: 0.79\n",
      "mask=4  reset dru_dis_A as zero, valid sum(dru_dis_A)=0\n"
     ]
    },
    {
     "name": "stderr",
     "output_type": "stream",
     "text": [
      "\n",
      " 26%|██▌       | 138/530 [01:19<04:17,  1.52it/s]\u001b[A"
     ]
    },
    {
     "name": "stdout",
     "output_type": "stream",
     "text": [
      "-------------------  data info  -----------------\n",
      "dru_size: 64\n",
      "dru_fea_size: 945\n",
      "dis_size: 1036\n",
      "dis_fea_size: 322\n",
      "tar_size: 103\n",
      "tar_fea_size: 1437\n",
      "threshold: 0.79\n",
      "mask=4  reset dru_dis_A as zero, valid sum(dru_dis_A)=0\n"
     ]
    },
    {
     "name": "stderr",
     "output_type": "stream",
     "text": [
      "\n",
      " 26%|██▌       | 139/530 [01:19<04:19,  1.50it/s]\u001b[A"
     ]
    },
    {
     "name": "stdout",
     "output_type": "stream",
     "text": [
      "-------------------  data info  -----------------\n",
      "dru_size: 64\n",
      "dru_fea_size: 945\n",
      "dis_size: 1036\n",
      "dis_fea_size: 322\n",
      "tar_size: 103\n",
      "tar_fea_size: 1437\n",
      "threshold: 0.79\n",
      "mask=4  reset dru_dis_A as zero, valid sum(dru_dis_A)=0\n"
     ]
    },
    {
     "name": "stderr",
     "output_type": "stream",
     "text": [
      "\n",
      " 26%|██▋       | 140/530 [01:20<04:23,  1.48it/s]\u001b[A"
     ]
    },
    {
     "name": "stdout",
     "output_type": "stream",
     "text": [
      "-------------------  data info  -----------------\n",
      "dru_size: 64\n",
      "dru_fea_size: 945\n",
      "dis_size: 1036\n",
      "dis_fea_size: 322\n",
      "tar_size: 103\n",
      "tar_fea_size: 1437\n",
      "threshold: 0.79\n",
      "mask=4  reset dru_dis_A as zero, valid sum(dru_dis_A)=0\n"
     ]
    },
    {
     "name": "stderr",
     "output_type": "stream",
     "text": [
      "\n",
      " 27%|██▋       | 141/530 [01:21<04:26,  1.46it/s]\u001b[A"
     ]
    },
    {
     "name": "stdout",
     "output_type": "stream",
     "text": [
      "-------------------  data info  -----------------\n",
      "dru_size: 64\n",
      "dru_fea_size: 945\n",
      "dis_size: 1036\n",
      "dis_fea_size: 322\n",
      "tar_size: 103\n",
      "tar_fea_size: 1437\n",
      "threshold: 0.79\n",
      "mask=4  reset dru_dis_A as zero, valid sum(dru_dis_A)=0\n"
     ]
    },
    {
     "name": "stderr",
     "output_type": "stream",
     "text": [
      "\n",
      " 27%|██▋       | 142/530 [01:22<04:25,  1.46it/s]\u001b[A"
     ]
    },
    {
     "name": "stdout",
     "output_type": "stream",
     "text": [
      "-------------------  data info  -----------------\n",
      "dru_size: 64\n",
      "dru_fea_size: 945\n",
      "dis_size: 1036\n",
      "dis_fea_size: 322\n",
      "tar_size: 103\n",
      "tar_fea_size: 1437\n",
      "threshold: 0.79\n",
      "mask=4  reset dru_dis_A as zero, valid sum(dru_dis_A)=0\n"
     ]
    },
    {
     "name": "stderr",
     "output_type": "stream",
     "text": [
      "\n",
      " 27%|██▋       | 143/530 [01:22<04:25,  1.46it/s]\u001b[A"
     ]
    },
    {
     "name": "stdout",
     "output_type": "stream",
     "text": [
      "-------------------  data info  -----------------\n",
      "dru_size: 64\n",
      "dru_fea_size: 945\n",
      "dis_size: 1036\n",
      "dis_fea_size: 322\n",
      "tar_size: 103\n",
      "tar_fea_size: 1437\n",
      "threshold: 0.79\n",
      "mask=4  reset dru_dis_A as zero, valid sum(dru_dis_A)=0\n"
     ]
    },
    {
     "name": "stderr",
     "output_type": "stream",
     "text": [
      "\n",
      " 27%|██▋       | 144/530 [01:23<04:21,  1.48it/s]\u001b[A"
     ]
    },
    {
     "name": "stdout",
     "output_type": "stream",
     "text": [
      "-------------------  data info  -----------------\n",
      "dru_size: 64\n",
      "dru_fea_size: 945\n",
      "dis_size: 1036\n",
      "dis_fea_size: 322\n",
      "tar_size: 103\n",
      "tar_fea_size: 1437\n",
      "threshold: 0.79\n",
      "mask=4  reset dru_dis_A as zero, valid sum(dru_dis_A)=0\n"
     ]
    },
    {
     "name": "stderr",
     "output_type": "stream",
     "text": [
      "\n",
      " 27%|██▋       | 145/530 [01:24<04:23,  1.46it/s]\u001b[A"
     ]
    },
    {
     "name": "stdout",
     "output_type": "stream",
     "text": [
      "-------------------  data info  -----------------\n",
      "dru_size: 64\n",
      "dru_fea_size: 945\n",
      "dis_size: 1036\n",
      "dis_fea_size: 322\n",
      "tar_size: 103\n",
      "tar_fea_size: 1437\n",
      "threshold: 0.79\n",
      "mask=4  reset dru_dis_A as zero, valid sum(dru_dis_A)=0\n"
     ]
    },
    {
     "name": "stderr",
     "output_type": "stream",
     "text": [
      "\n",
      " 28%|██▊       | 146/530 [01:24<04:24,  1.45it/s]\u001b[A"
     ]
    },
    {
     "name": "stdout",
     "output_type": "stream",
     "text": [
      "-------------------  data info  -----------------\n",
      "dru_size: 64\n",
      "dru_fea_size: 945\n",
      "dis_size: 1036\n",
      "dis_fea_size: 322\n",
      "tar_size: 103\n",
      "tar_fea_size: 1437\n",
      "threshold: 0.79\n",
      "mask=4  reset dru_dis_A as zero, valid sum(dru_dis_A)=0\n"
     ]
    },
    {
     "name": "stderr",
     "output_type": "stream",
     "text": [
      "\n",
      " 28%|██▊       | 147/530 [01:25<04:22,  1.46it/s]\u001b[A"
     ]
    },
    {
     "name": "stdout",
     "output_type": "stream",
     "text": [
      "-------------------  data info  -----------------\n",
      "dru_size: 64\n",
      "dru_fea_size: 945\n",
      "dis_size: 1036\n",
      "dis_fea_size: 322\n",
      "tar_size: 103\n",
      "tar_fea_size: 1437\n",
      "threshold: 0.79\n",
      "mask=4  reset dru_dis_A as zero, valid sum(dru_dis_A)=0\n"
     ]
    },
    {
     "name": "stderr",
     "output_type": "stream",
     "text": [
      "\n",
      " 28%|██▊       | 148/530 [01:26<04:21,  1.46it/s]\u001b[A"
     ]
    },
    {
     "name": "stdout",
     "output_type": "stream",
     "text": [
      "-------------------  data info  -----------------\n",
      "dru_size: 64\n",
      "dru_fea_size: 945\n",
      "dis_size: 1036\n",
      "dis_fea_size: 322\n",
      "tar_size: 103\n",
      "tar_fea_size: 1437\n",
      "threshold: 0.79\n",
      "mask=4  reset dru_dis_A as zero, valid sum(dru_dis_A)=0\n"
     ]
    },
    {
     "name": "stderr",
     "output_type": "stream",
     "text": [
      "\n",
      " 28%|██▊       | 149/530 [01:26<04:19,  1.47it/s]\u001b[A"
     ]
    },
    {
     "name": "stdout",
     "output_type": "stream",
     "text": [
      "-------------------  data info  -----------------\n",
      "dru_size: 64\n",
      "dru_fea_size: 945\n",
      "dis_size: 1036\n",
      "dis_fea_size: 322\n",
      "tar_size: 103\n",
      "tar_fea_size: 1437\n",
      "threshold: 0.79\n",
      "mask=4  reset dru_dis_A as zero, valid sum(dru_dis_A)=0\n"
     ]
    },
    {
     "name": "stderr",
     "output_type": "stream",
     "text": [
      "\n",
      " 28%|██▊       | 150/530 [01:27<04:15,  1.49it/s]\u001b[A"
     ]
    },
    {
     "name": "stdout",
     "output_type": "stream",
     "text": [
      "-------------------  data info  -----------------\n",
      "dru_size: 64\n",
      "dru_fea_size: 945\n",
      "dis_size: 1036\n",
      "dis_fea_size: 322\n",
      "tar_size: 103\n",
      "tar_fea_size: 1437\n",
      "threshold: 0.79\n",
      "mask=4  reset dru_dis_A as zero, valid sum(dru_dis_A)=0\n"
     ]
    },
    {
     "name": "stderr",
     "output_type": "stream",
     "text": [
      "\n",
      " 28%|██▊       | 151/530 [01:28<04:16,  1.48it/s]\u001b[A"
     ]
    },
    {
     "name": "stdout",
     "output_type": "stream",
     "text": [
      "-------------------  data info  -----------------\n",
      "dru_size: 64\n",
      "dru_fea_size: 945\n",
      "dis_size: 1036\n",
      "dis_fea_size: 322\n",
      "tar_size: 103\n",
      "tar_fea_size: 1437\n",
      "threshold: 0.79\n",
      "mask=4  reset dru_dis_A as zero, valid sum(dru_dis_A)=0\n"
     ]
    },
    {
     "name": "stderr",
     "output_type": "stream",
     "text": [
      "\n",
      " 29%|██▊       | 152/530 [01:28<04:16,  1.47it/s]\u001b[A"
     ]
    },
    {
     "name": "stdout",
     "output_type": "stream",
     "text": [
      "-------------------  data info  -----------------\n",
      "dru_size: 64\n",
      "dru_fea_size: 945\n",
      "dis_size: 1036\n",
      "dis_fea_size: 322\n",
      "tar_size: 103\n",
      "tar_fea_size: 1437\n",
      "threshold: 0.79\n",
      "mask=4  reset dru_dis_A as zero, valid sum(dru_dis_A)=0\n"
     ]
    },
    {
     "name": "stderr",
     "output_type": "stream",
     "text": [
      "\n",
      " 29%|██▉       | 153/530 [01:29<04:12,  1.49it/s]\u001b[A"
     ]
    },
    {
     "name": "stdout",
     "output_type": "stream",
     "text": [
      "-------------------  data info  -----------------\n",
      "dru_size: 64\n",
      "dru_fea_size: 945\n",
      "dis_size: 1036\n",
      "dis_fea_size: 322\n",
      "tar_size: 103\n",
      "tar_fea_size: 1437\n",
      "threshold: 0.79\n",
      "mask=4  reset dru_dis_A as zero, valid sum(dru_dis_A)=0\n"
     ]
    },
    {
     "name": "stderr",
     "output_type": "stream",
     "text": [
      "\n",
      " 29%|██▉       | 154/530 [01:30<04:13,  1.48it/s]\u001b[A"
     ]
    },
    {
     "name": "stdout",
     "output_type": "stream",
     "text": [
      "-------------------  data info  -----------------\n",
      "dru_size: 64\n",
      "dru_fea_size: 945\n",
      "dis_size: 1036\n",
      "dis_fea_size: 322\n",
      "tar_size: 103\n",
      "tar_fea_size: 1437\n",
      "threshold: 0.79\n",
      "mask=4  reset dru_dis_A as zero, valid sum(dru_dis_A)=0\n"
     ]
    },
    {
     "name": "stderr",
     "output_type": "stream",
     "text": [
      "\n",
      " 29%|██▉       | 155/530 [01:30<04:12,  1.49it/s]\u001b[A"
     ]
    },
    {
     "name": "stdout",
     "output_type": "stream",
     "text": [
      "-------------------  data info  -----------------\n",
      "dru_size: 64\n",
      "dru_fea_size: 945\n",
      "dis_size: 1036\n",
      "dis_fea_size: 322\n",
      "tar_size: 103\n",
      "tar_fea_size: 1437\n",
      "threshold: 0.79\n",
      "mask=4  reset dru_dis_A as zero, valid sum(dru_dis_A)=0\n"
     ]
    },
    {
     "name": "stderr",
     "output_type": "stream",
     "text": [
      "\n",
      " 29%|██▉       | 156/530 [01:31<04:09,  1.50it/s]\u001b[A"
     ]
    },
    {
     "name": "stdout",
     "output_type": "stream",
     "text": [
      "-------------------  data info  -----------------\n",
      "dru_size: 64\n",
      "dru_fea_size: 945\n",
      "dis_size: 1036\n",
      "dis_fea_size: 322\n",
      "tar_size: 103\n",
      "tar_fea_size: 1437\n",
      "threshold: 0.79\n",
      "mask=4  reset dru_dis_A as zero, valid sum(dru_dis_A)=0\n"
     ]
    },
    {
     "name": "stderr",
     "output_type": "stream",
     "text": [
      "\n",
      " 30%|██▉       | 157/530 [01:32<04:09,  1.50it/s]\u001b[A"
     ]
    },
    {
     "name": "stdout",
     "output_type": "stream",
     "text": [
      "-------------------  data info  -----------------\n",
      "dru_size: 64\n",
      "dru_fea_size: 945\n",
      "dis_size: 1036\n",
      "dis_fea_size: 322\n",
      "tar_size: 103\n",
      "tar_fea_size: 1437\n",
      "threshold: 0.79\n",
      "mask=4  reset dru_dis_A as zero, valid sum(dru_dis_A)=0\n"
     ]
    },
    {
     "name": "stderr",
     "output_type": "stream",
     "text": [
      "\n",
      " 30%|██▉       | 158/530 [01:32<04:06,  1.51it/s]\u001b[A"
     ]
    },
    {
     "name": "stdout",
     "output_type": "stream",
     "text": [
      "-------------------  data info  -----------------\n",
      "dru_size: 64\n",
      "dru_fea_size: 945\n",
      "dis_size: 1036\n",
      "dis_fea_size: 322\n",
      "tar_size: 103\n",
      "tar_fea_size: 1437\n",
      "threshold: 0.79\n",
      "mask=4  reset dru_dis_A as zero, valid sum(dru_dis_A)=0\n"
     ]
    },
    {
     "name": "stderr",
     "output_type": "stream",
     "text": [
      "\n",
      " 30%|███       | 159/530 [01:33<04:04,  1.52it/s]\u001b[A"
     ]
    },
    {
     "name": "stdout",
     "output_type": "stream",
     "text": [
      "-------------------  data info  -----------------\n",
      "dru_size: 64\n",
      "dru_fea_size: 945\n",
      "dis_size: 1036\n",
      "dis_fea_size: 322\n",
      "tar_size: 103\n",
      "tar_fea_size: 1437\n",
      "threshold: 0.79\n",
      "mask=4  reset dru_dis_A as zero, valid sum(dru_dis_A)=0\n"
     ]
    },
    {
     "name": "stderr",
     "output_type": "stream",
     "text": [
      "\n",
      " 30%|███       | 160/530 [01:34<04:02,  1.53it/s]\u001b[A"
     ]
    },
    {
     "name": "stdout",
     "output_type": "stream",
     "text": [
      "-------------------  data info  -----------------\n",
      "dru_size: 81\n",
      "dru_fea_size: 962\n",
      "dis_size: 1157\n",
      "dis_fea_size: 322\n",
      "tar_size: 128\n",
      "tar_fea_size: 1437\n",
      "threshold: 0.74\n",
      "mask=4  reset dru_dis_A as zero, valid sum(dru_dis_A)=0\n"
     ]
    },
    {
     "name": "stderr",
     "output_type": "stream",
     "text": [
      "\n",
      " 30%|███       | 161/530 [01:34<04:15,  1.44it/s]\u001b[A"
     ]
    },
    {
     "name": "stdout",
     "output_type": "stream",
     "text": [
      "-------------------  data info  -----------------\n",
      "dru_size: 81\n",
      "dru_fea_size: 962\n",
      "dis_size: 1157\n",
      "dis_fea_size: 322\n",
      "tar_size: 128\n",
      "tar_fea_size: 1437\n",
      "threshold: 0.74\n",
      "mask=4  reset dru_dis_A as zero, valid sum(dru_dis_A)=0\n"
     ]
    },
    {
     "name": "stderr",
     "output_type": "stream",
     "text": [
      "\n",
      " 31%|███       | 162/530 [01:35<04:18,  1.42it/s]\u001b[A"
     ]
    },
    {
     "name": "stdout",
     "output_type": "stream",
     "text": [
      "-------------------  data info  -----------------\n",
      "dru_size: 81\n",
      "dru_fea_size: 962\n",
      "dis_size: 1157\n",
      "dis_fea_size: 322\n",
      "tar_size: 128\n",
      "tar_fea_size: 1437\n",
      "threshold: 0.74\n",
      "mask=4  reset dru_dis_A as zero, valid sum(dru_dis_A)=0\n"
     ]
    },
    {
     "name": "stderr",
     "output_type": "stream",
     "text": [
      "\n",
      " 31%|███       | 163/530 [01:36<04:20,  1.41it/s]\u001b[A"
     ]
    },
    {
     "name": "stdout",
     "output_type": "stream",
     "text": [
      "-------------------  data info  -----------------\n",
      "dru_size: 81\n",
      "dru_fea_size: 962\n",
      "dis_size: 1157\n",
      "dis_fea_size: 322\n",
      "tar_size: 128\n",
      "tar_fea_size: 1437\n",
      "threshold: 0.74\n",
      "mask=4  reset dru_dis_A as zero, valid sum(dru_dis_A)=0\n"
     ]
    },
    {
     "name": "stderr",
     "output_type": "stream",
     "text": [
      "\n",
      " 31%|███       | 164/530 [01:37<04:20,  1.40it/s]\u001b[A"
     ]
    },
    {
     "name": "stdout",
     "output_type": "stream",
     "text": [
      "-------------------  data info  -----------------\n",
      "dru_size: 81\n",
      "dru_fea_size: 962\n",
      "dis_size: 1157\n",
      "dis_fea_size: 322\n",
      "tar_size: 128\n",
      "tar_fea_size: 1437\n",
      "threshold: 0.74\n",
      "mask=4  reset dru_dis_A as zero, valid sum(dru_dis_A)=0\n"
     ]
    },
    {
     "name": "stderr",
     "output_type": "stream",
     "text": [
      "\n",
      " 31%|███       | 165/530 [01:37<04:18,  1.41it/s]\u001b[A"
     ]
    },
    {
     "name": "stdout",
     "output_type": "stream",
     "text": [
      "-------------------  data info  -----------------\n",
      "dru_size: 81\n",
      "dru_fea_size: 962\n",
      "dis_size: 1157\n",
      "dis_fea_size: 322\n",
      "tar_size: 128\n",
      "tar_fea_size: 1437\n",
      "threshold: 0.74\n",
      "mask=4  reset dru_dis_A as zero, valid sum(dru_dis_A)=0\n"
     ]
    },
    {
     "name": "stderr",
     "output_type": "stream",
     "text": [
      "\n",
      " 31%|███▏      | 166/530 [01:38<04:21,  1.39it/s]\u001b[A"
     ]
    },
    {
     "name": "stdout",
     "output_type": "stream",
     "text": [
      "-------------------  data info  -----------------\n",
      "dru_size: 81\n",
      "dru_fea_size: 962\n",
      "dis_size: 1157\n",
      "dis_fea_size: 322\n",
      "tar_size: 128\n",
      "tar_fea_size: 1437\n",
      "threshold: 0.74\n",
      "mask=4  reset dru_dis_A as zero, valid sum(dru_dis_A)=0\n"
     ]
    },
    {
     "name": "stderr",
     "output_type": "stream",
     "text": [
      "\n",
      " 32%|███▏      | 167/530 [01:39<04:19,  1.40it/s]\u001b[A"
     ]
    },
    {
     "name": "stdout",
     "output_type": "stream",
     "text": [
      "-------------------  data info  -----------------\n",
      "dru_size: 81\n",
      "dru_fea_size: 962\n",
      "dis_size: 1157\n",
      "dis_fea_size: 322\n",
      "tar_size: 128\n",
      "tar_fea_size: 1437\n",
      "threshold: 0.74\n",
      "mask=4  reset dru_dis_A as zero, valid sum(dru_dis_A)=0\n"
     ]
    },
    {
     "name": "stderr",
     "output_type": "stream",
     "text": [
      "\n",
      " 32%|███▏      | 168/530 [01:39<04:20,  1.39it/s]\u001b[A"
     ]
    },
    {
     "name": "stdout",
     "output_type": "stream",
     "text": [
      "-------------------  data info  -----------------\n",
      "dru_size: 81\n",
      "dru_fea_size: 962\n",
      "dis_size: 1157\n",
      "dis_fea_size: 322\n",
      "tar_size: 128\n",
      "tar_fea_size: 1437\n",
      "threshold: 0.74\n",
      "mask=4  reset dru_dis_A as zero, valid sum(dru_dis_A)=0\n"
     ]
    },
    {
     "name": "stderr",
     "output_type": "stream",
     "text": [
      "\n",
      " 32%|███▏      | 169/530 [01:40<04:20,  1.39it/s]\u001b[A"
     ]
    },
    {
     "name": "stdout",
     "output_type": "stream",
     "text": [
      "-------------------  data info  -----------------\n",
      "dru_size: 81\n",
      "dru_fea_size: 962\n",
      "dis_size: 1157\n",
      "dis_fea_size: 322\n",
      "tar_size: 128\n",
      "tar_fea_size: 1437\n",
      "threshold: 0.74\n",
      "mask=4  reset dru_dis_A as zero, valid sum(dru_dis_A)=0\n"
     ]
    },
    {
     "name": "stderr",
     "output_type": "stream",
     "text": [
      "\n",
      " 32%|███▏      | 170/530 [01:41<04:21,  1.38it/s]\u001b[A"
     ]
    },
    {
     "name": "stdout",
     "output_type": "stream",
     "text": [
      "-------------------  data info  -----------------\n",
      "dru_size: 64\n",
      "dru_fea_size: 945\n",
      "dis_size: 1036\n",
      "dis_fea_size: 322\n",
      "tar_size: 103\n",
      "tar_fea_size: 1437\n",
      "threshold: 0.79\n",
      "mask=4  reset dru_dis_A as zero, valid sum(dru_dis_A)=0\n"
     ]
    },
    {
     "name": "stderr",
     "output_type": "stream",
     "text": [
      "\n",
      " 32%|███▏      | 171/530 [01:42<04:16,  1.40it/s]\u001b[A"
     ]
    },
    {
     "name": "stdout",
     "output_type": "stream",
     "text": [
      "-------------------  data info  -----------------\n",
      "dru_size: 64\n",
      "dru_fea_size: 945\n",
      "dis_size: 1036\n",
      "dis_fea_size: 322\n",
      "tar_size: 103\n",
      "tar_fea_size: 1437\n",
      "threshold: 0.79\n",
      "mask=4  reset dru_dis_A as zero, valid sum(dru_dis_A)=0\n"
     ]
    },
    {
     "name": "stderr",
     "output_type": "stream",
     "text": [
      "\n",
      " 32%|███▏      | 172/530 [01:42<04:09,  1.44it/s]\u001b[A"
     ]
    },
    {
     "name": "stdout",
     "output_type": "stream",
     "text": [
      "-------------------  data info  -----------------\n",
      "dru_size: 64\n",
      "dru_fea_size: 945\n",
      "dis_size: 1036\n",
      "dis_fea_size: 322\n",
      "tar_size: 103\n",
      "tar_fea_size: 1437\n",
      "threshold: 0.79\n",
      "mask=4  reset dru_dis_A as zero, valid sum(dru_dis_A)=0\n"
     ]
    },
    {
     "name": "stderr",
     "output_type": "stream",
     "text": [
      "\n",
      " 33%|███▎      | 173/530 [01:43<04:05,  1.46it/s]\u001b[A"
     ]
    },
    {
     "name": "stdout",
     "output_type": "stream",
     "text": [
      "-------------------  data info  -----------------\n",
      "dru_size: 64\n",
      "dru_fea_size: 945\n",
      "dis_size: 1036\n",
      "dis_fea_size: 322\n",
      "tar_size: 103\n",
      "tar_fea_size: 1437\n",
      "threshold: 0.79\n",
      "mask=4  reset dru_dis_A as zero, valid sum(dru_dis_A)=0\n"
     ]
    },
    {
     "name": "stderr",
     "output_type": "stream",
     "text": [
      "\n",
      " 33%|███▎      | 174/530 [01:44<04:02,  1.47it/s]\u001b[A"
     ]
    },
    {
     "name": "stdout",
     "output_type": "stream",
     "text": [
      "-------------------  data info  -----------------\n",
      "dru_size: 64\n",
      "dru_fea_size: 945\n",
      "dis_size: 1036\n",
      "dis_fea_size: 322\n",
      "tar_size: 103\n",
      "tar_fea_size: 1437\n",
      "threshold: 0.79\n",
      "mask=4  reset dru_dis_A as zero, valid sum(dru_dis_A)=0\n"
     ]
    },
    {
     "name": "stderr",
     "output_type": "stream",
     "text": [
      "\n",
      " 33%|███▎      | 175/530 [01:44<04:00,  1.48it/s]\u001b[A"
     ]
    },
    {
     "name": "stdout",
     "output_type": "stream",
     "text": [
      "-------------------  data info  -----------------\n",
      "dru_size: 64\n",
      "dru_fea_size: 945\n",
      "dis_size: 1036\n",
      "dis_fea_size: 322\n",
      "tar_size: 103\n",
      "tar_fea_size: 1437\n",
      "threshold: 0.79\n",
      "mask=4  reset dru_dis_A as zero, valid sum(dru_dis_A)=0\n"
     ]
    },
    {
     "name": "stderr",
     "output_type": "stream",
     "text": [
      "\n",
      " 33%|███▎      | 176/530 [01:45<03:59,  1.48it/s]\u001b[A"
     ]
    },
    {
     "name": "stdout",
     "output_type": "stream",
     "text": [
      "-------------------  data info  -----------------\n",
      "dru_size: 64\n",
      "dru_fea_size: 945\n",
      "dis_size: 1036\n",
      "dis_fea_size: 322\n",
      "tar_size: 103\n",
      "tar_fea_size: 1437\n",
      "threshold: 0.79\n",
      "mask=4  reset dru_dis_A as zero, valid sum(dru_dis_A)=0\n"
     ]
    },
    {
     "name": "stderr",
     "output_type": "stream",
     "text": [
      "\n",
      " 33%|███▎      | 177/530 [01:46<03:58,  1.48it/s]\u001b[A"
     ]
    },
    {
     "name": "stdout",
     "output_type": "stream",
     "text": [
      "-------------------  data info  -----------------\n",
      "dru_size: 64\n",
      "dru_fea_size: 945\n",
      "dis_size: 1036\n",
      "dis_fea_size: 322\n",
      "tar_size: 103\n",
      "tar_fea_size: 1437\n",
      "threshold: 0.79\n",
      "mask=4  reset dru_dis_A as zero, valid sum(dru_dis_A)=0\n"
     ]
    },
    {
     "name": "stderr",
     "output_type": "stream",
     "text": [
      "\n",
      " 34%|███▎      | 178/530 [01:46<04:02,  1.45it/s]\u001b[A"
     ]
    },
    {
     "name": "stdout",
     "output_type": "stream",
     "text": [
      "-------------------  data info  -----------------\n",
      "dru_size: 64\n",
      "dru_fea_size: 945\n",
      "dis_size: 1036\n",
      "dis_fea_size: 322\n",
      "tar_size: 103\n",
      "tar_fea_size: 1437\n",
      "threshold: 0.79\n",
      "mask=4  reset dru_dis_A as zero, valid sum(dru_dis_A)=0\n"
     ]
    },
    {
     "name": "stderr",
     "output_type": "stream",
     "text": [
      "\n",
      " 34%|███▍      | 179/530 [01:47<04:00,  1.46it/s]\u001b[A"
     ]
    },
    {
     "name": "stdout",
     "output_type": "stream",
     "text": [
      "-------------------  data info  -----------------\n",
      "dru_size: 64\n",
      "dru_fea_size: 945\n",
      "dis_size: 1036\n",
      "dis_fea_size: 322\n",
      "tar_size: 103\n",
      "tar_fea_size: 1437\n",
      "threshold: 0.79\n",
      "mask=4  reset dru_dis_A as zero, valid sum(dru_dis_A)=0\n"
     ]
    },
    {
     "name": "stderr",
     "output_type": "stream",
     "text": [
      "\n",
      " 34%|███▍      | 180/530 [01:48<04:03,  1.44it/s]\u001b[A"
     ]
    },
    {
     "name": "stdout",
     "output_type": "stream",
     "text": [
      "-------------------  data info  -----------------\n",
      "dru_size: 64\n",
      "dru_fea_size: 945\n",
      "dis_size: 1036\n",
      "dis_fea_size: 322\n",
      "tar_size: 103\n",
      "tar_fea_size: 1437\n",
      "threshold: 0.79\n",
      "mask=4  reset dru_dis_A as zero, valid sum(dru_dis_A)=0\n"
     ]
    },
    {
     "name": "stderr",
     "output_type": "stream",
     "text": [
      "\n",
      " 34%|███▍      | 181/530 [01:48<04:00,  1.45it/s]\u001b[A"
     ]
    },
    {
     "name": "stdout",
     "output_type": "stream",
     "text": [
      "-------------------  data info  -----------------\n",
      "dru_size: 64\n",
      "dru_fea_size: 945\n",
      "dis_size: 1036\n",
      "dis_fea_size: 322\n",
      "tar_size: 103\n",
      "tar_fea_size: 1437\n",
      "threshold: 0.79\n",
      "mask=4  reset dru_dis_A as zero, valid sum(dru_dis_A)=0\n"
     ]
    },
    {
     "name": "stderr",
     "output_type": "stream",
     "text": [
      "\n",
      " 34%|███▍      | 182/530 [01:49<03:54,  1.48it/s]\u001b[A"
     ]
    },
    {
     "name": "stdout",
     "output_type": "stream",
     "text": [
      "-------------------  data info  -----------------\n",
      "dru_size: 64\n",
      "dru_fea_size: 945\n",
      "dis_size: 1036\n",
      "dis_fea_size: 322\n",
      "tar_size: 103\n",
      "tar_fea_size: 1437\n",
      "threshold: 0.79\n",
      "mask=4  reset dru_dis_A as zero, valid sum(dru_dis_A)=0\n"
     ]
    },
    {
     "name": "stderr",
     "output_type": "stream",
     "text": [
      "\n",
      " 35%|███▍      | 183/530 [01:50<03:51,  1.50it/s]\u001b[A"
     ]
    },
    {
     "name": "stdout",
     "output_type": "stream",
     "text": [
      "-------------------  data info  -----------------\n",
      "dru_size: 64\n",
      "dru_fea_size: 945\n",
      "dis_size: 1036\n",
      "dis_fea_size: 322\n",
      "tar_size: 103\n",
      "tar_fea_size: 1437\n",
      "threshold: 0.79\n",
      "mask=4  reset dru_dis_A as zero, valid sum(dru_dis_A)=0\n"
     ]
    },
    {
     "name": "stderr",
     "output_type": "stream",
     "text": [
      "\n",
      " 35%|███▍      | 184/530 [01:50<03:50,  1.50it/s]\u001b[A"
     ]
    },
    {
     "name": "stdout",
     "output_type": "stream",
     "text": [
      "-------------------  data info  -----------------\n",
      "dru_size: 64\n",
      "dru_fea_size: 945\n",
      "dis_size: 1036\n",
      "dis_fea_size: 322\n",
      "tar_size: 103\n",
      "tar_fea_size: 1437\n",
      "threshold: 0.79\n",
      "mask=4  reset dru_dis_A as zero, valid sum(dru_dis_A)=0\n"
     ]
    },
    {
     "name": "stderr",
     "output_type": "stream",
     "text": [
      "\n",
      " 35%|███▍      | 185/530 [01:51<03:47,  1.52it/s]\u001b[A"
     ]
    },
    {
     "name": "stdout",
     "output_type": "stream",
     "text": [
      "-------------------  data info  -----------------\n",
      "dru_size: 64\n",
      "dru_fea_size: 945\n",
      "dis_size: 1036\n",
      "dis_fea_size: 322\n",
      "tar_size: 103\n",
      "tar_fea_size: 1437\n",
      "threshold: 0.79\n",
      "mask=4  reset dru_dis_A as zero, valid sum(dru_dis_A)=0\n"
     ]
    },
    {
     "name": "stderr",
     "output_type": "stream",
     "text": [
      "\n",
      " 35%|███▌      | 186/530 [01:52<03:45,  1.53it/s]\u001b[A"
     ]
    },
    {
     "name": "stdout",
     "output_type": "stream",
     "text": [
      "-------------------  data info  -----------------\n",
      "dru_size: 64\n",
      "dru_fea_size: 945\n",
      "dis_size: 1036\n",
      "dis_fea_size: 322\n",
      "tar_size: 103\n",
      "tar_fea_size: 1437\n",
      "threshold: 0.79\n",
      "mask=4  reset dru_dis_A as zero, valid sum(dru_dis_A)=0\n"
     ]
    },
    {
     "name": "stderr",
     "output_type": "stream",
     "text": [
      "\n",
      " 35%|███▌      | 187/530 [01:52<03:45,  1.52it/s]\u001b[A"
     ]
    },
    {
     "name": "stdout",
     "output_type": "stream",
     "text": [
      "-------------------  data info  -----------------\n",
      "dru_size: 64\n",
      "dru_fea_size: 945\n",
      "dis_size: 1036\n",
      "dis_fea_size: 322\n",
      "tar_size: 103\n",
      "tar_fea_size: 1437\n",
      "threshold: 0.79\n",
      "mask=4  reset dru_dis_A as zero, valid sum(dru_dis_A)=0\n"
     ]
    },
    {
     "name": "stderr",
     "output_type": "stream",
     "text": [
      "\n",
      " 35%|███▌      | 188/530 [01:53<03:51,  1.47it/s]\u001b[A"
     ]
    },
    {
     "name": "stdout",
     "output_type": "stream",
     "text": [
      "-------------------  data info  -----------------\n",
      "dru_size: 64\n",
      "dru_fea_size: 945\n",
      "dis_size: 1036\n",
      "dis_fea_size: 322\n",
      "tar_size: 103\n",
      "tar_fea_size: 1437\n",
      "threshold: 0.79\n",
      "mask=4  reset dru_dis_A as zero, valid sum(dru_dis_A)=0\n"
     ]
    },
    {
     "name": "stderr",
     "output_type": "stream",
     "text": [
      "\n",
      " 36%|███▌      | 189/530 [01:54<03:48,  1.49it/s]\u001b[A"
     ]
    },
    {
     "name": "stdout",
     "output_type": "stream",
     "text": [
      "-------------------  data info  -----------------\n",
      "dru_size: 64\n",
      "dru_fea_size: 945\n",
      "dis_size: 1036\n",
      "dis_fea_size: 322\n",
      "tar_size: 103\n",
      "tar_fea_size: 1437\n",
      "threshold: 0.79\n",
      "mask=4  reset dru_dis_A as zero, valid sum(dru_dis_A)=0\n"
     ]
    },
    {
     "name": "stderr",
     "output_type": "stream",
     "text": [
      "\n",
      " 36%|███▌      | 190/530 [01:54<03:46,  1.50it/s]\u001b[A"
     ]
    },
    {
     "name": "stdout",
     "output_type": "stream",
     "text": [
      "-------------------  data info  -----------------\n",
      "dru_size: 64\n",
      "dru_fea_size: 945\n",
      "dis_size: 1036\n",
      "dis_fea_size: 322\n",
      "tar_size: 103\n",
      "tar_fea_size: 1437\n",
      "threshold: 0.79\n",
      "mask=4  reset dru_dis_A as zero, valid sum(dru_dis_A)=0\n"
     ]
    },
    {
     "name": "stderr",
     "output_type": "stream",
     "text": [
      "\n",
      " 36%|███▌      | 191/530 [01:55<03:50,  1.47it/s]\u001b[A"
     ]
    },
    {
     "name": "stdout",
     "output_type": "stream",
     "text": [
      "-------------------  data info  -----------------\n",
      "dru_size: 64\n",
      "dru_fea_size: 945\n",
      "dis_size: 1036\n",
      "dis_fea_size: 322\n",
      "tar_size: 103\n",
      "tar_fea_size: 1437\n",
      "threshold: 0.79\n",
      "mask=4  reset dru_dis_A as zero, valid sum(dru_dis_A)=0\n"
     ]
    },
    {
     "name": "stderr",
     "output_type": "stream",
     "text": [
      "\n",
      " 36%|███▌      | 192/530 [01:56<03:45,  1.50it/s]\u001b[A"
     ]
    },
    {
     "name": "stdout",
     "output_type": "stream",
     "text": [
      "-------------------  data info  -----------------\n",
      "dru_size: 64\n",
      "dru_fea_size: 945\n",
      "dis_size: 1036\n",
      "dis_fea_size: 322\n",
      "tar_size: 103\n",
      "tar_fea_size: 1437\n",
      "threshold: 0.79\n",
      "mask=4  reset dru_dis_A as zero, valid sum(dru_dis_A)=0\n"
     ]
    },
    {
     "name": "stderr",
     "output_type": "stream",
     "text": [
      "\n",
      " 36%|███▋      | 193/530 [01:56<03:43,  1.51it/s]\u001b[A"
     ]
    },
    {
     "name": "stdout",
     "output_type": "stream",
     "text": [
      "-------------------  data info  -----------------\n",
      "dru_size: 64\n",
      "dru_fea_size: 945\n",
      "dis_size: 1036\n",
      "dis_fea_size: 322\n",
      "tar_size: 103\n",
      "tar_fea_size: 1437\n",
      "threshold: 0.79\n",
      "mask=4  reset dru_dis_A as zero, valid sum(dru_dis_A)=0\n"
     ]
    },
    {
     "name": "stderr",
     "output_type": "stream",
     "text": [
      "\n",
      " 37%|███▋      | 194/530 [01:57<03:45,  1.49it/s]\u001b[A"
     ]
    },
    {
     "name": "stdout",
     "output_type": "stream",
     "text": [
      "-------------------  data info  -----------------\n",
      "dru_size: 64\n",
      "dru_fea_size: 945\n",
      "dis_size: 1036\n",
      "dis_fea_size: 322\n",
      "tar_size: 103\n",
      "tar_fea_size: 1437\n",
      "threshold: 0.79\n",
      "mask=4  reset dru_dis_A as zero, valid sum(dru_dis_A)=0\n"
     ]
    },
    {
     "name": "stderr",
     "output_type": "stream",
     "text": [
      "\n",
      " 37%|███▋      | 195/530 [01:58<03:42,  1.50it/s]\u001b[A"
     ]
    },
    {
     "name": "stdout",
     "output_type": "stream",
     "text": [
      "-------------------  data info  -----------------\n",
      "dru_size: 64\n",
      "dru_fea_size: 945\n",
      "dis_size: 1036\n",
      "dis_fea_size: 322\n",
      "tar_size: 103\n",
      "tar_fea_size: 1437\n",
      "threshold: 0.79\n",
      "mask=4  reset dru_dis_A as zero, valid sum(dru_dis_A)=0\n"
     ]
    },
    {
     "name": "stderr",
     "output_type": "stream",
     "text": [
      "\n",
      " 37%|███▋      | 196/530 [01:58<03:44,  1.49it/s]\u001b[A"
     ]
    },
    {
     "name": "stdout",
     "output_type": "stream",
     "text": [
      "-------------------  data info  -----------------\n",
      "dru_size: 64\n",
      "dru_fea_size: 945\n",
      "dis_size: 1036\n",
      "dis_fea_size: 322\n",
      "tar_size: 103\n",
      "tar_fea_size: 1437\n",
      "threshold: 0.79\n",
      "mask=4  reset dru_dis_A as zero, valid sum(dru_dis_A)=0\n"
     ]
    },
    {
     "name": "stderr",
     "output_type": "stream",
     "text": [
      "\n",
      " 37%|███▋      | 197/530 [01:59<03:41,  1.50it/s]\u001b[A"
     ]
    },
    {
     "name": "stdout",
     "output_type": "stream",
     "text": [
      "-------------------  data info  -----------------\n",
      "dru_size: 64\n",
      "dru_fea_size: 945\n",
      "dis_size: 1036\n",
      "dis_fea_size: 322\n",
      "tar_size: 103\n",
      "tar_fea_size: 1437\n",
      "threshold: 0.79\n",
      "mask=4  reset dru_dis_A as zero, valid sum(dru_dis_A)=0\n"
     ]
    },
    {
     "name": "stderr",
     "output_type": "stream",
     "text": [
      "\n",
      " 37%|███▋      | 198/530 [02:00<03:42,  1.49it/s]\u001b[A"
     ]
    },
    {
     "name": "stdout",
     "output_type": "stream",
     "text": [
      "-------------------  data info  -----------------\n",
      "dru_size: 64\n",
      "dru_fea_size: 945\n",
      "dis_size: 1036\n",
      "dis_fea_size: 322\n",
      "tar_size: 103\n",
      "tar_fea_size: 1437\n",
      "threshold: 0.79\n",
      "mask=4  reset dru_dis_A as zero, valid sum(dru_dis_A)=0\n"
     ]
    },
    {
     "name": "stderr",
     "output_type": "stream",
     "text": [
      "\n",
      " 38%|███▊      | 199/530 [02:00<03:40,  1.50it/s]\u001b[A"
     ]
    },
    {
     "name": "stdout",
     "output_type": "stream",
     "text": [
      "-------------------  data info  -----------------\n",
      "dru_size: 64\n",
      "dru_fea_size: 945\n",
      "dis_size: 1036\n",
      "dis_fea_size: 322\n",
      "tar_size: 103\n",
      "tar_fea_size: 1437\n",
      "threshold: 0.79\n",
      "mask=4  reset dru_dis_A as zero, valid sum(dru_dis_A)=0\n"
     ]
    },
    {
     "name": "stderr",
     "output_type": "stream",
     "text": [
      "\n",
      " 38%|███▊      | 200/530 [02:01<03:39,  1.50it/s]\u001b[A"
     ]
    },
    {
     "name": "stdout",
     "output_type": "stream",
     "text": [
      "-------------------  data info  -----------------\n",
      "dru_size: 64\n",
      "dru_fea_size: 945\n",
      "dis_size: 1036\n",
      "dis_fea_size: 322\n",
      "tar_size: 103\n",
      "tar_fea_size: 1437\n",
      "threshold: 0.79\n",
      "mask=4  reset dru_dis_A as zero, valid sum(dru_dis_A)=0\n"
     ]
    },
    {
     "name": "stderr",
     "output_type": "stream",
     "text": [
      "\n",
      " 38%|███▊      | 201/530 [02:02<03:40,  1.49it/s]\u001b[A"
     ]
    },
    {
     "name": "stdout",
     "output_type": "stream",
     "text": [
      "-------------------  data info  -----------------\n",
      "dru_size: 64\n",
      "dru_fea_size: 945\n",
      "dis_size: 1036\n",
      "dis_fea_size: 322\n",
      "tar_size: 103\n",
      "tar_fea_size: 1437\n",
      "threshold: 0.79\n",
      "mask=4  reset dru_dis_A as zero, valid sum(dru_dis_A)=0\n"
     ]
    },
    {
     "name": "stderr",
     "output_type": "stream",
     "text": [
      "\n",
      " 38%|███▊      | 202/530 [02:02<03:40,  1.49it/s]\u001b[A"
     ]
    },
    {
     "name": "stdout",
     "output_type": "stream",
     "text": [
      "-------------------  data info  -----------------\n",
      "dru_size: 64\n",
      "dru_fea_size: 945\n",
      "dis_size: 1036\n",
      "dis_fea_size: 322\n",
      "tar_size: 103\n",
      "tar_fea_size: 1437\n",
      "threshold: 0.79\n",
      "mask=4  reset dru_dis_A as zero, valid sum(dru_dis_A)=0\n"
     ]
    },
    {
     "name": "stderr",
     "output_type": "stream",
     "text": [
      "\n",
      " 38%|███▊      | 203/530 [02:03<03:37,  1.51it/s]\u001b[A"
     ]
    },
    {
     "name": "stdout",
     "output_type": "stream",
     "text": [
      "-------------------  data info  -----------------\n",
      "dru_size: 64\n",
      "dru_fea_size: 945\n",
      "dis_size: 1036\n",
      "dis_fea_size: 322\n",
      "tar_size: 103\n",
      "tar_fea_size: 1437\n",
      "threshold: 0.79\n",
      "mask=4  reset dru_dis_A as zero, valid sum(dru_dis_A)=0\n"
     ]
    },
    {
     "name": "stderr",
     "output_type": "stream",
     "text": [
      "\n",
      " 38%|███▊      | 204/530 [02:04<03:35,  1.51it/s]\u001b[A"
     ]
    },
    {
     "name": "stdout",
     "output_type": "stream",
     "text": [
      "-------------------  data info  -----------------\n",
      "dru_size: 64\n",
      "dru_fea_size: 945\n",
      "dis_size: 1036\n",
      "dis_fea_size: 322\n",
      "tar_size: 103\n",
      "tar_fea_size: 1437\n",
      "threshold: 0.79\n",
      "mask=4  reset dru_dis_A as zero, valid sum(dru_dis_A)=0\n"
     ]
    },
    {
     "name": "stderr",
     "output_type": "stream",
     "text": [
      "\n",
      " 39%|███▊      | 205/530 [02:04<03:33,  1.53it/s]\u001b[A"
     ]
    },
    {
     "name": "stdout",
     "output_type": "stream",
     "text": [
      "-------------------  data info  -----------------\n",
      "dru_size: 64\n",
      "dru_fea_size: 945\n",
      "dis_size: 1036\n",
      "dis_fea_size: 322\n",
      "tar_size: 103\n",
      "tar_fea_size: 1437\n",
      "threshold: 0.79\n",
      "mask=4  reset dru_dis_A as zero, valid sum(dru_dis_A)=0\n"
     ]
    },
    {
     "name": "stderr",
     "output_type": "stream",
     "text": [
      "\n",
      " 39%|███▉      | 206/530 [02:05<03:31,  1.53it/s]\u001b[A"
     ]
    },
    {
     "name": "stdout",
     "output_type": "stream",
     "text": [
      "-------------------  data info  -----------------\n",
      "dru_size: 64\n",
      "dru_fea_size: 945\n",
      "dis_size: 1036\n",
      "dis_fea_size: 322\n",
      "tar_size: 103\n",
      "tar_fea_size: 1437\n",
      "threshold: 0.79\n",
      "mask=4  reset dru_dis_A as zero, valid sum(dru_dis_A)=0\n"
     ]
    },
    {
     "name": "stderr",
     "output_type": "stream",
     "text": [
      "\n",
      " 39%|███▉      | 207/530 [02:06<03:28,  1.55it/s]\u001b[A"
     ]
    },
    {
     "name": "stdout",
     "output_type": "stream",
     "text": [
      "-------------------  data info  -----------------\n",
      "dru_size: 64\n",
      "dru_fea_size: 945\n",
      "dis_size: 1036\n",
      "dis_fea_size: 322\n",
      "tar_size: 103\n",
      "tar_fea_size: 1437\n",
      "threshold: 0.79\n",
      "mask=4  reset dru_dis_A as zero, valid sum(dru_dis_A)=0\n"
     ]
    },
    {
     "name": "stderr",
     "output_type": "stream",
     "text": [
      "\n",
      " 39%|███▉      | 208/530 [02:06<03:30,  1.53it/s]\u001b[A"
     ]
    },
    {
     "name": "stdout",
     "output_type": "stream",
     "text": [
      "-------------------  data info  -----------------\n",
      "dru_size: 64\n",
      "dru_fea_size: 945\n",
      "dis_size: 1036\n",
      "dis_fea_size: 322\n",
      "tar_size: 103\n",
      "tar_fea_size: 1437\n",
      "threshold: 0.79\n",
      "mask=4  reset dru_dis_A as zero, valid sum(dru_dis_A)=0\n"
     ]
    },
    {
     "name": "stderr",
     "output_type": "stream",
     "text": [
      "\n",
      " 39%|███▉      | 209/530 [02:07<03:29,  1.53it/s]\u001b[A"
     ]
    },
    {
     "name": "stdout",
     "output_type": "stream",
     "text": [
      "-------------------  data info  -----------------\n",
      "dru_size: 64\n",
      "dru_fea_size: 945\n",
      "dis_size: 1036\n",
      "dis_fea_size: 322\n",
      "tar_size: 103\n",
      "tar_fea_size: 1437\n",
      "threshold: 0.79\n",
      "mask=4  reset dru_dis_A as zero, valid sum(dru_dis_A)=0\n"
     ]
    },
    {
     "name": "stderr",
     "output_type": "stream",
     "text": [
      "\n",
      " 40%|███▉      | 210/530 [02:08<03:31,  1.51it/s]\u001b[A"
     ]
    },
    {
     "name": "stdout",
     "output_type": "stream",
     "text": [
      "-------------------  data info  -----------------\n",
      "dru_size: 64\n",
      "dru_fea_size: 945\n",
      "dis_size: 1036\n",
      "dis_fea_size: 322\n",
      "tar_size: 103\n",
      "tar_fea_size: 1437\n",
      "threshold: 0.79\n",
      "mask=4  reset dru_dis_A as zero, valid sum(dru_dis_A)=0\n"
     ]
    },
    {
     "name": "stderr",
     "output_type": "stream",
     "text": [
      "\n",
      " 40%|███▉      | 211/530 [02:08<03:32,  1.50it/s]\u001b[A"
     ]
    },
    {
     "name": "stdout",
     "output_type": "stream",
     "text": [
      "-------------------  data info  -----------------\n",
      "dru_size: 64\n",
      "dru_fea_size: 945\n",
      "dis_size: 1036\n",
      "dis_fea_size: 322\n",
      "tar_size: 103\n",
      "tar_fea_size: 1437\n",
      "threshold: 0.79\n",
      "mask=4  reset dru_dis_A as zero, valid sum(dru_dis_A)=0\n"
     ]
    },
    {
     "name": "stderr",
     "output_type": "stream",
     "text": [
      "\n",
      " 40%|████      | 212/530 [02:09<03:30,  1.51it/s]\u001b[A"
     ]
    },
    {
     "name": "stdout",
     "output_type": "stream",
     "text": [
      "-------------------  data info  -----------------\n",
      "dru_size: 64\n",
      "dru_fea_size: 945\n",
      "dis_size: 1036\n",
      "dis_fea_size: 322\n",
      "tar_size: 103\n",
      "tar_fea_size: 1437\n",
      "threshold: 0.79\n",
      "mask=4  reset dru_dis_A as zero, valid sum(dru_dis_A)=0\n"
     ]
    },
    {
     "name": "stderr",
     "output_type": "stream",
     "text": [
      "\n",
      " 40%|████      | 213/530 [02:10<03:35,  1.47it/s]\u001b[A"
     ]
    },
    {
     "name": "stdout",
     "output_type": "stream",
     "text": [
      "-------------------  data info  -----------------\n",
      "dru_size: 64\n",
      "dru_fea_size: 945\n",
      "dis_size: 1036\n",
      "dis_fea_size: 322\n",
      "tar_size: 103\n",
      "tar_fea_size: 1437\n",
      "threshold: 0.79\n",
      "mask=4  reset dru_dis_A as zero, valid sum(dru_dis_A)=0\n"
     ]
    },
    {
     "name": "stderr",
     "output_type": "stream",
     "text": [
      "\n",
      " 40%|████      | 214/530 [02:10<03:31,  1.49it/s]\u001b[A"
     ]
    },
    {
     "name": "stdout",
     "output_type": "stream",
     "text": [
      "-------------------  data info  -----------------\n",
      "dru_size: 64\n",
      "dru_fea_size: 945\n",
      "dis_size: 1036\n",
      "dis_fea_size: 322\n",
      "tar_size: 103\n",
      "tar_fea_size: 1437\n",
      "threshold: 0.79\n",
      "mask=4  reset dru_dis_A as zero, valid sum(dru_dis_A)=0\n"
     ]
    },
    {
     "name": "stderr",
     "output_type": "stream",
     "text": [
      "\n",
      " 41%|████      | 215/530 [02:11<03:29,  1.51it/s]\u001b[A"
     ]
    },
    {
     "name": "stdout",
     "output_type": "stream",
     "text": [
      "-------------------  data info  -----------------\n",
      "dru_size: 64\n",
      "dru_fea_size: 945\n",
      "dis_size: 1036\n",
      "dis_fea_size: 322\n",
      "tar_size: 103\n",
      "tar_fea_size: 1437\n",
      "threshold: 0.79\n",
      "mask=4  reset dru_dis_A as zero, valid sum(dru_dis_A)=0\n"
     ]
    },
    {
     "name": "stderr",
     "output_type": "stream",
     "text": [
      "\n",
      " 41%|████      | 216/530 [02:12<03:30,  1.49it/s]\u001b[A"
     ]
    },
    {
     "name": "stdout",
     "output_type": "stream",
     "text": [
      "-------------------  data info  -----------------\n",
      "dru_size: 64\n",
      "dru_fea_size: 945\n",
      "dis_size: 1036\n",
      "dis_fea_size: 322\n",
      "tar_size: 103\n",
      "tar_fea_size: 1437\n",
      "threshold: 0.79\n",
      "mask=4  reset dru_dis_A as zero, valid sum(dru_dis_A)=0\n"
     ]
    },
    {
     "name": "stderr",
     "output_type": "stream",
     "text": [
      "\n",
      " 41%|████      | 217/530 [02:12<03:30,  1.48it/s]\u001b[A"
     ]
    },
    {
     "name": "stdout",
     "output_type": "stream",
     "text": [
      "-------------------  data info  -----------------\n",
      "dru_size: 64\n",
      "dru_fea_size: 945\n",
      "dis_size: 1036\n",
      "dis_fea_size: 322\n",
      "tar_size: 103\n",
      "tar_fea_size: 1437\n",
      "threshold: 0.79\n",
      "mask=4  reset dru_dis_A as zero, valid sum(dru_dis_A)=0\n"
     ]
    },
    {
     "name": "stderr",
     "output_type": "stream",
     "text": [
      "\n",
      " 41%|████      | 218/530 [02:13<03:28,  1.49it/s]\u001b[A"
     ]
    },
    {
     "name": "stdout",
     "output_type": "stream",
     "text": [
      "-------------------  data info  -----------------\n",
      "dru_size: 64\n",
      "dru_fea_size: 945\n",
      "dis_size: 1036\n",
      "dis_fea_size: 322\n",
      "tar_size: 103\n",
      "tar_fea_size: 1437\n",
      "threshold: 0.79\n",
      "mask=4  reset dru_dis_A as zero, valid sum(dru_dis_A)=0\n"
     ]
    },
    {
     "name": "stderr",
     "output_type": "stream",
     "text": [
      "\n",
      " 41%|████▏     | 219/530 [02:14<03:28,  1.49it/s]\u001b[A"
     ]
    },
    {
     "name": "stdout",
     "output_type": "stream",
     "text": [
      "-------------------  data info  -----------------\n",
      "dru_size: 64\n",
      "dru_fea_size: 945\n",
      "dis_size: 1036\n",
      "dis_fea_size: 322\n",
      "tar_size: 103\n",
      "tar_fea_size: 1437\n",
      "threshold: 0.79\n",
      "mask=4  reset dru_dis_A as zero, valid sum(dru_dis_A)=0\n"
     ]
    },
    {
     "name": "stderr",
     "output_type": "stream",
     "text": [
      "\n",
      " 42%|████▏     | 220/530 [02:14<03:27,  1.49it/s]\u001b[A"
     ]
    },
    {
     "name": "stdout",
     "output_type": "stream",
     "text": [
      "-------------------  data info  -----------------\n",
      "dru_size: 64\n",
      "dru_fea_size: 945\n",
      "dis_size: 1036\n",
      "dis_fea_size: 322\n",
      "tar_size: 103\n",
      "tar_fea_size: 1437\n",
      "threshold: 0.79\n",
      "mask=4  reset dru_dis_A as zero, valid sum(dru_dis_A)=0\n"
     ]
    },
    {
     "name": "stderr",
     "output_type": "stream",
     "text": [
      "\n",
      " 42%|████▏     | 221/530 [02:15<03:23,  1.52it/s]\u001b[A"
     ]
    },
    {
     "name": "stdout",
     "output_type": "stream",
     "text": [
      "-------------------  data info  -----------------\n",
      "dru_size: 64\n",
      "dru_fea_size: 945\n",
      "dis_size: 1036\n",
      "dis_fea_size: 322\n",
      "tar_size: 103\n",
      "tar_fea_size: 1437\n",
      "threshold: 0.79\n",
      "mask=4  reset dru_dis_A as zero, valid sum(dru_dis_A)=0\n"
     ]
    },
    {
     "name": "stderr",
     "output_type": "stream",
     "text": [
      "\n",
      " 42%|████▏     | 222/530 [02:16<03:23,  1.51it/s]\u001b[A"
     ]
    },
    {
     "name": "stdout",
     "output_type": "stream",
     "text": [
      "-------------------  data info  -----------------\n",
      "dru_size: 64\n",
      "dru_fea_size: 945\n",
      "dis_size: 1036\n",
      "dis_fea_size: 322\n",
      "tar_size: 103\n",
      "tar_fea_size: 1437\n",
      "threshold: 0.79\n",
      "mask=4  reset dru_dis_A as zero, valid sum(dru_dis_A)=0\n"
     ]
    },
    {
     "name": "stderr",
     "output_type": "stream",
     "text": [
      "\n",
      " 42%|████▏     | 223/530 [02:16<03:26,  1.49it/s]\u001b[A"
     ]
    },
    {
     "name": "stdout",
     "output_type": "stream",
     "text": [
      "-------------------  data info  -----------------\n",
      "dru_size: 64\n",
      "dru_fea_size: 945\n",
      "dis_size: 1036\n",
      "dis_fea_size: 322\n",
      "tar_size: 103\n",
      "tar_fea_size: 1437\n",
      "threshold: 0.79\n",
      "mask=4  reset dru_dis_A as zero, valid sum(dru_dis_A)=0\n"
     ]
    },
    {
     "name": "stderr",
     "output_type": "stream",
     "text": [
      "\n",
      " 42%|████▏     | 224/530 [02:17<03:28,  1.47it/s]\u001b[A"
     ]
    },
    {
     "name": "stdout",
     "output_type": "stream",
     "text": [
      "-------------------  data info  -----------------\n",
      "dru_size: 64\n",
      "dru_fea_size: 945\n",
      "dis_size: 1036\n",
      "dis_fea_size: 322\n",
      "tar_size: 103\n",
      "tar_fea_size: 1437\n",
      "threshold: 0.79\n",
      "mask=4  reset dru_dis_A as zero, valid sum(dru_dis_A)=0\n"
     ]
    },
    {
     "name": "stderr",
     "output_type": "stream",
     "text": [
      "\n",
      " 42%|████▏     | 225/530 [02:18<03:26,  1.48it/s]\u001b[A"
     ]
    },
    {
     "name": "stdout",
     "output_type": "stream",
     "text": [
      "-------------------  data info  -----------------\n",
      "dru_size: 64\n",
      "dru_fea_size: 945\n",
      "dis_size: 1036\n",
      "dis_fea_size: 322\n",
      "tar_size: 103\n",
      "tar_fea_size: 1437\n",
      "threshold: 0.79\n",
      "mask=4  reset dru_dis_A as zero, valid sum(dru_dis_A)=0\n"
     ]
    },
    {
     "name": "stderr",
     "output_type": "stream",
     "text": [
      "\n",
      " 43%|████▎     | 226/530 [02:18<03:26,  1.47it/s]\u001b[A"
     ]
    },
    {
     "name": "stdout",
     "output_type": "stream",
     "text": [
      "-------------------  data info  -----------------\n",
      "dru_size: 64\n",
      "dru_fea_size: 945\n",
      "dis_size: 1036\n",
      "dis_fea_size: 322\n",
      "tar_size: 103\n",
      "tar_fea_size: 1437\n",
      "threshold: 0.79\n",
      "mask=4  reset dru_dis_A as zero, valid sum(dru_dis_A)=0\n"
     ]
    },
    {
     "name": "stderr",
     "output_type": "stream",
     "text": [
      "\n",
      " 43%|████▎     | 227/530 [02:19<03:23,  1.49it/s]\u001b[A"
     ]
    },
    {
     "name": "stdout",
     "output_type": "stream",
     "text": [
      "-------------------  data info  -----------------\n",
      "dru_size: 64\n",
      "dru_fea_size: 945\n",
      "dis_size: 1036\n",
      "dis_fea_size: 322\n",
      "tar_size: 103\n",
      "tar_fea_size: 1437\n",
      "threshold: 0.79\n",
      "mask=4  reset dru_dis_A as zero, valid sum(dru_dis_A)=0\n"
     ]
    },
    {
     "name": "stderr",
     "output_type": "stream",
     "text": [
      "\n",
      " 43%|████▎     | 228/530 [02:20<03:20,  1.51it/s]\u001b[A"
     ]
    },
    {
     "name": "stdout",
     "output_type": "stream",
     "text": [
      "-------------------  data info  -----------------\n",
      "dru_size: 64\n",
      "dru_fea_size: 945\n",
      "dis_size: 1036\n",
      "dis_fea_size: 322\n",
      "tar_size: 103\n",
      "tar_fea_size: 1437\n",
      "threshold: 0.79\n",
      "mask=4  reset dru_dis_A as zero, valid sum(dru_dis_A)=0\n"
     ]
    },
    {
     "name": "stderr",
     "output_type": "stream",
     "text": [
      "\n",
      " 43%|████▎     | 229/530 [02:20<03:19,  1.51it/s]\u001b[A"
     ]
    },
    {
     "name": "stdout",
     "output_type": "stream",
     "text": [
      "-------------------  data info  -----------------\n",
      "dru_size: 64\n",
      "dru_fea_size: 945\n",
      "dis_size: 1036\n",
      "dis_fea_size: 322\n",
      "tar_size: 103\n",
      "tar_fea_size: 1437\n",
      "threshold: 0.79\n",
      "mask=4  reset dru_dis_A as zero, valid sum(dru_dis_A)=0\n"
     ]
    },
    {
     "name": "stderr",
     "output_type": "stream",
     "text": [
      "\n",
      " 43%|████▎     | 230/530 [02:21<03:23,  1.47it/s]\u001b[A"
     ]
    },
    {
     "name": "stdout",
     "output_type": "stream",
     "text": [
      "-------------------  data info  -----------------\n",
      "dru_size: 64\n",
      "dru_fea_size: 945\n",
      "dis_size: 1036\n",
      "dis_fea_size: 322\n",
      "tar_size: 103\n",
      "tar_fea_size: 1437\n",
      "threshold: 0.79\n",
      "mask=4  reset dru_dis_A as zero, valid sum(dru_dis_A)=0\n"
     ]
    },
    {
     "name": "stderr",
     "output_type": "stream",
     "text": [
      "\n",
      " 44%|████▎     | 231/530 [02:22<03:20,  1.49it/s]\u001b[A"
     ]
    },
    {
     "name": "stdout",
     "output_type": "stream",
     "text": [
      "-------------------  data info  -----------------\n",
      "dru_size: 64\n",
      "dru_fea_size: 945\n",
      "dis_size: 1036\n",
      "dis_fea_size: 322\n",
      "tar_size: 103\n",
      "tar_fea_size: 1437\n",
      "threshold: 0.79\n",
      "mask=4  reset dru_dis_A as zero, valid sum(dru_dis_A)=0\n"
     ]
    },
    {
     "name": "stderr",
     "output_type": "stream",
     "text": [
      "\n",
      " 44%|████▍     | 232/530 [02:22<03:20,  1.49it/s]\u001b[A"
     ]
    },
    {
     "name": "stdout",
     "output_type": "stream",
     "text": [
      "-------------------  data info  -----------------\n",
      "dru_size: 64\n",
      "dru_fea_size: 945\n",
      "dis_size: 1036\n",
      "dis_fea_size: 322\n",
      "tar_size: 103\n",
      "tar_fea_size: 1437\n",
      "threshold: 0.79\n",
      "mask=4  reset dru_dis_A as zero, valid sum(dru_dis_A)=0\n"
     ]
    },
    {
     "name": "stderr",
     "output_type": "stream",
     "text": [
      "\n",
      " 44%|████▍     | 233/530 [02:23<03:17,  1.51it/s]\u001b[A"
     ]
    },
    {
     "name": "stdout",
     "output_type": "stream",
     "text": [
      "-------------------  data info  -----------------\n",
      "dru_size: 64\n",
      "dru_fea_size: 945\n",
      "dis_size: 1036\n",
      "dis_fea_size: 322\n",
      "tar_size: 103\n",
      "tar_fea_size: 1437\n",
      "threshold: 0.79\n",
      "mask=4  reset dru_dis_A as zero, valid sum(dru_dis_A)=0\n"
     ]
    },
    {
     "name": "stderr",
     "output_type": "stream",
     "text": [
      "\n",
      " 44%|████▍     | 234/530 [02:24<03:14,  1.52it/s]\u001b[A"
     ]
    },
    {
     "name": "stdout",
     "output_type": "stream",
     "text": [
      "-------------------  data info  -----------------\n",
      "dru_size: 64\n",
      "dru_fea_size: 945\n",
      "dis_size: 1036\n",
      "dis_fea_size: 322\n",
      "tar_size: 103\n",
      "tar_fea_size: 1437\n",
      "threshold: 0.79\n",
      "mask=4  reset dru_dis_A as zero, valid sum(dru_dis_A)=0\n"
     ]
    },
    {
     "name": "stderr",
     "output_type": "stream",
     "text": [
      "\n",
      " 44%|████▍     | 235/530 [02:24<03:12,  1.53it/s]\u001b[A"
     ]
    },
    {
     "name": "stdout",
     "output_type": "stream",
     "text": [
      "-------------------  data info  -----------------\n",
      "dru_size: 64\n",
      "dru_fea_size: 945\n",
      "dis_size: 1036\n",
      "dis_fea_size: 322\n",
      "tar_size: 103\n",
      "tar_fea_size: 1437\n",
      "threshold: 0.79\n",
      "mask=4  reset dru_dis_A as zero, valid sum(dru_dis_A)=0\n"
     ]
    },
    {
     "name": "stderr",
     "output_type": "stream",
     "text": [
      "\n",
      " 45%|████▍     | 236/530 [02:25<03:12,  1.53it/s]\u001b[A"
     ]
    },
    {
     "name": "stdout",
     "output_type": "stream",
     "text": [
      "-------------------  data info  -----------------\n",
      "dru_size: 64\n",
      "dru_fea_size: 945\n",
      "dis_size: 1036\n",
      "dis_fea_size: 322\n",
      "tar_size: 103\n",
      "tar_fea_size: 1437\n",
      "threshold: 0.79\n",
      "mask=4  reset dru_dis_A as zero, valid sum(dru_dis_A)=0\n"
     ]
    },
    {
     "name": "stderr",
     "output_type": "stream",
     "text": [
      "\n",
      " 45%|████▍     | 237/530 [02:26<03:10,  1.54it/s]\u001b[A"
     ]
    },
    {
     "name": "stdout",
     "output_type": "stream",
     "text": [
      "-------------------  data info  -----------------\n",
      "dru_size: 64\n",
      "dru_fea_size: 945\n",
      "dis_size: 1036\n",
      "dis_fea_size: 322\n",
      "tar_size: 103\n",
      "tar_fea_size: 1437\n",
      "threshold: 0.79\n",
      "mask=4  reset dru_dis_A as zero, valid sum(dru_dis_A)=0\n"
     ]
    },
    {
     "name": "stderr",
     "output_type": "stream",
     "text": [
      "\n",
      " 45%|████▍     | 238/530 [02:26<03:09,  1.54it/s]\u001b[A"
     ]
    },
    {
     "name": "stdout",
     "output_type": "stream",
     "text": [
      "-------------------  data info  -----------------\n",
      "dru_size: 64\n",
      "dru_fea_size: 945\n",
      "dis_size: 1036\n",
      "dis_fea_size: 322\n",
      "tar_size: 103\n",
      "tar_fea_size: 1437\n",
      "threshold: 0.79\n",
      "mask=4  reset dru_dis_A as zero, valid sum(dru_dis_A)=0\n"
     ]
    },
    {
     "name": "stderr",
     "output_type": "stream",
     "text": [
      "\n",
      " 45%|████▌     | 239/530 [02:27<03:10,  1.53it/s]\u001b[A"
     ]
    },
    {
     "name": "stdout",
     "output_type": "stream",
     "text": [
      "-------------------  data info  -----------------\n",
      "dru_size: 64\n",
      "dru_fea_size: 945\n",
      "dis_size: 1036\n",
      "dis_fea_size: 322\n",
      "tar_size: 103\n",
      "tar_fea_size: 1437\n",
      "threshold: 0.79\n",
      "mask=4  reset dru_dis_A as zero, valid sum(dru_dis_A)=0\n"
     ]
    },
    {
     "name": "stderr",
     "output_type": "stream",
     "text": [
      "\n",
      " 45%|████▌     | 240/530 [02:28<03:09,  1.53it/s]\u001b[A"
     ]
    },
    {
     "name": "stdout",
     "output_type": "stream",
     "text": [
      "-------------------  data info  -----------------\n",
      "dru_size: 64\n",
      "dru_fea_size: 945\n",
      "dis_size: 1036\n",
      "dis_fea_size: 322\n",
      "tar_size: 103\n",
      "tar_fea_size: 1437\n",
      "threshold: 0.79\n",
      "mask=4  reset dru_dis_A as zero, valid sum(dru_dis_A)=0\n"
     ]
    },
    {
     "name": "stderr",
     "output_type": "stream",
     "text": [
      "\n",
      " 45%|████▌     | 241/530 [02:28<03:14,  1.48it/s]\u001b[A"
     ]
    },
    {
     "name": "stdout",
     "output_type": "stream",
     "text": [
      "-------------------  data info  -----------------\n",
      "dru_size: 64\n",
      "dru_fea_size: 945\n",
      "dis_size: 1036\n",
      "dis_fea_size: 322\n",
      "tar_size: 103\n",
      "tar_fea_size: 1437\n",
      "threshold: 0.79\n",
      "mask=4  reset dru_dis_A as zero, valid sum(dru_dis_A)=0\n"
     ]
    },
    {
     "name": "stderr",
     "output_type": "stream",
     "text": [
      "\n",
      " 46%|████▌     | 242/530 [02:29<03:12,  1.50it/s]\u001b[A"
     ]
    },
    {
     "name": "stdout",
     "output_type": "stream",
     "text": [
      "-------------------  data info  -----------------\n",
      "dru_size: 64\n",
      "dru_fea_size: 945\n",
      "dis_size: 1036\n",
      "dis_fea_size: 322\n",
      "tar_size: 103\n",
      "tar_fea_size: 1437\n",
      "threshold: 0.79\n",
      "mask=4  reset dru_dis_A as zero, valid sum(dru_dis_A)=0\n"
     ]
    },
    {
     "name": "stderr",
     "output_type": "stream",
     "text": [
      "\n",
      " 46%|████▌     | 243/530 [02:30<03:13,  1.49it/s]\u001b[A"
     ]
    },
    {
     "name": "stdout",
     "output_type": "stream",
     "text": [
      "-------------------  data info  -----------------\n",
      "dru_size: 64\n",
      "dru_fea_size: 945\n",
      "dis_size: 1036\n",
      "dis_fea_size: 322\n",
      "tar_size: 103\n",
      "tar_fea_size: 1437\n",
      "threshold: 0.79\n",
      "mask=4  reset dru_dis_A as zero, valid sum(dru_dis_A)=0\n"
     ]
    },
    {
     "name": "stderr",
     "output_type": "stream",
     "text": [
      "\n",
      " 46%|████▌     | 244/530 [02:30<03:12,  1.49it/s]\u001b[A"
     ]
    },
    {
     "name": "stdout",
     "output_type": "stream",
     "text": [
      "-------------------  data info  -----------------\n",
      "dru_size: 64\n",
      "dru_fea_size: 945\n",
      "dis_size: 1036\n",
      "dis_fea_size: 322\n",
      "tar_size: 103\n",
      "tar_fea_size: 1437\n",
      "threshold: 0.79\n",
      "mask=4  reset dru_dis_A as zero, valid sum(dru_dis_A)=0\n"
     ]
    },
    {
     "name": "stderr",
     "output_type": "stream",
     "text": [
      "\n",
      " 46%|████▌     | 245/530 [02:31<03:10,  1.50it/s]\u001b[A"
     ]
    },
    {
     "name": "stdout",
     "output_type": "stream",
     "text": [
      "-------------------  data info  -----------------\n",
      "dru_size: 64\n",
      "dru_fea_size: 945\n",
      "dis_size: 1036\n",
      "dis_fea_size: 322\n",
      "tar_size: 103\n",
      "tar_fea_size: 1437\n",
      "threshold: 0.79\n",
      "mask=4  reset dru_dis_A as zero, valid sum(dru_dis_A)=0\n"
     ]
    },
    {
     "name": "stderr",
     "output_type": "stream",
     "text": [
      "\n",
      " 46%|████▋     | 246/530 [02:32<03:08,  1.51it/s]\u001b[A"
     ]
    },
    {
     "name": "stdout",
     "output_type": "stream",
     "text": [
      "-------------------  data info  -----------------\n",
      "dru_size: 64\n",
      "dru_fea_size: 945\n",
      "dis_size: 1036\n",
      "dis_fea_size: 322\n",
      "tar_size: 103\n",
      "tar_fea_size: 1437\n",
      "threshold: 0.79\n",
      "mask=4  reset dru_dis_A as zero, valid sum(dru_dis_A)=0\n"
     ]
    },
    {
     "name": "stderr",
     "output_type": "stream",
     "text": [
      "\n",
      " 47%|████▋     | 247/530 [02:32<03:07,  1.51it/s]\u001b[A"
     ]
    },
    {
     "name": "stdout",
     "output_type": "stream",
     "text": [
      "-------------------  data info  -----------------\n",
      "dru_size: 64\n",
      "dru_fea_size: 945\n",
      "dis_size: 1036\n",
      "dis_fea_size: 322\n",
      "tar_size: 103\n",
      "tar_fea_size: 1437\n",
      "threshold: 0.79\n",
      "mask=4  reset dru_dis_A as zero, valid sum(dru_dis_A)=0\n"
     ]
    },
    {
     "name": "stderr",
     "output_type": "stream",
     "text": [
      "\n",
      " 47%|████▋     | 248/530 [02:33<03:07,  1.50it/s]\u001b[A"
     ]
    },
    {
     "name": "stdout",
     "output_type": "stream",
     "text": [
      "-------------------  data info  -----------------\n",
      "dru_size: 64\n",
      "dru_fea_size: 945\n",
      "dis_size: 1036\n",
      "dis_fea_size: 322\n",
      "tar_size: 103\n",
      "tar_fea_size: 1437\n",
      "threshold: 0.79\n",
      "mask=4  reset dru_dis_A as zero, valid sum(dru_dis_A)=0\n"
     ]
    },
    {
     "name": "stderr",
     "output_type": "stream",
     "text": [
      "\n",
      " 47%|████▋     | 249/530 [02:34<03:13,  1.45it/s]\u001b[A"
     ]
    },
    {
     "name": "stdout",
     "output_type": "stream",
     "text": [
      "-------------------  data info  -----------------\n",
      "dru_size: 64\n",
      "dru_fea_size: 945\n",
      "dis_size: 1036\n",
      "dis_fea_size: 322\n",
      "tar_size: 103\n",
      "tar_fea_size: 1437\n",
      "threshold: 0.79\n",
      "mask=4  reset dru_dis_A as zero, valid sum(dru_dis_A)=0\n"
     ]
    },
    {
     "name": "stderr",
     "output_type": "stream",
     "text": [
      "\n",
      " 47%|████▋     | 250/530 [02:34<03:11,  1.46it/s]\u001b[A"
     ]
    },
    {
     "name": "stdout",
     "output_type": "stream",
     "text": [
      "-------------------  data info  -----------------\n",
      "dru_size: 64\n",
      "dru_fea_size: 945\n",
      "dis_size: 1036\n",
      "dis_fea_size: 322\n",
      "tar_size: 103\n",
      "tar_fea_size: 1437\n",
      "threshold: 0.79\n",
      "mask=4  reset dru_dis_A as zero, valid sum(dru_dis_A)=0\n"
     ]
    },
    {
     "name": "stderr",
     "output_type": "stream",
     "text": [
      "\n",
      " 47%|████▋     | 251/530 [02:35<03:12,  1.45it/s]\u001b[A"
     ]
    },
    {
     "name": "stdout",
     "output_type": "stream",
     "text": [
      "-------------------  data info  -----------------\n",
      "dru_size: 64\n",
      "dru_fea_size: 945\n",
      "dis_size: 1036\n",
      "dis_fea_size: 322\n",
      "tar_size: 103\n",
      "tar_fea_size: 1437\n",
      "threshold: 0.79\n",
      "mask=4  reset dru_dis_A as zero, valid sum(dru_dis_A)=0\n"
     ]
    },
    {
     "name": "stderr",
     "output_type": "stream",
     "text": [
      "\n",
      " 48%|████▊     | 252/530 [02:36<03:09,  1.47it/s]\u001b[A"
     ]
    },
    {
     "name": "stdout",
     "output_type": "stream",
     "text": [
      "-------------------  data info  -----------------\n",
      "dru_size: 64\n",
      "dru_fea_size: 945\n",
      "dis_size: 1036\n",
      "dis_fea_size: 322\n",
      "tar_size: 103\n",
      "tar_fea_size: 1437\n",
      "threshold: 0.79\n",
      "mask=4  reset dru_dis_A as zero, valid sum(dru_dis_A)=0\n"
     ]
    },
    {
     "name": "stderr",
     "output_type": "stream",
     "text": [
      "\n",
      " 48%|████▊     | 253/530 [02:36<03:06,  1.49it/s]\u001b[A"
     ]
    },
    {
     "name": "stdout",
     "output_type": "stream",
     "text": [
      "-------------------  data info  -----------------\n",
      "dru_size: 64\n",
      "dru_fea_size: 945\n",
      "dis_size: 1036\n",
      "dis_fea_size: 322\n",
      "tar_size: 103\n",
      "tar_fea_size: 1437\n",
      "threshold: 0.79\n",
      "mask=4  reset dru_dis_A as zero, valid sum(dru_dis_A)=0\n"
     ]
    },
    {
     "name": "stderr",
     "output_type": "stream",
     "text": [
      "\n",
      " 48%|████▊     | 254/530 [02:37<03:04,  1.50it/s]\u001b[A"
     ]
    },
    {
     "name": "stdout",
     "output_type": "stream",
     "text": [
      "-------------------  data info  -----------------\n",
      "dru_size: 64\n",
      "dru_fea_size: 945\n",
      "dis_size: 1036\n",
      "dis_fea_size: 322\n",
      "tar_size: 103\n",
      "tar_fea_size: 1437\n",
      "threshold: 0.79\n",
      "mask=4  reset dru_dis_A as zero, valid sum(dru_dis_A)=0\n"
     ]
    },
    {
     "name": "stderr",
     "output_type": "stream",
     "text": [
      "\n",
      " 48%|████▊     | 255/530 [02:38<03:02,  1.51it/s]\u001b[A"
     ]
    },
    {
     "name": "stdout",
     "output_type": "stream",
     "text": [
      "-------------------  data info  -----------------\n",
      "dru_size: 64\n",
      "dru_fea_size: 945\n",
      "dis_size: 1036\n",
      "dis_fea_size: 322\n",
      "tar_size: 103\n",
      "tar_fea_size: 1437\n",
      "threshold: 0.79\n",
      "mask=4  reset dru_dis_A as zero, valid sum(dru_dis_A)=0\n"
     ]
    },
    {
     "name": "stderr",
     "output_type": "stream",
     "text": [
      "\n",
      " 48%|████▊     | 256/530 [02:38<03:03,  1.50it/s]\u001b[A"
     ]
    },
    {
     "name": "stdout",
     "output_type": "stream",
     "text": [
      "-------------------  data info  -----------------\n",
      "dru_size: 64\n",
      "dru_fea_size: 945\n",
      "dis_size: 1036\n",
      "dis_fea_size: 322\n",
      "tar_size: 103\n",
      "tar_fea_size: 1437\n",
      "threshold: 0.79\n",
      "mask=4  reset dru_dis_A as zero, valid sum(dru_dis_A)=0\n"
     ]
    },
    {
     "name": "stderr",
     "output_type": "stream",
     "text": [
      "\n",
      " 48%|████▊     | 257/530 [02:39<03:01,  1.50it/s]\u001b[A"
     ]
    },
    {
     "name": "stdout",
     "output_type": "stream",
     "text": [
      "-------------------  data info  -----------------\n",
      "dru_size: 64\n",
      "dru_fea_size: 945\n",
      "dis_size: 1036\n",
      "dis_fea_size: 322\n",
      "tar_size: 103\n",
      "tar_fea_size: 1437\n",
      "threshold: 0.79\n",
      "mask=4  reset dru_dis_A as zero, valid sum(dru_dis_A)=0\n"
     ]
    },
    {
     "name": "stderr",
     "output_type": "stream",
     "text": [
      "\n",
      " 49%|████▊     | 258/530 [02:40<03:00,  1.51it/s]\u001b[A"
     ]
    },
    {
     "name": "stdout",
     "output_type": "stream",
     "text": [
      "-------------------  data info  -----------------\n",
      "dru_size: 64\n",
      "dru_fea_size: 945\n",
      "dis_size: 1036\n",
      "dis_fea_size: 322\n",
      "tar_size: 103\n",
      "tar_fea_size: 1437\n",
      "threshold: 0.79\n",
      "mask=4  reset dru_dis_A as zero, valid sum(dru_dis_A)=0\n"
     ]
    },
    {
     "name": "stderr",
     "output_type": "stream",
     "text": [
      "\n",
      " 49%|████▉     | 259/530 [02:40<03:02,  1.48it/s]\u001b[A"
     ]
    },
    {
     "name": "stdout",
     "output_type": "stream",
     "text": [
      "-------------------  data info  -----------------\n",
      "dru_size: 64\n",
      "dru_fea_size: 945\n",
      "dis_size: 1036\n",
      "dis_fea_size: 322\n",
      "tar_size: 103\n",
      "tar_fea_size: 1437\n",
      "threshold: 0.79\n",
      "mask=4  reset dru_dis_A as zero, valid sum(dru_dis_A)=0\n"
     ]
    },
    {
     "name": "stderr",
     "output_type": "stream",
     "text": [
      "\n",
      " 49%|████▉     | 260/530 [02:41<02:59,  1.51it/s]\u001b[A"
     ]
    },
    {
     "name": "stdout",
     "output_type": "stream",
     "text": [
      "-------------------  data info  -----------------\n",
      "dru_size: 64\n",
      "dru_fea_size: 945\n",
      "dis_size: 1036\n",
      "dis_fea_size: 322\n",
      "tar_size: 103\n",
      "tar_fea_size: 1437\n",
      "threshold: 0.79\n",
      "mask=4  reset dru_dis_A as zero, valid sum(dru_dis_A)=0\n"
     ]
    },
    {
     "name": "stderr",
     "output_type": "stream",
     "text": [
      "\n",
      " 49%|████▉     | 261/530 [02:42<03:04,  1.46it/s]\u001b[A"
     ]
    },
    {
     "name": "stdout",
     "output_type": "stream",
     "text": [
      "-------------------  data info  -----------------\n",
      "dru_size: 64\n",
      "dru_fea_size: 945\n",
      "dis_size: 1036\n",
      "dis_fea_size: 322\n",
      "tar_size: 103\n",
      "tar_fea_size: 1437\n",
      "threshold: 0.79\n",
      "mask=4  reset dru_dis_A as zero, valid sum(dru_dis_A)=0\n"
     ]
    },
    {
     "name": "stderr",
     "output_type": "stream",
     "text": [
      "\n",
      " 49%|████▉     | 262/530 [02:42<03:00,  1.49it/s]\u001b[A"
     ]
    },
    {
     "name": "stdout",
     "output_type": "stream",
     "text": [
      "-------------------  data info  -----------------\n",
      "dru_size: 64\n",
      "dru_fea_size: 945\n",
      "dis_size: 1036\n",
      "dis_fea_size: 322\n",
      "tar_size: 103\n",
      "tar_fea_size: 1437\n",
      "threshold: 0.79\n",
      "mask=4  reset dru_dis_A as zero, valid sum(dru_dis_A)=0\n"
     ]
    },
    {
     "name": "stderr",
     "output_type": "stream",
     "text": [
      "\n",
      " 50%|████▉     | 263/530 [02:43<03:00,  1.48it/s]\u001b[A"
     ]
    },
    {
     "name": "stdout",
     "output_type": "stream",
     "text": [
      "-------------------  data info  -----------------\n",
      "dru_size: 64\n",
      "dru_fea_size: 945\n",
      "dis_size: 1036\n",
      "dis_fea_size: 322\n",
      "tar_size: 103\n",
      "tar_fea_size: 1437\n",
      "threshold: 0.79\n",
      "mask=4  reset dru_dis_A as zero, valid sum(dru_dis_A)=0\n"
     ]
    },
    {
     "name": "stderr",
     "output_type": "stream",
     "text": [
      "\n",
      " 50%|████▉     | 264/530 [02:44<02:57,  1.50it/s]\u001b[A"
     ]
    },
    {
     "name": "stdout",
     "output_type": "stream",
     "text": [
      "-------------------  data info  -----------------\n",
      "dru_size: 64\n",
      "dru_fea_size: 945\n",
      "dis_size: 1036\n",
      "dis_fea_size: 322\n",
      "tar_size: 103\n",
      "tar_fea_size: 1437\n",
      "threshold: 0.79\n",
      "mask=4  reset dru_dis_A as zero, valid sum(dru_dis_A)=0\n"
     ]
    },
    {
     "name": "stderr",
     "output_type": "stream",
     "text": [
      "\n",
      " 50%|█████     | 265/530 [02:44<02:59,  1.48it/s]\u001b[A"
     ]
    },
    {
     "name": "stdout",
     "output_type": "stream",
     "text": [
      "-------------------  data info  -----------------\n",
      "dru_size: 64\n",
      "dru_fea_size: 945\n",
      "dis_size: 1036\n",
      "dis_fea_size: 322\n",
      "tar_size: 103\n",
      "tar_fea_size: 1437\n",
      "threshold: 0.79\n",
      "mask=4  reset dru_dis_A as zero, valid sum(dru_dis_A)=0\n"
     ]
    },
    {
     "name": "stderr",
     "output_type": "stream",
     "text": [
      "\n",
      " 50%|█████     | 266/530 [02:45<02:55,  1.50it/s]\u001b[A"
     ]
    },
    {
     "name": "stdout",
     "output_type": "stream",
     "text": [
      "-------------------  data info  -----------------\n",
      "dru_size: 64\n",
      "dru_fea_size: 945\n",
      "dis_size: 1036\n",
      "dis_fea_size: 322\n",
      "tar_size: 103\n",
      "tar_fea_size: 1437\n",
      "threshold: 0.79\n",
      "mask=4  reset dru_dis_A as zero, valid sum(dru_dis_A)=0\n"
     ]
    },
    {
     "name": "stderr",
     "output_type": "stream",
     "text": [
      "\n",
      " 50%|█████     | 267/530 [02:46<02:53,  1.51it/s]\u001b[A"
     ]
    },
    {
     "name": "stdout",
     "output_type": "stream",
     "text": [
      "-------------------  data info  -----------------\n",
      "dru_size: 64\n",
      "dru_fea_size: 945\n",
      "dis_size: 1036\n",
      "dis_fea_size: 322\n",
      "tar_size: 103\n",
      "tar_fea_size: 1437\n",
      "threshold: 0.79\n",
      "mask=4  reset dru_dis_A as zero, valid sum(dru_dis_A)=0\n"
     ]
    },
    {
     "name": "stderr",
     "output_type": "stream",
     "text": [
      "\n",
      " 51%|█████     | 268/530 [02:46<02:53,  1.51it/s]\u001b[A"
     ]
    },
    {
     "name": "stdout",
     "output_type": "stream",
     "text": [
      "-------------------  data info  -----------------\n",
      "dru_size: 64\n",
      "dru_fea_size: 945\n",
      "dis_size: 1036\n",
      "dis_fea_size: 322\n",
      "tar_size: 103\n",
      "tar_fea_size: 1437\n",
      "threshold: 0.79\n",
      "mask=4  reset dru_dis_A as zero, valid sum(dru_dis_A)=0\n"
     ]
    },
    {
     "name": "stderr",
     "output_type": "stream",
     "text": [
      "\n",
      " 51%|█████     | 269/530 [02:47<02:52,  1.51it/s]\u001b[A"
     ]
    },
    {
     "name": "stdout",
     "output_type": "stream",
     "text": [
      "-------------------  data info  -----------------\n",
      "dru_size: 64\n",
      "dru_fea_size: 945\n",
      "dis_size: 1036\n",
      "dis_fea_size: 322\n",
      "tar_size: 103\n",
      "tar_fea_size: 1437\n",
      "threshold: 0.79\n",
      "mask=4  reset dru_dis_A as zero, valid sum(dru_dis_A)=0\n"
     ]
    },
    {
     "name": "stderr",
     "output_type": "stream",
     "text": [
      "\n",
      " 51%|█████     | 270/530 [02:48<02:52,  1.51it/s]\u001b[A"
     ]
    },
    {
     "name": "stdout",
     "output_type": "stream",
     "text": [
      "-------------------  data info  -----------------\n",
      "dru_size: 64\n",
      "dru_fea_size: 945\n",
      "dis_size: 1036\n",
      "dis_fea_size: 322\n",
      "tar_size: 103\n",
      "tar_fea_size: 1437\n",
      "threshold: 0.79\n",
      "mask=4  reset dru_dis_A as zero, valid sum(dru_dis_A)=0\n"
     ]
    },
    {
     "name": "stderr",
     "output_type": "stream",
     "text": [
      "\n",
      " 51%|█████     | 271/530 [02:48<02:53,  1.49it/s]\u001b[A"
     ]
    },
    {
     "name": "stdout",
     "output_type": "stream",
     "text": [
      "-------------------  data info  -----------------\n",
      "dru_size: 64\n",
      "dru_fea_size: 945\n",
      "dis_size: 1036\n",
      "dis_fea_size: 322\n",
      "tar_size: 103\n",
      "tar_fea_size: 1437\n",
      "threshold: 0.79\n",
      "mask=4  reset dru_dis_A as zero, valid sum(dru_dis_A)=0\n"
     ]
    },
    {
     "name": "stderr",
     "output_type": "stream",
     "text": [
      "\n",
      " 51%|█████▏    | 272/530 [02:49<02:53,  1.49it/s]\u001b[A"
     ]
    },
    {
     "name": "stdout",
     "output_type": "stream",
     "text": [
      "-------------------  data info  -----------------\n",
      "dru_size: 64\n",
      "dru_fea_size: 945\n",
      "dis_size: 1036\n",
      "dis_fea_size: 322\n",
      "tar_size: 103\n",
      "tar_fea_size: 1437\n",
      "threshold: 0.79\n",
      "mask=4  reset dru_dis_A as zero, valid sum(dru_dis_A)=0\n"
     ]
    },
    {
     "name": "stderr",
     "output_type": "stream",
     "text": [
      "\n",
      " 52%|█████▏    | 273/530 [02:50<02:51,  1.50it/s]\u001b[A"
     ]
    },
    {
     "name": "stdout",
     "output_type": "stream",
     "text": [
      "-------------------  data info  -----------------\n",
      "dru_size: 64\n",
      "dru_fea_size: 945\n",
      "dis_size: 1036\n",
      "dis_fea_size: 322\n",
      "tar_size: 103\n",
      "tar_fea_size: 1437\n",
      "threshold: 0.79\n",
      "mask=4  reset dru_dis_A as zero, valid sum(dru_dis_A)=0\n"
     ]
    },
    {
     "name": "stderr",
     "output_type": "stream",
     "text": [
      "\n",
      " 52%|█████▏    | 274/530 [02:50<02:50,  1.50it/s]\u001b[A"
     ]
    },
    {
     "name": "stdout",
     "output_type": "stream",
     "text": [
      "-------------------  data info  -----------------\n",
      "dru_size: 64\n",
      "dru_fea_size: 945\n",
      "dis_size: 1036\n",
      "dis_fea_size: 322\n",
      "tar_size: 103\n",
      "tar_fea_size: 1437\n",
      "threshold: 0.79\n",
      "mask=4  reset dru_dis_A as zero, valid sum(dru_dis_A)=0\n"
     ]
    },
    {
     "name": "stderr",
     "output_type": "stream",
     "text": [
      "\n",
      " 52%|█████▏    | 275/530 [02:51<02:49,  1.51it/s]\u001b[A"
     ]
    },
    {
     "name": "stdout",
     "output_type": "stream",
     "text": [
      "-------------------  data info  -----------------\n",
      "dru_size: 64\n",
      "dru_fea_size: 945\n",
      "dis_size: 1036\n",
      "dis_fea_size: 322\n",
      "tar_size: 103\n",
      "tar_fea_size: 1437\n",
      "threshold: 0.79\n",
      "mask=4  reset dru_dis_A as zero, valid sum(dru_dis_A)=0\n"
     ]
    },
    {
     "name": "stderr",
     "output_type": "stream",
     "text": [
      "\n",
      " 52%|█████▏    | 276/530 [02:52<02:49,  1.50it/s]\u001b[A"
     ]
    },
    {
     "name": "stdout",
     "output_type": "stream",
     "text": [
      "-------------------  data info  -----------------\n",
      "dru_size: 64\n",
      "dru_fea_size: 945\n",
      "dis_size: 1036\n",
      "dis_fea_size: 322\n",
      "tar_size: 103\n",
      "tar_fea_size: 1437\n",
      "threshold: 0.79\n",
      "mask=4  reset dru_dis_A as zero, valid sum(dru_dis_A)=0\n"
     ]
    },
    {
     "name": "stderr",
     "output_type": "stream",
     "text": [
      "\n",
      " 52%|█████▏    | 277/530 [02:52<02:51,  1.48it/s]\u001b[A"
     ]
    },
    {
     "name": "stdout",
     "output_type": "stream",
     "text": [
      "-------------------  data info  -----------------\n",
      "dru_size: 64\n",
      "dru_fea_size: 945\n",
      "dis_size: 1036\n",
      "dis_fea_size: 322\n",
      "tar_size: 103\n",
      "tar_fea_size: 1437\n",
      "threshold: 0.79\n",
      "mask=4  reset dru_dis_A as zero, valid sum(dru_dis_A)=0\n"
     ]
    },
    {
     "name": "stderr",
     "output_type": "stream",
     "text": [
      "\n",
      " 52%|█████▏    | 278/530 [02:53<02:46,  1.51it/s]\u001b[A"
     ]
    },
    {
     "name": "stdout",
     "output_type": "stream",
     "text": [
      "-------------------  data info  -----------------\n",
      "dru_size: 64\n",
      "dru_fea_size: 945\n",
      "dis_size: 1036\n",
      "dis_fea_size: 322\n",
      "tar_size: 103\n",
      "tar_fea_size: 1437\n",
      "threshold: 0.79\n",
      "mask=4  reset dru_dis_A as zero, valid sum(dru_dis_A)=0\n"
     ]
    },
    {
     "name": "stderr",
     "output_type": "stream",
     "text": [
      "\n",
      " 53%|█████▎    | 279/530 [02:54<02:44,  1.52it/s]\u001b[A"
     ]
    },
    {
     "name": "stdout",
     "output_type": "stream",
     "text": [
      "-------------------  data info  -----------------\n",
      "dru_size: 64\n",
      "dru_fea_size: 945\n",
      "dis_size: 1036\n",
      "dis_fea_size: 322\n",
      "tar_size: 103\n",
      "tar_fea_size: 1437\n",
      "threshold: 0.79\n",
      "mask=4  reset dru_dis_A as zero, valid sum(dru_dis_A)=0\n"
     ]
    },
    {
     "name": "stderr",
     "output_type": "stream",
     "text": [
      "\n",
      " 53%|█████▎    | 280/530 [02:54<02:43,  1.53it/s]\u001b[A"
     ]
    },
    {
     "name": "stdout",
     "output_type": "stream",
     "text": [
      "-------------------  data info  -----------------\n",
      "dru_size: 64\n",
      "dru_fea_size: 945\n",
      "dis_size: 1036\n",
      "dis_fea_size: 322\n",
      "tar_size: 103\n",
      "tar_fea_size: 1437\n",
      "threshold: 0.79\n",
      "mask=4  reset dru_dis_A as zero, valid sum(dru_dis_A)=0\n"
     ]
    },
    {
     "name": "stderr",
     "output_type": "stream",
     "text": [
      "\n",
      " 53%|█████▎    | 281/530 [02:55<02:44,  1.51it/s]\u001b[A"
     ]
    },
    {
     "name": "stdout",
     "output_type": "stream",
     "text": [
      "-------------------  data info  -----------------\n",
      "dru_size: 64\n",
      "dru_fea_size: 945\n",
      "dis_size: 1036\n",
      "dis_fea_size: 322\n",
      "tar_size: 103\n",
      "tar_fea_size: 1437\n",
      "threshold: 0.79\n",
      "mask=4  reset dru_dis_A as zero, valid sum(dru_dis_A)=0\n"
     ]
    },
    {
     "name": "stderr",
     "output_type": "stream",
     "text": [
      "\n",
      " 53%|█████▎    | 282/530 [02:56<02:42,  1.53it/s]\u001b[A"
     ]
    },
    {
     "name": "stdout",
     "output_type": "stream",
     "text": [
      "-------------------  data info  -----------------\n",
      "dru_size: 64\n",
      "dru_fea_size: 945\n",
      "dis_size: 1036\n",
      "dis_fea_size: 322\n",
      "tar_size: 103\n",
      "tar_fea_size: 1437\n",
      "threshold: 0.79\n",
      "mask=4  reset dru_dis_A as zero, valid sum(dru_dis_A)=0\n"
     ]
    },
    {
     "name": "stderr",
     "output_type": "stream",
     "text": [
      "\n",
      " 53%|█████▎    | 283/530 [02:56<02:43,  1.51it/s]\u001b[A"
     ]
    },
    {
     "name": "stdout",
     "output_type": "stream",
     "text": [
      "-------------------  data info  -----------------\n",
      "dru_size: 64\n",
      "dru_fea_size: 945\n",
      "dis_size: 1036\n",
      "dis_fea_size: 322\n",
      "tar_size: 103\n",
      "tar_fea_size: 1437\n",
      "threshold: 0.79\n",
      "mask=4  reset dru_dis_A as zero, valid sum(dru_dis_A)=0\n"
     ]
    },
    {
     "name": "stderr",
     "output_type": "stream",
     "text": [
      "\n",
      " 54%|█████▎    | 284/530 [02:57<02:43,  1.51it/s]\u001b[A"
     ]
    },
    {
     "name": "stdout",
     "output_type": "stream",
     "text": [
      "-------------------  data info  -----------------\n",
      "dru_size: 64\n",
      "dru_fea_size: 945\n",
      "dis_size: 1036\n",
      "dis_fea_size: 322\n",
      "tar_size: 103\n",
      "tar_fea_size: 1437\n",
      "threshold: 0.79\n",
      "mask=4  reset dru_dis_A as zero, valid sum(dru_dis_A)=0\n"
     ]
    },
    {
     "name": "stderr",
     "output_type": "stream",
     "text": [
      "\n",
      " 54%|█████▍    | 285/530 [02:58<02:45,  1.48it/s]\u001b[A"
     ]
    },
    {
     "name": "stdout",
     "output_type": "stream",
     "text": [
      "-------------------  data info  -----------------\n",
      "dru_size: 64\n",
      "dru_fea_size: 945\n",
      "dis_size: 1036\n",
      "dis_fea_size: 322\n",
      "tar_size: 103\n",
      "tar_fea_size: 1437\n",
      "threshold: 0.79\n",
      "mask=4  reset dru_dis_A as zero, valid sum(dru_dis_A)=0\n"
     ]
    },
    {
     "name": "stderr",
     "output_type": "stream",
     "text": [
      "\n",
      " 54%|█████▍    | 286/530 [02:58<02:46,  1.47it/s]\u001b[A"
     ]
    },
    {
     "name": "stdout",
     "output_type": "stream",
     "text": [
      "-------------------  data info  -----------------\n",
      "dru_size: 64\n",
      "dru_fea_size: 945\n",
      "dis_size: 1036\n",
      "dis_fea_size: 322\n",
      "tar_size: 103\n",
      "tar_fea_size: 1437\n",
      "threshold: 0.79\n",
      "mask=4  reset dru_dis_A as zero, valid sum(dru_dis_A)=0\n"
     ]
    },
    {
     "name": "stderr",
     "output_type": "stream",
     "text": [
      "\n",
      " 54%|█████▍    | 287/530 [02:59<02:45,  1.47it/s]\u001b[A"
     ]
    },
    {
     "name": "stdout",
     "output_type": "stream",
     "text": [
      "-------------------  data info  -----------------\n",
      "dru_size: 64\n",
      "dru_fea_size: 945\n",
      "dis_size: 1036\n",
      "dis_fea_size: 322\n",
      "tar_size: 103\n",
      "tar_fea_size: 1437\n",
      "threshold: 0.79\n",
      "mask=4  reset dru_dis_A as zero, valid sum(dru_dis_A)=0\n"
     ]
    },
    {
     "name": "stderr",
     "output_type": "stream",
     "text": [
      "\n",
      " 54%|█████▍    | 288/530 [03:00<02:44,  1.47it/s]\u001b[A"
     ]
    },
    {
     "name": "stdout",
     "output_type": "stream",
     "text": [
      "-------------------  data info  -----------------\n",
      "dru_size: 64\n",
      "dru_fea_size: 945\n",
      "dis_size: 1036\n",
      "dis_fea_size: 322\n",
      "tar_size: 103\n",
      "tar_fea_size: 1437\n",
      "threshold: 0.79\n",
      "mask=4  reset dru_dis_A as zero, valid sum(dru_dis_A)=0\n"
     ]
    },
    {
     "name": "stderr",
     "output_type": "stream",
     "text": [
      "\n",
      " 55%|█████▍    | 289/530 [03:00<02:42,  1.48it/s]\u001b[A"
     ]
    },
    {
     "name": "stdout",
     "output_type": "stream",
     "text": [
      "-------------------  data info  -----------------\n",
      "dru_size: 64\n",
      "dru_fea_size: 945\n",
      "dis_size: 1036\n",
      "dis_fea_size: 322\n",
      "tar_size: 103\n",
      "tar_fea_size: 1437\n",
      "threshold: 0.79\n",
      "mask=4  reset dru_dis_A as zero, valid sum(dru_dis_A)=0\n"
     ]
    },
    {
     "name": "stderr",
     "output_type": "stream",
     "text": [
      "\n",
      " 55%|█████▍    | 290/530 [03:01<02:40,  1.49it/s]\u001b[A"
     ]
    },
    {
     "name": "stdout",
     "output_type": "stream",
     "text": [
      "-------------------  data info  -----------------\n",
      "dru_size: 81\n",
      "dru_fea_size: 962\n",
      "dis_size: 1157\n",
      "dis_fea_size: 322\n",
      "tar_size: 128\n",
      "tar_fea_size: 1437\n",
      "threshold: 0.74\n",
      "mask=4  reset dru_dis_A as zero, valid sum(dru_dis_A)=0\n"
     ]
    },
    {
     "name": "stderr",
     "output_type": "stream",
     "text": [
      "\n",
      " 55%|█████▍    | 291/530 [03:02<02:45,  1.44it/s]\u001b[A"
     ]
    },
    {
     "name": "stdout",
     "output_type": "stream",
     "text": [
      "-------------------  data info  -----------------\n",
      "dru_size: 81\n",
      "dru_fea_size: 962\n",
      "dis_size: 1157\n",
      "dis_fea_size: 322\n",
      "tar_size: 128\n",
      "tar_fea_size: 1437\n",
      "threshold: 0.74\n",
      "mask=4  reset dru_dis_A as zero, valid sum(dru_dis_A)=0\n"
     ]
    },
    {
     "name": "stderr",
     "output_type": "stream",
     "text": [
      "\n",
      " 55%|█████▌    | 292/530 [03:03<02:47,  1.42it/s]\u001b[A"
     ]
    },
    {
     "name": "stdout",
     "output_type": "stream",
     "text": [
      "-------------------  data info  -----------------\n",
      "dru_size: 81\n",
      "dru_fea_size: 962\n",
      "dis_size: 1157\n",
      "dis_fea_size: 322\n",
      "tar_size: 128\n",
      "tar_fea_size: 1437\n",
      "threshold: 0.74\n",
      "mask=4  reset dru_dis_A as zero, valid sum(dru_dis_A)=0\n"
     ]
    },
    {
     "name": "stderr",
     "output_type": "stream",
     "text": [
      "\n",
      " 55%|█████▌    | 293/530 [03:03<02:49,  1.39it/s]\u001b[A"
     ]
    },
    {
     "name": "stdout",
     "output_type": "stream",
     "text": [
      "-------------------  data info  -----------------\n",
      "dru_size: 81\n",
      "dru_fea_size: 962\n",
      "dis_size: 1157\n",
      "dis_fea_size: 322\n",
      "tar_size: 128\n",
      "tar_fea_size: 1437\n",
      "threshold: 0.74\n",
      "mask=4  reset dru_dis_A as zero, valid sum(dru_dis_A)=0\n"
     ]
    },
    {
     "name": "stderr",
     "output_type": "stream",
     "text": [
      "\n",
      " 55%|█████▌    | 294/530 [03:04<02:50,  1.38it/s]\u001b[A"
     ]
    },
    {
     "name": "stdout",
     "output_type": "stream",
     "text": [
      "-------------------  data info  -----------------\n",
      "dru_size: 81\n",
      "dru_fea_size: 962\n",
      "dis_size: 1157\n",
      "dis_fea_size: 322\n",
      "tar_size: 128\n",
      "tar_fea_size: 1437\n",
      "threshold: 0.74\n",
      "mask=4  reset dru_dis_A as zero, valid sum(dru_dis_A)=0\n"
     ]
    },
    {
     "name": "stderr",
     "output_type": "stream",
     "text": [
      "\n",
      " 56%|█████▌    | 295/530 [03:05<02:50,  1.38it/s]\u001b[A"
     ]
    },
    {
     "name": "stdout",
     "output_type": "stream",
     "text": [
      "-------------------  data info  -----------------\n",
      "dru_size: 81\n",
      "dru_fea_size: 962\n",
      "dis_size: 1157\n",
      "dis_fea_size: 322\n",
      "tar_size: 128\n",
      "tar_fea_size: 1437\n",
      "threshold: 0.74\n",
      "mask=4  reset dru_dis_A as zero, valid sum(dru_dis_A)=0\n"
     ]
    },
    {
     "name": "stderr",
     "output_type": "stream",
     "text": [
      "\n",
      " 56%|█████▌    | 296/530 [03:05<02:50,  1.38it/s]\u001b[A"
     ]
    },
    {
     "name": "stdout",
     "output_type": "stream",
     "text": [
      "-------------------  data info  -----------------\n",
      "dru_size: 81\n",
      "dru_fea_size: 962\n",
      "dis_size: 1157\n",
      "dis_fea_size: 322\n",
      "tar_size: 128\n",
      "tar_fea_size: 1437\n",
      "threshold: 0.74\n",
      "mask=4  reset dru_dis_A as zero, valid sum(dru_dis_A)=0\n"
     ]
    },
    {
     "name": "stderr",
     "output_type": "stream",
     "text": [
      "\n",
      " 56%|█████▌    | 297/530 [03:06<02:50,  1.37it/s]\u001b[A"
     ]
    },
    {
     "name": "stdout",
     "output_type": "stream",
     "text": [
      "-------------------  data info  -----------------\n",
      "dru_size: 81\n",
      "dru_fea_size: 962\n",
      "dis_size: 1157\n",
      "dis_fea_size: 322\n",
      "tar_size: 128\n",
      "tar_fea_size: 1437\n",
      "threshold: 0.74\n",
      "mask=4  reset dru_dis_A as zero, valid sum(dru_dis_A)=0\n"
     ]
    },
    {
     "name": "stderr",
     "output_type": "stream",
     "text": [
      "\n",
      " 56%|█████▌    | 298/530 [03:07<02:49,  1.37it/s]\u001b[A"
     ]
    },
    {
     "name": "stdout",
     "output_type": "stream",
     "text": [
      "-------------------  data info  -----------------\n",
      "dru_size: 81\n",
      "dru_fea_size: 962\n",
      "dis_size: 1157\n",
      "dis_fea_size: 322\n",
      "tar_size: 128\n",
      "tar_fea_size: 1437\n",
      "threshold: 0.74\n",
      "mask=4  reset dru_dis_A as zero, valid sum(dru_dis_A)=0\n"
     ]
    },
    {
     "name": "stderr",
     "output_type": "stream",
     "text": [
      "\n",
      " 56%|█████▋    | 299/530 [03:08<02:47,  1.38it/s]\u001b[A"
     ]
    },
    {
     "name": "stdout",
     "output_type": "stream",
     "text": [
      "-------------------  data info  -----------------\n",
      "dru_size: 81\n",
      "dru_fea_size: 962\n",
      "dis_size: 1157\n",
      "dis_fea_size: 322\n",
      "tar_size: 128\n",
      "tar_fea_size: 1437\n",
      "threshold: 0.74\n",
      "mask=4  reset dru_dis_A as zero, valid sum(dru_dis_A)=0\n"
     ]
    },
    {
     "name": "stderr",
     "output_type": "stream",
     "text": [
      "\n",
      " 57%|█████▋    | 300/530 [03:08<02:47,  1.37it/s]\u001b[A"
     ]
    },
    {
     "name": "stdout",
     "output_type": "stream",
     "text": [
      "-------------------  data info  -----------------\n",
      "dru_size: 64\n",
      "dru_fea_size: 945\n",
      "dis_size: 1036\n",
      "dis_fea_size: 322\n",
      "tar_size: 103\n",
      "tar_fea_size: 1437\n",
      "threshold: 0.79\n",
      "mask=4  reset dru_dis_A as zero, valid sum(dru_dis_A)=0\n"
     ]
    },
    {
     "name": "stderr",
     "output_type": "stream",
     "text": [
      "\n",
      " 57%|█████▋    | 301/530 [03:09<02:45,  1.38it/s]\u001b[A"
     ]
    },
    {
     "name": "stdout",
     "output_type": "stream",
     "text": [
      "-------------------  data info  -----------------\n",
      "dru_size: 64\n",
      "dru_fea_size: 945\n",
      "dis_size: 1036\n",
      "dis_fea_size: 322\n",
      "tar_size: 103\n",
      "tar_fea_size: 1437\n",
      "threshold: 0.79\n",
      "mask=4  reset dru_dis_A as zero, valid sum(dru_dis_A)=0\n"
     ]
    },
    {
     "name": "stderr",
     "output_type": "stream",
     "text": [
      "\n",
      " 57%|█████▋    | 302/530 [03:10<02:44,  1.39it/s]\u001b[A"
     ]
    },
    {
     "name": "stdout",
     "output_type": "stream",
     "text": [
      "-------------------  data info  -----------------\n",
      "dru_size: 64\n",
      "dru_fea_size: 945\n",
      "dis_size: 1036\n",
      "dis_fea_size: 322\n",
      "tar_size: 103\n",
      "tar_fea_size: 1437\n",
      "threshold: 0.79\n",
      "mask=4  reset dru_dis_A as zero, valid sum(dru_dis_A)=0\n"
     ]
    },
    {
     "name": "stderr",
     "output_type": "stream",
     "text": [
      "\n",
      " 57%|█████▋    | 303/530 [03:10<02:39,  1.42it/s]\u001b[A"
     ]
    },
    {
     "name": "stdout",
     "output_type": "stream",
     "text": [
      "-------------------  data info  -----------------\n",
      "dru_size: 64\n",
      "dru_fea_size: 945\n",
      "dis_size: 1036\n",
      "dis_fea_size: 322\n",
      "tar_size: 103\n",
      "tar_fea_size: 1437\n",
      "threshold: 0.79\n",
      "mask=4  reset dru_dis_A as zero, valid sum(dru_dis_A)=0\n"
     ]
    },
    {
     "name": "stderr",
     "output_type": "stream",
     "text": [
      "\n",
      " 57%|█████▋    | 304/530 [03:11<02:34,  1.46it/s]\u001b[A"
     ]
    },
    {
     "name": "stdout",
     "output_type": "stream",
     "text": [
      "-------------------  data info  -----------------\n",
      "dru_size: 64\n",
      "dru_fea_size: 945\n",
      "dis_size: 1036\n",
      "dis_fea_size: 322\n",
      "tar_size: 103\n",
      "tar_fea_size: 1437\n",
      "threshold: 0.79\n",
      "mask=4  reset dru_dis_A as zero, valid sum(dru_dis_A)=0\n"
     ]
    },
    {
     "name": "stderr",
     "output_type": "stream",
     "text": [
      "\n",
      " 58%|█████▊    | 305/530 [03:12<02:34,  1.46it/s]\u001b[A"
     ]
    },
    {
     "name": "stdout",
     "output_type": "stream",
     "text": [
      "-------------------  data info  -----------------\n",
      "dru_size: 64\n",
      "dru_fea_size: 945\n",
      "dis_size: 1036\n",
      "dis_fea_size: 322\n",
      "tar_size: 103\n",
      "tar_fea_size: 1437\n",
      "threshold: 0.79\n",
      "mask=4  reset dru_dis_A as zero, valid sum(dru_dis_A)=0\n"
     ]
    },
    {
     "name": "stderr",
     "output_type": "stream",
     "text": [
      "\n",
      " 58%|█████▊    | 306/530 [03:12<02:32,  1.47it/s]\u001b[A"
     ]
    },
    {
     "name": "stdout",
     "output_type": "stream",
     "text": [
      "-------------------  data info  -----------------\n",
      "dru_size: 64\n",
      "dru_fea_size: 945\n",
      "dis_size: 1036\n",
      "dis_fea_size: 322\n",
      "tar_size: 103\n",
      "tar_fea_size: 1437\n",
      "threshold: 0.79\n",
      "mask=4  reset dru_dis_A as zero, valid sum(dru_dis_A)=0\n"
     ]
    },
    {
     "name": "stderr",
     "output_type": "stream",
     "text": [
      "\n",
      " 58%|█████▊    | 307/530 [03:13<02:34,  1.45it/s]\u001b[A"
     ]
    },
    {
     "name": "stdout",
     "output_type": "stream",
     "text": [
      "-------------------  data info  -----------------\n",
      "dru_size: 64\n",
      "dru_fea_size: 945\n",
      "dis_size: 1036\n",
      "dis_fea_size: 322\n",
      "tar_size: 103\n",
      "tar_fea_size: 1437\n",
      "threshold: 0.79\n",
      "mask=4  reset dru_dis_A as zero, valid sum(dru_dis_A)=0\n"
     ]
    },
    {
     "name": "stderr",
     "output_type": "stream",
     "text": [
      "\n",
      " 58%|█████▊    | 308/530 [03:14<02:31,  1.47it/s]\u001b[A"
     ]
    },
    {
     "name": "stdout",
     "output_type": "stream",
     "text": [
      "-------------------  data info  -----------------\n",
      "dru_size: 64\n",
      "dru_fea_size: 945\n",
      "dis_size: 1036\n",
      "dis_fea_size: 322\n",
      "tar_size: 103\n",
      "tar_fea_size: 1437\n",
      "threshold: 0.79\n",
      "mask=4  reset dru_dis_A as zero, valid sum(dru_dis_A)=0\n"
     ]
    },
    {
     "name": "stderr",
     "output_type": "stream",
     "text": [
      "\n",
      " 58%|█████▊    | 309/530 [03:15<02:29,  1.48it/s]\u001b[A"
     ]
    },
    {
     "name": "stdout",
     "output_type": "stream",
     "text": [
      "-------------------  data info  -----------------\n",
      "dru_size: 64\n",
      "dru_fea_size: 945\n",
      "dis_size: 1036\n",
      "dis_fea_size: 322\n",
      "tar_size: 103\n",
      "tar_fea_size: 1437\n",
      "threshold: 0.79\n",
      "mask=4  reset dru_dis_A as zero, valid sum(dru_dis_A)=0\n"
     ]
    },
    {
     "name": "stderr",
     "output_type": "stream",
     "text": [
      "\n",
      " 58%|█████▊    | 310/530 [03:15<02:26,  1.51it/s]\u001b[A"
     ]
    },
    {
     "name": "stdout",
     "output_type": "stream",
     "text": [
      "-------------------  data info  -----------------\n",
      "dru_size: 64\n",
      "dru_fea_size: 945\n",
      "dis_size: 1036\n",
      "dis_fea_size: 322\n",
      "tar_size: 103\n",
      "tar_fea_size: 1437\n",
      "threshold: 0.79\n",
      "mask=4  reset dru_dis_A as zero, valid sum(dru_dis_A)=0\n"
     ]
    },
    {
     "name": "stderr",
     "output_type": "stream",
     "text": [
      "\n",
      " 59%|█████▊    | 311/530 [03:16<02:27,  1.48it/s]\u001b[A"
     ]
    },
    {
     "name": "stdout",
     "output_type": "stream",
     "text": [
      "-------------------  data info  -----------------\n",
      "dru_size: 64\n",
      "dru_fea_size: 945\n",
      "dis_size: 1036\n",
      "dis_fea_size: 322\n",
      "tar_size: 103\n",
      "tar_fea_size: 1437\n",
      "threshold: 0.79\n",
      "mask=4  reset dru_dis_A as zero, valid sum(dru_dis_A)=0\n"
     ]
    },
    {
     "name": "stderr",
     "output_type": "stream",
     "text": [
      "\n",
      " 59%|█████▉    | 312/530 [03:17<02:27,  1.48it/s]\u001b[A"
     ]
    },
    {
     "name": "stdout",
     "output_type": "stream",
     "text": [
      "-------------------  data info  -----------------\n",
      "dru_size: 64\n",
      "dru_fea_size: 945\n",
      "dis_size: 1036\n",
      "dis_fea_size: 322\n",
      "tar_size: 103\n",
      "tar_fea_size: 1437\n",
      "threshold: 0.79\n",
      "mask=4  reset dru_dis_A as zero, valid sum(dru_dis_A)=0\n"
     ]
    },
    {
     "name": "stderr",
     "output_type": "stream",
     "text": [
      "\n",
      " 59%|█████▉    | 313/530 [03:17<02:26,  1.48it/s]\u001b[A"
     ]
    },
    {
     "name": "stdout",
     "output_type": "stream",
     "text": [
      "-------------------  data info  -----------------\n",
      "dru_size: 64\n",
      "dru_fea_size: 945\n",
      "dis_size: 1036\n",
      "dis_fea_size: 322\n",
      "tar_size: 103\n",
      "tar_fea_size: 1437\n",
      "threshold: 0.79\n",
      "mask=4  reset dru_dis_A as zero, valid sum(dru_dis_A)=0\n"
     ]
    },
    {
     "name": "stderr",
     "output_type": "stream",
     "text": [
      "\n",
      " 59%|█████▉    | 314/530 [03:18<02:25,  1.49it/s]\u001b[A"
     ]
    },
    {
     "name": "stdout",
     "output_type": "stream",
     "text": [
      "-------------------  data info  -----------------\n",
      "dru_size: 64\n",
      "dru_fea_size: 945\n",
      "dis_size: 1036\n",
      "dis_fea_size: 322\n",
      "tar_size: 103\n",
      "tar_fea_size: 1437\n",
      "threshold: 0.79\n",
      "mask=4  reset dru_dis_A as zero, valid sum(dru_dis_A)=0\n"
     ]
    },
    {
     "name": "stderr",
     "output_type": "stream",
     "text": [
      "\n",
      " 59%|█████▉    | 315/530 [03:19<02:27,  1.46it/s]\u001b[A"
     ]
    },
    {
     "name": "stdout",
     "output_type": "stream",
     "text": [
      "-------------------  data info  -----------------\n",
      "dru_size: 64\n",
      "dru_fea_size: 945\n",
      "dis_size: 1036\n",
      "dis_fea_size: 322\n",
      "tar_size: 103\n",
      "tar_fea_size: 1437\n",
      "threshold: 0.79\n",
      "mask=4  reset dru_dis_A as zero, valid sum(dru_dis_A)=0\n"
     ]
    },
    {
     "name": "stderr",
     "output_type": "stream",
     "text": [
      "\n",
      " 60%|█████▉    | 316/530 [03:19<02:25,  1.47it/s]\u001b[A"
     ]
    },
    {
     "name": "stdout",
     "output_type": "stream",
     "text": [
      "-------------------  data info  -----------------\n",
      "dru_size: 64\n",
      "dru_fea_size: 945\n",
      "dis_size: 1036\n",
      "dis_fea_size: 322\n",
      "tar_size: 103\n",
      "tar_fea_size: 1437\n",
      "threshold: 0.79\n",
      "mask=4  reset dru_dis_A as zero, valid sum(dru_dis_A)=0\n"
     ]
    },
    {
     "name": "stderr",
     "output_type": "stream",
     "text": [
      "\n",
      " 60%|█████▉    | 317/530 [03:20<02:23,  1.49it/s]\u001b[A"
     ]
    },
    {
     "name": "stdout",
     "output_type": "stream",
     "text": [
      "-------------------  data info  -----------------\n",
      "dru_size: 64\n",
      "dru_fea_size: 945\n",
      "dis_size: 1036\n",
      "dis_fea_size: 322\n",
      "tar_size: 103\n",
      "tar_fea_size: 1437\n",
      "threshold: 0.79\n",
      "mask=4  reset dru_dis_A as zero, valid sum(dru_dis_A)=0\n"
     ]
    },
    {
     "name": "stderr",
     "output_type": "stream",
     "text": [
      "\n",
      " 60%|██████    | 318/530 [03:21<02:24,  1.47it/s]\u001b[A"
     ]
    },
    {
     "name": "stdout",
     "output_type": "stream",
     "text": [
      "-------------------  data info  -----------------\n",
      "dru_size: 64\n",
      "dru_fea_size: 945\n",
      "dis_size: 1036\n",
      "dis_fea_size: 322\n",
      "tar_size: 103\n",
      "tar_fea_size: 1437\n",
      "threshold: 0.79\n",
      "mask=4  reset dru_dis_A as zero, valid sum(dru_dis_A)=0\n"
     ]
    },
    {
     "name": "stderr",
     "output_type": "stream",
     "text": [
      "\n",
      " 60%|██████    | 319/530 [03:21<02:23,  1.47it/s]\u001b[A"
     ]
    },
    {
     "name": "stdout",
     "output_type": "stream",
     "text": [
      "-------------------  data info  -----------------\n",
      "dru_size: 64\n",
      "dru_fea_size: 945\n",
      "dis_size: 1036\n",
      "dis_fea_size: 322\n",
      "tar_size: 103\n",
      "tar_fea_size: 1437\n",
      "threshold: 0.79\n",
      "mask=4  reset dru_dis_A as zero, valid sum(dru_dis_A)=0\n"
     ]
    },
    {
     "name": "stderr",
     "output_type": "stream",
     "text": [
      "\n",
      " 60%|██████    | 320/530 [03:22<02:22,  1.48it/s]\u001b[A"
     ]
    },
    {
     "name": "stdout",
     "output_type": "stream",
     "text": [
      "-------------------  data info  -----------------\n",
      "dru_size: 64\n",
      "dru_fea_size: 945\n",
      "dis_size: 1036\n",
      "dis_fea_size: 322\n",
      "tar_size: 103\n",
      "tar_fea_size: 1437\n",
      "threshold: 0.79\n",
      "mask=4  reset dru_dis_A as zero, valid sum(dru_dis_A)=0\n"
     ]
    },
    {
     "name": "stderr",
     "output_type": "stream",
     "text": [
      "\n",
      " 61%|██████    | 321/530 [03:23<02:20,  1.48it/s]\u001b[A"
     ]
    },
    {
     "name": "stdout",
     "output_type": "stream",
     "text": [
      "-------------------  data info  -----------------\n",
      "dru_size: 64\n",
      "dru_fea_size: 945\n",
      "dis_size: 1036\n",
      "dis_fea_size: 322\n",
      "tar_size: 103\n",
      "tar_fea_size: 1437\n",
      "threshold: 0.79\n",
      "mask=4  reset dru_dis_A as zero, valid sum(dru_dis_A)=0\n"
     ]
    },
    {
     "name": "stderr",
     "output_type": "stream",
     "text": [
      "\n",
      " 61%|██████    | 322/530 [03:23<02:18,  1.50it/s]\u001b[A"
     ]
    },
    {
     "name": "stdout",
     "output_type": "stream",
     "text": [
      "-------------------  data info  -----------------\n",
      "dru_size: 64\n",
      "dru_fea_size: 945\n",
      "dis_size: 1036\n",
      "dis_fea_size: 322\n",
      "tar_size: 103\n",
      "tar_fea_size: 1437\n",
      "threshold: 0.79\n",
      "mask=4  reset dru_dis_A as zero, valid sum(dru_dis_A)=0\n"
     ]
    },
    {
     "name": "stderr",
     "output_type": "stream",
     "text": [
      "\n",
      " 61%|██████    | 323/530 [03:24<02:17,  1.51it/s]\u001b[A"
     ]
    },
    {
     "name": "stdout",
     "output_type": "stream",
     "text": [
      "-------------------  data info  -----------------\n",
      "dru_size: 64\n",
      "dru_fea_size: 945\n",
      "dis_size: 1036\n",
      "dis_fea_size: 322\n",
      "tar_size: 103\n",
      "tar_fea_size: 1437\n",
      "threshold: 0.79\n",
      "mask=4  reset dru_dis_A as zero, valid sum(dru_dis_A)=0\n"
     ]
    },
    {
     "name": "stderr",
     "output_type": "stream",
     "text": [
      "\n",
      " 61%|██████    | 324/530 [03:25<02:17,  1.50it/s]\u001b[A"
     ]
    },
    {
     "name": "stdout",
     "output_type": "stream",
     "text": [
      "-------------------  data info  -----------------\n",
      "dru_size: 64\n",
      "dru_fea_size: 945\n",
      "dis_size: 1036\n",
      "dis_fea_size: 322\n",
      "tar_size: 103\n",
      "tar_fea_size: 1437\n",
      "threshold: 0.79\n",
      "mask=4  reset dru_dis_A as zero, valid sum(dru_dis_A)=0\n"
     ]
    },
    {
     "name": "stderr",
     "output_type": "stream",
     "text": [
      "\n",
      " 61%|██████▏   | 325/530 [03:25<02:16,  1.50it/s]\u001b[A"
     ]
    },
    {
     "name": "stdout",
     "output_type": "stream",
     "text": [
      "-------------------  data info  -----------------\n",
      "dru_size: 64\n",
      "dru_fea_size: 945\n",
      "dis_size: 1036\n",
      "dis_fea_size: 322\n",
      "tar_size: 103\n",
      "tar_fea_size: 1437\n",
      "threshold: 0.79\n",
      "mask=4  reset dru_dis_A as zero, valid sum(dru_dis_A)=0\n"
     ]
    },
    {
     "name": "stderr",
     "output_type": "stream",
     "text": [
      "\n",
      " 62%|██████▏   | 326/530 [03:26<02:14,  1.51it/s]\u001b[A"
     ]
    },
    {
     "name": "stdout",
     "output_type": "stream",
     "text": [
      "-------------------  data info  -----------------\n",
      "dru_size: 64\n",
      "dru_fea_size: 945\n",
      "dis_size: 1036\n",
      "dis_fea_size: 322\n",
      "tar_size: 103\n",
      "tar_fea_size: 1437\n",
      "threshold: 0.79\n",
      "mask=4  reset dru_dis_A as zero, valid sum(dru_dis_A)=0\n"
     ]
    },
    {
     "name": "stderr",
     "output_type": "stream",
     "text": [
      "\n",
      " 62%|██████▏   | 327/530 [03:27<02:15,  1.50it/s]\u001b[A"
     ]
    },
    {
     "name": "stdout",
     "output_type": "stream",
     "text": [
      "-------------------  data info  -----------------\n",
      "dru_size: 64\n",
      "dru_fea_size: 945\n",
      "dis_size: 1036\n",
      "dis_fea_size: 322\n",
      "tar_size: 103\n",
      "tar_fea_size: 1437\n",
      "threshold: 0.79\n",
      "mask=4  reset dru_dis_A as zero, valid sum(dru_dis_A)=0\n"
     ]
    },
    {
     "name": "stderr",
     "output_type": "stream",
     "text": [
      "\n",
      " 62%|██████▏   | 328/530 [03:27<02:14,  1.50it/s]\u001b[A"
     ]
    },
    {
     "name": "stdout",
     "output_type": "stream",
     "text": [
      "-------------------  data info  -----------------\n",
      "dru_size: 64\n",
      "dru_fea_size: 945\n",
      "dis_size: 1036\n",
      "dis_fea_size: 322\n",
      "tar_size: 103\n",
      "tar_fea_size: 1437\n",
      "threshold: 0.79\n",
      "mask=4  reset dru_dis_A as zero, valid sum(dru_dis_A)=0\n"
     ]
    },
    {
     "name": "stderr",
     "output_type": "stream",
     "text": [
      "\n",
      " 62%|██████▏   | 329/530 [03:28<02:13,  1.51it/s]\u001b[A"
     ]
    },
    {
     "name": "stdout",
     "output_type": "stream",
     "text": [
      "-------------------  data info  -----------------\n",
      "dru_size: 64\n",
      "dru_fea_size: 945\n",
      "dis_size: 1036\n",
      "dis_fea_size: 322\n",
      "tar_size: 103\n",
      "tar_fea_size: 1437\n",
      "threshold: 0.79\n",
      "mask=4  reset dru_dis_A as zero, valid sum(dru_dis_A)=0\n"
     ]
    },
    {
     "name": "stderr",
     "output_type": "stream",
     "text": [
      "\n",
      " 62%|██████▏   | 330/530 [03:29<02:12,  1.51it/s]\u001b[A"
     ]
    },
    {
     "name": "stdout",
     "output_type": "stream",
     "text": [
      "-------------------  data info  -----------------\n",
      "dru_size: 81\n",
      "dru_fea_size: 962\n",
      "dis_size: 1157\n",
      "dis_fea_size: 322\n",
      "tar_size: 128\n",
      "tar_fea_size: 1437\n",
      "threshold: 0.74\n",
      "mask=4  reset dru_dis_A as zero, valid sum(dru_dis_A)=0\n"
     ]
    },
    {
     "name": "stderr",
     "output_type": "stream",
     "text": [
      "\n",
      " 62%|██████▏   | 331/530 [03:29<02:18,  1.44it/s]\u001b[A"
     ]
    },
    {
     "name": "stdout",
     "output_type": "stream",
     "text": [
      "-------------------  data info  -----------------\n",
      "dru_size: 81\n",
      "dru_fea_size: 962\n",
      "dis_size: 1157\n",
      "dis_fea_size: 322\n",
      "tar_size: 128\n",
      "tar_fea_size: 1437\n",
      "threshold: 0.74\n",
      "mask=4  reset dru_dis_A as zero, valid sum(dru_dis_A)=0\n"
     ]
    },
    {
     "name": "stderr",
     "output_type": "stream",
     "text": [
      "\n",
      " 63%|██████▎   | 332/530 [03:30<02:18,  1.43it/s]\u001b[A"
     ]
    },
    {
     "name": "stdout",
     "output_type": "stream",
     "text": [
      "-------------------  data info  -----------------\n",
      "dru_size: 81\n",
      "dru_fea_size: 962\n",
      "dis_size: 1157\n",
      "dis_fea_size: 322\n",
      "tar_size: 128\n",
      "tar_fea_size: 1437\n",
      "threshold: 0.74\n",
      "mask=4  reset dru_dis_A as zero, valid sum(dru_dis_A)=0\n"
     ]
    },
    {
     "name": "stderr",
     "output_type": "stream",
     "text": [
      "\n",
      " 63%|██████▎   | 333/530 [03:31<02:18,  1.43it/s]\u001b[A"
     ]
    },
    {
     "name": "stdout",
     "output_type": "stream",
     "text": [
      "-------------------  data info  -----------------\n",
      "dru_size: 81\n",
      "dru_fea_size: 962\n",
      "dis_size: 1157\n",
      "dis_fea_size: 322\n",
      "tar_size: 128\n",
      "tar_fea_size: 1437\n",
      "threshold: 0.74\n",
      "mask=4  reset dru_dis_A as zero, valid sum(dru_dis_A)=0\n"
     ]
    },
    {
     "name": "stderr",
     "output_type": "stream",
     "text": [
      "\n",
      " 63%|██████▎   | 334/530 [03:32<02:18,  1.41it/s]\u001b[A"
     ]
    },
    {
     "name": "stdout",
     "output_type": "stream",
     "text": [
      "-------------------  data info  -----------------\n",
      "dru_size: 81\n",
      "dru_fea_size: 962\n",
      "dis_size: 1157\n",
      "dis_fea_size: 322\n",
      "tar_size: 128\n",
      "tar_fea_size: 1437\n",
      "threshold: 0.74\n",
      "mask=4  reset dru_dis_A as zero, valid sum(dru_dis_A)=0\n"
     ]
    },
    {
     "name": "stderr",
     "output_type": "stream",
     "text": [
      "\n",
      " 63%|██████▎   | 335/530 [03:32<02:18,  1.40it/s]\u001b[A"
     ]
    },
    {
     "name": "stdout",
     "output_type": "stream",
     "text": [
      "-------------------  data info  -----------------\n",
      "dru_size: 81\n",
      "dru_fea_size: 962\n",
      "dis_size: 1157\n",
      "dis_fea_size: 322\n",
      "tar_size: 128\n",
      "tar_fea_size: 1437\n",
      "threshold: 0.74\n",
      "mask=4  reset dru_dis_A as zero, valid sum(dru_dis_A)=0\n"
     ]
    },
    {
     "name": "stderr",
     "output_type": "stream",
     "text": [
      "\n",
      " 63%|██████▎   | 336/530 [03:33<02:19,  1.39it/s]\u001b[A"
     ]
    },
    {
     "name": "stdout",
     "output_type": "stream",
     "text": [
      "-------------------  data info  -----------------\n",
      "dru_size: 81\n",
      "dru_fea_size: 962\n",
      "dis_size: 1157\n",
      "dis_fea_size: 322\n",
      "tar_size: 128\n",
      "tar_fea_size: 1437\n",
      "threshold: 0.74\n",
      "mask=4  reset dru_dis_A as zero, valid sum(dru_dis_A)=0\n"
     ]
    },
    {
     "name": "stderr",
     "output_type": "stream",
     "text": [
      "\n",
      " 64%|██████▎   | 337/530 [03:34<02:18,  1.39it/s]\u001b[A"
     ]
    },
    {
     "name": "stdout",
     "output_type": "stream",
     "text": [
      "-------------------  data info  -----------------\n",
      "dru_size: 81\n",
      "dru_fea_size: 962\n",
      "dis_size: 1157\n",
      "dis_fea_size: 322\n",
      "tar_size: 128\n",
      "tar_fea_size: 1437\n",
      "threshold: 0.74\n",
      "mask=4  reset dru_dis_A as zero, valid sum(dru_dis_A)=0\n"
     ]
    },
    {
     "name": "stderr",
     "output_type": "stream",
     "text": [
      "\n",
      " 64%|██████▍   | 338/530 [03:34<02:17,  1.39it/s]\u001b[A"
     ]
    },
    {
     "name": "stdout",
     "output_type": "stream",
     "text": [
      "-------------------  data info  -----------------\n",
      "dru_size: 81\n",
      "dru_fea_size: 962\n",
      "dis_size: 1157\n",
      "dis_fea_size: 322\n",
      "tar_size: 128\n",
      "tar_fea_size: 1437\n",
      "threshold: 0.74\n",
      "mask=4  reset dru_dis_A as zero, valid sum(dru_dis_A)=0\n"
     ]
    },
    {
     "name": "stderr",
     "output_type": "stream",
     "text": [
      "\n",
      " 64%|██████▍   | 339/530 [03:35<02:17,  1.39it/s]\u001b[A"
     ]
    },
    {
     "name": "stdout",
     "output_type": "stream",
     "text": [
      "-------------------  data info  -----------------\n",
      "dru_size: 81\n",
      "dru_fea_size: 962\n",
      "dis_size: 1157\n",
      "dis_fea_size: 322\n",
      "tar_size: 128\n",
      "tar_fea_size: 1437\n",
      "threshold: 0.74\n",
      "mask=4  reset dru_dis_A as zero, valid sum(dru_dis_A)=0\n"
     ]
    },
    {
     "name": "stderr",
     "output_type": "stream",
     "text": [
      "\n",
      " 64%|██████▍   | 340/530 [03:36<02:17,  1.38it/s]\u001b[A"
     ]
    },
    {
     "name": "stdout",
     "output_type": "stream",
     "text": [
      "-------------------  data info  -----------------\n",
      "dru_size: 64\n",
      "dru_fea_size: 945\n",
      "dis_size: 1036\n",
      "dis_fea_size: 322\n",
      "tar_size: 103\n",
      "tar_fea_size: 1437\n",
      "threshold: 0.79\n",
      "mask=4  reset dru_dis_A as zero, valid sum(dru_dis_A)=0\n"
     ]
    },
    {
     "name": "stderr",
     "output_type": "stream",
     "text": [
      "\n",
      " 64%|██████▍   | 341/530 [03:37<02:14,  1.41it/s]\u001b[A"
     ]
    },
    {
     "name": "stdout",
     "output_type": "stream",
     "text": [
      "-------------------  data info  -----------------\n",
      "dru_size: 64\n",
      "dru_fea_size: 945\n",
      "dis_size: 1036\n",
      "dis_fea_size: 322\n",
      "tar_size: 103\n",
      "tar_fea_size: 1437\n",
      "threshold: 0.79\n",
      "mask=4  reset dru_dis_A as zero, valid sum(dru_dis_A)=0\n"
     ]
    },
    {
     "name": "stderr",
     "output_type": "stream",
     "text": [
      "\n",
      " 65%|██████▍   | 342/530 [03:37<02:10,  1.44it/s]\u001b[A"
     ]
    },
    {
     "name": "stdout",
     "output_type": "stream",
     "text": [
      "-------------------  data info  -----------------\n",
      "dru_size: 64\n",
      "dru_fea_size: 945\n",
      "dis_size: 1036\n",
      "dis_fea_size: 322\n",
      "tar_size: 103\n",
      "tar_fea_size: 1437\n",
      "threshold: 0.79\n",
      "mask=4  reset dru_dis_A as zero, valid sum(dru_dis_A)=0\n"
     ]
    },
    {
     "name": "stderr",
     "output_type": "stream",
     "text": [
      "\n",
      " 65%|██████▍   | 343/530 [03:38<02:07,  1.46it/s]\u001b[A"
     ]
    },
    {
     "name": "stdout",
     "output_type": "stream",
     "text": [
      "-------------------  data info  -----------------\n",
      "dru_size: 64\n",
      "dru_fea_size: 945\n",
      "dis_size: 1036\n",
      "dis_fea_size: 322\n",
      "tar_size: 103\n",
      "tar_fea_size: 1437\n",
      "threshold: 0.79\n",
      "mask=4  reset dru_dis_A as zero, valid sum(dru_dis_A)=0\n"
     ]
    },
    {
     "name": "stderr",
     "output_type": "stream",
     "text": [
      "\n",
      " 65%|██████▍   | 344/530 [03:39<02:04,  1.49it/s]\u001b[A"
     ]
    },
    {
     "name": "stdout",
     "output_type": "stream",
     "text": [
      "-------------------  data info  -----------------\n",
      "dru_size: 64\n",
      "dru_fea_size: 945\n",
      "dis_size: 1036\n",
      "dis_fea_size: 322\n",
      "tar_size: 103\n",
      "tar_fea_size: 1437\n",
      "threshold: 0.79\n",
      "mask=4  reset dru_dis_A as zero, valid sum(dru_dis_A)=0\n"
     ]
    },
    {
     "name": "stderr",
     "output_type": "stream",
     "text": [
      "\n",
      " 65%|██████▌   | 345/530 [03:39<02:03,  1.50it/s]\u001b[A"
     ]
    },
    {
     "name": "stdout",
     "output_type": "stream",
     "text": [
      "-------------------  data info  -----------------\n",
      "dru_size: 64\n",
      "dru_fea_size: 945\n",
      "dis_size: 1036\n",
      "dis_fea_size: 322\n",
      "tar_size: 103\n",
      "tar_fea_size: 1437\n",
      "threshold: 0.79\n",
      "mask=4  reset dru_dis_A as zero, valid sum(dru_dis_A)=0\n"
     ]
    },
    {
     "name": "stderr",
     "output_type": "stream",
     "text": [
      "\n",
      " 65%|██████▌   | 346/530 [03:40<02:02,  1.50it/s]\u001b[A"
     ]
    },
    {
     "name": "stdout",
     "output_type": "stream",
     "text": [
      "-------------------  data info  -----------------\n",
      "dru_size: 64\n",
      "dru_fea_size: 945\n",
      "dis_size: 1036\n",
      "dis_fea_size: 322\n",
      "tar_size: 103\n",
      "tar_fea_size: 1437\n",
      "threshold: 0.79\n",
      "mask=4  reset dru_dis_A as zero, valid sum(dru_dis_A)=0\n"
     ]
    },
    {
     "name": "stderr",
     "output_type": "stream",
     "text": [
      "\n",
      " 65%|██████▌   | 347/530 [03:40<02:00,  1.52it/s]\u001b[A"
     ]
    },
    {
     "name": "stdout",
     "output_type": "stream",
     "text": [
      "-------------------  data info  -----------------\n",
      "dru_size: 64\n",
      "dru_fea_size: 945\n",
      "dis_size: 1036\n",
      "dis_fea_size: 322\n",
      "tar_size: 103\n",
      "tar_fea_size: 1437\n",
      "threshold: 0.79\n",
      "mask=4  reset dru_dis_A as zero, valid sum(dru_dis_A)=0\n"
     ]
    },
    {
     "name": "stderr",
     "output_type": "stream",
     "text": [
      "\n",
      " 66%|██████▌   | 348/530 [03:41<02:00,  1.51it/s]\u001b[A"
     ]
    },
    {
     "name": "stdout",
     "output_type": "stream",
     "text": [
      "-------------------  data info  -----------------\n",
      "dru_size: 64\n",
      "dru_fea_size: 945\n",
      "dis_size: 1036\n",
      "dis_fea_size: 322\n",
      "tar_size: 103\n",
      "tar_fea_size: 1437\n",
      "threshold: 0.79\n",
      "mask=4  reset dru_dis_A as zero, valid sum(dru_dis_A)=0\n"
     ]
    },
    {
     "name": "stderr",
     "output_type": "stream",
     "text": [
      "\n",
      " 66%|██████▌   | 349/530 [03:42<01:58,  1.53it/s]\u001b[A"
     ]
    },
    {
     "name": "stdout",
     "output_type": "stream",
     "text": [
      "-------------------  data info  -----------------\n",
      "dru_size: 64\n",
      "dru_fea_size: 945\n",
      "dis_size: 1036\n",
      "dis_fea_size: 322\n",
      "tar_size: 103\n",
      "tar_fea_size: 1437\n",
      "threshold: 0.79\n",
      "mask=4  reset dru_dis_A as zero, valid sum(dru_dis_A)=0\n"
     ]
    },
    {
     "name": "stderr",
     "output_type": "stream",
     "text": [
      "\n",
      " 66%|██████▌   | 350/530 [03:42<01:56,  1.54it/s]\u001b[A"
     ]
    },
    {
     "name": "stdout",
     "output_type": "stream",
     "text": [
      "-------------------  data info  -----------------\n",
      "dru_size: 64\n",
      "dru_fea_size: 945\n",
      "dis_size: 1036\n",
      "dis_fea_size: 322\n",
      "tar_size: 103\n",
      "tar_fea_size: 1437\n",
      "threshold: 0.79\n",
      "mask=4  reset dru_dis_A as zero, valid sum(dru_dis_A)=0\n"
     ]
    },
    {
     "name": "stderr",
     "output_type": "stream",
     "text": [
      "\n",
      " 66%|██████▌   | 351/530 [03:43<01:58,  1.52it/s]\u001b[A"
     ]
    },
    {
     "name": "stdout",
     "output_type": "stream",
     "text": [
      "-------------------  data info  -----------------\n",
      "dru_size: 64\n",
      "dru_fea_size: 945\n",
      "dis_size: 1036\n",
      "dis_fea_size: 322\n",
      "tar_size: 103\n",
      "tar_fea_size: 1437\n",
      "threshold: 0.79\n",
      "mask=4  reset dru_dis_A as zero, valid sum(dru_dis_A)=0\n"
     ]
    },
    {
     "name": "stderr",
     "output_type": "stream",
     "text": [
      "\n",
      " 66%|██████▋   | 352/530 [03:44<02:01,  1.47it/s]\u001b[A"
     ]
    },
    {
     "name": "stdout",
     "output_type": "stream",
     "text": [
      "-------------------  data info  -----------------\n",
      "dru_size: 64\n",
      "dru_fea_size: 945\n",
      "dis_size: 1036\n",
      "dis_fea_size: 322\n",
      "tar_size: 103\n",
      "tar_fea_size: 1437\n",
      "threshold: 0.79\n",
      "mask=4  reset dru_dis_A as zero, valid sum(dru_dis_A)=0\n"
     ]
    },
    {
     "name": "stderr",
     "output_type": "stream",
     "text": [
      "\n",
      " 67%|██████▋   | 353/530 [03:45<02:03,  1.43it/s]\u001b[A"
     ]
    },
    {
     "name": "stdout",
     "output_type": "stream",
     "text": [
      "-------------------  data info  -----------------\n",
      "dru_size: 64\n",
      "dru_fea_size: 945\n",
      "dis_size: 1036\n",
      "dis_fea_size: 322\n",
      "tar_size: 103\n",
      "tar_fea_size: 1437\n",
      "threshold: 0.79\n",
      "mask=4  reset dru_dis_A as zero, valid sum(dru_dis_A)=0\n"
     ]
    },
    {
     "name": "stderr",
     "output_type": "stream",
     "text": [
      "\n",
      " 67%|██████▋   | 354/530 [03:45<02:00,  1.46it/s]\u001b[A"
     ]
    },
    {
     "name": "stdout",
     "output_type": "stream",
     "text": [
      "-------------------  data info  -----------------\n",
      "dru_size: 64\n",
      "dru_fea_size: 945\n",
      "dis_size: 1036\n",
      "dis_fea_size: 322\n",
      "tar_size: 103\n",
      "tar_fea_size: 1437\n",
      "threshold: 0.79\n",
      "mask=4  reset dru_dis_A as zero, valid sum(dru_dis_A)=0\n"
     ]
    },
    {
     "name": "stderr",
     "output_type": "stream",
     "text": [
      "\n",
      " 67%|██████▋   | 355/530 [03:46<01:58,  1.47it/s]\u001b[A"
     ]
    },
    {
     "name": "stdout",
     "output_type": "stream",
     "text": [
      "-------------------  data info  -----------------\n",
      "dru_size: 64\n",
      "dru_fea_size: 945\n",
      "dis_size: 1036\n",
      "dis_fea_size: 322\n",
      "tar_size: 103\n",
      "tar_fea_size: 1437\n",
      "threshold: 0.79\n",
      "mask=4  reset dru_dis_A as zero, valid sum(dru_dis_A)=0\n"
     ]
    },
    {
     "name": "stderr",
     "output_type": "stream",
     "text": [
      "\n",
      " 67%|██████▋   | 356/530 [03:47<01:57,  1.48it/s]\u001b[A"
     ]
    },
    {
     "name": "stdout",
     "output_type": "stream",
     "text": [
      "-------------------  data info  -----------------\n",
      "dru_size: 64\n",
      "dru_fea_size: 945\n",
      "dis_size: 1036\n",
      "dis_fea_size: 322\n",
      "tar_size: 103\n",
      "tar_fea_size: 1437\n",
      "threshold: 0.79\n",
      "mask=4  reset dru_dis_A as zero, valid sum(dru_dis_A)=0\n"
     ]
    },
    {
     "name": "stderr",
     "output_type": "stream",
     "text": [
      "\n",
      " 67%|██████▋   | 357/530 [03:47<01:56,  1.48it/s]\u001b[A"
     ]
    },
    {
     "name": "stdout",
     "output_type": "stream",
     "text": [
      "-------------------  data info  -----------------\n",
      "dru_size: 64\n",
      "dru_fea_size: 945\n",
      "dis_size: 1036\n",
      "dis_fea_size: 322\n",
      "tar_size: 103\n",
      "tar_fea_size: 1437\n",
      "threshold: 0.79\n",
      "mask=4  reset dru_dis_A as zero, valid sum(dru_dis_A)=0\n"
     ]
    },
    {
     "name": "stderr",
     "output_type": "stream",
     "text": [
      "\n",
      " 68%|██████▊   | 358/530 [03:48<01:55,  1.49it/s]\u001b[A"
     ]
    },
    {
     "name": "stdout",
     "output_type": "stream",
     "text": [
      "-------------------  data info  -----------------\n",
      "dru_size: 64\n",
      "dru_fea_size: 945\n",
      "dis_size: 1036\n",
      "dis_fea_size: 322\n",
      "tar_size: 103\n",
      "tar_fea_size: 1437\n",
      "threshold: 0.79\n",
      "mask=4  reset dru_dis_A as zero, valid sum(dru_dis_A)=0\n"
     ]
    },
    {
     "name": "stderr",
     "output_type": "stream",
     "text": [
      "\n",
      " 68%|██████▊   | 359/530 [03:49<01:54,  1.49it/s]\u001b[A"
     ]
    },
    {
     "name": "stdout",
     "output_type": "stream",
     "text": [
      "-------------------  data info  -----------------\n",
      "dru_size: 64\n",
      "dru_fea_size: 945\n",
      "dis_size: 1036\n",
      "dis_fea_size: 322\n",
      "tar_size: 103\n",
      "tar_fea_size: 1437\n",
      "threshold: 0.79\n",
      "mask=4  reset dru_dis_A as zero, valid sum(dru_dis_A)=0\n"
     ]
    },
    {
     "name": "stderr",
     "output_type": "stream",
     "text": [
      "\n",
      " 68%|██████▊   | 360/530 [03:49<01:53,  1.50it/s]\u001b[A"
     ]
    },
    {
     "name": "stdout",
     "output_type": "stream",
     "text": [
      "-------------------  data info  -----------------\n",
      "dru_size: 64\n",
      "dru_fea_size: 945\n",
      "dis_size: 1036\n",
      "dis_fea_size: 322\n",
      "tar_size: 103\n",
      "tar_fea_size: 1437\n",
      "threshold: 0.79\n",
      "mask=4  reset dru_dis_A as zero, valid sum(dru_dis_A)=0\n"
     ]
    },
    {
     "name": "stderr",
     "output_type": "stream",
     "text": [
      "\n",
      " 68%|██████▊   | 361/530 [03:50<01:54,  1.48it/s]\u001b[A"
     ]
    },
    {
     "name": "stdout",
     "output_type": "stream",
     "text": [
      "-------------------  data info  -----------------\n",
      "dru_size: 64\n",
      "dru_fea_size: 945\n",
      "dis_size: 1036\n",
      "dis_fea_size: 322\n",
      "tar_size: 103\n",
      "tar_fea_size: 1437\n",
      "threshold: 0.79\n",
      "mask=4  reset dru_dis_A as zero, valid sum(dru_dis_A)=0\n"
     ]
    },
    {
     "name": "stderr",
     "output_type": "stream",
     "text": [
      "\n",
      " 68%|██████▊   | 362/530 [03:51<01:54,  1.47it/s]\u001b[A"
     ]
    },
    {
     "name": "stdout",
     "output_type": "stream",
     "text": [
      "-------------------  data info  -----------------\n",
      "dru_size: 64\n",
      "dru_fea_size: 945\n",
      "dis_size: 1036\n",
      "dis_fea_size: 322\n",
      "tar_size: 103\n",
      "tar_fea_size: 1437\n",
      "threshold: 0.79\n",
      "mask=4  reset dru_dis_A as zero, valid sum(dru_dis_A)=0\n"
     ]
    },
    {
     "name": "stderr",
     "output_type": "stream",
     "text": [
      "\n",
      " 68%|██████▊   | 363/530 [03:51<01:53,  1.47it/s]\u001b[A"
     ]
    },
    {
     "name": "stdout",
     "output_type": "stream",
     "text": [
      "-------------------  data info  -----------------\n",
      "dru_size: 64\n",
      "dru_fea_size: 945\n",
      "dis_size: 1036\n",
      "dis_fea_size: 322\n",
      "tar_size: 103\n",
      "tar_fea_size: 1437\n",
      "threshold: 0.79\n",
      "mask=4  reset dru_dis_A as zero, valid sum(dru_dis_A)=0\n"
     ]
    },
    {
     "name": "stderr",
     "output_type": "stream",
     "text": [
      "\n",
      " 69%|██████▊   | 364/530 [03:52<01:52,  1.47it/s]\u001b[A"
     ]
    },
    {
     "name": "stdout",
     "output_type": "stream",
     "text": [
      "-------------------  data info  -----------------\n",
      "dru_size: 64\n",
      "dru_fea_size: 945\n",
      "dis_size: 1036\n",
      "dis_fea_size: 322\n",
      "tar_size: 103\n",
      "tar_fea_size: 1437\n",
      "threshold: 0.79\n",
      "mask=4  reset dru_dis_A as zero, valid sum(dru_dis_A)=0\n"
     ]
    },
    {
     "name": "stderr",
     "output_type": "stream",
     "text": [
      "\n",
      " 69%|██████▉   | 365/530 [03:53<01:52,  1.47it/s]\u001b[A"
     ]
    },
    {
     "name": "stdout",
     "output_type": "stream",
     "text": [
      "-------------------  data info  -----------------\n",
      "dru_size: 64\n",
      "dru_fea_size: 945\n",
      "dis_size: 1036\n",
      "dis_fea_size: 322\n",
      "tar_size: 103\n",
      "tar_fea_size: 1437\n",
      "threshold: 0.79\n",
      "mask=4  reset dru_dis_A as zero, valid sum(dru_dis_A)=0\n"
     ]
    },
    {
     "name": "stderr",
     "output_type": "stream",
     "text": [
      "\n",
      " 69%|██████▉   | 366/530 [03:53<01:51,  1.48it/s]\u001b[A"
     ]
    },
    {
     "name": "stdout",
     "output_type": "stream",
     "text": [
      "-------------------  data info  -----------------\n",
      "dru_size: 64\n",
      "dru_fea_size: 945\n",
      "dis_size: 1036\n",
      "dis_fea_size: 322\n",
      "tar_size: 103\n",
      "tar_fea_size: 1437\n",
      "threshold: 0.79\n",
      "mask=4  reset dru_dis_A as zero, valid sum(dru_dis_A)=0\n"
     ]
    },
    {
     "name": "stderr",
     "output_type": "stream",
     "text": [
      "\n",
      " 69%|██████▉   | 367/530 [03:54<01:49,  1.49it/s]\u001b[A"
     ]
    },
    {
     "name": "stdout",
     "output_type": "stream",
     "text": [
      "-------------------  data info  -----------------\n",
      "dru_size: 64\n",
      "dru_fea_size: 945\n",
      "dis_size: 1036\n",
      "dis_fea_size: 322\n",
      "tar_size: 103\n",
      "tar_fea_size: 1437\n",
      "threshold: 0.79\n",
      "mask=4  reset dru_dis_A as zero, valid sum(dru_dis_A)=0\n"
     ]
    },
    {
     "name": "stderr",
     "output_type": "stream",
     "text": [
      "\n",
      " 69%|██████▉   | 368/530 [03:55<01:47,  1.51it/s]\u001b[A"
     ]
    },
    {
     "name": "stdout",
     "output_type": "stream",
     "text": [
      "-------------------  data info  -----------------\n",
      "dru_size: 64\n",
      "dru_fea_size: 945\n",
      "dis_size: 1036\n",
      "dis_fea_size: 322\n",
      "tar_size: 103\n",
      "tar_fea_size: 1437\n",
      "threshold: 0.79\n",
      "mask=4  reset dru_dis_A as zero, valid sum(dru_dis_A)=0\n"
     ]
    },
    {
     "name": "stderr",
     "output_type": "stream",
     "text": [
      "\n",
      " 70%|██████▉   | 369/530 [03:55<01:47,  1.50it/s]\u001b[A"
     ]
    },
    {
     "name": "stdout",
     "output_type": "stream",
     "text": [
      "-------------------  data info  -----------------\n",
      "dru_size: 64\n",
      "dru_fea_size: 945\n",
      "dis_size: 1036\n",
      "dis_fea_size: 322\n",
      "tar_size: 103\n",
      "tar_fea_size: 1437\n",
      "threshold: 0.79\n",
      "mask=4  reset dru_dis_A as zero, valid sum(dru_dis_A)=0\n"
     ]
    },
    {
     "name": "stderr",
     "output_type": "stream",
     "text": [
      "\n",
      " 70%|██████▉   | 370/530 [03:56<01:45,  1.52it/s]\u001b[A"
     ]
    },
    {
     "name": "stdout",
     "output_type": "stream",
     "text": [
      "-------------------  data info  -----------------\n",
      "dru_size: 64\n",
      "dru_fea_size: 945\n",
      "dis_size: 1036\n",
      "dis_fea_size: 322\n",
      "tar_size: 103\n",
      "tar_fea_size: 1437\n",
      "threshold: 0.79\n",
      "mask=4  reset dru_dis_A as zero, valid sum(dru_dis_A)=0\n"
     ]
    },
    {
     "name": "stderr",
     "output_type": "stream",
     "text": [
      "\n",
      " 70%|███████   | 371/530 [03:57<01:46,  1.50it/s]\u001b[A"
     ]
    },
    {
     "name": "stdout",
     "output_type": "stream",
     "text": [
      "-------------------  data info  -----------------\n",
      "dru_size: 64\n",
      "dru_fea_size: 945\n",
      "dis_size: 1036\n",
      "dis_fea_size: 322\n",
      "tar_size: 103\n",
      "tar_fea_size: 1437\n",
      "threshold: 0.79\n",
      "mask=4  reset dru_dis_A as zero, valid sum(dru_dis_A)=0\n"
     ]
    },
    {
     "name": "stderr",
     "output_type": "stream",
     "text": [
      "\n",
      " 70%|███████   | 372/530 [03:57<01:45,  1.50it/s]\u001b[A"
     ]
    },
    {
     "name": "stdout",
     "output_type": "stream",
     "text": [
      "-------------------  data info  -----------------\n",
      "dru_size: 64\n",
      "dru_fea_size: 945\n",
      "dis_size: 1036\n",
      "dis_fea_size: 322\n",
      "tar_size: 103\n",
      "tar_fea_size: 1437\n",
      "threshold: 0.79\n",
      "mask=4  reset dru_dis_A as zero, valid sum(dru_dis_A)=0\n"
     ]
    },
    {
     "name": "stderr",
     "output_type": "stream",
     "text": [
      "\n",
      " 70%|███████   | 373/530 [03:58<01:44,  1.51it/s]\u001b[A"
     ]
    },
    {
     "name": "stdout",
     "output_type": "stream",
     "text": [
      "-------------------  data info  -----------------\n",
      "dru_size: 64\n",
      "dru_fea_size: 945\n",
      "dis_size: 1036\n",
      "dis_fea_size: 322\n",
      "tar_size: 103\n",
      "tar_fea_size: 1437\n",
      "threshold: 0.79\n",
      "mask=4  reset dru_dis_A as zero, valid sum(dru_dis_A)=0\n"
     ]
    },
    {
     "name": "stderr",
     "output_type": "stream",
     "text": [
      "\n",
      " 71%|███████   | 374/530 [03:59<01:43,  1.51it/s]\u001b[A"
     ]
    },
    {
     "name": "stdout",
     "output_type": "stream",
     "text": [
      "-------------------  data info  -----------------\n",
      "dru_size: 64\n",
      "dru_fea_size: 945\n",
      "dis_size: 1036\n",
      "dis_fea_size: 322\n",
      "tar_size: 103\n",
      "tar_fea_size: 1437\n",
      "threshold: 0.79\n",
      "mask=4  reset dru_dis_A as zero, valid sum(dru_dis_A)=0\n"
     ]
    },
    {
     "name": "stderr",
     "output_type": "stream",
     "text": [
      "\n",
      " 71%|███████   | 375/530 [03:59<01:42,  1.51it/s]\u001b[A"
     ]
    },
    {
     "name": "stdout",
     "output_type": "stream",
     "text": [
      "-------------------  data info  -----------------\n",
      "dru_size: 64\n",
      "dru_fea_size: 945\n",
      "dis_size: 1036\n",
      "dis_fea_size: 322\n",
      "tar_size: 103\n",
      "tar_fea_size: 1437\n",
      "threshold: 0.79\n",
      "mask=4  reset dru_dis_A as zero, valid sum(dru_dis_A)=0\n"
     ]
    },
    {
     "name": "stderr",
     "output_type": "stream",
     "text": [
      "\n",
      " 71%|███████   | 376/530 [04:00<01:41,  1.52it/s]\u001b[A"
     ]
    },
    {
     "name": "stdout",
     "output_type": "stream",
     "text": [
      "-------------------  data info  -----------------\n",
      "dru_size: 64\n",
      "dru_fea_size: 945\n",
      "dis_size: 1036\n",
      "dis_fea_size: 322\n",
      "tar_size: 103\n",
      "tar_fea_size: 1437\n",
      "threshold: 0.79\n",
      "mask=4  reset dru_dis_A as zero, valid sum(dru_dis_A)=0\n"
     ]
    },
    {
     "name": "stderr",
     "output_type": "stream",
     "text": [
      "\n",
      " 71%|███████   | 377/530 [04:01<01:40,  1.53it/s]\u001b[A"
     ]
    },
    {
     "name": "stdout",
     "output_type": "stream",
     "text": [
      "-------------------  data info  -----------------\n",
      "dru_size: 64\n",
      "dru_fea_size: 945\n",
      "dis_size: 1036\n",
      "dis_fea_size: 322\n",
      "tar_size: 103\n",
      "tar_fea_size: 1437\n",
      "threshold: 0.79\n",
      "mask=4  reset dru_dis_A as zero, valid sum(dru_dis_A)=0\n"
     ]
    },
    {
     "name": "stderr",
     "output_type": "stream",
     "text": [
      "\n",
      " 71%|███████▏  | 378/530 [04:01<01:40,  1.51it/s]\u001b[A"
     ]
    },
    {
     "name": "stdout",
     "output_type": "stream",
     "text": [
      "-------------------  data info  -----------------\n",
      "dru_size: 64\n",
      "dru_fea_size: 945\n",
      "dis_size: 1036\n",
      "dis_fea_size: 322\n",
      "tar_size: 103\n",
      "tar_fea_size: 1437\n",
      "threshold: 0.79\n",
      "mask=4  reset dru_dis_A as zero, valid sum(dru_dis_A)=0\n"
     ]
    },
    {
     "name": "stderr",
     "output_type": "stream",
     "text": [
      "\n",
      " 72%|███████▏  | 379/530 [04:02<01:38,  1.53it/s]\u001b[A"
     ]
    },
    {
     "name": "stdout",
     "output_type": "stream",
     "text": [
      "-------------------  data info  -----------------\n",
      "dru_size: 64\n",
      "dru_fea_size: 945\n",
      "dis_size: 1036\n",
      "dis_fea_size: 322\n",
      "tar_size: 103\n",
      "tar_fea_size: 1437\n",
      "threshold: 0.79\n",
      "mask=4  reset dru_dis_A as zero, valid sum(dru_dis_A)=0\n"
     ]
    },
    {
     "name": "stderr",
     "output_type": "stream",
     "text": [
      "\n",
      " 72%|███████▏  | 380/530 [04:03<01:38,  1.52it/s]\u001b[A"
     ]
    },
    {
     "name": "stdout",
     "output_type": "stream",
     "text": [
      "-------------------  data info  -----------------\n",
      "dru_size: 64\n",
      "dru_fea_size: 945\n",
      "dis_size: 1036\n",
      "dis_fea_size: 322\n",
      "tar_size: 103\n",
      "tar_fea_size: 1437\n",
      "threshold: 0.79\n",
      "mask=4  reset dru_dis_A as zero, valid sum(dru_dis_A)=0\n"
     ]
    },
    {
     "name": "stderr",
     "output_type": "stream",
     "text": [
      "\n",
      " 72%|███████▏  | 381/530 [04:03<01:38,  1.51it/s]\u001b[A"
     ]
    },
    {
     "name": "stdout",
     "output_type": "stream",
     "text": [
      "-------------------  data info  -----------------\n",
      "dru_size: 64\n",
      "dru_fea_size: 945\n",
      "dis_size: 1036\n",
      "dis_fea_size: 322\n",
      "tar_size: 103\n",
      "tar_fea_size: 1437\n",
      "threshold: 0.79\n",
      "mask=4  reset dru_dis_A as zero, valid sum(dru_dis_A)=0\n"
     ]
    },
    {
     "name": "stderr",
     "output_type": "stream",
     "text": [
      "\n",
      " 72%|███████▏  | 382/530 [04:04<01:38,  1.50it/s]\u001b[A"
     ]
    },
    {
     "name": "stdout",
     "output_type": "stream",
     "text": [
      "-------------------  data info  -----------------\n",
      "dru_size: 64\n",
      "dru_fea_size: 945\n",
      "dis_size: 1036\n",
      "dis_fea_size: 322\n",
      "tar_size: 103\n",
      "tar_fea_size: 1437\n",
      "threshold: 0.79\n",
      "mask=4  reset dru_dis_A as zero, valid sum(dru_dis_A)=0\n"
     ]
    },
    {
     "name": "stderr",
     "output_type": "stream",
     "text": [
      "\n",
      " 72%|███████▏  | 383/530 [04:05<01:36,  1.52it/s]\u001b[A"
     ]
    },
    {
     "name": "stdout",
     "output_type": "stream",
     "text": [
      "-------------------  data info  -----------------\n",
      "dru_size: 64\n",
      "dru_fea_size: 945\n",
      "dis_size: 1036\n",
      "dis_fea_size: 322\n",
      "tar_size: 103\n",
      "tar_fea_size: 1437\n",
      "threshold: 0.79\n",
      "mask=4  reset dru_dis_A as zero, valid sum(dru_dis_A)=0\n"
     ]
    },
    {
     "name": "stderr",
     "output_type": "stream",
     "text": [
      "\n",
      " 72%|███████▏  | 384/530 [04:05<01:37,  1.50it/s]\u001b[A"
     ]
    },
    {
     "name": "stdout",
     "output_type": "stream",
     "text": [
      "-------------------  data info  -----------------\n",
      "dru_size: 64\n",
      "dru_fea_size: 945\n",
      "dis_size: 1036\n",
      "dis_fea_size: 322\n",
      "tar_size: 103\n",
      "tar_fea_size: 1437\n",
      "threshold: 0.79\n",
      "mask=4  reset dru_dis_A as zero, valid sum(dru_dis_A)=0\n"
     ]
    },
    {
     "name": "stderr",
     "output_type": "stream",
     "text": [
      "\n",
      " 73%|███████▎  | 385/530 [04:06<01:37,  1.49it/s]\u001b[A"
     ]
    },
    {
     "name": "stdout",
     "output_type": "stream",
     "text": [
      "-------------------  data info  -----------------\n",
      "dru_size: 64\n",
      "dru_fea_size: 945\n",
      "dis_size: 1036\n",
      "dis_fea_size: 322\n",
      "tar_size: 103\n",
      "tar_fea_size: 1437\n",
      "threshold: 0.79\n",
      "mask=4  reset dru_dis_A as zero, valid sum(dru_dis_A)=0\n"
     ]
    },
    {
     "name": "stderr",
     "output_type": "stream",
     "text": [
      "\n",
      " 73%|███████▎  | 386/530 [04:07<01:35,  1.51it/s]\u001b[A"
     ]
    },
    {
     "name": "stdout",
     "output_type": "stream",
     "text": [
      "-------------------  data info  -----------------\n",
      "dru_size: 64\n",
      "dru_fea_size: 945\n",
      "dis_size: 1036\n",
      "dis_fea_size: 322\n",
      "tar_size: 103\n",
      "tar_fea_size: 1437\n",
      "threshold: 0.79\n",
      "mask=4  reset dru_dis_A as zero, valid sum(dru_dis_A)=0\n"
     ]
    },
    {
     "name": "stderr",
     "output_type": "stream",
     "text": [
      "\n",
      " 73%|███████▎  | 387/530 [04:07<01:35,  1.49it/s]\u001b[A"
     ]
    },
    {
     "name": "stdout",
     "output_type": "stream",
     "text": [
      "-------------------  data info  -----------------\n",
      "dru_size: 64\n",
      "dru_fea_size: 945\n",
      "dis_size: 1036\n",
      "dis_fea_size: 322\n",
      "tar_size: 103\n",
      "tar_fea_size: 1437\n",
      "threshold: 0.79\n",
      "mask=4  reset dru_dis_A as zero, valid sum(dru_dis_A)=0\n"
     ]
    },
    {
     "name": "stderr",
     "output_type": "stream",
     "text": [
      "\n",
      " 73%|███████▎  | 388/530 [04:08<01:34,  1.50it/s]\u001b[A"
     ]
    },
    {
     "name": "stdout",
     "output_type": "stream",
     "text": [
      "-------------------  data info  -----------------\n",
      "dru_size: 64\n",
      "dru_fea_size: 945\n",
      "dis_size: 1036\n",
      "dis_fea_size: 322\n",
      "tar_size: 103\n",
      "tar_fea_size: 1437\n",
      "threshold: 0.79\n",
      "mask=4  reset dru_dis_A as zero, valid sum(dru_dis_A)=0\n"
     ]
    },
    {
     "name": "stderr",
     "output_type": "stream",
     "text": [
      "\n",
      " 73%|███████▎  | 389/530 [04:09<01:34,  1.49it/s]\u001b[A"
     ]
    },
    {
     "name": "stdout",
     "output_type": "stream",
     "text": [
      "-------------------  data info  -----------------\n",
      "dru_size: 64\n",
      "dru_fea_size: 945\n",
      "dis_size: 1036\n",
      "dis_fea_size: 322\n",
      "tar_size: 103\n",
      "tar_fea_size: 1437\n",
      "threshold: 0.79\n",
      "mask=4  reset dru_dis_A as zero, valid sum(dru_dis_A)=0\n"
     ]
    },
    {
     "name": "stderr",
     "output_type": "stream",
     "text": [
      "\n",
      " 74%|███████▎  | 390/530 [04:09<01:35,  1.46it/s]\u001b[A"
     ]
    },
    {
     "name": "stdout",
     "output_type": "stream",
     "text": [
      "-------------------  data info  -----------------\n",
      "dru_size: 64\n",
      "dru_fea_size: 945\n",
      "dis_size: 1036\n",
      "dis_fea_size: 322\n",
      "tar_size: 103\n",
      "tar_fea_size: 1437\n",
      "threshold: 0.79\n",
      "mask=4  reset dru_dis_A as zero, valid sum(dru_dis_A)=0\n"
     ]
    },
    {
     "name": "stderr",
     "output_type": "stream",
     "text": [
      "\n",
      " 74%|███████▍  | 391/530 [04:10<01:34,  1.47it/s]\u001b[A"
     ]
    },
    {
     "name": "stdout",
     "output_type": "stream",
     "text": [
      "-------------------  data info  -----------------\n",
      "dru_size: 64\n",
      "dru_fea_size: 945\n",
      "dis_size: 1036\n",
      "dis_fea_size: 322\n",
      "tar_size: 103\n",
      "tar_fea_size: 1437\n",
      "threshold: 0.79\n",
      "mask=4  reset dru_dis_A as zero, valid sum(dru_dis_A)=0\n"
     ]
    },
    {
     "name": "stderr",
     "output_type": "stream",
     "text": [
      "\n",
      " 74%|███████▍  | 392/530 [04:11<01:33,  1.48it/s]\u001b[A"
     ]
    },
    {
     "name": "stdout",
     "output_type": "stream",
     "text": [
      "-------------------  data info  -----------------\n",
      "dru_size: 64\n",
      "dru_fea_size: 945\n",
      "dis_size: 1036\n",
      "dis_fea_size: 322\n",
      "tar_size: 103\n",
      "tar_fea_size: 1437\n",
      "threshold: 0.79\n",
      "mask=4  reset dru_dis_A as zero, valid sum(dru_dis_A)=0\n"
     ]
    },
    {
     "name": "stderr",
     "output_type": "stream",
     "text": [
      "\n",
      " 74%|███████▍  | 393/530 [04:11<01:32,  1.49it/s]\u001b[A"
     ]
    },
    {
     "name": "stdout",
     "output_type": "stream",
     "text": [
      "-------------------  data info  -----------------\n",
      "dru_size: 64\n",
      "dru_fea_size: 945\n",
      "dis_size: 1036\n",
      "dis_fea_size: 322\n",
      "tar_size: 103\n",
      "tar_fea_size: 1437\n",
      "threshold: 0.79\n",
      "mask=4  reset dru_dis_A as zero, valid sum(dru_dis_A)=0\n"
     ]
    },
    {
     "name": "stderr",
     "output_type": "stream",
     "text": [
      "\n",
      " 74%|███████▍  | 394/530 [04:12<01:31,  1.49it/s]\u001b[A"
     ]
    },
    {
     "name": "stdout",
     "output_type": "stream",
     "text": [
      "-------------------  data info  -----------------\n",
      "dru_size: 64\n",
      "dru_fea_size: 945\n",
      "dis_size: 1036\n",
      "dis_fea_size: 322\n",
      "tar_size: 103\n",
      "tar_fea_size: 1437\n",
      "threshold: 0.79\n",
      "mask=4  reset dru_dis_A as zero, valid sum(dru_dis_A)=0\n"
     ]
    },
    {
     "name": "stderr",
     "output_type": "stream",
     "text": [
      "\n",
      " 75%|███████▍  | 395/530 [04:13<01:32,  1.47it/s]\u001b[A"
     ]
    },
    {
     "name": "stdout",
     "output_type": "stream",
     "text": [
      "-------------------  data info  -----------------\n",
      "dru_size: 64\n",
      "dru_fea_size: 945\n",
      "dis_size: 1036\n",
      "dis_fea_size: 322\n",
      "tar_size: 103\n",
      "tar_fea_size: 1437\n",
      "threshold: 0.79\n",
      "mask=4  reset dru_dis_A as zero, valid sum(dru_dis_A)=0\n"
     ]
    },
    {
     "name": "stderr",
     "output_type": "stream",
     "text": [
      "\n",
      " 75%|███████▍  | 396/530 [04:13<01:33,  1.43it/s]\u001b[A"
     ]
    },
    {
     "name": "stdout",
     "output_type": "stream",
     "text": [
      "-------------------  data info  -----------------\n",
      "dru_size: 64\n",
      "dru_fea_size: 945\n",
      "dis_size: 1036\n",
      "dis_fea_size: 322\n",
      "tar_size: 103\n",
      "tar_fea_size: 1437\n",
      "threshold: 0.79\n",
      "mask=4  reset dru_dis_A as zero, valid sum(dru_dis_A)=0\n"
     ]
    },
    {
     "name": "stderr",
     "output_type": "stream",
     "text": [
      "\n",
      " 75%|███████▍  | 397/530 [04:14<01:31,  1.45it/s]\u001b[A"
     ]
    },
    {
     "name": "stdout",
     "output_type": "stream",
     "text": [
      "-------------------  data info  -----------------\n",
      "dru_size: 64\n",
      "dru_fea_size: 945\n",
      "dis_size: 1036\n",
      "dis_fea_size: 322\n",
      "tar_size: 103\n",
      "tar_fea_size: 1437\n",
      "threshold: 0.79\n",
      "mask=4  reset dru_dis_A as zero, valid sum(dru_dis_A)=0\n"
     ]
    },
    {
     "name": "stderr",
     "output_type": "stream",
     "text": [
      "\n",
      " 75%|███████▌  | 398/530 [04:15<01:29,  1.47it/s]\u001b[A"
     ]
    },
    {
     "name": "stdout",
     "output_type": "stream",
     "text": [
      "-------------------  data info  -----------------\n",
      "dru_size: 64\n",
      "dru_fea_size: 945\n",
      "dis_size: 1036\n",
      "dis_fea_size: 322\n",
      "tar_size: 103\n",
      "tar_fea_size: 1437\n",
      "threshold: 0.79\n",
      "mask=4  reset dru_dis_A as zero, valid sum(dru_dis_A)=0\n"
     ]
    },
    {
     "name": "stderr",
     "output_type": "stream",
     "text": [
      "\n",
      " 75%|███████▌  | 399/530 [04:15<01:29,  1.47it/s]\u001b[A"
     ]
    },
    {
     "name": "stdout",
     "output_type": "stream",
     "text": [
      "-------------------  data info  -----------------\n",
      "dru_size: 64\n",
      "dru_fea_size: 945\n",
      "dis_size: 1036\n",
      "dis_fea_size: 322\n",
      "tar_size: 103\n",
      "tar_fea_size: 1437\n",
      "threshold: 0.79\n",
      "mask=4  reset dru_dis_A as zero, valid sum(dru_dis_A)=0\n"
     ]
    },
    {
     "name": "stderr",
     "output_type": "stream",
     "text": [
      "\n",
      " 75%|███████▌  | 400/530 [04:16<01:27,  1.48it/s]\u001b[A"
     ]
    },
    {
     "name": "stdout",
     "output_type": "stream",
     "text": [
      "-------------------  data info  -----------------\n",
      "dru_size: 64\n",
      "dru_fea_size: 945\n",
      "dis_size: 1036\n",
      "dis_fea_size: 322\n",
      "tar_size: 103\n",
      "tar_fea_size: 1437\n",
      "threshold: 0.79\n",
      "mask=4  reset dru_dis_A as zero, valid sum(dru_dis_A)=0\n"
     ]
    },
    {
     "name": "stderr",
     "output_type": "stream",
     "text": [
      "\n",
      " 76%|███████▌  | 401/530 [04:17<01:29,  1.45it/s]\u001b[A"
     ]
    },
    {
     "name": "stdout",
     "output_type": "stream",
     "text": [
      "-------------------  data info  -----------------\n",
      "dru_size: 64\n",
      "dru_fea_size: 945\n",
      "dis_size: 1036\n",
      "dis_fea_size: 322\n",
      "tar_size: 103\n",
      "tar_fea_size: 1437\n",
      "threshold: 0.79\n",
      "mask=4  reset dru_dis_A as zero, valid sum(dru_dis_A)=0\n"
     ]
    },
    {
     "name": "stderr",
     "output_type": "stream",
     "text": [
      "\n",
      " 76%|███████▌  | 402/530 [04:17<01:26,  1.48it/s]\u001b[A"
     ]
    },
    {
     "name": "stdout",
     "output_type": "stream",
     "text": [
      "-------------------  data info  -----------------\n",
      "dru_size: 64\n",
      "dru_fea_size: 945\n",
      "dis_size: 1036\n",
      "dis_fea_size: 322\n",
      "tar_size: 103\n",
      "tar_fea_size: 1437\n",
      "threshold: 0.79\n",
      "mask=4  reset dru_dis_A as zero, valid sum(dru_dis_A)=0\n"
     ]
    },
    {
     "name": "stderr",
     "output_type": "stream",
     "text": [
      "\n",
      " 76%|███████▌  | 403/530 [04:18<01:25,  1.49it/s]\u001b[A"
     ]
    },
    {
     "name": "stdout",
     "output_type": "stream",
     "text": [
      "-------------------  data info  -----------------\n",
      "dru_size: 64\n",
      "dru_fea_size: 945\n",
      "dis_size: 1036\n",
      "dis_fea_size: 322\n",
      "tar_size: 103\n",
      "tar_fea_size: 1437\n",
      "threshold: 0.79\n",
      "mask=4  reset dru_dis_A as zero, valid sum(dru_dis_A)=0\n"
     ]
    },
    {
     "name": "stderr",
     "output_type": "stream",
     "text": [
      "\n",
      " 76%|███████▌  | 404/530 [04:19<01:25,  1.48it/s]\u001b[A"
     ]
    },
    {
     "name": "stdout",
     "output_type": "stream",
     "text": [
      "-------------------  data info  -----------------\n",
      "dru_size: 64\n",
      "dru_fea_size: 945\n",
      "dis_size: 1036\n",
      "dis_fea_size: 322\n",
      "tar_size: 103\n",
      "tar_fea_size: 1437\n",
      "threshold: 0.79\n",
      "mask=4  reset dru_dis_A as zero, valid sum(dru_dis_A)=0\n"
     ]
    },
    {
     "name": "stderr",
     "output_type": "stream",
     "text": [
      "\n",
      " 76%|███████▋  | 405/530 [04:19<01:23,  1.50it/s]\u001b[A"
     ]
    },
    {
     "name": "stdout",
     "output_type": "stream",
     "text": [
      "-------------------  data info  -----------------\n",
      "dru_size: 64\n",
      "dru_fea_size: 945\n",
      "dis_size: 1036\n",
      "dis_fea_size: 322\n",
      "tar_size: 103\n",
      "tar_fea_size: 1437\n",
      "threshold: 0.79\n",
      "mask=4  reset dru_dis_A as zero, valid sum(dru_dis_A)=0\n"
     ]
    },
    {
     "name": "stderr",
     "output_type": "stream",
     "text": [
      "\n",
      " 77%|███████▋  | 406/530 [04:20<01:21,  1.52it/s]\u001b[A"
     ]
    },
    {
     "name": "stdout",
     "output_type": "stream",
     "text": [
      "-------------------  data info  -----------------\n",
      "dru_size: 64\n",
      "dru_fea_size: 945\n",
      "dis_size: 1036\n",
      "dis_fea_size: 322\n",
      "tar_size: 103\n",
      "tar_fea_size: 1437\n",
      "threshold: 0.79\n",
      "mask=4  reset dru_dis_A as zero, valid sum(dru_dis_A)=0\n"
     ]
    },
    {
     "name": "stderr",
     "output_type": "stream",
     "text": [
      "\n",
      " 77%|███████▋  | 407/530 [04:21<01:20,  1.53it/s]\u001b[A"
     ]
    },
    {
     "name": "stdout",
     "output_type": "stream",
     "text": [
      "-------------------  data info  -----------------\n",
      "dru_size: 64\n",
      "dru_fea_size: 945\n",
      "dis_size: 1036\n",
      "dis_fea_size: 322\n",
      "tar_size: 103\n",
      "tar_fea_size: 1437\n",
      "threshold: 0.79\n",
      "mask=4  reset dru_dis_A as zero, valid sum(dru_dis_A)=0\n"
     ]
    },
    {
     "name": "stderr",
     "output_type": "stream",
     "text": [
      "\n",
      " 77%|███████▋  | 408/530 [04:21<01:20,  1.52it/s]\u001b[A"
     ]
    },
    {
     "name": "stdout",
     "output_type": "stream",
     "text": [
      "-------------------  data info  -----------------\n",
      "dru_size: 64\n",
      "dru_fea_size: 945\n",
      "dis_size: 1036\n",
      "dis_fea_size: 322\n",
      "tar_size: 103\n",
      "tar_fea_size: 1437\n",
      "threshold: 0.79\n",
      "mask=4  reset dru_dis_A as zero, valid sum(dru_dis_A)=0\n"
     ]
    },
    {
     "name": "stderr",
     "output_type": "stream",
     "text": [
      "\n",
      " 77%|███████▋  | 409/530 [04:22<01:19,  1.51it/s]\u001b[A"
     ]
    },
    {
     "name": "stdout",
     "output_type": "stream",
     "text": [
      "-------------------  data info  -----------------\n",
      "dru_size: 64\n",
      "dru_fea_size: 945\n",
      "dis_size: 1036\n",
      "dis_fea_size: 322\n",
      "tar_size: 103\n",
      "tar_fea_size: 1437\n",
      "threshold: 0.79\n",
      "mask=4  reset dru_dis_A as zero, valid sum(dru_dis_A)=0\n"
     ]
    },
    {
     "name": "stderr",
     "output_type": "stream",
     "text": [
      "\n",
      " 77%|███████▋  | 410/530 [04:23<01:19,  1.50it/s]\u001b[A"
     ]
    },
    {
     "name": "stdout",
     "output_type": "stream",
     "text": [
      "-------------------  data info  -----------------\n",
      "dru_size: 64\n",
      "dru_fea_size: 945\n",
      "dis_size: 1036\n",
      "dis_fea_size: 322\n",
      "tar_size: 103\n",
      "tar_fea_size: 1437\n",
      "threshold: 0.79\n",
      "mask=4  reset dru_dis_A as zero, valid sum(dru_dis_A)=0\n"
     ]
    },
    {
     "name": "stderr",
     "output_type": "stream",
     "text": [
      "\n",
      " 78%|███████▊  | 411/530 [04:23<01:19,  1.50it/s]\u001b[A"
     ]
    },
    {
     "name": "stdout",
     "output_type": "stream",
     "text": [
      "-------------------  data info  -----------------\n",
      "dru_size: 64\n",
      "dru_fea_size: 945\n",
      "dis_size: 1036\n",
      "dis_fea_size: 322\n",
      "tar_size: 103\n",
      "tar_fea_size: 1437\n",
      "threshold: 0.79\n",
      "mask=4  reset dru_dis_A as zero, valid sum(dru_dis_A)=0\n"
     ]
    },
    {
     "name": "stderr",
     "output_type": "stream",
     "text": [
      "\n",
      " 78%|███████▊  | 412/530 [04:24<01:19,  1.49it/s]\u001b[A"
     ]
    },
    {
     "name": "stdout",
     "output_type": "stream",
     "text": [
      "-------------------  data info  -----------------\n",
      "dru_size: 64\n",
      "dru_fea_size: 945\n",
      "dis_size: 1036\n",
      "dis_fea_size: 322\n",
      "tar_size: 103\n",
      "tar_fea_size: 1437\n",
      "threshold: 0.79\n",
      "mask=4  reset dru_dis_A as zero, valid sum(dru_dis_A)=0\n"
     ]
    },
    {
     "name": "stderr",
     "output_type": "stream",
     "text": [
      "\n",
      " 78%|███████▊  | 413/530 [04:25<01:20,  1.45it/s]\u001b[A"
     ]
    },
    {
     "name": "stdout",
     "output_type": "stream",
     "text": [
      "-------------------  data info  -----------------\n",
      "dru_size: 64\n",
      "dru_fea_size: 945\n",
      "dis_size: 1036\n",
      "dis_fea_size: 322\n",
      "tar_size: 103\n",
      "tar_fea_size: 1437\n",
      "threshold: 0.79\n",
      "mask=4  reset dru_dis_A as zero, valid sum(dru_dis_A)=0\n"
     ]
    },
    {
     "name": "stderr",
     "output_type": "stream",
     "text": [
      "\n",
      " 78%|███████▊  | 414/530 [04:26<01:20,  1.45it/s]\u001b[A"
     ]
    },
    {
     "name": "stdout",
     "output_type": "stream",
     "text": [
      "-------------------  data info  -----------------\n",
      "dru_size: 64\n",
      "dru_fea_size: 945\n",
      "dis_size: 1036\n",
      "dis_fea_size: 322\n",
      "tar_size: 103\n",
      "tar_fea_size: 1437\n",
      "threshold: 0.79\n",
      "mask=4  reset dru_dis_A as zero, valid sum(dru_dis_A)=0\n"
     ]
    },
    {
     "name": "stderr",
     "output_type": "stream",
     "text": [
      "\n",
      " 78%|███████▊  | 415/530 [04:26<01:19,  1.45it/s]\u001b[A"
     ]
    },
    {
     "name": "stdout",
     "output_type": "stream",
     "text": [
      "-------------------  data info  -----------------\n",
      "dru_size: 64\n",
      "dru_fea_size: 945\n",
      "dis_size: 1036\n",
      "dis_fea_size: 322\n",
      "tar_size: 103\n",
      "tar_fea_size: 1437\n",
      "threshold: 0.79\n",
      "mask=4  reset dru_dis_A as zero, valid sum(dru_dis_A)=0\n"
     ]
    },
    {
     "name": "stderr",
     "output_type": "stream",
     "text": [
      "\n",
      " 78%|███████▊  | 416/530 [04:27<01:17,  1.48it/s]\u001b[A"
     ]
    },
    {
     "name": "stdout",
     "output_type": "stream",
     "text": [
      "-------------------  data info  -----------------\n",
      "dru_size: 64\n",
      "dru_fea_size: 945\n",
      "dis_size: 1036\n",
      "dis_fea_size: 322\n",
      "tar_size: 103\n",
      "tar_fea_size: 1437\n",
      "threshold: 0.79\n",
      "mask=4  reset dru_dis_A as zero, valid sum(dru_dis_A)=0\n"
     ]
    },
    {
     "name": "stderr",
     "output_type": "stream",
     "text": [
      "\n",
      " 79%|███████▊  | 417/530 [04:27<01:15,  1.50it/s]\u001b[A"
     ]
    },
    {
     "name": "stdout",
     "output_type": "stream",
     "text": [
      "-------------------  data info  -----------------\n",
      "dru_size: 64\n",
      "dru_fea_size: 945\n",
      "dis_size: 1036\n",
      "dis_fea_size: 322\n",
      "tar_size: 103\n",
      "tar_fea_size: 1437\n",
      "threshold: 0.79\n",
      "mask=4  reset dru_dis_A as zero, valid sum(dru_dis_A)=0\n"
     ]
    },
    {
     "name": "stderr",
     "output_type": "stream",
     "text": [
      "\n",
      " 79%|███████▉  | 418/530 [04:28<01:13,  1.52it/s]\u001b[A"
     ]
    },
    {
     "name": "stdout",
     "output_type": "stream",
     "text": [
      "-------------------  data info  -----------------\n",
      "dru_size: 64\n",
      "dru_fea_size: 945\n",
      "dis_size: 1036\n",
      "dis_fea_size: 322\n",
      "tar_size: 103\n",
      "tar_fea_size: 1437\n",
      "threshold: 0.79\n",
      "mask=4  reset dru_dis_A as zero, valid sum(dru_dis_A)=0\n"
     ]
    },
    {
     "name": "stderr",
     "output_type": "stream",
     "text": [
      "\n",
      " 79%|███████▉  | 419/530 [04:29<01:13,  1.51it/s]\u001b[A"
     ]
    },
    {
     "name": "stdout",
     "output_type": "stream",
     "text": [
      "-------------------  data info  -----------------\n",
      "dru_size: 64\n",
      "dru_fea_size: 945\n",
      "dis_size: 1036\n",
      "dis_fea_size: 322\n",
      "tar_size: 103\n",
      "tar_fea_size: 1437\n",
      "threshold: 0.79\n",
      "mask=4  reset dru_dis_A as zero, valid sum(dru_dis_A)=0\n"
     ]
    },
    {
     "name": "stderr",
     "output_type": "stream",
     "text": [
      "\n",
      " 79%|███████▉  | 420/530 [04:29<01:13,  1.50it/s]\u001b[A"
     ]
    },
    {
     "name": "stdout",
     "output_type": "stream",
     "text": [
      "-------------------  data info  -----------------\n",
      "dru_size: 81\n",
      "dru_fea_size: 962\n",
      "dis_size: 1157\n",
      "dis_fea_size: 322\n",
      "tar_size: 128\n",
      "tar_fea_size: 1437\n",
      "threshold: 0.74\n",
      "mask=4  reset dru_dis_A as zero, valid sum(dru_dis_A)=0\n"
     ]
    },
    {
     "name": "stderr",
     "output_type": "stream",
     "text": [
      "\n",
      " 79%|███████▉  | 421/530 [04:30<01:15,  1.45it/s]\u001b[A"
     ]
    },
    {
     "name": "stdout",
     "output_type": "stream",
     "text": [
      "-------------------  data info  -----------------\n",
      "dru_size: 81\n",
      "dru_fea_size: 962\n",
      "dis_size: 1157\n",
      "dis_fea_size: 322\n",
      "tar_size: 128\n",
      "tar_fea_size: 1437\n",
      "threshold: 0.74\n",
      "mask=4  reset dru_dis_A as zero, valid sum(dru_dis_A)=0\n"
     ]
    },
    {
     "name": "stderr",
     "output_type": "stream",
     "text": [
      "\n",
      " 80%|███████▉  | 422/530 [04:31<01:15,  1.42it/s]\u001b[A"
     ]
    },
    {
     "name": "stdout",
     "output_type": "stream",
     "text": [
      "-------------------  data info  -----------------\n",
      "dru_size: 81\n",
      "dru_fea_size: 962\n",
      "dis_size: 1157\n",
      "dis_fea_size: 322\n",
      "tar_size: 128\n",
      "tar_fea_size: 1437\n",
      "threshold: 0.74\n",
      "mask=4  reset dru_dis_A as zero, valid sum(dru_dis_A)=0\n"
     ]
    },
    {
     "name": "stderr",
     "output_type": "stream",
     "text": [
      "\n",
      " 80%|███████▉  | 423/530 [04:32<01:15,  1.41it/s]\u001b[A"
     ]
    },
    {
     "name": "stdout",
     "output_type": "stream",
     "text": [
      "-------------------  data info  -----------------\n",
      "dru_size: 81\n",
      "dru_fea_size: 962\n",
      "dis_size: 1157\n",
      "dis_fea_size: 322\n",
      "tar_size: 128\n",
      "tar_fea_size: 1437\n",
      "threshold: 0.74\n",
      "mask=4  reset dru_dis_A as zero, valid sum(dru_dis_A)=0\n"
     ]
    },
    {
     "name": "stderr",
     "output_type": "stream",
     "text": [
      "\n",
      " 80%|████████  | 424/530 [04:32<01:15,  1.41it/s]\u001b[A"
     ]
    },
    {
     "name": "stdout",
     "output_type": "stream",
     "text": [
      "-------------------  data info  -----------------\n",
      "dru_size: 81\n",
      "dru_fea_size: 962\n",
      "dis_size: 1157\n",
      "dis_fea_size: 322\n",
      "tar_size: 128\n",
      "tar_fea_size: 1437\n",
      "threshold: 0.74\n",
      "mask=4  reset dru_dis_A as zero, valid sum(dru_dis_A)=0\n"
     ]
    },
    {
     "name": "stderr",
     "output_type": "stream",
     "text": [
      "\n",
      " 80%|████████  | 425/530 [04:33<01:14,  1.41it/s]\u001b[A"
     ]
    },
    {
     "name": "stdout",
     "output_type": "stream",
     "text": [
      "-------------------  data info  -----------------\n",
      "dru_size: 81\n",
      "dru_fea_size: 962\n",
      "dis_size: 1157\n",
      "dis_fea_size: 322\n",
      "tar_size: 128\n",
      "tar_fea_size: 1437\n",
      "threshold: 0.74\n",
      "mask=4  reset dru_dis_A as zero, valid sum(dru_dis_A)=0\n"
     ]
    },
    {
     "name": "stderr",
     "output_type": "stream",
     "text": [
      "\n",
      " 80%|████████  | 426/530 [04:34<01:13,  1.41it/s]\u001b[A"
     ]
    },
    {
     "name": "stdout",
     "output_type": "stream",
     "text": [
      "-------------------  data info  -----------------\n",
      "dru_size: 81\n",
      "dru_fea_size: 962\n",
      "dis_size: 1157\n",
      "dis_fea_size: 322\n",
      "tar_size: 128\n",
      "tar_fea_size: 1437\n",
      "threshold: 0.74\n",
      "mask=4  reset dru_dis_A as zero, valid sum(dru_dis_A)=0\n"
     ]
    },
    {
     "name": "stderr",
     "output_type": "stream",
     "text": [
      "\n",
      " 81%|████████  | 427/530 [04:35<01:13,  1.41it/s]\u001b[A"
     ]
    },
    {
     "name": "stdout",
     "output_type": "stream",
     "text": [
      "-------------------  data info  -----------------\n",
      "dru_size: 81\n",
      "dru_fea_size: 962\n",
      "dis_size: 1157\n",
      "dis_fea_size: 322\n",
      "tar_size: 128\n",
      "tar_fea_size: 1437\n",
      "threshold: 0.74\n",
      "mask=4  reset dru_dis_A as zero, valid sum(dru_dis_A)=0\n"
     ]
    },
    {
     "name": "stderr",
     "output_type": "stream",
     "text": [
      "\n",
      " 81%|████████  | 428/530 [04:35<01:12,  1.41it/s]\u001b[A"
     ]
    },
    {
     "name": "stdout",
     "output_type": "stream",
     "text": [
      "-------------------  data info  -----------------\n",
      "dru_size: 81\n",
      "dru_fea_size: 962\n",
      "dis_size: 1157\n",
      "dis_fea_size: 322\n",
      "tar_size: 128\n",
      "tar_fea_size: 1437\n",
      "threshold: 0.74\n",
      "mask=4  reset dru_dis_A as zero, valid sum(dru_dis_A)=0\n"
     ]
    },
    {
     "name": "stderr",
     "output_type": "stream",
     "text": [
      "\n",
      " 81%|████████  | 429/530 [04:36<01:12,  1.39it/s]\u001b[A"
     ]
    },
    {
     "name": "stdout",
     "output_type": "stream",
     "text": [
      "-------------------  data info  -----------------\n",
      "dru_size: 81\n",
      "dru_fea_size: 962\n",
      "dis_size: 1157\n",
      "dis_fea_size: 322\n",
      "tar_size: 128\n",
      "tar_fea_size: 1437\n",
      "threshold: 0.74\n",
      "mask=4  reset dru_dis_A as zero, valid sum(dru_dis_A)=0\n"
     ]
    },
    {
     "name": "stderr",
     "output_type": "stream",
     "text": [
      "\n",
      " 81%|████████  | 430/530 [04:37<01:13,  1.36it/s]\u001b[A"
     ]
    },
    {
     "name": "stdout",
     "output_type": "stream",
     "text": [
      "-------------------  data info  -----------------\n",
      "dru_size: 67\n",
      "dru_fea_size: 948\n",
      "dis_size: 1037\n",
      "dis_fea_size: 322\n",
      "tar_size: 109\n",
      "tar_fea_size: 1437\n",
      "threshold: 0.79\n",
      "mask=4  reset dru_dis_A as zero, valid sum(dru_dis_A)=0\n"
     ]
    },
    {
     "name": "stderr",
     "output_type": "stream",
     "text": [
      "\n",
      " 81%|████████▏ | 431/530 [04:37<01:11,  1.38it/s]\u001b[A"
     ]
    },
    {
     "name": "stdout",
     "output_type": "stream",
     "text": [
      "-------------------  data info  -----------------\n",
      "dru_size: 67\n",
      "dru_fea_size: 948\n",
      "dis_size: 1037\n",
      "dis_fea_size: 322\n",
      "tar_size: 109\n",
      "tar_fea_size: 1437\n",
      "threshold: 0.79\n",
      "mask=4  reset dru_dis_A as zero, valid sum(dru_dis_A)=0\n"
     ]
    },
    {
     "name": "stderr",
     "output_type": "stream",
     "text": [
      "\n",
      " 82%|████████▏ | 432/530 [04:38<01:10,  1.40it/s]\u001b[A"
     ]
    },
    {
     "name": "stdout",
     "output_type": "stream",
     "text": [
      "-------------------  data info  -----------------\n",
      "dru_size: 67\n",
      "dru_fea_size: 948\n",
      "dis_size: 1037\n",
      "dis_fea_size: 322\n",
      "tar_size: 109\n",
      "tar_fea_size: 1437\n",
      "threshold: 0.79\n",
      "mask=4  reset dru_dis_A as zero, valid sum(dru_dis_A)=0\n"
     ]
    },
    {
     "name": "stderr",
     "output_type": "stream",
     "text": [
      "\n",
      " 82%|████████▏ | 433/530 [04:39<01:08,  1.42it/s]\u001b[A"
     ]
    },
    {
     "name": "stdout",
     "output_type": "stream",
     "text": [
      "-------------------  data info  -----------------\n",
      "dru_size: 67\n",
      "dru_fea_size: 948\n",
      "dis_size: 1037\n",
      "dis_fea_size: 322\n",
      "tar_size: 109\n",
      "tar_fea_size: 1437\n",
      "threshold: 0.79\n",
      "mask=4  reset dru_dis_A as zero, valid sum(dru_dis_A)=0\n"
     ]
    },
    {
     "name": "stderr",
     "output_type": "stream",
     "text": [
      "\n",
      " 82%|████████▏ | 434/530 [04:39<01:07,  1.43it/s]\u001b[A"
     ]
    },
    {
     "name": "stdout",
     "output_type": "stream",
     "text": [
      "-------------------  data info  -----------------\n",
      "dru_size: 67\n",
      "dru_fea_size: 948\n",
      "dis_size: 1037\n",
      "dis_fea_size: 322\n",
      "tar_size: 109\n",
      "tar_fea_size: 1437\n",
      "threshold: 0.79\n",
      "mask=4  reset dru_dis_A as zero, valid sum(dru_dis_A)=0\n"
     ]
    },
    {
     "name": "stderr",
     "output_type": "stream",
     "text": [
      "\n",
      " 82%|████████▏ | 435/530 [04:40<01:04,  1.46it/s]\u001b[A"
     ]
    },
    {
     "name": "stdout",
     "output_type": "stream",
     "text": [
      "-------------------  data info  -----------------\n",
      "dru_size: 67\n",
      "dru_fea_size: 948\n",
      "dis_size: 1037\n",
      "dis_fea_size: 322\n",
      "tar_size: 109\n",
      "tar_fea_size: 1437\n",
      "threshold: 0.79\n",
      "mask=4  reset dru_dis_A as zero, valid sum(dru_dis_A)=0\n"
     ]
    },
    {
     "name": "stderr",
     "output_type": "stream",
     "text": [
      "\n",
      " 82%|████████▏ | 436/530 [04:41<01:05,  1.44it/s]\u001b[A"
     ]
    },
    {
     "name": "stdout",
     "output_type": "stream",
     "text": [
      "-------------------  data info  -----------------\n",
      "dru_size: 67\n",
      "dru_fea_size: 948\n",
      "dis_size: 1037\n",
      "dis_fea_size: 322\n",
      "tar_size: 109\n",
      "tar_fea_size: 1437\n",
      "threshold: 0.79\n",
      "mask=4  reset dru_dis_A as zero, valid sum(dru_dis_A)=0\n"
     ]
    },
    {
     "name": "stderr",
     "output_type": "stream",
     "text": [
      "\n",
      " 82%|████████▏ | 437/530 [04:42<01:03,  1.47it/s]\u001b[A"
     ]
    },
    {
     "name": "stdout",
     "output_type": "stream",
     "text": [
      "-------------------  data info  -----------------\n",
      "dru_size: 67\n",
      "dru_fea_size: 948\n",
      "dis_size: 1037\n",
      "dis_fea_size: 322\n",
      "tar_size: 109\n",
      "tar_fea_size: 1437\n",
      "threshold: 0.79\n",
      "mask=4  reset dru_dis_A as zero, valid sum(dru_dis_A)=0\n"
     ]
    },
    {
     "name": "stderr",
     "output_type": "stream",
     "text": [
      "\n",
      " 83%|████████▎ | 438/530 [04:42<01:02,  1.46it/s]\u001b[A"
     ]
    },
    {
     "name": "stdout",
     "output_type": "stream",
     "text": [
      "-------------------  data info  -----------------\n",
      "dru_size: 67\n",
      "dru_fea_size: 948\n",
      "dis_size: 1037\n",
      "dis_fea_size: 322\n",
      "tar_size: 109\n",
      "tar_fea_size: 1437\n",
      "threshold: 0.79\n",
      "mask=4  reset dru_dis_A as zero, valid sum(dru_dis_A)=0\n"
     ]
    },
    {
     "name": "stderr",
     "output_type": "stream",
     "text": [
      "\n",
      " 83%|████████▎ | 439/530 [04:43<01:01,  1.47it/s]\u001b[A"
     ]
    },
    {
     "name": "stdout",
     "output_type": "stream",
     "text": [
      "-------------------  data info  -----------------\n",
      "dru_size: 67\n",
      "dru_fea_size: 948\n",
      "dis_size: 1037\n",
      "dis_fea_size: 322\n",
      "tar_size: 109\n",
      "tar_fea_size: 1437\n",
      "threshold: 0.79\n",
      "mask=4  reset dru_dis_A as zero, valid sum(dru_dis_A)=0\n"
     ]
    },
    {
     "name": "stderr",
     "output_type": "stream",
     "text": [
      "\n",
      " 83%|████████▎ | 440/530 [04:44<01:00,  1.48it/s]\u001b[A"
     ]
    },
    {
     "name": "stdout",
     "output_type": "stream",
     "text": [
      "-------------------  data info  -----------------\n",
      "dru_size: 64\n",
      "dru_fea_size: 945\n",
      "dis_size: 1036\n",
      "dis_fea_size: 322\n",
      "tar_size: 103\n",
      "tar_fea_size: 1437\n",
      "threshold: 0.79\n",
      "mask=4  reset dru_dis_A as zero, valid sum(dru_dis_A)=0\n"
     ]
    },
    {
     "name": "stderr",
     "output_type": "stream",
     "text": [
      "\n",
      " 83%|████████▎ | 441/530 [04:44<01:00,  1.48it/s]\u001b[A"
     ]
    },
    {
     "name": "stdout",
     "output_type": "stream",
     "text": [
      "-------------------  data info  -----------------\n",
      "dru_size: 64\n",
      "dru_fea_size: 945\n",
      "dis_size: 1036\n",
      "dis_fea_size: 322\n",
      "tar_size: 103\n",
      "tar_fea_size: 1437\n",
      "threshold: 0.79\n",
      "mask=4  reset dru_dis_A as zero, valid sum(dru_dis_A)=0\n"
     ]
    },
    {
     "name": "stderr",
     "output_type": "stream",
     "text": [
      "\n",
      " 83%|████████▎ | 442/530 [04:45<00:59,  1.47it/s]\u001b[A"
     ]
    },
    {
     "name": "stdout",
     "output_type": "stream",
     "text": [
      "-------------------  data info  -----------------\n",
      "dru_size: 64\n",
      "dru_fea_size: 945\n",
      "dis_size: 1036\n",
      "dis_fea_size: 322\n",
      "tar_size: 103\n",
      "tar_fea_size: 1437\n",
      "threshold: 0.79\n",
      "mask=4  reset dru_dis_A as zero, valid sum(dru_dis_A)=0\n"
     ]
    },
    {
     "name": "stderr",
     "output_type": "stream",
     "text": [
      "\n",
      " 84%|████████▎ | 443/530 [04:46<00:58,  1.49it/s]\u001b[A"
     ]
    },
    {
     "name": "stdout",
     "output_type": "stream",
     "text": [
      "-------------------  data info  -----------------\n",
      "dru_size: 64\n",
      "dru_fea_size: 945\n",
      "dis_size: 1036\n",
      "dis_fea_size: 322\n",
      "tar_size: 103\n",
      "tar_fea_size: 1437\n",
      "threshold: 0.79\n",
      "mask=4  reset dru_dis_A as zero, valid sum(dru_dis_A)=0\n"
     ]
    },
    {
     "name": "stderr",
     "output_type": "stream",
     "text": [
      "\n",
      " 84%|████████▍ | 444/530 [04:46<00:57,  1.49it/s]\u001b[A"
     ]
    },
    {
     "name": "stdout",
     "output_type": "stream",
     "text": [
      "-------------------  data info  -----------------\n",
      "dru_size: 64\n",
      "dru_fea_size: 945\n",
      "dis_size: 1036\n",
      "dis_fea_size: 322\n",
      "tar_size: 103\n",
      "tar_fea_size: 1437\n",
      "threshold: 0.79\n",
      "mask=4  reset dru_dis_A as zero, valid sum(dru_dis_A)=0\n"
     ]
    },
    {
     "name": "stderr",
     "output_type": "stream",
     "text": [
      "\n",
      " 84%|████████▍ | 445/530 [04:47<00:57,  1.49it/s]\u001b[A"
     ]
    },
    {
     "name": "stdout",
     "output_type": "stream",
     "text": [
      "-------------------  data info  -----------------\n",
      "dru_size: 64\n",
      "dru_fea_size: 945\n",
      "dis_size: 1036\n",
      "dis_fea_size: 322\n",
      "tar_size: 103\n",
      "tar_fea_size: 1437\n",
      "threshold: 0.79\n",
      "mask=4  reset dru_dis_A as zero, valid sum(dru_dis_A)=0\n"
     ]
    },
    {
     "name": "stderr",
     "output_type": "stream",
     "text": [
      "\n",
      " 84%|████████▍ | 446/530 [04:48<00:56,  1.49it/s]\u001b[A"
     ]
    },
    {
     "name": "stdout",
     "output_type": "stream",
     "text": [
      "-------------------  data info  -----------------\n",
      "dru_size: 64\n",
      "dru_fea_size: 945\n",
      "dis_size: 1036\n",
      "dis_fea_size: 322\n",
      "tar_size: 103\n",
      "tar_fea_size: 1437\n",
      "threshold: 0.79\n",
      "mask=4  reset dru_dis_A as zero, valid sum(dru_dis_A)=0\n"
     ]
    },
    {
     "name": "stderr",
     "output_type": "stream",
     "text": [
      "\n",
      " 84%|████████▍ | 447/530 [04:48<00:56,  1.46it/s]\u001b[A"
     ]
    },
    {
     "name": "stdout",
     "output_type": "stream",
     "text": [
      "-------------------  data info  -----------------\n",
      "dru_size: 64\n",
      "dru_fea_size: 945\n",
      "dis_size: 1036\n",
      "dis_fea_size: 322\n",
      "tar_size: 103\n",
      "tar_fea_size: 1437\n",
      "threshold: 0.79\n",
      "mask=4  reset dru_dis_A as zero, valid sum(dru_dis_A)=0\n"
     ]
    },
    {
     "name": "stderr",
     "output_type": "stream",
     "text": [
      "\n",
      " 85%|████████▍ | 448/530 [04:49<00:55,  1.48it/s]\u001b[A"
     ]
    },
    {
     "name": "stdout",
     "output_type": "stream",
     "text": [
      "-------------------  data info  -----------------\n",
      "dru_size: 64\n",
      "dru_fea_size: 945\n",
      "dis_size: 1036\n",
      "dis_fea_size: 322\n",
      "tar_size: 103\n",
      "tar_fea_size: 1437\n",
      "threshold: 0.79\n",
      "mask=4  reset dru_dis_A as zero, valid sum(dru_dis_A)=0\n"
     ]
    },
    {
     "name": "stderr",
     "output_type": "stream",
     "text": [
      "\n",
      " 85%|████████▍ | 449/530 [04:50<00:54,  1.49it/s]\u001b[A"
     ]
    },
    {
     "name": "stdout",
     "output_type": "stream",
     "text": [
      "-------------------  data info  -----------------\n",
      "dru_size: 64\n",
      "dru_fea_size: 945\n",
      "dis_size: 1036\n",
      "dis_fea_size: 322\n",
      "tar_size: 103\n",
      "tar_fea_size: 1437\n",
      "threshold: 0.79\n",
      "mask=4  reset dru_dis_A as zero, valid sum(dru_dis_A)=0\n"
     ]
    },
    {
     "name": "stderr",
     "output_type": "stream",
     "text": [
      "\n",
      " 85%|████████▍ | 450/530 [04:50<00:54,  1.47it/s]\u001b[A"
     ]
    },
    {
     "name": "stdout",
     "output_type": "stream",
     "text": [
      "-------------------  data info  -----------------\n",
      "dru_size: 64\n",
      "dru_fea_size: 945\n",
      "dis_size: 1036\n",
      "dis_fea_size: 322\n",
      "tar_size: 103\n",
      "tar_fea_size: 1437\n",
      "threshold: 0.79\n",
      "mask=4  reset dru_dis_A as zero, valid sum(dru_dis_A)=0\n"
     ]
    },
    {
     "name": "stderr",
     "output_type": "stream",
     "text": [
      "\n",
      " 85%|████████▌ | 451/530 [04:51<00:54,  1.45it/s]\u001b[A"
     ]
    },
    {
     "name": "stdout",
     "output_type": "stream",
     "text": [
      "-------------------  data info  -----------------\n",
      "dru_size: 64\n",
      "dru_fea_size: 945\n",
      "dis_size: 1036\n",
      "dis_fea_size: 322\n",
      "tar_size: 103\n",
      "tar_fea_size: 1437\n",
      "threshold: 0.79\n",
      "mask=4  reset dru_dis_A as zero, valid sum(dru_dis_A)=0\n"
     ]
    },
    {
     "name": "stderr",
     "output_type": "stream",
     "text": [
      "\n",
      " 85%|████████▌ | 452/530 [04:52<00:54,  1.44it/s]\u001b[A"
     ]
    },
    {
     "name": "stdout",
     "output_type": "stream",
     "text": [
      "-------------------  data info  -----------------\n",
      "dru_size: 64\n",
      "dru_fea_size: 945\n",
      "dis_size: 1036\n",
      "dis_fea_size: 322\n",
      "tar_size: 103\n",
      "tar_fea_size: 1437\n",
      "threshold: 0.79\n",
      "mask=4  reset dru_dis_A as zero, valid sum(dru_dis_A)=0\n"
     ]
    },
    {
     "name": "stderr",
     "output_type": "stream",
     "text": [
      "\n",
      " 85%|████████▌ | 453/530 [04:52<00:52,  1.46it/s]\u001b[A"
     ]
    },
    {
     "name": "stdout",
     "output_type": "stream",
     "text": [
      "-------------------  data info  -----------------\n",
      "dru_size: 64\n",
      "dru_fea_size: 945\n",
      "dis_size: 1036\n",
      "dis_fea_size: 322\n",
      "tar_size: 103\n",
      "tar_fea_size: 1437\n",
      "threshold: 0.79\n",
      "mask=4  reset dru_dis_A as zero, valid sum(dru_dis_A)=0\n"
     ]
    },
    {
     "name": "stderr",
     "output_type": "stream",
     "text": [
      "\n",
      " 86%|████████▌ | 454/530 [04:53<00:50,  1.49it/s]\u001b[A"
     ]
    },
    {
     "name": "stdout",
     "output_type": "stream",
     "text": [
      "-------------------  data info  -----------------\n",
      "dru_size: 64\n",
      "dru_fea_size: 945\n",
      "dis_size: 1036\n",
      "dis_fea_size: 322\n",
      "tar_size: 103\n",
      "tar_fea_size: 1437\n",
      "threshold: 0.79\n",
      "mask=4  reset dru_dis_A as zero, valid sum(dru_dis_A)=0\n"
     ]
    },
    {
     "name": "stderr",
     "output_type": "stream",
     "text": [
      "\n",
      " 86%|████████▌ | 455/530 [04:54<00:50,  1.50it/s]\u001b[A"
     ]
    },
    {
     "name": "stdout",
     "output_type": "stream",
     "text": [
      "-------------------  data info  -----------------\n",
      "dru_size: 64\n",
      "dru_fea_size: 945\n",
      "dis_size: 1036\n",
      "dis_fea_size: 322\n",
      "tar_size: 103\n",
      "tar_fea_size: 1437\n",
      "threshold: 0.79\n",
      "mask=4  reset dru_dis_A as zero, valid sum(dru_dis_A)=0\n"
     ]
    },
    {
     "name": "stderr",
     "output_type": "stream",
     "text": [
      "\n",
      " 86%|████████▌ | 456/530 [04:54<00:49,  1.50it/s]\u001b[A"
     ]
    },
    {
     "name": "stdout",
     "output_type": "stream",
     "text": [
      "-------------------  data info  -----------------\n",
      "dru_size: 64\n",
      "dru_fea_size: 945\n",
      "dis_size: 1036\n",
      "dis_fea_size: 322\n",
      "tar_size: 103\n",
      "tar_fea_size: 1437\n",
      "threshold: 0.79\n",
      "mask=4  reset dru_dis_A as zero, valid sum(dru_dis_A)=0\n"
     ]
    },
    {
     "name": "stderr",
     "output_type": "stream",
     "text": [
      "\n",
      " 86%|████████▌ | 457/530 [04:55<00:48,  1.52it/s]\u001b[A"
     ]
    },
    {
     "name": "stdout",
     "output_type": "stream",
     "text": [
      "-------------------  data info  -----------------\n",
      "dru_size: 64\n",
      "dru_fea_size: 945\n",
      "dis_size: 1036\n",
      "dis_fea_size: 322\n",
      "tar_size: 103\n",
      "tar_fea_size: 1437\n",
      "threshold: 0.79\n",
      "mask=4  reset dru_dis_A as zero, valid sum(dru_dis_A)=0\n"
     ]
    },
    {
     "name": "stderr",
     "output_type": "stream",
     "text": [
      "\n",
      " 86%|████████▋ | 458/530 [04:56<00:47,  1.52it/s]\u001b[A"
     ]
    },
    {
     "name": "stdout",
     "output_type": "stream",
     "text": [
      "-------------------  data info  -----------------\n",
      "dru_size: 64\n",
      "dru_fea_size: 945\n",
      "dis_size: 1036\n",
      "dis_fea_size: 322\n",
      "tar_size: 103\n",
      "tar_fea_size: 1437\n",
      "threshold: 0.79\n",
      "mask=4  reset dru_dis_A as zero, valid sum(dru_dis_A)=0\n"
     ]
    },
    {
     "name": "stderr",
     "output_type": "stream",
     "text": [
      "\n",
      " 87%|████████▋ | 459/530 [04:56<00:47,  1.50it/s]\u001b[A"
     ]
    },
    {
     "name": "stdout",
     "output_type": "stream",
     "text": [
      "-------------------  data info  -----------------\n",
      "dru_size: 64\n",
      "dru_fea_size: 945\n",
      "dis_size: 1036\n",
      "dis_fea_size: 322\n",
      "tar_size: 103\n",
      "tar_fea_size: 1437\n",
      "threshold: 0.79\n",
      "mask=4  reset dru_dis_A as zero, valid sum(dru_dis_A)=0\n"
     ]
    },
    {
     "name": "stderr",
     "output_type": "stream",
     "text": [
      "\n",
      " 87%|████████▋ | 460/530 [04:57<00:46,  1.49it/s]\u001b[A"
     ]
    },
    {
     "name": "stdout",
     "output_type": "stream",
     "text": [
      "-------------------  data info  -----------------\n",
      "dru_size: 81\n",
      "dru_fea_size: 962\n",
      "dis_size: 1157\n",
      "dis_fea_size: 322\n",
      "tar_size: 128\n",
      "tar_fea_size: 1437\n",
      "threshold: 0.74\n",
      "mask=4  reset dru_dis_A as zero, valid sum(dru_dis_A)=0\n"
     ]
    },
    {
     "name": "stderr",
     "output_type": "stream",
     "text": [
      "\n",
      " 87%|████████▋ | 461/530 [04:58<00:48,  1.43it/s]\u001b[A"
     ]
    },
    {
     "name": "stdout",
     "output_type": "stream",
     "text": [
      "-------------------  data info  -----------------\n",
      "dru_size: 81\n",
      "dru_fea_size: 962\n",
      "dis_size: 1157\n",
      "dis_fea_size: 322\n",
      "tar_size: 128\n",
      "tar_fea_size: 1437\n",
      "threshold: 0.74\n",
      "mask=4  reset dru_dis_A as zero, valid sum(dru_dis_A)=0\n"
     ]
    },
    {
     "name": "stderr",
     "output_type": "stream",
     "text": [
      "\n",
      " 87%|████████▋ | 462/530 [04:58<00:48,  1.42it/s]\u001b[A"
     ]
    },
    {
     "name": "stdout",
     "output_type": "stream",
     "text": [
      "-------------------  data info  -----------------\n",
      "dru_size: 81\n",
      "dru_fea_size: 962\n",
      "dis_size: 1157\n",
      "dis_fea_size: 322\n",
      "tar_size: 128\n",
      "tar_fea_size: 1437\n",
      "threshold: 0.74\n",
      "mask=4  reset dru_dis_A as zero, valid sum(dru_dis_A)=0\n"
     ]
    },
    {
     "name": "stderr",
     "output_type": "stream",
     "text": [
      "\n",
      " 87%|████████▋ | 463/530 [04:59<00:47,  1.41it/s]\u001b[A"
     ]
    },
    {
     "name": "stdout",
     "output_type": "stream",
     "text": [
      "-------------------  data info  -----------------\n",
      "dru_size: 81\n",
      "dru_fea_size: 962\n",
      "dis_size: 1157\n",
      "dis_fea_size: 322\n",
      "tar_size: 128\n",
      "tar_fea_size: 1437\n",
      "threshold: 0.74\n",
      "mask=4  reset dru_dis_A as zero, valid sum(dru_dis_A)=0\n"
     ]
    },
    {
     "name": "stderr",
     "output_type": "stream",
     "text": [
      "\n",
      " 88%|████████▊ | 464/530 [05:00<00:47,  1.40it/s]\u001b[A"
     ]
    },
    {
     "name": "stdout",
     "output_type": "stream",
     "text": [
      "-------------------  data info  -----------------\n",
      "dru_size: 81\n",
      "dru_fea_size: 962\n",
      "dis_size: 1157\n",
      "dis_fea_size: 322\n",
      "tar_size: 128\n",
      "tar_fea_size: 1437\n",
      "threshold: 0.74\n",
      "mask=4  reset dru_dis_A as zero, valid sum(dru_dis_A)=0\n"
     ]
    },
    {
     "name": "stderr",
     "output_type": "stream",
     "text": [
      "\n",
      " 88%|████████▊ | 465/530 [05:01<00:47,  1.37it/s]\u001b[A"
     ]
    },
    {
     "name": "stdout",
     "output_type": "stream",
     "text": [
      "-------------------  data info  -----------------\n",
      "dru_size: 81\n",
      "dru_fea_size: 962\n",
      "dis_size: 1157\n",
      "dis_fea_size: 322\n",
      "tar_size: 128\n",
      "tar_fea_size: 1437\n",
      "threshold: 0.74\n",
      "mask=4  reset dru_dis_A as zero, valid sum(dru_dis_A)=0\n"
     ]
    },
    {
     "name": "stderr",
     "output_type": "stream",
     "text": [
      "\n",
      " 88%|████████▊ | 466/530 [05:01<00:46,  1.36it/s]\u001b[A"
     ]
    },
    {
     "name": "stdout",
     "output_type": "stream",
     "text": [
      "-------------------  data info  -----------------\n",
      "dru_size: 81\n",
      "dru_fea_size: 962\n",
      "dis_size: 1157\n",
      "dis_fea_size: 322\n",
      "tar_size: 128\n",
      "tar_fea_size: 1437\n",
      "threshold: 0.74\n",
      "mask=4  reset dru_dis_A as zero, valid sum(dru_dis_A)=0\n"
     ]
    },
    {
     "name": "stderr",
     "output_type": "stream",
     "text": [
      "\n",
      " 88%|████████▊ | 467/530 [05:02<00:45,  1.38it/s]\u001b[A"
     ]
    },
    {
     "name": "stdout",
     "output_type": "stream",
     "text": [
      "-------------------  data info  -----------------\n",
      "dru_size: 81\n",
      "dru_fea_size: 962\n",
      "dis_size: 1157\n",
      "dis_fea_size: 322\n",
      "tar_size: 128\n",
      "tar_fea_size: 1437\n",
      "threshold: 0.74\n",
      "mask=4  reset dru_dis_A as zero, valid sum(dru_dis_A)=0\n"
     ]
    },
    {
     "name": "stderr",
     "output_type": "stream",
     "text": [
      "\n",
      " 88%|████████▊ | 468/530 [05:03<00:44,  1.38it/s]\u001b[A"
     ]
    },
    {
     "name": "stdout",
     "output_type": "stream",
     "text": [
      "-------------------  data info  -----------------\n",
      "dru_size: 81\n",
      "dru_fea_size: 962\n",
      "dis_size: 1157\n",
      "dis_fea_size: 322\n",
      "tar_size: 128\n",
      "tar_fea_size: 1437\n",
      "threshold: 0.74\n",
      "mask=4  reset dru_dis_A as zero, valid sum(dru_dis_A)=0\n"
     ]
    },
    {
     "name": "stderr",
     "output_type": "stream",
     "text": [
      "\n",
      " 88%|████████▊ | 469/530 [05:04<00:44,  1.38it/s]\u001b[A"
     ]
    },
    {
     "name": "stdout",
     "output_type": "stream",
     "text": [
      "-------------------  data info  -----------------\n",
      "dru_size: 81\n",
      "dru_fea_size: 962\n",
      "dis_size: 1157\n",
      "dis_fea_size: 322\n",
      "tar_size: 128\n",
      "tar_fea_size: 1437\n",
      "threshold: 0.74\n",
      "mask=4  reset dru_dis_A as zero, valid sum(dru_dis_A)=0\n"
     ]
    },
    {
     "name": "stderr",
     "output_type": "stream",
     "text": [
      "\n",
      " 89%|████████▊ | 470/530 [05:04<00:43,  1.39it/s]\u001b[A"
     ]
    },
    {
     "name": "stdout",
     "output_type": "stream",
     "text": [
      "-------------------  data info  -----------------\n",
      "dru_size: 81\n",
      "dru_fea_size: 962\n",
      "dis_size: 1157\n",
      "dis_fea_size: 322\n",
      "tar_size: 128\n",
      "tar_fea_size: 1437\n",
      "threshold: 0.74\n",
      "mask=4  reset dru_dis_A as zero, valid sum(dru_dis_A)=0\n"
     ]
    },
    {
     "name": "stderr",
     "output_type": "stream",
     "text": [
      "\n",
      " 89%|████████▉ | 471/530 [05:05<00:43,  1.36it/s]\u001b[A"
     ]
    },
    {
     "name": "stdout",
     "output_type": "stream",
     "text": [
      "-------------------  data info  -----------------\n",
      "dru_size: 81\n",
      "dru_fea_size: 962\n",
      "dis_size: 1157\n",
      "dis_fea_size: 322\n",
      "tar_size: 128\n",
      "tar_fea_size: 1437\n",
      "threshold: 0.74\n",
      "mask=4  reset dru_dis_A as zero, valid sum(dru_dis_A)=0\n"
     ]
    },
    {
     "name": "stderr",
     "output_type": "stream",
     "text": [
      "\n",
      " 89%|████████▉ | 472/530 [05:06<00:43,  1.34it/s]\u001b[A"
     ]
    },
    {
     "name": "stdout",
     "output_type": "stream",
     "text": [
      "-------------------  data info  -----------------\n",
      "dru_size: 81\n",
      "dru_fea_size: 962\n",
      "dis_size: 1157\n",
      "dis_fea_size: 322\n",
      "tar_size: 128\n",
      "tar_fea_size: 1437\n",
      "threshold: 0.74\n",
      "mask=4  reset dru_dis_A as zero, valid sum(dru_dis_A)=0\n"
     ]
    },
    {
     "name": "stderr",
     "output_type": "stream",
     "text": [
      "\n",
      " 89%|████████▉ | 473/530 [05:07<00:42,  1.33it/s]\u001b[A"
     ]
    },
    {
     "name": "stdout",
     "output_type": "stream",
     "text": [
      "-------------------  data info  -----------------\n",
      "dru_size: 81\n",
      "dru_fea_size: 962\n",
      "dis_size: 1157\n",
      "dis_fea_size: 322\n",
      "tar_size: 128\n",
      "tar_fea_size: 1437\n",
      "threshold: 0.74\n",
      "mask=4  reset dru_dis_A as zero, valid sum(dru_dis_A)=0\n"
     ]
    },
    {
     "name": "stderr",
     "output_type": "stream",
     "text": [
      "\n",
      " 89%|████████▉ | 474/530 [05:07<00:41,  1.35it/s]\u001b[A"
     ]
    },
    {
     "name": "stdout",
     "output_type": "stream",
     "text": [
      "-------------------  data info  -----------------\n",
      "dru_size: 81\n",
      "dru_fea_size: 962\n",
      "dis_size: 1157\n",
      "dis_fea_size: 322\n",
      "tar_size: 128\n",
      "tar_fea_size: 1437\n",
      "threshold: 0.74\n",
      "mask=4  reset dru_dis_A as zero, valid sum(dru_dis_A)=0\n"
     ]
    },
    {
     "name": "stderr",
     "output_type": "stream",
     "text": [
      "\n",
      " 90%|████████▉ | 475/530 [05:08<00:40,  1.35it/s]\u001b[A"
     ]
    },
    {
     "name": "stdout",
     "output_type": "stream",
     "text": [
      "-------------------  data info  -----------------\n",
      "dru_size: 81\n",
      "dru_fea_size: 962\n",
      "dis_size: 1157\n",
      "dis_fea_size: 322\n",
      "tar_size: 128\n",
      "tar_fea_size: 1437\n",
      "threshold: 0.74\n",
      "mask=4  reset dru_dis_A as zero, valid sum(dru_dis_A)=0\n"
     ]
    },
    {
     "name": "stderr",
     "output_type": "stream",
     "text": [
      "\n",
      " 90%|████████▉ | 476/530 [05:09<00:39,  1.37it/s]\u001b[A"
     ]
    },
    {
     "name": "stdout",
     "output_type": "stream",
     "text": [
      "-------------------  data info  -----------------\n",
      "dru_size: 81\n",
      "dru_fea_size: 962\n",
      "dis_size: 1157\n",
      "dis_fea_size: 322\n",
      "tar_size: 128\n",
      "tar_fea_size: 1437\n",
      "threshold: 0.74\n",
      "mask=4  reset dru_dis_A as zero, valid sum(dru_dis_A)=0\n"
     ]
    },
    {
     "name": "stderr",
     "output_type": "stream",
     "text": [
      "\n",
      " 90%|█████████ | 477/530 [05:10<00:39,  1.34it/s]\u001b[A"
     ]
    },
    {
     "name": "stdout",
     "output_type": "stream",
     "text": [
      "-------------------  data info  -----------------\n",
      "dru_size: 81\n",
      "dru_fea_size: 962\n",
      "dis_size: 1157\n",
      "dis_fea_size: 322\n",
      "tar_size: 128\n",
      "tar_fea_size: 1437\n",
      "threshold: 0.74\n",
      "mask=4  reset dru_dis_A as zero, valid sum(dru_dis_A)=0\n"
     ]
    },
    {
     "name": "stderr",
     "output_type": "stream",
     "text": [
      "\n",
      " 90%|█████████ | 478/530 [05:10<00:38,  1.34it/s]\u001b[A"
     ]
    },
    {
     "name": "stdout",
     "output_type": "stream",
     "text": [
      "-------------------  data info  -----------------\n",
      "dru_size: 81\n",
      "dru_fea_size: 962\n",
      "dis_size: 1157\n",
      "dis_fea_size: 322\n",
      "tar_size: 128\n",
      "tar_fea_size: 1437\n",
      "threshold: 0.74\n",
      "mask=4  reset dru_dis_A as zero, valid sum(dru_dis_A)=0\n"
     ]
    },
    {
     "name": "stderr",
     "output_type": "stream",
     "text": [
      "\n",
      " 90%|█████████ | 479/530 [05:11<00:37,  1.34it/s]\u001b[A"
     ]
    },
    {
     "name": "stdout",
     "output_type": "stream",
     "text": [
      "-------------------  data info  -----------------\n",
      "dru_size: 81\n",
      "dru_fea_size: 962\n",
      "dis_size: 1157\n",
      "dis_fea_size: 322\n",
      "tar_size: 128\n",
      "tar_fea_size: 1437\n",
      "threshold: 0.74\n",
      "mask=4  reset dru_dis_A as zero, valid sum(dru_dis_A)=0\n"
     ]
    },
    {
     "name": "stderr",
     "output_type": "stream",
     "text": [
      "\n",
      " 91%|█████████ | 480/530 [05:12<00:37,  1.34it/s]\u001b[A"
     ]
    },
    {
     "name": "stdout",
     "output_type": "stream",
     "text": [
      "-------------------  data info  -----------------\n",
      "dru_size: 64\n",
      "dru_fea_size: 945\n",
      "dis_size: 1036\n",
      "dis_fea_size: 322\n",
      "tar_size: 103\n",
      "tar_fea_size: 1437\n",
      "threshold: 0.79\n",
      "mask=4  reset dru_dis_A as zero, valid sum(dru_dis_A)=0\n"
     ]
    },
    {
     "name": "stderr",
     "output_type": "stream",
     "text": [
      "\n",
      " 91%|█████████ | 481/530 [05:12<00:35,  1.37it/s]\u001b[A"
     ]
    },
    {
     "name": "stdout",
     "output_type": "stream",
     "text": [
      "-------------------  data info  -----------------\n",
      "dru_size: 64\n",
      "dru_fea_size: 945\n",
      "dis_size: 1036\n",
      "dis_fea_size: 322\n",
      "tar_size: 103\n",
      "tar_fea_size: 1437\n",
      "threshold: 0.79\n",
      "mask=4  reset dru_dis_A as zero, valid sum(dru_dis_A)=0\n"
     ]
    },
    {
     "name": "stderr",
     "output_type": "stream",
     "text": [
      "\n",
      " 91%|█████████ | 482/530 [05:13<00:34,  1.38it/s]\u001b[A"
     ]
    },
    {
     "name": "stdout",
     "output_type": "stream",
     "text": [
      "-------------------  data info  -----------------\n",
      "dru_size: 64\n",
      "dru_fea_size: 945\n",
      "dis_size: 1036\n",
      "dis_fea_size: 322\n",
      "tar_size: 103\n",
      "tar_fea_size: 1437\n",
      "threshold: 0.79\n",
      "mask=4  reset dru_dis_A as zero, valid sum(dru_dis_A)=0\n"
     ]
    },
    {
     "name": "stderr",
     "output_type": "stream",
     "text": [
      "\n",
      " 91%|█████████ | 483/530 [05:14<00:33,  1.41it/s]\u001b[A"
     ]
    },
    {
     "name": "stdout",
     "output_type": "stream",
     "text": [
      "-------------------  data info  -----------------\n",
      "dru_size: 64\n",
      "dru_fea_size: 945\n",
      "dis_size: 1036\n",
      "dis_fea_size: 322\n",
      "tar_size: 103\n",
      "tar_fea_size: 1437\n",
      "threshold: 0.79\n",
      "mask=4  reset dru_dis_A as zero, valid sum(dru_dis_A)=0\n"
     ]
    },
    {
     "name": "stderr",
     "output_type": "stream",
     "text": [
      "\n",
      " 91%|█████████▏| 484/530 [05:15<00:31,  1.44it/s]\u001b[A"
     ]
    },
    {
     "name": "stdout",
     "output_type": "stream",
     "text": [
      "-------------------  data info  -----------------\n",
      "dru_size: 64\n",
      "dru_fea_size: 945\n",
      "dis_size: 1036\n",
      "dis_fea_size: 322\n",
      "tar_size: 103\n",
      "tar_fea_size: 1437\n",
      "threshold: 0.79\n",
      "mask=4  reset dru_dis_A as zero, valid sum(dru_dis_A)=0\n"
     ]
    },
    {
     "name": "stderr",
     "output_type": "stream",
     "text": [
      "\n",
      " 92%|█████████▏| 485/530 [05:15<00:30,  1.47it/s]\u001b[A"
     ]
    },
    {
     "name": "stdout",
     "output_type": "stream",
     "text": [
      "-------------------  data info  -----------------\n",
      "dru_size: 64\n",
      "dru_fea_size: 945\n",
      "dis_size: 1036\n",
      "dis_fea_size: 322\n",
      "tar_size: 103\n",
      "tar_fea_size: 1437\n",
      "threshold: 0.79\n",
      "mask=4  reset dru_dis_A as zero, valid sum(dru_dis_A)=0\n"
     ]
    },
    {
     "name": "stderr",
     "output_type": "stream",
     "text": [
      "\n",
      " 92%|█████████▏| 486/530 [05:16<00:30,  1.46it/s]\u001b[A"
     ]
    },
    {
     "name": "stdout",
     "output_type": "stream",
     "text": [
      "-------------------  data info  -----------------\n",
      "dru_size: 64\n",
      "dru_fea_size: 945\n",
      "dis_size: 1036\n",
      "dis_fea_size: 322\n",
      "tar_size: 103\n",
      "tar_fea_size: 1437\n",
      "threshold: 0.79\n",
      "mask=4  reset dru_dis_A as zero, valid sum(dru_dis_A)=0\n"
     ]
    },
    {
     "name": "stderr",
     "output_type": "stream",
     "text": [
      "\n",
      " 92%|█████████▏| 487/530 [05:17<00:29,  1.47it/s]\u001b[A"
     ]
    },
    {
     "name": "stdout",
     "output_type": "stream",
     "text": [
      "-------------------  data info  -----------------\n",
      "dru_size: 64\n",
      "dru_fea_size: 945\n",
      "dis_size: 1036\n",
      "dis_fea_size: 322\n",
      "tar_size: 103\n",
      "tar_fea_size: 1437\n",
      "threshold: 0.79\n",
      "mask=4  reset dru_dis_A as zero, valid sum(dru_dis_A)=0\n"
     ]
    },
    {
     "name": "stderr",
     "output_type": "stream",
     "text": [
      "\n",
      " 92%|█████████▏| 488/530 [05:17<00:28,  1.49it/s]\u001b[A"
     ]
    },
    {
     "name": "stdout",
     "output_type": "stream",
     "text": [
      "-------------------  data info  -----------------\n",
      "dru_size: 64\n",
      "dru_fea_size: 945\n",
      "dis_size: 1036\n",
      "dis_fea_size: 322\n",
      "tar_size: 103\n",
      "tar_fea_size: 1437\n",
      "threshold: 0.79\n",
      "mask=4  reset dru_dis_A as zero, valid sum(dru_dis_A)=0\n"
     ]
    },
    {
     "name": "stderr",
     "output_type": "stream",
     "text": [
      "\n",
      " 92%|█████████▏| 489/530 [05:18<00:27,  1.50it/s]\u001b[A"
     ]
    },
    {
     "name": "stdout",
     "output_type": "stream",
     "text": [
      "-------------------  data info  -----------------\n",
      "dru_size: 64\n",
      "dru_fea_size: 945\n",
      "dis_size: 1036\n",
      "dis_fea_size: 322\n",
      "tar_size: 103\n",
      "tar_fea_size: 1437\n",
      "threshold: 0.79\n",
      "mask=4  reset dru_dis_A as zero, valid sum(dru_dis_A)=0\n"
     ]
    },
    {
     "name": "stderr",
     "output_type": "stream",
     "text": [
      "\n",
      " 92%|█████████▏| 490/530 [05:19<00:27,  1.47it/s]\u001b[A"
     ]
    },
    {
     "name": "stdout",
     "output_type": "stream",
     "text": [
      "-------------------  data info  -----------------\n",
      "dru_size: 64\n",
      "dru_fea_size: 945\n",
      "dis_size: 1036\n",
      "dis_fea_size: 322\n",
      "tar_size: 103\n",
      "tar_fea_size: 1437\n",
      "threshold: 0.79\n",
      "mask=4  reset dru_dis_A as zero, valid sum(dru_dis_A)=0\n"
     ]
    },
    {
     "name": "stderr",
     "output_type": "stream",
     "text": [
      "\n",
      " 93%|█████████▎| 491/530 [05:19<00:26,  1.46it/s]\u001b[A"
     ]
    },
    {
     "name": "stdout",
     "output_type": "stream",
     "text": [
      "-------------------  data info  -----------------\n",
      "dru_size: 64\n",
      "dru_fea_size: 945\n",
      "dis_size: 1036\n",
      "dis_fea_size: 322\n",
      "tar_size: 103\n",
      "tar_fea_size: 1437\n",
      "threshold: 0.79\n",
      "mask=4  reset dru_dis_A as zero, valid sum(dru_dis_A)=0\n"
     ]
    },
    {
     "name": "stderr",
     "output_type": "stream",
     "text": [
      "\n",
      " 93%|█████████▎| 492/530 [05:20<00:25,  1.48it/s]\u001b[A"
     ]
    },
    {
     "name": "stdout",
     "output_type": "stream",
     "text": [
      "-------------------  data info  -----------------\n",
      "dru_size: 64\n",
      "dru_fea_size: 945\n",
      "dis_size: 1036\n",
      "dis_fea_size: 322\n",
      "tar_size: 103\n",
      "tar_fea_size: 1437\n",
      "threshold: 0.79\n",
      "mask=4  reset dru_dis_A as zero, valid sum(dru_dis_A)=0\n"
     ]
    },
    {
     "name": "stderr",
     "output_type": "stream",
     "text": [
      "\n",
      " 93%|█████████▎| 493/530 [05:21<00:24,  1.49it/s]\u001b[A"
     ]
    },
    {
     "name": "stdout",
     "output_type": "stream",
     "text": [
      "-------------------  data info  -----------------\n",
      "dru_size: 64\n",
      "dru_fea_size: 945\n",
      "dis_size: 1036\n",
      "dis_fea_size: 322\n",
      "tar_size: 103\n",
      "tar_fea_size: 1437\n",
      "threshold: 0.79\n",
      "mask=4  reset dru_dis_A as zero, valid sum(dru_dis_A)=0\n"
     ]
    },
    {
     "name": "stderr",
     "output_type": "stream",
     "text": [
      "\n",
      " 93%|█████████▎| 494/530 [05:21<00:24,  1.48it/s]\u001b[A"
     ]
    },
    {
     "name": "stdout",
     "output_type": "stream",
     "text": [
      "-------------------  data info  -----------------\n",
      "dru_size: 64\n",
      "dru_fea_size: 945\n",
      "dis_size: 1036\n",
      "dis_fea_size: 322\n",
      "tar_size: 103\n",
      "tar_fea_size: 1437\n",
      "threshold: 0.79\n",
      "mask=4  reset dru_dis_A as zero, valid sum(dru_dis_A)=0\n"
     ]
    },
    {
     "name": "stderr",
     "output_type": "stream",
     "text": [
      "\n",
      " 93%|█████████▎| 495/530 [05:22<00:23,  1.48it/s]\u001b[A"
     ]
    },
    {
     "name": "stdout",
     "output_type": "stream",
     "text": [
      "-------------------  data info  -----------------\n",
      "dru_size: 64\n",
      "dru_fea_size: 945\n",
      "dis_size: 1036\n",
      "dis_fea_size: 322\n",
      "tar_size: 103\n",
      "tar_fea_size: 1437\n",
      "threshold: 0.79\n",
      "mask=4  reset dru_dis_A as zero, valid sum(dru_dis_A)=0\n"
     ]
    },
    {
     "name": "stderr",
     "output_type": "stream",
     "text": [
      "\n",
      " 94%|█████████▎| 496/530 [05:23<00:22,  1.49it/s]\u001b[A"
     ]
    },
    {
     "name": "stdout",
     "output_type": "stream",
     "text": [
      "-------------------  data info  -----------------\n",
      "dru_size: 64\n",
      "dru_fea_size: 945\n",
      "dis_size: 1036\n",
      "dis_fea_size: 322\n",
      "tar_size: 103\n",
      "tar_fea_size: 1437\n",
      "threshold: 0.79\n",
      "mask=4  reset dru_dis_A as zero, valid sum(dru_dis_A)=0\n"
     ]
    },
    {
     "name": "stderr",
     "output_type": "stream",
     "text": [
      "\n",
      " 94%|█████████▍| 497/530 [05:23<00:22,  1.49it/s]\u001b[A"
     ]
    },
    {
     "name": "stdout",
     "output_type": "stream",
     "text": [
      "-------------------  data info  -----------------\n",
      "dru_size: 64\n",
      "dru_fea_size: 945\n",
      "dis_size: 1036\n",
      "dis_fea_size: 322\n",
      "tar_size: 103\n",
      "tar_fea_size: 1437\n",
      "threshold: 0.79\n",
      "mask=4  reset dru_dis_A as zero, valid sum(dru_dis_A)=0\n"
     ]
    },
    {
     "name": "stderr",
     "output_type": "stream",
     "text": [
      "\n",
      " 94%|█████████▍| 498/530 [05:24<00:21,  1.49it/s]\u001b[A"
     ]
    },
    {
     "name": "stdout",
     "output_type": "stream",
     "text": [
      "-------------------  data info  -----------------\n",
      "dru_size: 64\n",
      "dru_fea_size: 945\n",
      "dis_size: 1036\n",
      "dis_fea_size: 322\n",
      "tar_size: 103\n",
      "tar_fea_size: 1437\n",
      "threshold: 0.79\n",
      "mask=4  reset dru_dis_A as zero, valid sum(dru_dis_A)=0\n"
     ]
    },
    {
     "name": "stderr",
     "output_type": "stream",
     "text": [
      "\n",
      " 94%|█████████▍| 499/530 [05:25<00:20,  1.48it/s]\u001b[A"
     ]
    },
    {
     "name": "stdout",
     "output_type": "stream",
     "text": [
      "-------------------  data info  -----------------\n",
      "dru_size: 64\n",
      "dru_fea_size: 945\n",
      "dis_size: 1036\n",
      "dis_fea_size: 322\n",
      "tar_size: 103\n",
      "tar_fea_size: 1437\n",
      "threshold: 0.79\n",
      "mask=4  reset dru_dis_A as zero, valid sum(dru_dis_A)=0\n"
     ]
    },
    {
     "name": "stderr",
     "output_type": "stream",
     "text": [
      "\n",
      " 94%|█████████▍| 500/530 [05:25<00:20,  1.49it/s]\u001b[A"
     ]
    },
    {
     "name": "stdout",
     "output_type": "stream",
     "text": [
      "-------------------  data info  -----------------\n",
      "dru_size: 64\n",
      "dru_fea_size: 945\n",
      "dis_size: 1036\n",
      "dis_fea_size: 322\n",
      "tar_size: 103\n",
      "tar_fea_size: 1437\n",
      "threshold: 0.79\n",
      "mask=4  reset dru_dis_A as zero, valid sum(dru_dis_A)=0\n"
     ]
    },
    {
     "name": "stderr",
     "output_type": "stream",
     "text": [
      "\n",
      " 95%|█████████▍| 501/530 [05:26<00:19,  1.49it/s]\u001b[A"
     ]
    },
    {
     "name": "stdout",
     "output_type": "stream",
     "text": [
      "-------------------  data info  -----------------\n",
      "dru_size: 64\n",
      "dru_fea_size: 945\n",
      "dis_size: 1036\n",
      "dis_fea_size: 322\n",
      "tar_size: 103\n",
      "tar_fea_size: 1437\n",
      "threshold: 0.79\n",
      "mask=4  reset dru_dis_A as zero, valid sum(dru_dis_A)=0\n"
     ]
    },
    {
     "name": "stderr",
     "output_type": "stream",
     "text": [
      "\n",
      " 95%|█████████▍| 502/530 [05:27<00:18,  1.50it/s]\u001b[A"
     ]
    },
    {
     "name": "stdout",
     "output_type": "stream",
     "text": [
      "-------------------  data info  -----------------\n",
      "dru_size: 64\n",
      "dru_fea_size: 945\n",
      "dis_size: 1036\n",
      "dis_fea_size: 322\n",
      "tar_size: 103\n",
      "tar_fea_size: 1437\n",
      "threshold: 0.79\n",
      "mask=4  reset dru_dis_A as zero, valid sum(dru_dis_A)=0\n"
     ]
    },
    {
     "name": "stderr",
     "output_type": "stream",
     "text": [
      "\n",
      " 95%|█████████▍| 503/530 [05:27<00:17,  1.51it/s]\u001b[A"
     ]
    },
    {
     "name": "stdout",
     "output_type": "stream",
     "text": [
      "-------------------  data info  -----------------\n",
      "dru_size: 64\n",
      "dru_fea_size: 945\n",
      "dis_size: 1036\n",
      "dis_fea_size: 322\n",
      "tar_size: 103\n",
      "tar_fea_size: 1437\n",
      "threshold: 0.79\n",
      "mask=4  reset dru_dis_A as zero, valid sum(dru_dis_A)=0\n"
     ]
    },
    {
     "name": "stderr",
     "output_type": "stream",
     "text": [
      "\n",
      " 95%|█████████▌| 504/530 [05:28<00:17,  1.53it/s]\u001b[A"
     ]
    },
    {
     "name": "stdout",
     "output_type": "stream",
     "text": [
      "-------------------  data info  -----------------\n",
      "dru_size: 64\n",
      "dru_fea_size: 945\n",
      "dis_size: 1036\n",
      "dis_fea_size: 322\n",
      "tar_size: 103\n",
      "tar_fea_size: 1437\n",
      "threshold: 0.79\n",
      "mask=4  reset dru_dis_A as zero, valid sum(dru_dis_A)=0\n"
     ]
    },
    {
     "name": "stderr",
     "output_type": "stream",
     "text": [
      "\n",
      " 95%|█████████▌| 505/530 [05:29<00:16,  1.53it/s]\u001b[A"
     ]
    },
    {
     "name": "stdout",
     "output_type": "stream",
     "text": [
      "-------------------  data info  -----------------\n",
      "dru_size: 64\n",
      "dru_fea_size: 945\n",
      "dis_size: 1036\n",
      "dis_fea_size: 322\n",
      "tar_size: 103\n",
      "tar_fea_size: 1437\n",
      "threshold: 0.79\n",
      "mask=4  reset dru_dis_A as zero, valid sum(dru_dis_A)=0\n"
     ]
    },
    {
     "name": "stderr",
     "output_type": "stream",
     "text": [
      "\n",
      " 95%|█████████▌| 506/530 [05:29<00:15,  1.51it/s]\u001b[A"
     ]
    },
    {
     "name": "stdout",
     "output_type": "stream",
     "text": [
      "-------------------  data info  -----------------\n",
      "dru_size: 64\n",
      "dru_fea_size: 945\n",
      "dis_size: 1036\n",
      "dis_fea_size: 322\n",
      "tar_size: 103\n",
      "tar_fea_size: 1437\n",
      "threshold: 0.79\n",
      "mask=4  reset dru_dis_A as zero, valid sum(dru_dis_A)=0\n"
     ]
    },
    {
     "name": "stderr",
     "output_type": "stream",
     "text": [
      "\n",
      " 96%|█████████▌| 507/530 [05:30<00:15,  1.51it/s]\u001b[A"
     ]
    },
    {
     "name": "stdout",
     "output_type": "stream",
     "text": [
      "-------------------  data info  -----------------\n",
      "dru_size: 64\n",
      "dru_fea_size: 945\n",
      "dis_size: 1036\n",
      "dis_fea_size: 322\n",
      "tar_size: 103\n",
      "tar_fea_size: 1437\n",
      "threshold: 0.79\n",
      "mask=4  reset dru_dis_A as zero, valid sum(dru_dis_A)=0\n"
     ]
    },
    {
     "name": "stderr",
     "output_type": "stream",
     "text": [
      "\n",
      " 96%|█████████▌| 508/530 [05:31<00:14,  1.50it/s]\u001b[A"
     ]
    },
    {
     "name": "stdout",
     "output_type": "stream",
     "text": [
      "-------------------  data info  -----------------\n",
      "dru_size: 64\n",
      "dru_fea_size: 945\n",
      "dis_size: 1036\n",
      "dis_fea_size: 322\n",
      "tar_size: 103\n",
      "tar_fea_size: 1437\n",
      "threshold: 0.79\n",
      "mask=4  reset dru_dis_A as zero, valid sum(dru_dis_A)=0\n"
     ]
    },
    {
     "name": "stderr",
     "output_type": "stream",
     "text": [
      "\n",
      " 96%|█████████▌| 509/530 [05:31<00:13,  1.51it/s]\u001b[A"
     ]
    },
    {
     "name": "stdout",
     "output_type": "stream",
     "text": [
      "-------------------  data info  -----------------\n",
      "dru_size: 64\n",
      "dru_fea_size: 945\n",
      "dis_size: 1036\n",
      "dis_fea_size: 322\n",
      "tar_size: 103\n",
      "tar_fea_size: 1437\n",
      "threshold: 0.79\n",
      "mask=4  reset dru_dis_A as zero, valid sum(dru_dis_A)=0\n"
     ]
    },
    {
     "name": "stderr",
     "output_type": "stream",
     "text": [
      "\n",
      " 96%|█████████▌| 510/530 [05:32<00:13,  1.51it/s]\u001b[A"
     ]
    },
    {
     "name": "stdout",
     "output_type": "stream",
     "text": [
      "-------------------  data info  -----------------\n",
      "dru_size: 81\n",
      "dru_fea_size: 962\n",
      "dis_size: 1157\n",
      "dis_fea_size: 322\n",
      "tar_size: 128\n",
      "tar_fea_size: 1437\n",
      "threshold: 0.74\n",
      "mask=4  reset dru_dis_A as zero, valid sum(dru_dis_A)=0\n"
     ]
    },
    {
     "name": "stderr",
     "output_type": "stream",
     "text": [
      "\n",
      " 96%|█████████▋| 511/530 [05:33<00:13,  1.45it/s]\u001b[A"
     ]
    },
    {
     "name": "stdout",
     "output_type": "stream",
     "text": [
      "-------------------  data info  -----------------\n",
      "dru_size: 81\n",
      "dru_fea_size: 962\n",
      "dis_size: 1157\n",
      "dis_fea_size: 322\n",
      "tar_size: 128\n",
      "tar_fea_size: 1437\n",
      "threshold: 0.74\n",
      "mask=4  reset dru_dis_A as zero, valid sum(dru_dis_A)=0\n"
     ]
    },
    {
     "name": "stderr",
     "output_type": "stream",
     "text": [
      "\n",
      " 97%|█████████▋| 512/530 [05:33<00:12,  1.44it/s]\u001b[A"
     ]
    },
    {
     "name": "stdout",
     "output_type": "stream",
     "text": [
      "-------------------  data info  -----------------\n",
      "dru_size: 81\n",
      "dru_fea_size: 962\n",
      "dis_size: 1157\n",
      "dis_fea_size: 322\n",
      "tar_size: 128\n",
      "tar_fea_size: 1437\n",
      "threshold: 0.74\n",
      "mask=4  reset dru_dis_A as zero, valid sum(dru_dis_A)=0\n"
     ]
    },
    {
     "name": "stderr",
     "output_type": "stream",
     "text": [
      "\n",
      " 97%|█████████▋| 513/530 [05:34<00:12,  1.41it/s]\u001b[A"
     ]
    },
    {
     "name": "stdout",
     "output_type": "stream",
     "text": [
      "-------------------  data info  -----------------\n",
      "dru_size: 81\n",
      "dru_fea_size: 962\n",
      "dis_size: 1157\n",
      "dis_fea_size: 322\n",
      "tar_size: 128\n",
      "tar_fea_size: 1437\n",
      "threshold: 0.74\n",
      "mask=4  reset dru_dis_A as zero, valid sum(dru_dis_A)=0\n"
     ]
    },
    {
     "name": "stderr",
     "output_type": "stream",
     "text": [
      "\n",
      " 97%|█████████▋| 514/530 [05:35<00:11,  1.38it/s]\u001b[A"
     ]
    },
    {
     "name": "stdout",
     "output_type": "stream",
     "text": [
      "-------------------  data info  -----------------\n",
      "dru_size: 81\n",
      "dru_fea_size: 962\n",
      "dis_size: 1157\n",
      "dis_fea_size: 322\n",
      "tar_size: 128\n",
      "tar_fea_size: 1437\n",
      "threshold: 0.74\n",
      "mask=4  reset dru_dis_A as zero, valid sum(dru_dis_A)=0\n"
     ]
    },
    {
     "name": "stderr",
     "output_type": "stream",
     "text": [
      "\n",
      " 97%|█████████▋| 515/530 [05:36<00:10,  1.39it/s]\u001b[A"
     ]
    },
    {
     "name": "stdout",
     "output_type": "stream",
     "text": [
      "-------------------  data info  -----------------\n",
      "dru_size: 81\n",
      "dru_fea_size: 962\n",
      "dis_size: 1157\n",
      "dis_fea_size: 322\n",
      "tar_size: 128\n",
      "tar_fea_size: 1437\n",
      "threshold: 0.74\n",
      "mask=4  reset dru_dis_A as zero, valid sum(dru_dis_A)=0\n"
     ]
    },
    {
     "name": "stderr",
     "output_type": "stream",
     "text": [
      "\n",
      " 97%|█████████▋| 516/530 [05:36<00:10,  1.39it/s]\u001b[A"
     ]
    },
    {
     "name": "stdout",
     "output_type": "stream",
     "text": [
      "-------------------  data info  -----------------\n",
      "dru_size: 81\n",
      "dru_fea_size: 962\n",
      "dis_size: 1157\n",
      "dis_fea_size: 322\n",
      "tar_size: 128\n",
      "tar_fea_size: 1437\n",
      "threshold: 0.74\n",
      "mask=4  reset dru_dis_A as zero, valid sum(dru_dis_A)=0\n"
     ]
    },
    {
     "name": "stderr",
     "output_type": "stream",
     "text": [
      "\n",
      " 98%|█████████▊| 517/530 [05:37<00:09,  1.38it/s]\u001b[A"
     ]
    },
    {
     "name": "stdout",
     "output_type": "stream",
     "text": [
      "-------------------  data info  -----------------\n",
      "dru_size: 81\n",
      "dru_fea_size: 962\n",
      "dis_size: 1157\n",
      "dis_fea_size: 322\n",
      "tar_size: 128\n",
      "tar_fea_size: 1437\n",
      "threshold: 0.74\n",
      "mask=4  reset dru_dis_A as zero, valid sum(dru_dis_A)=0\n"
     ]
    },
    {
     "name": "stderr",
     "output_type": "stream",
     "text": [
      "\n",
      " 98%|█████████▊| 518/530 [05:38<00:08,  1.38it/s]\u001b[A"
     ]
    },
    {
     "name": "stdout",
     "output_type": "stream",
     "text": [
      "-------------------  data info  -----------------\n",
      "dru_size: 81\n",
      "dru_fea_size: 962\n",
      "dis_size: 1157\n",
      "dis_fea_size: 322\n",
      "tar_size: 128\n",
      "tar_fea_size: 1437\n",
      "threshold: 0.74\n",
      "mask=4  reset dru_dis_A as zero, valid sum(dru_dis_A)=0\n"
     ]
    },
    {
     "name": "stderr",
     "output_type": "stream",
     "text": [
      "\n",
      " 98%|█████████▊| 519/530 [05:38<00:07,  1.38it/s]\u001b[A"
     ]
    },
    {
     "name": "stdout",
     "output_type": "stream",
     "text": [
      "-------------------  data info  -----------------\n",
      "dru_size: 81\n",
      "dru_fea_size: 962\n",
      "dis_size: 1157\n",
      "dis_fea_size: 322\n",
      "tar_size: 128\n",
      "tar_fea_size: 1437\n",
      "threshold: 0.74\n",
      "mask=4  reset dru_dis_A as zero, valid sum(dru_dis_A)=0\n"
     ]
    },
    {
     "name": "stderr",
     "output_type": "stream",
     "text": [
      "\n",
      " 98%|█████████▊| 520/530 [05:39<00:07,  1.37it/s]\u001b[A"
     ]
    },
    {
     "name": "stdout",
     "output_type": "stream",
     "text": [
      "-------------------  data info  -----------------\n",
      "dru_size: 64\n",
      "dru_fea_size: 945\n",
      "dis_size: 1036\n",
      "dis_fea_size: 322\n",
      "tar_size: 103\n",
      "tar_fea_size: 1437\n",
      "threshold: 0.79\n",
      "mask=4  reset dru_dis_A as zero, valid sum(dru_dis_A)=0\n"
     ]
    },
    {
     "name": "stderr",
     "output_type": "stream",
     "text": [
      "\n",
      " 98%|█████████▊| 521/530 [05:40<00:06,  1.38it/s]\u001b[A"
     ]
    },
    {
     "name": "stdout",
     "output_type": "stream",
     "text": [
      "-------------------  data info  -----------------\n",
      "dru_size: 64\n",
      "dru_fea_size: 945\n",
      "dis_size: 1036\n",
      "dis_fea_size: 322\n",
      "tar_size: 103\n",
      "tar_fea_size: 1437\n",
      "threshold: 0.79\n",
      "mask=4  reset dru_dis_A as zero, valid sum(dru_dis_A)=0\n"
     ]
    },
    {
     "name": "stderr",
     "output_type": "stream",
     "text": [
      "\n",
      " 98%|█████████▊| 522/530 [05:41<00:05,  1.42it/s]\u001b[A"
     ]
    },
    {
     "name": "stdout",
     "output_type": "stream",
     "text": [
      "-------------------  data info  -----------------\n",
      "dru_size: 64\n",
      "dru_fea_size: 945\n",
      "dis_size: 1036\n",
      "dis_fea_size: 322\n",
      "tar_size: 103\n",
      "tar_fea_size: 1437\n",
      "threshold: 0.79\n",
      "mask=4  reset dru_dis_A as zero, valid sum(dru_dis_A)=0\n"
     ]
    },
    {
     "name": "stderr",
     "output_type": "stream",
     "text": [
      "\n",
      " 99%|█████████▊| 523/530 [05:41<00:04,  1.43it/s]\u001b[A"
     ]
    },
    {
     "name": "stdout",
     "output_type": "stream",
     "text": [
      "-------------------  data info  -----------------\n",
      "dru_size: 64\n",
      "dru_fea_size: 945\n",
      "dis_size: 1036\n",
      "dis_fea_size: 322\n",
      "tar_size: 103\n",
      "tar_fea_size: 1437\n",
      "threshold: 0.79\n",
      "mask=4  reset dru_dis_A as zero, valid sum(dru_dis_A)=0\n"
     ]
    },
    {
     "name": "stderr",
     "output_type": "stream",
     "text": [
      "\n",
      " 99%|█████████▉| 524/530 [05:42<00:04,  1.46it/s]\u001b[A"
     ]
    },
    {
     "name": "stdout",
     "output_type": "stream",
     "text": [
      "-------------------  data info  -----------------\n",
      "dru_size: 64\n",
      "dru_fea_size: 945\n",
      "dis_size: 1036\n",
      "dis_fea_size: 322\n",
      "tar_size: 103\n",
      "tar_fea_size: 1437\n",
      "threshold: 0.79\n",
      "mask=4  reset dru_dis_A as zero, valid sum(dru_dis_A)=0\n"
     ]
    },
    {
     "name": "stderr",
     "output_type": "stream",
     "text": [
      "\n",
      " 99%|█████████▉| 525/530 [05:43<00:03,  1.46it/s]\u001b[A"
     ]
    },
    {
     "name": "stdout",
     "output_type": "stream",
     "text": [
      "-------------------  data info  -----------------\n",
      "dru_size: 64\n",
      "dru_fea_size: 945\n",
      "dis_size: 1036\n",
      "dis_fea_size: 322\n",
      "tar_size: 103\n",
      "tar_fea_size: 1437\n",
      "threshold: 0.79\n",
      "mask=4  reset dru_dis_A as zero, valid sum(dru_dis_A)=0\n"
     ]
    },
    {
     "name": "stderr",
     "output_type": "stream",
     "text": [
      "\n",
      " 99%|█████████▉| 526/530 [05:43<00:02,  1.49it/s]\u001b[A"
     ]
    },
    {
     "name": "stdout",
     "output_type": "stream",
     "text": [
      "-------------------  data info  -----------------\n",
      "dru_size: 64\n",
      "dru_fea_size: 945\n",
      "dis_size: 1036\n",
      "dis_fea_size: 322\n",
      "tar_size: 103\n",
      "tar_fea_size: 1437\n",
      "threshold: 0.79\n",
      "mask=4  reset dru_dis_A as zero, valid sum(dru_dis_A)=0\n"
     ]
    },
    {
     "name": "stderr",
     "output_type": "stream",
     "text": [
      "\n",
      " 99%|█████████▉| 527/530 [05:44<00:02,  1.49it/s]\u001b[A"
     ]
    },
    {
     "name": "stdout",
     "output_type": "stream",
     "text": [
      "-------------------  data info  -----------------\n",
      "dru_size: 64\n",
      "dru_fea_size: 945\n",
      "dis_size: 1036\n",
      "dis_fea_size: 322\n",
      "tar_size: 103\n",
      "tar_fea_size: 1437\n",
      "threshold: 0.79\n",
      "mask=4  reset dru_dis_A as zero, valid sum(dru_dis_A)=0\n"
     ]
    },
    {
     "name": "stderr",
     "output_type": "stream",
     "text": [
      "\n",
      "100%|█████████▉| 528/530 [05:45<00:01,  1.48it/s]\u001b[A"
     ]
    },
    {
     "name": "stdout",
     "output_type": "stream",
     "text": [
      "-------------------  data info  -----------------\n",
      "dru_size: 64\n",
      "dru_fea_size: 945\n",
      "dis_size: 1036\n",
      "dis_fea_size: 322\n",
      "tar_size: 103\n",
      "tar_fea_size: 1437\n",
      "threshold: 0.79\n",
      "mask=4  reset dru_dis_A as zero, valid sum(dru_dis_A)=0\n"
     ]
    },
    {
     "name": "stderr",
     "output_type": "stream",
     "text": [
      "\n",
      "100%|█████████▉| 529/530 [05:45<00:00,  1.47it/s]\u001b[A"
     ]
    },
    {
     "name": "stdout",
     "output_type": "stream",
     "text": [
      "-------------------  data info  -----------------\n",
      "dru_size: 64\n",
      "dru_fea_size: 945\n",
      "dis_size: 1036\n",
      "dis_fea_size: 322\n",
      "tar_size: 103\n",
      "tar_fea_size: 1437\n",
      "threshold: 0.79\n",
      "mask=4  reset dru_dis_A as zero, valid sum(dru_dis_A)=0\n"
     ]
    },
    {
     "name": "stderr",
     "output_type": "stream",
     "text": [
      "\n",
      "100%|██████████| 530/530 [05:46<00:00,  1.49it/s]\u001b[A\n",
      "\u001b[A"
     ]
    }
   ],
   "source": [
    "ckp_res_list = []\n",
    "for ckp in tqdm(ckp_list):\n",
    "    if ckp[0] in save_list:\n",
    "        continue\n",
    "    res = evaluate_ckp(ckp_file=ckp[0])\n",
    "    ckp_res_list.append(ckp + [res])\n",
    "    save_list[ckp[0]] = ckp + [res]"
   ]
  },
  {
   "cell_type": "code",
   "execution_count": 37,
   "metadata": {
    "scrolled": true
   },
   "outputs": [
    {
     "name": "stderr",
     "output_type": "stream",
     "text": [
      "\n",
      "  0%|          | 0/61 [00:00<?, ?it/s]\u001b[A"
     ]
    },
    {
     "name": "stdout",
     "output_type": "stream",
     "text": [
      "-------------------  data info  -----------------\n",
      "dru_size: 64\n",
      "dru_fea_size: 945\n",
      "dis_size: 1036\n",
      "dis_fea_size: 322\n",
      "tar_size: 103\n",
      "tar_fea_size: 1437\n",
      "threshold: 0.79\n",
      "mask=4  reset dru_dis_A as zero, valid sum(dru_dis_A)=0\n"
     ]
    },
    {
     "name": "stderr",
     "output_type": "stream",
     "text": [
      "\n",
      "  2%|▏         | 1/61 [00:00<00:32,  1.86it/s]\u001b[A"
     ]
    },
    {
     "name": "stdout",
     "output_type": "stream",
     "text": [
      "-------------------  data info  -----------------\n",
      "dru_size: 64\n",
      "dru_fea_size: 945\n",
      "dis_size: 1036\n",
      "dis_fea_size: 322\n",
      "tar_size: 103\n",
      "tar_fea_size: 1437\n",
      "threshold: 0.79\n",
      "mask=4  reset dru_dis_A as zero, valid sum(dru_dis_A)=0\n"
     ]
    },
    {
     "name": "stderr",
     "output_type": "stream",
     "text": [
      "\n",
      "  3%|▎         | 2/61 [00:00<00:29,  1.97it/s]\u001b[A"
     ]
    },
    {
     "name": "stdout",
     "output_type": "stream",
     "text": [
      "-------------------  data info  -----------------\n",
      "dru_size: 64\n",
      "dru_fea_size: 945\n",
      "dis_size: 1036\n",
      "dis_fea_size: 322\n",
      "tar_size: 103\n",
      "tar_fea_size: 1437\n",
      "threshold: 0.79\n",
      "mask=4  reset dru_dis_A as zero, valid sum(dru_dis_A)=0\n"
     ]
    },
    {
     "name": "stderr",
     "output_type": "stream",
     "text": [
      "\n",
      "  5%|▍         | 3/61 [00:01<00:27,  2.08it/s]\u001b[A"
     ]
    },
    {
     "name": "stdout",
     "output_type": "stream",
     "text": [
      "-------------------  data info  -----------------\n",
      "dru_size: 64\n",
      "dru_fea_size: 945\n",
      "dis_size: 1036\n",
      "dis_fea_size: 322\n",
      "tar_size: 103\n",
      "tar_fea_size: 1437\n",
      "threshold: 0.79\n",
      "mask=4  reset dru_dis_A as zero, valid sum(dru_dis_A)=0\n"
     ]
    },
    {
     "name": "stderr",
     "output_type": "stream",
     "text": [
      "\n",
      "  7%|▋         | 4/61 [00:01<00:26,  2.19it/s]\u001b[A"
     ]
    },
    {
     "name": "stdout",
     "output_type": "stream",
     "text": [
      "-------------------  data info  -----------------\n",
      "dru_size: 64\n",
      "dru_fea_size: 945\n",
      "dis_size: 1036\n",
      "dis_fea_size: 322\n",
      "tar_size: 103\n",
      "tar_fea_size: 1437\n",
      "threshold: 0.79\n",
      "mask=4  reset dru_dis_A as zero, valid sum(dru_dis_A)=0\n"
     ]
    },
    {
     "name": "stderr",
     "output_type": "stream",
     "text": [
      "\n",
      "  8%|▊         | 5/61 [00:02<00:24,  2.27it/s]\u001b[A"
     ]
    },
    {
     "name": "stdout",
     "output_type": "stream",
     "text": [
      "-------------------  data info  -----------------\n",
      "dru_size: 64\n",
      "dru_fea_size: 945\n",
      "dis_size: 1036\n",
      "dis_fea_size: 322\n",
      "tar_size: 103\n",
      "tar_fea_size: 1437\n",
      "threshold: 0.79\n",
      "mask=4  reset dru_dis_A as zero, valid sum(dru_dis_A)=0\n"
     ]
    },
    {
     "name": "stderr",
     "output_type": "stream",
     "text": [
      "\n",
      " 10%|▉         | 6/61 [00:02<00:23,  2.29it/s]\u001b[A"
     ]
    },
    {
     "name": "stdout",
     "output_type": "stream",
     "text": [
      "-------------------  data info  -----------------\n",
      "dru_size: 64\n",
      "dru_fea_size: 945\n",
      "dis_size: 1036\n",
      "dis_fea_size: 322\n",
      "tar_size: 103\n",
      "tar_fea_size: 1437\n",
      "threshold: 0.79\n",
      "mask=4  reset dru_dis_A as zero, valid sum(dru_dis_A)=0\n"
     ]
    },
    {
     "name": "stderr",
     "output_type": "stream",
     "text": [
      "\n",
      " 11%|█▏        | 7/61 [00:03<00:22,  2.35it/s]\u001b[A"
     ]
    },
    {
     "name": "stdout",
     "output_type": "stream",
     "text": [
      "-------------------  data info  -----------------\n",
      "dru_size: 64\n",
      "dru_fea_size: 945\n",
      "dis_size: 1036\n",
      "dis_fea_size: 322\n",
      "tar_size: 103\n",
      "tar_fea_size: 1437\n",
      "threshold: 0.79\n",
      "mask=4  reset dru_dis_A as zero, valid sum(dru_dis_A)=0\n"
     ]
    },
    {
     "name": "stderr",
     "output_type": "stream",
     "text": [
      "\n",
      " 13%|█▎        | 8/61 [00:03<00:22,  2.34it/s]\u001b[A"
     ]
    },
    {
     "name": "stdout",
     "output_type": "stream",
     "text": [
      "-------------------  data info  -----------------\n",
      "dru_size: 64\n",
      "dru_fea_size: 945\n",
      "dis_size: 1036\n",
      "dis_fea_size: 322\n",
      "tar_size: 103\n",
      "tar_fea_size: 1437\n",
      "threshold: 0.79\n",
      "mask=4  reset dru_dis_A as zero, valid sum(dru_dis_A)=0\n"
     ]
    },
    {
     "name": "stderr",
     "output_type": "stream",
     "text": [
      "\n",
      " 15%|█▍        | 9/61 [00:03<00:21,  2.37it/s]\u001b[A"
     ]
    },
    {
     "name": "stdout",
     "output_type": "stream",
     "text": [
      "-------------------  data info  -----------------\n",
      "dru_size: 64\n",
      "dru_fea_size: 945\n",
      "dis_size: 1036\n",
      "dis_fea_size: 322\n",
      "tar_size: 103\n",
      "tar_fea_size: 1437\n",
      "threshold: 0.79\n",
      "mask=4  reset dru_dis_A as zero, valid sum(dru_dis_A)=0\n"
     ]
    },
    {
     "name": "stderr",
     "output_type": "stream",
     "text": [
      "\n",
      " 16%|█▋        | 10/61 [00:04<00:21,  2.40it/s]\u001b[A"
     ]
    },
    {
     "name": "stdout",
     "output_type": "stream",
     "text": [
      "-------------------  data info  -----------------\n",
      "dru_size: 64\n",
      "dru_fea_size: 945\n",
      "dis_size: 1036\n",
      "dis_fea_size: 322\n",
      "tar_size: 103\n",
      "tar_fea_size: 1437\n",
      "threshold: 0.79\n",
      "mask=4  reset dru_dis_A as zero, valid sum(dru_dis_A)=0\n"
     ]
    },
    {
     "name": "stderr",
     "output_type": "stream",
     "text": [
      "\n",
      " 18%|█▊        | 11/61 [00:04<00:20,  2.43it/s]\u001b[A"
     ]
    },
    {
     "name": "stdout",
     "output_type": "stream",
     "text": [
      "-------------------  data info  -----------------\n",
      "dru_size: 64\n",
      "dru_fea_size: 945\n",
      "dis_size: 1036\n",
      "dis_fea_size: 322\n",
      "tar_size: 103\n",
      "tar_fea_size: 1437\n",
      "threshold: 0.79\n",
      "mask=4  reset dru_dis_A as zero, valid sum(dru_dis_A)=0\n"
     ]
    },
    {
     "name": "stderr",
     "output_type": "stream",
     "text": [
      "\n",
      " 20%|█▉        | 12/61 [00:05<00:20,  2.44it/s]\u001b[A"
     ]
    },
    {
     "name": "stdout",
     "output_type": "stream",
     "text": [
      "-------------------  data info  -----------------\n",
      "dru_size: 64\n",
      "dru_fea_size: 945\n",
      "dis_size: 1036\n",
      "dis_fea_size: 322\n",
      "tar_size: 103\n",
      "tar_fea_size: 1437\n",
      "threshold: 0.79\n",
      "mask=4  reset dru_dis_A as zero, valid sum(dru_dis_A)=0\n"
     ]
    },
    {
     "name": "stderr",
     "output_type": "stream",
     "text": [
      "\n",
      " 21%|██▏       | 13/61 [00:05<00:19,  2.42it/s]\u001b[A"
     ]
    },
    {
     "name": "stdout",
     "output_type": "stream",
     "text": [
      "-------------------  data info  -----------------\n",
      "dru_size: 64\n",
      "dru_fea_size: 945\n",
      "dis_size: 1036\n",
      "dis_fea_size: 322\n",
      "tar_size: 103\n",
      "tar_fea_size: 1437\n",
      "threshold: 0.79\n",
      "mask=4  reset dru_dis_A as zero, valid sum(dru_dis_A)=0\n"
     ]
    },
    {
     "name": "stderr",
     "output_type": "stream",
     "text": [
      "\n",
      " 23%|██▎       | 14/61 [00:05<00:19,  2.43it/s]\u001b[A"
     ]
    },
    {
     "name": "stdout",
     "output_type": "stream",
     "text": [
      "-------------------  data info  -----------------\n",
      "dru_size: 64\n",
      "dru_fea_size: 945\n",
      "dis_size: 1036\n",
      "dis_fea_size: 322\n",
      "tar_size: 103\n",
      "tar_fea_size: 1437\n",
      "threshold: 0.79\n",
      "mask=4  reset dru_dis_A as zero, valid sum(dru_dis_A)=0\n"
     ]
    },
    {
     "name": "stderr",
     "output_type": "stream",
     "text": [
      "\n",
      " 25%|██▍       | 15/61 [00:06<00:19,  2.40it/s]\u001b[A"
     ]
    },
    {
     "name": "stdout",
     "output_type": "stream",
     "text": [
      "-------------------  data info  -----------------\n",
      "dru_size: 64\n",
      "dru_fea_size: 945\n",
      "dis_size: 1036\n",
      "dis_fea_size: 322\n",
      "tar_size: 103\n",
      "tar_fea_size: 1437\n",
      "threshold: 0.79\n",
      "mask=4  reset dru_dis_A as zero, valid sum(dru_dis_A)=0\n"
     ]
    },
    {
     "name": "stderr",
     "output_type": "stream",
     "text": [
      "\n",
      " 26%|██▌       | 16/61 [00:06<00:18,  2.43it/s]\u001b[A"
     ]
    },
    {
     "name": "stdout",
     "output_type": "stream",
     "text": [
      "-------------------  data info  -----------------\n",
      "dru_size: 64\n",
      "dru_fea_size: 945\n",
      "dis_size: 1036\n",
      "dis_fea_size: 322\n",
      "tar_size: 103\n",
      "tar_fea_size: 1437\n",
      "threshold: 0.79\n",
      "mask=4  reset dru_dis_A as zero, valid sum(dru_dis_A)=0\n"
     ]
    },
    {
     "name": "stderr",
     "output_type": "stream",
     "text": [
      "\n",
      " 28%|██▊       | 17/61 [00:07<00:17,  2.45it/s]\u001b[A"
     ]
    },
    {
     "name": "stdout",
     "output_type": "stream",
     "text": [
      "-------------------  data info  -----------------\n",
      "dru_size: 64\n",
      "dru_fea_size: 945\n",
      "dis_size: 1036\n",
      "dis_fea_size: 322\n",
      "tar_size: 103\n",
      "tar_fea_size: 1437\n",
      "threshold: 0.79\n",
      "mask=4  reset dru_dis_A as zero, valid sum(dru_dis_A)=0\n"
     ]
    },
    {
     "name": "stderr",
     "output_type": "stream",
     "text": [
      "\n",
      " 30%|██▉       | 18/61 [00:07<00:17,  2.47it/s]\u001b[A"
     ]
    },
    {
     "name": "stdout",
     "output_type": "stream",
     "text": [
      "-------------------  data info  -----------------\n",
      "dru_size: 64\n",
      "dru_fea_size: 945\n",
      "dis_size: 1036\n",
      "dis_fea_size: 322\n",
      "tar_size: 103\n",
      "tar_fea_size: 1437\n",
      "threshold: 0.79\n",
      "mask=4  reset dru_dis_A as zero, valid sum(dru_dis_A)=0\n"
     ]
    },
    {
     "name": "stderr",
     "output_type": "stream",
     "text": [
      "\n",
      " 31%|███       | 19/61 [00:07<00:16,  2.48it/s]\u001b[A"
     ]
    },
    {
     "name": "stdout",
     "output_type": "stream",
     "text": [
      "-------------------  data info  -----------------\n",
      "dru_size: 64\n",
      "dru_fea_size: 945\n",
      "dis_size: 1036\n",
      "dis_fea_size: 322\n",
      "tar_size: 103\n",
      "tar_fea_size: 1437\n",
      "threshold: 0.79\n",
      "mask=4  reset dru_dis_A as zero, valid sum(dru_dis_A)=0\n"
     ]
    },
    {
     "name": "stderr",
     "output_type": "stream",
     "text": [
      "\n",
      " 33%|███▎      | 20/61 [00:08<00:16,  2.46it/s]\u001b[A"
     ]
    },
    {
     "name": "stdout",
     "output_type": "stream",
     "text": [
      "-------------------  data info  -----------------\n",
      "dru_size: 64\n",
      "dru_fea_size: 945\n",
      "dis_size: 1036\n",
      "dis_fea_size: 322\n",
      "tar_size: 103\n",
      "tar_fea_size: 1437\n",
      "threshold: 0.79\n",
      "mask=4  reset dru_dis_A as zero, valid sum(dru_dis_A)=0\n"
     ]
    },
    {
     "name": "stderr",
     "output_type": "stream",
     "text": [
      "\n",
      " 34%|███▍      | 21/61 [00:08<00:16,  2.47it/s]\u001b[A"
     ]
    },
    {
     "name": "stdout",
     "output_type": "stream",
     "text": [
      "-------------------  data info  -----------------\n",
      "dru_size: 64\n",
      "dru_fea_size: 945\n",
      "dis_size: 1036\n",
      "dis_fea_size: 322\n",
      "tar_size: 103\n",
      "tar_fea_size: 1437\n",
      "threshold: 0.79\n",
      "mask=4  reset dru_dis_A as zero, valid sum(dru_dis_A)=0\n"
     ]
    },
    {
     "name": "stderr",
     "output_type": "stream",
     "text": [
      "\n",
      " 36%|███▌      | 22/61 [00:09<00:15,  2.48it/s]\u001b[A"
     ]
    },
    {
     "name": "stdout",
     "output_type": "stream",
     "text": [
      "-------------------  data info  -----------------\n",
      "dru_size: 64\n",
      "dru_fea_size: 945\n",
      "dis_size: 1036\n",
      "dis_fea_size: 322\n",
      "tar_size: 103\n",
      "tar_fea_size: 1437\n",
      "threshold: 0.79\n",
      "mask=4  reset dru_dis_A as zero, valid sum(dru_dis_A)=0\n"
     ]
    },
    {
     "name": "stderr",
     "output_type": "stream",
     "text": [
      "\n",
      " 38%|███▊      | 23/61 [00:09<00:15,  2.49it/s]\u001b[A"
     ]
    },
    {
     "name": "stdout",
     "output_type": "stream",
     "text": [
      "-------------------  data info  -----------------\n",
      "dru_size: 64\n",
      "dru_fea_size: 945\n",
      "dis_size: 1036\n",
      "dis_fea_size: 322\n",
      "tar_size: 103\n",
      "tar_fea_size: 1437\n",
      "threshold: 0.79\n",
      "mask=4  reset dru_dis_A as zero, valid sum(dru_dis_A)=0\n"
     ]
    },
    {
     "name": "stderr",
     "output_type": "stream",
     "text": [
      "\n",
      " 39%|███▉      | 24/61 [00:09<00:14,  2.51it/s]\u001b[A"
     ]
    },
    {
     "name": "stdout",
     "output_type": "stream",
     "text": [
      "-------------------  data info  -----------------\n",
      "dru_size: 64\n",
      "dru_fea_size: 945\n",
      "dis_size: 1036\n",
      "dis_fea_size: 322\n",
      "tar_size: 103\n",
      "tar_fea_size: 1437\n",
      "threshold: 0.79\n",
      "mask=4  reset dru_dis_A as zero, valid sum(dru_dis_A)=0\n"
     ]
    },
    {
     "name": "stderr",
     "output_type": "stream",
     "text": [
      "\n",
      " 41%|████      | 25/61 [00:10<00:14,  2.46it/s]\u001b[A"
     ]
    },
    {
     "name": "stdout",
     "output_type": "stream",
     "text": [
      "-------------------  data info  -----------------\n",
      "dru_size: 64\n",
      "dru_fea_size: 945\n",
      "dis_size: 1036\n",
      "dis_fea_size: 322\n",
      "tar_size: 103\n",
      "tar_fea_size: 1437\n",
      "threshold: 0.79\n",
      "mask=4  reset dru_dis_A as zero, valid sum(dru_dis_A)=0\n"
     ]
    },
    {
     "name": "stderr",
     "output_type": "stream",
     "text": [
      "\n",
      " 43%|████▎     | 26/61 [00:10<00:14,  2.46it/s]\u001b[A"
     ]
    },
    {
     "name": "stdout",
     "output_type": "stream",
     "text": [
      "-------------------  data info  -----------------\n",
      "dru_size: 64\n",
      "dru_fea_size: 945\n",
      "dis_size: 1036\n",
      "dis_fea_size: 322\n",
      "tar_size: 103\n",
      "tar_fea_size: 1437\n",
      "threshold: 0.79\n",
      "mask=4  reset dru_dis_A as zero, valid sum(dru_dis_A)=0\n"
     ]
    },
    {
     "name": "stderr",
     "output_type": "stream",
     "text": [
      "\n",
      " 44%|████▍     | 27/61 [00:11<00:14,  2.43it/s]\u001b[A"
     ]
    },
    {
     "name": "stdout",
     "output_type": "stream",
     "text": [
      "-------------------  data info  -----------------\n",
      "dru_size: 64\n",
      "dru_fea_size: 945\n",
      "dis_size: 1036\n",
      "dis_fea_size: 322\n",
      "tar_size: 103\n",
      "tar_fea_size: 1437\n",
      "threshold: 0.79\n",
      "mask=4  reset dru_dis_A as zero, valid sum(dru_dis_A)=0\n"
     ]
    },
    {
     "name": "stderr",
     "output_type": "stream",
     "text": [
      "\n",
      " 46%|████▌     | 28/61 [00:11<00:13,  2.44it/s]\u001b[A"
     ]
    },
    {
     "name": "stdout",
     "output_type": "stream",
     "text": [
      "-------------------  data info  -----------------\n",
      "dru_size: 64\n",
      "dru_fea_size: 945\n",
      "dis_size: 1036\n",
      "dis_fea_size: 322\n",
      "tar_size: 103\n",
      "tar_fea_size: 1437\n",
      "threshold: 0.79\n",
      "mask=4  reset dru_dis_A as zero, valid sum(dru_dis_A)=0\n"
     ]
    },
    {
     "name": "stderr",
     "output_type": "stream",
     "text": [
      "\n",
      " 48%|████▊     | 29/61 [00:12<00:13,  2.43it/s]\u001b[A"
     ]
    },
    {
     "name": "stdout",
     "output_type": "stream",
     "text": [
      "-------------------  data info  -----------------\n",
      "dru_size: 64\n",
      "dru_fea_size: 945\n",
      "dis_size: 1036\n",
      "dis_fea_size: 322\n",
      "tar_size: 103\n",
      "tar_fea_size: 1437\n",
      "threshold: 0.79\n",
      "mask=4  reset dru_dis_A as zero, valid sum(dru_dis_A)=0\n"
     ]
    },
    {
     "name": "stderr",
     "output_type": "stream",
     "text": [
      "\n",
      " 49%|████▉     | 30/61 [00:12<00:12,  2.41it/s]\u001b[A"
     ]
    },
    {
     "name": "stdout",
     "output_type": "stream",
     "text": [
      "-------------------  data info  -----------------\n",
      "dru_size: 64\n",
      "dru_fea_size: 945\n",
      "dis_size: 1036\n",
      "dis_fea_size: 322\n",
      "tar_size: 103\n",
      "tar_fea_size: 1437\n",
      "threshold: 0.79\n",
      "mask=4  reset dru_dis_A as zero, valid sum(dru_dis_A)=0\n"
     ]
    },
    {
     "name": "stderr",
     "output_type": "stream",
     "text": [
      "\n",
      " 51%|█████     | 31/61 [00:12<00:12,  2.39it/s]\u001b[A"
     ]
    },
    {
     "name": "stdout",
     "output_type": "stream",
     "text": [
      "-------------------  data info  -----------------\n",
      "dru_size: 64\n",
      "dru_fea_size: 945\n",
      "dis_size: 1036\n",
      "dis_fea_size: 322\n",
      "tar_size: 103\n",
      "tar_fea_size: 1437\n",
      "threshold: 0.79\n",
      "mask=4  reset dru_dis_A as zero, valid sum(dru_dis_A)=0\n"
     ]
    },
    {
     "name": "stderr",
     "output_type": "stream",
     "text": [
      "\n",
      " 52%|█████▏    | 32/61 [00:13<00:12,  2.36it/s]\u001b[A"
     ]
    },
    {
     "name": "stdout",
     "output_type": "stream",
     "text": [
      "-------------------  data info  -----------------\n",
      "dru_size: 64\n",
      "dru_fea_size: 945\n",
      "dis_size: 1036\n",
      "dis_fea_size: 322\n",
      "tar_size: 103\n",
      "tar_fea_size: 1437\n",
      "threshold: 0.79\n",
      "mask=4  reset dru_dis_A as zero, valid sum(dru_dis_A)=0\n"
     ]
    },
    {
     "name": "stderr",
     "output_type": "stream",
     "text": [
      "\n",
      " 54%|█████▍    | 33/61 [00:13<00:11,  2.40it/s]\u001b[A"
     ]
    },
    {
     "name": "stdout",
     "output_type": "stream",
     "text": [
      "-------------------  data info  -----------------\n",
      "dru_size: 64\n",
      "dru_fea_size: 945\n",
      "dis_size: 1036\n",
      "dis_fea_size: 322\n",
      "tar_size: 103\n",
      "tar_fea_size: 1437\n",
      "threshold: 0.79\n",
      "mask=4  reset dru_dis_A as zero, valid sum(dru_dis_A)=0\n"
     ]
    },
    {
     "name": "stderr",
     "output_type": "stream",
     "text": [
      "\n",
      " 56%|█████▌    | 34/61 [00:14<00:11,  2.38it/s]\u001b[A"
     ]
    },
    {
     "name": "stdout",
     "output_type": "stream",
     "text": [
      "-------------------  data info  -----------------\n",
      "dru_size: 64\n",
      "dru_fea_size: 945\n",
      "dis_size: 1036\n",
      "dis_fea_size: 322\n",
      "tar_size: 103\n",
      "tar_fea_size: 1437\n",
      "threshold: 0.79\n",
      "mask=4  reset dru_dis_A as zero, valid sum(dru_dis_A)=0\n"
     ]
    },
    {
     "name": "stderr",
     "output_type": "stream",
     "text": [
      "\n",
      " 57%|█████▋    | 35/61 [00:14<00:10,  2.41it/s]\u001b[A"
     ]
    },
    {
     "name": "stdout",
     "output_type": "stream",
     "text": [
      "-------------------  data info  -----------------\n",
      "dru_size: 64\n",
      "dru_fea_size: 945\n",
      "dis_size: 1036\n",
      "dis_fea_size: 322\n",
      "tar_size: 103\n",
      "tar_fea_size: 1437\n",
      "threshold: 0.79\n",
      "mask=4  reset dru_dis_A as zero, valid sum(dru_dis_A)=0\n"
     ]
    },
    {
     "name": "stderr",
     "output_type": "stream",
     "text": [
      "\n",
      " 59%|█████▉    | 36/61 [00:14<00:10,  2.40it/s]\u001b[A"
     ]
    },
    {
     "name": "stdout",
     "output_type": "stream",
     "text": [
      "-------------------  data info  -----------------\n",
      "dru_size: 64\n",
      "dru_fea_size: 945\n",
      "dis_size: 1036\n",
      "dis_fea_size: 322\n",
      "tar_size: 103\n",
      "tar_fea_size: 1437\n",
      "threshold: 0.79\n",
      "mask=4  reset dru_dis_A as zero, valid sum(dru_dis_A)=0\n"
     ]
    },
    {
     "name": "stderr",
     "output_type": "stream",
     "text": [
      "\n",
      " 61%|██████    | 37/61 [00:15<00:09,  2.41it/s]\u001b[A"
     ]
    },
    {
     "name": "stdout",
     "output_type": "stream",
     "text": [
      "-------------------  data info  -----------------\n",
      "dru_size: 64\n",
      "dru_fea_size: 945\n",
      "dis_size: 1036\n",
      "dis_fea_size: 322\n",
      "tar_size: 103\n",
      "tar_fea_size: 1437\n",
      "threshold: 0.79\n",
      "mask=4  reset dru_dis_A as zero, valid sum(dru_dis_A)=0\n"
     ]
    },
    {
     "name": "stderr",
     "output_type": "stream",
     "text": [
      "\n",
      " 62%|██████▏   | 38/61 [00:15<00:09,  2.43it/s]\u001b[A"
     ]
    },
    {
     "name": "stdout",
     "output_type": "stream",
     "text": [
      "-------------------  data info  -----------------\n",
      "dru_size: 64\n",
      "dru_fea_size: 945\n",
      "dis_size: 1036\n",
      "dis_fea_size: 322\n",
      "tar_size: 103\n",
      "tar_fea_size: 1437\n",
      "threshold: 0.79\n",
      "mask=4  reset dru_dis_A as zero, valid sum(dru_dis_A)=0\n"
     ]
    },
    {
     "name": "stderr",
     "output_type": "stream",
     "text": [
      "\n",
      " 64%|██████▍   | 39/61 [00:16<00:09,  2.40it/s]\u001b[A"
     ]
    },
    {
     "name": "stdout",
     "output_type": "stream",
     "text": [
      "-------------------  data info  -----------------\n",
      "dru_size: 64\n",
      "dru_fea_size: 945\n",
      "dis_size: 1036\n",
      "dis_fea_size: 322\n",
      "tar_size: 103\n",
      "tar_fea_size: 1437\n",
      "threshold: 0.79\n",
      "mask=4  reset dru_dis_A as zero, valid sum(dru_dis_A)=0\n"
     ]
    },
    {
     "name": "stderr",
     "output_type": "stream",
     "text": [
      "\n",
      " 66%|██████▌   | 40/61 [00:16<00:08,  2.39it/s]\u001b[A"
     ]
    },
    {
     "name": "stdout",
     "output_type": "stream",
     "text": [
      "-------------------  data info  -----------------\n",
      "dru_size: 64\n",
      "dru_fea_size: 945\n",
      "dis_size: 1036\n",
      "dis_fea_size: 322\n",
      "tar_size: 103\n",
      "tar_fea_size: 1437\n",
      "threshold: 0.79\n",
      "mask=4  reset dru_dis_A as zero, valid sum(dru_dis_A)=0\n"
     ]
    },
    {
     "name": "stderr",
     "output_type": "stream",
     "text": [
      "\n",
      " 67%|██████▋   | 41/61 [00:17<00:08,  2.41it/s]\u001b[A"
     ]
    },
    {
     "name": "stdout",
     "output_type": "stream",
     "text": [
      "-------------------  data info  -----------------\n",
      "dru_size: 64\n",
      "dru_fea_size: 945\n",
      "dis_size: 1036\n",
      "dis_fea_size: 322\n",
      "tar_size: 103\n",
      "tar_fea_size: 1437\n",
      "threshold: 0.79\n",
      "mask=4  reset dru_dis_A as zero, valid sum(dru_dis_A)=0\n"
     ]
    },
    {
     "name": "stderr",
     "output_type": "stream",
     "text": [
      "\n",
      " 69%|██████▉   | 42/61 [00:17<00:07,  2.42it/s]\u001b[A"
     ]
    },
    {
     "name": "stdout",
     "output_type": "stream",
     "text": [
      "-------------------  data info  -----------------\n",
      "dru_size: 64\n",
      "dru_fea_size: 945\n",
      "dis_size: 1036\n",
      "dis_fea_size: 322\n",
      "tar_size: 103\n",
      "tar_fea_size: 1437\n",
      "threshold: 0.79\n",
      "mask=4  reset dru_dis_A as zero, valid sum(dru_dis_A)=0\n"
     ]
    },
    {
     "name": "stderr",
     "output_type": "stream",
     "text": [
      "\n",
      " 70%|███████   | 43/61 [00:17<00:07,  2.44it/s]\u001b[A"
     ]
    },
    {
     "name": "stdout",
     "output_type": "stream",
     "text": [
      "-------------------  data info  -----------------\n",
      "dru_size: 64\n",
      "dru_fea_size: 945\n",
      "dis_size: 1036\n",
      "dis_fea_size: 322\n",
      "tar_size: 103\n",
      "tar_fea_size: 1437\n",
      "threshold: 0.79\n",
      "mask=4  reset dru_dis_A as zero, valid sum(dru_dis_A)=0\n"
     ]
    },
    {
     "name": "stderr",
     "output_type": "stream",
     "text": [
      "\n",
      " 72%|███████▏  | 44/61 [00:18<00:07,  2.43it/s]\u001b[A"
     ]
    },
    {
     "name": "stdout",
     "output_type": "stream",
     "text": [
      "-------------------  data info  -----------------\n",
      "dru_size: 64\n",
      "dru_fea_size: 945\n",
      "dis_size: 1036\n",
      "dis_fea_size: 322\n",
      "tar_size: 103\n",
      "tar_fea_size: 1437\n",
      "threshold: 0.79\n",
      "mask=4  reset dru_dis_A as zero, valid sum(dru_dis_A)=0\n"
     ]
    },
    {
     "name": "stderr",
     "output_type": "stream",
     "text": [
      "\n",
      " 74%|███████▍  | 45/61 [00:18<00:06,  2.38it/s]\u001b[A"
     ]
    },
    {
     "name": "stdout",
     "output_type": "stream",
     "text": [
      "-------------------  data info  -----------------\n",
      "dru_size: 64\n",
      "dru_fea_size: 945\n",
      "dis_size: 1036\n",
      "dis_fea_size: 322\n",
      "tar_size: 103\n",
      "tar_fea_size: 1437\n",
      "threshold: 0.79\n",
      "mask=4  reset dru_dis_A as zero, valid sum(dru_dis_A)=0\n"
     ]
    },
    {
     "name": "stderr",
     "output_type": "stream",
     "text": [
      "\n",
      " 75%|███████▌  | 46/61 [00:19<00:06,  2.37it/s]\u001b[A"
     ]
    },
    {
     "name": "stdout",
     "output_type": "stream",
     "text": [
      "-------------------  data info  -----------------\n",
      "dru_size: 64\n",
      "dru_fea_size: 945\n",
      "dis_size: 1036\n",
      "dis_fea_size: 322\n",
      "tar_size: 103\n",
      "tar_fea_size: 1437\n",
      "threshold: 0.79\n",
      "mask=4  reset dru_dis_A as zero, valid sum(dru_dis_A)=0\n"
     ]
    },
    {
     "name": "stderr",
     "output_type": "stream",
     "text": [
      "\n",
      " 77%|███████▋  | 47/61 [00:19<00:05,  2.35it/s]\u001b[A"
     ]
    },
    {
     "name": "stdout",
     "output_type": "stream",
     "text": [
      "-------------------  data info  -----------------\n",
      "dru_size: 64\n",
      "dru_fea_size: 945\n",
      "dis_size: 1036\n",
      "dis_fea_size: 322\n",
      "tar_size: 103\n",
      "tar_fea_size: 1437\n",
      "threshold: 0.79\n",
      "mask=4  reset dru_dis_A as zero, valid sum(dru_dis_A)=0\n"
     ]
    },
    {
     "name": "stderr",
     "output_type": "stream",
     "text": [
      "\n",
      " 79%|███████▊  | 48/61 [00:19<00:05,  2.39it/s]\u001b[A"
     ]
    },
    {
     "name": "stdout",
     "output_type": "stream",
     "text": [
      "-------------------  data info  -----------------\n",
      "dru_size: 64\n",
      "dru_fea_size: 945\n",
      "dis_size: 1036\n",
      "dis_fea_size: 322\n",
      "tar_size: 103\n",
      "tar_fea_size: 1437\n",
      "threshold: 0.79\n",
      "mask=4  reset dru_dis_A as zero, valid sum(dru_dis_A)=0\n"
     ]
    },
    {
     "name": "stderr",
     "output_type": "stream",
     "text": [
      "\n",
      " 80%|████████  | 49/61 [00:20<00:05,  2.38it/s]\u001b[A"
     ]
    },
    {
     "name": "stdout",
     "output_type": "stream",
     "text": [
      "-------------------  data info  -----------------\n",
      "dru_size: 64\n",
      "dru_fea_size: 945\n",
      "dis_size: 1036\n",
      "dis_fea_size: 322\n",
      "tar_size: 103\n",
      "tar_fea_size: 1437\n",
      "threshold: 0.79\n",
      "mask=4  reset dru_dis_A as zero, valid sum(dru_dis_A)=0\n"
     ]
    },
    {
     "name": "stderr",
     "output_type": "stream",
     "text": [
      "\n",
      " 82%|████████▏ | 50/61 [00:20<00:04,  2.39it/s]\u001b[A"
     ]
    },
    {
     "name": "stdout",
     "output_type": "stream",
     "text": [
      "-------------------  data info  -----------------\n",
      "dru_size: 81\n",
      "dru_fea_size: 962\n",
      "dis_size: 1157\n",
      "dis_fea_size: 322\n",
      "tar_size: 128\n",
      "tar_fea_size: 1437\n",
      "threshold: 0.74\n",
      "mask=4  reset dru_dis_A as zero, valid sum(dru_dis_A)=0\n"
     ]
    },
    {
     "name": "stderr",
     "output_type": "stream",
     "text": [
      "\n",
      " 84%|████████▎ | 51/61 [00:21<00:04,  2.28it/s]\u001b[A"
     ]
    },
    {
     "name": "stdout",
     "output_type": "stream",
     "text": [
      "-------------------  data info  -----------------\n",
      "dru_size: 81\n",
      "dru_fea_size: 962\n",
      "dis_size: 1157\n",
      "dis_fea_size: 322\n",
      "tar_size: 128\n",
      "tar_fea_size: 1437\n",
      "threshold: 0.74\n",
      "mask=4  reset dru_dis_A as zero, valid sum(dru_dis_A)=0\n"
     ]
    },
    {
     "name": "stderr",
     "output_type": "stream",
     "text": [
      "\n",
      " 85%|████████▌ | 52/61 [00:21<00:04,  2.22it/s]\u001b[A"
     ]
    },
    {
     "name": "stdout",
     "output_type": "stream",
     "text": [
      "-------------------  data info  -----------------\n",
      "dru_size: 81\n",
      "dru_fea_size: 962\n",
      "dis_size: 1157\n",
      "dis_fea_size: 322\n",
      "tar_size: 128\n",
      "tar_fea_size: 1437\n",
      "threshold: 0.74\n",
      "mask=4  reset dru_dis_A as zero, valid sum(dru_dis_A)=0\n"
     ]
    },
    {
     "name": "stderr",
     "output_type": "stream",
     "text": [
      "\n",
      " 87%|████████▋ | 53/61 [00:22<00:03,  2.17it/s]\u001b[A"
     ]
    },
    {
     "name": "stdout",
     "output_type": "stream",
     "text": [
      "-------------------  data info  -----------------\n",
      "dru_size: 81\n",
      "dru_fea_size: 962\n",
      "dis_size: 1157\n",
      "dis_fea_size: 322\n",
      "tar_size: 128\n",
      "tar_fea_size: 1437\n",
      "threshold: 0.74\n",
      "mask=4  reset dru_dis_A as zero, valid sum(dru_dis_A)=0\n"
     ]
    },
    {
     "name": "stderr",
     "output_type": "stream",
     "text": [
      "\n",
      " 89%|████████▊ | 54/61 [00:22<00:03,  2.16it/s]\u001b[A"
     ]
    },
    {
     "name": "stdout",
     "output_type": "stream",
     "text": [
      "-------------------  data info  -----------------\n",
      "dru_size: 81\n",
      "dru_fea_size: 962\n",
      "dis_size: 1157\n",
      "dis_fea_size: 322\n",
      "tar_size: 128\n",
      "tar_fea_size: 1437\n",
      "threshold: 0.74\n",
      "mask=4  reset dru_dis_A as zero, valid sum(dru_dis_A)=0\n"
     ]
    },
    {
     "name": "stderr",
     "output_type": "stream",
     "text": [
      "\n",
      " 90%|█████████ | 55/61 [00:23<00:02,  2.16it/s]\u001b[A"
     ]
    },
    {
     "name": "stdout",
     "output_type": "stream",
     "text": [
      "-------------------  data info  -----------------\n",
      "dru_size: 81\n",
      "dru_fea_size: 962\n",
      "dis_size: 1157\n",
      "dis_fea_size: 322\n",
      "tar_size: 128\n",
      "tar_fea_size: 1437\n",
      "threshold: 0.74\n",
      "mask=4  reset dru_dis_A as zero, valid sum(dru_dis_A)=0\n"
     ]
    },
    {
     "name": "stderr",
     "output_type": "stream",
     "text": [
      "\n",
      " 92%|█████████▏| 56/61 [00:23<00:02,  2.16it/s]\u001b[A"
     ]
    },
    {
     "name": "stdout",
     "output_type": "stream",
     "text": [
      "-------------------  data info  -----------------\n",
      "dru_size: 81\n",
      "dru_fea_size: 962\n",
      "dis_size: 1157\n",
      "dis_fea_size: 322\n",
      "tar_size: 128\n",
      "tar_fea_size: 1437\n",
      "threshold: 0.74\n",
      "mask=4  reset dru_dis_A as zero, valid sum(dru_dis_A)=0\n"
     ]
    },
    {
     "name": "stderr",
     "output_type": "stream",
     "text": [
      "\n",
      " 93%|█████████▎| 57/61 [00:24<00:01,  2.16it/s]\u001b[A"
     ]
    },
    {
     "name": "stdout",
     "output_type": "stream",
     "text": [
      "-------------------  data info  -----------------\n",
      "dru_size: 81\n",
      "dru_fea_size: 962\n",
      "dis_size: 1157\n",
      "dis_fea_size: 322\n",
      "tar_size: 128\n",
      "tar_fea_size: 1437\n",
      "threshold: 0.74\n",
      "mask=4  reset dru_dis_A as zero, valid sum(dru_dis_A)=0\n"
     ]
    },
    {
     "name": "stderr",
     "output_type": "stream",
     "text": [
      "\n",
      " 95%|█████████▌| 58/61 [00:24<00:01,  2.15it/s]\u001b[A"
     ]
    },
    {
     "name": "stdout",
     "output_type": "stream",
     "text": [
      "-------------------  data info  -----------------\n",
      "dru_size: 81\n",
      "dru_fea_size: 962\n",
      "dis_size: 1157\n",
      "dis_fea_size: 322\n",
      "tar_size: 128\n",
      "tar_fea_size: 1437\n",
      "threshold: 0.74\n",
      "mask=4  reset dru_dis_A as zero, valid sum(dru_dis_A)=0\n"
     ]
    },
    {
     "name": "stderr",
     "output_type": "stream",
     "text": [
      "\n",
      " 97%|█████████▋| 59/61 [00:25<00:00,  2.13it/s]\u001b[A"
     ]
    },
    {
     "name": "stdout",
     "output_type": "stream",
     "text": [
      "-------------------  data info  -----------------\n",
      "dru_size: 81\n",
      "dru_fea_size: 962\n",
      "dis_size: 1157\n",
      "dis_fea_size: 322\n",
      "tar_size: 128\n",
      "tar_fea_size: 1437\n",
      "threshold: 0.74\n",
      "mask=4  reset dru_dis_A as zero, valid sum(dru_dis_A)=0\n"
     ]
    },
    {
     "name": "stderr",
     "output_type": "stream",
     "text": [
      "\n",
      " 98%|█████████▊| 60/61 [00:25<00:00,  2.14it/s]\u001b[A"
     ]
    },
    {
     "ename": "AssertionError",
     "evalue": "",
     "output_type": "error",
     "traceback": [
      "\u001b[0;31m---------------------------------------------------------------------------\u001b[0m",
      "\u001b[0;31mAssertionError\u001b[0m                            Traceback (most recent call last)",
      "\u001b[0;32m<ipython-input-37-b20181985b53>\u001b[0m in \u001b[0;36m<module>\u001b[0;34m()\u001b[0m\n\u001b[1;32m      1\u001b[0m \u001b[0mckp_res_list\u001b[0m \u001b[0;34m=\u001b[0m \u001b[0;34m[\u001b[0m\u001b[0;34m]\u001b[0m\u001b[0;34m\u001b[0m\u001b[0m\n\u001b[1;32m      2\u001b[0m \u001b[0;32mfor\u001b[0m \u001b[0mckp\u001b[0m \u001b[0;32min\u001b[0m \u001b[0mtqdm\u001b[0m\u001b[0;34m(\u001b[0m\u001b[0mckp_list\u001b[0m\u001b[0;34m)\u001b[0m\u001b[0;34m:\u001b[0m\u001b[0;34m\u001b[0m\u001b[0m\n\u001b[0;32m----> 3\u001b[0;31m     \u001b[0;32massert\u001b[0m \u001b[0mckp\u001b[0m\u001b[0;34m[\u001b[0m\u001b[0;36m1\u001b[0m\u001b[0;34m]\u001b[0m \u001b[0;32min\u001b[0m \u001b[0mnsave_list\u001b[0m\u001b[0;34m\u001b[0m\u001b[0m\n\u001b[0m\u001b[1;32m      4\u001b[0m     \u001b[0mres\u001b[0m \u001b[0;34m=\u001b[0m \u001b[0mevaluate_ckp\u001b[0m\u001b[0;34m(\u001b[0m\u001b[0mckp_file\u001b[0m\u001b[0;34m=\u001b[0m\u001b[0mckp\u001b[0m\u001b[0;34m[\u001b[0m\u001b[0;36m0\u001b[0m\u001b[0;34m]\u001b[0m\u001b[0;34m)\u001b[0m\u001b[0;34m\u001b[0m\u001b[0m\n\u001b[1;32m      5\u001b[0m     \u001b[0mckp_res_list\u001b[0m\u001b[0;34m.\u001b[0m\u001b[0mappend\u001b[0m\u001b[0;34m(\u001b[0m\u001b[0mckp\u001b[0m \u001b[0;34m+\u001b[0m \u001b[0;34m[\u001b[0m\u001b[0mres\u001b[0m\u001b[0;34m]\u001b[0m\u001b[0;34m)\u001b[0m\u001b[0;34m\u001b[0m\u001b[0m\n",
      "\u001b[0;31mAssertionError\u001b[0m: "
     ]
    }
   ],
   "source": [
    "nsave_list = {save_list[ckp][1]: save_list[ckp] for ckp in save_list}\n",
    "ckp_res_list = []\n",
    "for ckp in tqdm(ckp_list):\n",
    "    assert ckp[1] in nsave_list\n",
    "    res = evaluate_ckp(ckp_file=ckp[0])\n",
    "    ckp_res_list.append(ckp + [res])\n",
    "    nsave_list[ckp[1]] = ckp + [res]"
   ]
  },
  {
   "cell_type": "code",
   "execution_count": 40,
   "metadata": {},
   "outputs": [],
   "source": [
    "from collections import defaultdict"
   ]
  },
  {
   "cell_type": "code",
   "execution_count": 44,
   "metadata": {},
   "outputs": [],
   "source": [
    "ckp_res_list = [nsave_list[ckp[1]] for ckp in ckp_list]"
   ]
  },
  {
   "cell_type": "code",
   "execution_count": 53,
   "metadata": {},
   "outputs": [],
   "source": [
    "from data.data_v2 import parseA, parseA2, parseDataFea\n",
    "def norm_deno(ckp_file):\n",
    "    checkpoint = torch.load(ckp_file)\n",
    "    args = checkpoint['args']\n",
    "    dru_dict, *_ = parseDataFea('drugfeature1_finger_extract.csv', path='./data/' + args.data_set + '/')\n",
    "    dru_dru_mat = parseA('drugdrug_extract.csv', dru_dict, path='./data/' + args.data_set + '/')\n",
    "    deno = dru_dru_mat.max() - dru_dru_mat.min()\n",
    "    return deno"
   ]
  },
  {
   "cell_type": "code",
   "execution_count": 54,
   "metadata": {
    "scrolled": true
   },
   "outputs": [
    {
     "name": "stderr",
     "output_type": "stream",
     "text": [
      "\n",
      "\n",
      "  0%|          | 0/530 [00:00<?, ?it/s]\u001b[A\u001b[A\n",
      "\n",
      "  0%|          | 2/530 [00:00<00:26, 19.93it/s]\u001b[A\u001b[A\n",
      "\n",
      "  2%|▏         | 11/530 [00:00<00:20, 25.13it/s]\u001b[A\u001b[A\n",
      "\n",
      "  4%|▍         | 20/530 [00:00<00:16, 31.78it/s]\u001b[A\u001b[A\n",
      "\n",
      "  5%|▍         | 26/530 [00:00<00:13, 36.84it/s]\u001b[A\u001b[A\n",
      "\n",
      "  6%|▌         | 31/530 [00:00<00:12, 38.97it/s]\u001b[A\u001b[A\n",
      "\n",
      "  7%|▋         | 37/530 [00:00<00:11, 43.33it/s]\u001b[A\u001b[A\n",
      "\n",
      "  8%|▊         | 43/530 [00:00<00:10, 47.13it/s]\u001b[A\u001b[A\n",
      "\n",
      " 10%|▉         | 51/530 [00:00<00:09, 51.33it/s]\u001b[A\u001b[A\n",
      "\n",
      " 11%|█▏        | 60/530 [00:00<00:08, 58.23it/s]\u001b[A\u001b[A\n",
      "\n",
      " 13%|█▎        | 67/530 [00:01<00:08, 57.66it/s]\u001b[A\u001b[A\n",
      "\n",
      " 14%|█▍        | 74/530 [00:01<00:07, 58.90it/s]\u001b[A\u001b[A\n",
      "\n",
      " 15%|█▌        | 81/530 [00:01<00:07, 59.85it/s]\u001b[A\u001b[A\n",
      "\n",
      " 17%|█▋        | 90/530 [00:01<00:06, 65.72it/s]\u001b[A\u001b[A\n",
      "\n",
      " 18%|█▊        | 97/530 [00:01<00:06, 64.56it/s]\u001b[A\u001b[A\n",
      "\n",
      " 20%|█▉        | 104/530 [00:01<00:06, 64.01it/s]\u001b[A\u001b[A\n",
      "\n",
      " 21%|██        | 111/530 [00:01<00:06, 63.64it/s]\u001b[A\u001b[A\n",
      "\n",
      " 23%|██▎       | 120/530 [00:01<00:05, 68.67it/s]\u001b[A\u001b[A\n",
      "\n",
      " 24%|██▍       | 128/530 [00:02<00:06, 62.82it/s]\u001b[A\u001b[A\n",
      "\n",
      " 25%|██▌       | 135/530 [00:02<00:06, 59.05it/s]\u001b[A\u001b[A\n",
      "\n",
      " 27%|██▋       | 142/530 [00:02<00:06, 57.14it/s]\u001b[A\u001b[A\n",
      "\n",
      " 28%|██▊       | 151/530 [00:02<00:06, 59.83it/s]\u001b[A\u001b[A\n",
      "\n",
      " 30%|██▉       | 158/530 [00:02<00:05, 62.01it/s]\u001b[A\u001b[A\n",
      "\n",
      " 31%|███       | 165/530 [00:02<00:06, 60.38it/s]\u001b[A\u001b[A\n",
      "\n",
      " 32%|███▏      | 172/530 [00:02<00:06, 59.63it/s]\u001b[A\u001b[A\n",
      "\n",
      " 34%|███▍      | 181/530 [00:02<00:05, 61.55it/s]\u001b[A\u001b[A\n",
      "\n",
      " 36%|███▌      | 190/530 [00:03<00:05, 67.21it/s]\u001b[A\u001b[A\n",
      "\n",
      " 37%|███▋      | 197/530 [00:03<00:05, 65.63it/s]\u001b[A\u001b[A\n",
      "\n",
      " 38%|███▊      | 204/530 [00:03<00:05, 64.83it/s]\u001b[A\u001b[A\n",
      "\n",
      " 40%|███▉      | 211/530 [00:03<00:04, 64.55it/s]\u001b[A\u001b[A\n",
      "\n",
      " 42%|████▏     | 220/530 [00:03<00:04, 69.78it/s]\u001b[A\u001b[A\n",
      "\n",
      " 43%|████▎     | 228/530 [00:03<00:04, 68.17it/s]\u001b[A\u001b[A\n",
      "\n",
      " 44%|████▍     | 235/530 [00:03<00:04, 66.06it/s]\u001b[A\u001b[A\n",
      "\n",
      " 46%|████▌     | 242/530 [00:03<00:04, 61.49it/s]\u001b[A\u001b[A\n",
      "\n",
      " 47%|████▋     | 251/530 [00:03<00:04, 63.00it/s]\u001b[A\u001b[A\n",
      "\n",
      " 49%|████▉     | 260/530 [00:04<00:03, 68.64it/s]\u001b[A\u001b[A\n",
      "\n",
      " 51%|█████     | 268/530 [00:04<00:04, 64.61it/s]\u001b[A\u001b[A\n",
      "\n",
      " 52%|█████▏    | 275/530 [00:04<00:04, 59.87it/s]\u001b[A\u001b[A\n",
      "\n",
      " 53%|█████▎    | 282/530 [00:04<00:04, 57.93it/s]\u001b[A\u001b[A\n",
      "\n",
      " 55%|█████▍    | 290/530 [00:04<00:03, 62.15it/s]\u001b[A\u001b[A\n",
      "\n",
      " 56%|█████▌    | 297/530 [00:04<00:03, 59.70it/s]\u001b[A\u001b[A\n",
      "\n",
      " 57%|█████▋    | 304/530 [00:04<00:04, 55.22it/s]\u001b[A\u001b[A\n",
      "\n",
      " 59%|█████▊    | 311/530 [00:04<00:03, 56.61it/s]\u001b[A\u001b[A\n",
      "\n",
      " 60%|██████    | 320/530 [00:05<00:03, 62.88it/s]\u001b[A\u001b[A\n",
      "\n",
      " 62%|██████▏   | 327/530 [00:05<00:03, 62.53it/s]\u001b[A\u001b[A\n",
      "\n",
      " 63%|██████▎   | 334/530 [00:05<00:03, 61.01it/s]\u001b[A\u001b[A\n",
      "\n",
      " 64%|██████▍   | 341/530 [00:05<00:03, 59.79it/s]\u001b[A\u001b[A\n",
      "\n",
      " 66%|██████▌   | 350/530 [00:05<00:02, 65.49it/s]\u001b[A\u001b[A\n",
      "\n",
      " 67%|██████▋   | 357/530 [00:05<00:02, 65.12it/s]\u001b[A\u001b[A\n",
      "\n",
      " 69%|██████▊   | 364/530 [00:05<00:02, 64.61it/s]\u001b[A\u001b[A\n",
      "\n",
      " 70%|███████   | 371/530 [00:05<00:02, 64.02it/s]\u001b[A\u001b[A\n",
      "\n",
      " 72%|███████▏  | 380/530 [00:05<00:02, 68.79it/s]\u001b[A\u001b[A\n",
      "\n",
      " 73%|███████▎  | 388/530 [00:06<00:02, 67.59it/s]\u001b[A\u001b[A\n",
      "\n",
      " 75%|███████▍  | 395/530 [00:06<00:02, 65.85it/s]\u001b[A\u001b[A\n",
      "\n",
      " 76%|███████▌  | 402/530 [00:06<00:01, 64.49it/s]\u001b[A\u001b[A\n",
      "\n",
      " 78%|███████▊  | 411/530 [00:06<00:01, 65.01it/s]\u001b[A\u001b[A\n",
      "\n",
      " 79%|███████▉  | 420/530 [00:06<00:01, 69.90it/s]\u001b[A\u001b[A\n",
      "\n",
      " 81%|████████  | 428/530 [00:06<00:01, 65.47it/s]\u001b[A\u001b[A\n",
      "\n",
      " 82%|████████▏ | 435/530 [00:06<00:01, 60.65it/s]\u001b[A\u001b[A\n",
      "\n",
      " 83%|████████▎ | 442/530 [00:06<00:01, 61.27it/s]\u001b[A\u001b[A\n",
      "\n",
      " 85%|████████▌ | 451/530 [00:07<00:01, 62.88it/s]\u001b[A\u001b[A\n",
      "\n",
      " 87%|████████▋ | 460/530 [00:07<00:01, 68.27it/s]\u001b[A\u001b[A\n",
      "\n",
      " 88%|████████▊ | 468/530 [00:07<00:00, 62.61it/s]\u001b[A\u001b[A\n",
      "\n",
      " 90%|████████▉ | 475/530 [00:07<00:00, 59.46it/s]\u001b[A\u001b[A\n",
      "\n",
      " 91%|█████████ | 482/530 [00:07<00:00, 57.77it/s]\u001b[A\u001b[A\n",
      "\n",
      " 92%|█████████▏| 489/530 [00:07<00:00, 59.78it/s]\u001b[A\u001b[A\n",
      "\n",
      " 94%|█████████▎| 496/530 [00:07<00:00, 60.40it/s]\u001b[A\u001b[A\n",
      "\n",
      " 95%|█████████▍| 503/530 [00:07<00:00, 57.49it/s]\u001b[A\u001b[A\n",
      "\n",
      " 96%|█████████▋| 511/530 [00:08<00:00, 56.74it/s]\u001b[A\u001b[A\n",
      "\n",
      " 98%|█████████▊| 517/530 [00:08<00:00, 57.33it/s]\u001b[A\u001b[A\n",
      "\n",
      " 99%|█████████▊| 523/530 [00:08<00:00, 57.01it/s]\u001b[A\u001b[A\n",
      "\n",
      "100%|██████████| 530/530 [00:08<00:00, 62.93it/s]\u001b[A\u001b[A\n",
      "\n",
      "  0%|          | 0/530 [00:00<?, ?it/s]\u001b[A\u001b[A\n",
      "\n",
      "  2%|▏         | 9/530 [00:00<00:06, 85.45it/s]\u001b[A\u001b[A\n",
      "\n",
      "  3%|▎         | 18/530 [00:00<00:06, 85.31it/s]\u001b[A\u001b[A\n",
      "\n",
      "  5%|▌         | 27/530 [00:00<00:05, 85.20it/s]\u001b[A\u001b[A\n",
      "\n",
      "  7%|▋         | 36/530 [00:00<00:05, 85.18it/s]\u001b[A\u001b[A\n",
      "\n",
      "  8%|▊         | 45/530 [00:00<00:05, 85.22it/s]\u001b[A\u001b[A\n",
      "\n",
      " 10%|█         | 53/530 [00:00<00:05, 80.16it/s]\u001b[A\u001b[A\n",
      "\n",
      " 12%|█▏        | 62/530 [00:00<00:05, 81.64it/s]\u001b[A\u001b[A\n",
      "\n",
      " 13%|█▎        | 71/530 [00:00<00:05, 82.99it/s]\u001b[A\u001b[A\n",
      "\n",
      " 15%|█▌        | 80/530 [00:00<00:05, 83.78it/s]\u001b[A\u001b[A\n",
      "\n",
      " 17%|█▋        | 89/530 [00:01<00:05, 84.31it/s]\u001b[A\u001b[A\n",
      "\n",
      " 18%|█▊        | 98/530 [00:01<00:05, 84.64it/s]\u001b[A\u001b[A\n",
      "\n",
      " 20%|██        | 107/530 [00:01<00:04, 85.44it/s]\u001b[A\u001b[A\n",
      "\n",
      " 22%|██▏       | 116/530 [00:01<00:04, 85.64it/s]\u001b[A\u001b[A\n",
      "\n",
      " 24%|██▎       | 125/530 [00:01<00:04, 83.40it/s]\u001b[A\u001b[A\n",
      "\n",
      " 25%|██▌       | 134/530 [00:01<00:05, 75.87it/s]\u001b[A\u001b[A\n",
      "\n",
      " 27%|██▋       | 143/530 [00:01<00:04, 77.76it/s]\u001b[A\u001b[A\n",
      "\n",
      " 29%|██▊       | 152/530 [00:01<00:04, 79.56it/s]\u001b[A\u001b[A\n",
      "\n",
      " 30%|███       | 161/530 [00:01<00:04, 76.37it/s]\u001b[A\u001b[A\n",
      "\n",
      " 32%|███▏      | 169/530 [00:02<00:04, 75.74it/s]\u001b[A\u001b[A\n",
      "\n",
      " 34%|███▎      | 178/530 [00:02<00:04, 78.09it/s]\u001b[A\u001b[A\n",
      "\n",
      " 35%|███▌      | 186/530 [00:02<00:04, 75.45it/s]\u001b[A\u001b[A\n",
      "\n",
      " 37%|███▋      | 194/530 [00:02<00:04, 73.29it/s]\u001b[A\u001b[A\n",
      "\n",
      " 38%|███▊      | 203/530 [00:02<00:04, 76.66it/s]\u001b[A\u001b[A\n",
      "\n",
      " 40%|████      | 212/530 [00:02<00:03, 79.62it/s]\u001b[A\u001b[A\n",
      "\n",
      " 42%|████▏     | 221/530 [00:02<00:03, 81.26it/s]\u001b[A\u001b[A\n",
      "\n",
      " 43%|████▎     | 230/530 [00:02<00:03, 77.48it/s]\u001b[A\u001b[A\n",
      "\n",
      " 45%|████▌     | 239/530 [00:02<00:03, 79.31it/s]\u001b[A\u001b[A\n",
      "\n",
      " 47%|████▋     | 248/530 [00:03<00:03, 76.67it/s]\u001b[A\u001b[A\n",
      "\n",
      " 48%|████▊     | 257/530 [00:03<00:03, 79.45it/s]\u001b[A\u001b[A\n",
      "\n",
      " 50%|█████     | 266/530 [00:03<00:03, 81.18it/s]\u001b[A\u001b[A\n",
      "\n",
      " 52%|█████▏    | 275/530 [00:03<00:03, 82.41it/s]\u001b[A\u001b[A\n",
      "\n",
      " 54%|█████▎    | 284/530 [00:03<00:03, 78.83it/s]\u001b[A\u001b[A\n",
      "\n",
      " 55%|█████▌    | 293/530 [00:03<00:02, 79.69it/s]\u001b[A\u001b[A\n",
      "\n",
      " 57%|█████▋    | 302/530 [00:03<00:02, 78.58it/s]\u001b[A\u001b[A\n",
      "\n",
      " 59%|█████▊    | 311/530 [00:03<00:02, 80.45it/s]\u001b[A\u001b[A\n",
      "\n",
      " 60%|██████    | 320/530 [00:03<00:02, 81.65it/s]\u001b[A\u001b[A\n",
      "\n",
      " 62%|██████▏   | 329/530 [00:04<00:02, 82.59it/s]\u001b[A\u001b[A\n",
      "\n",
      " 64%|██████▍   | 338/530 [00:04<00:02, 74.17it/s]\u001b[A\u001b[A\n",
      "\n",
      " 65%|██████▌   | 346/530 [00:04<00:02, 74.91it/s]\u001b[A\u001b[A\n",
      "\n",
      " 67%|██████▋   | 354/530 [00:04<00:02, 72.78it/s]\u001b[A\u001b[A\n",
      "\n",
      " 68%|██████▊   | 362/530 [00:04<00:02, 70.34it/s]\u001b[A\u001b[A\n",
      "\n",
      " 70%|███████   | 371/530 [00:04<00:02, 73.58it/s]\u001b[A\u001b[A\n",
      "\n",
      " 72%|███████▏  | 379/530 [00:04<00:02, 71.32it/s]\u001b[A\u001b[A\n",
      "\n",
      " 73%|███████▎  | 388/530 [00:04<00:01, 75.16it/s]\u001b[A\u001b[A\n",
      "\n",
      " 75%|███████▍  | 397/530 [00:05<00:01, 77.91it/s]\u001b[A\u001b[A\n",
      "\n",
      " 77%|███████▋  | 406/530 [00:05<00:01, 79.82it/s]\u001b[A\u001b[A\n",
      "\n",
      " 78%|███████▊  | 415/530 [00:05<00:01, 81.37it/s]\u001b[A\u001b[A\n",
      "\n",
      " 80%|████████  | 424/530 [00:05<00:01, 81.06it/s]\u001b[A\u001b[A\n",
      "\n",
      " 82%|████████▏ | 433/530 [00:05<00:01, 79.99it/s]\u001b[A\u001b[A\n",
      "\n",
      " 83%|████████▎ | 442/530 [00:05<00:01, 81.50it/s]\u001b[A\u001b[A\n",
      "\n",
      " 85%|████████▌ | 451/530 [00:05<00:01, 78.92it/s]\u001b[A\u001b[A\n",
      "\n",
      " 87%|████████▋ | 460/530 [00:05<00:00, 80.34it/s]\u001b[A\u001b[A\n",
      "\n",
      " 88%|████████▊ | 469/530 [00:05<00:00, 78.62it/s]\u001b[A\u001b[A\n",
      "\n",
      " 90%|█████████ | 477/530 [00:06<00:00, 77.32it/s]\u001b[A\u001b[A\n",
      "\n",
      " 92%|█████████▏| 486/530 [00:06<00:00, 78.42it/s]\u001b[A\u001b[A\n",
      "\n",
      " 93%|█████████▎| 494/530 [00:06<00:00, 75.81it/s]\u001b[A\u001b[A\n",
      "\n",
      " 95%|█████████▍| 503/530 [00:06<00:00, 78.38it/s]\u001b[A\u001b[A\n",
      "\n",
      " 96%|█████████▋| 511/530 [00:06<00:00, 75.28it/s]\u001b[A\u001b[A\n",
      "\n",
      " 98%|█████████▊| 519/530 [00:06<00:00, 74.52it/s]\u001b[A\u001b[A\n",
      "\n",
      "100%|█████████▉| 528/530 [00:06<00:00, 77.18it/s]\u001b[A\u001b[A\n",
      "\n",
      "100%|██████████| 530/530 [00:06<00:00, 78.96it/s]\u001b[A\u001b[A\n",
      "\n",
      "  0%|          | 0/530 [00:00<?, ?it/s]\u001b[A\u001b[A\n",
      "\n",
      "  2%|▏         | 9/530 [00:00<00:06, 85.16it/s]\u001b[A\u001b[A\n",
      "\n",
      "  3%|▎         | 14/530 [00:00<00:07, 69.43it/s]\u001b[A\u001b[A\n",
      "\n",
      "  4%|▍         | 23/530 [00:00<00:06, 72.55it/s]\u001b[A\u001b[A\n",
      "\n",
      "  6%|▌         | 32/530 [00:00<00:06, 75.64it/s]\u001b[A\u001b[A\n",
      "\n",
      "  8%|▊         | 41/530 [00:00<00:06, 78.20it/s]\u001b[A\u001b[A\n",
      "\n",
      "  9%|▉         | 50/530 [00:00<00:05, 80.23it/s]\u001b[A\u001b[A\n",
      "\n",
      " 11%|█         | 59/530 [00:00<00:05, 81.74it/s]\u001b[A\u001b[A\n",
      "\n",
      " 13%|█▎        | 68/530 [00:00<00:05, 83.06it/s]\u001b[A\u001b[A\n",
      "\n",
      " 15%|█▍        | 77/530 [00:00<00:05, 83.86it/s]\u001b[A\u001b[A\n",
      "\n",
      " 16%|█▌        | 86/530 [00:01<00:05, 79.52it/s]\u001b[A\u001b[A\n",
      "\n",
      " 18%|█▊        | 95/530 [00:01<00:05, 81.02it/s]\u001b[A\u001b[A\n",
      "\n",
      " 20%|█▉        | 104/530 [00:01<00:05, 79.09it/s]\u001b[A\u001b[A\n",
      "\n",
      " 21%|██        | 112/530 [00:01<00:05, 75.85it/s]\u001b[A\u001b[A\n",
      "\n",
      " 23%|██▎       | 120/530 [00:01<00:05, 73.87it/s]\u001b[A\u001b[A\n",
      "\n",
      " 24%|██▍       | 128/530 [00:01<00:05, 73.90it/s]\u001b[A\u001b[A\n",
      "\n",
      " 26%|██▌       | 137/530 [00:01<00:05, 76.65it/s]\u001b[A\u001b[A\n",
      "\n",
      " 28%|██▊       | 146/530 [00:01<00:04, 79.46it/s]\u001b[A\u001b[A\n",
      "\n",
      " 29%|██▉       | 155/530 [00:01<00:04, 81.38it/s]\u001b[A\u001b[A\n",
      "\n",
      " 31%|███       | 164/530 [00:02<00:04, 81.00it/s]\u001b[A\u001b[A\n",
      "\n",
      " 33%|███▎      | 173/530 [00:02<00:04, 80.14it/s]\u001b[A\u001b[A\n",
      "\n",
      " 34%|███▍      | 182/530 [00:02<00:04, 81.84it/s]\u001b[A\u001b[A\n",
      "\n",
      " 36%|███▌      | 191/530 [00:02<00:04, 82.99it/s]\u001b[A\u001b[A\n",
      "\n",
      " 38%|███▊      | 200/530 [00:02<00:03, 83.75it/s]\u001b[A\u001b[A\n",
      "\n",
      " 39%|███▉      | 209/530 [00:02<00:03, 81.38it/s]\u001b[A\u001b[A\n",
      "\n",
      " 41%|████      | 218/530 [00:02<00:03, 82.81it/s]\u001b[A\u001b[A\n",
      "\n",
      " 43%|████▎     | 227/530 [00:02<00:03, 83.47it/s]\u001b[A\u001b[A\n",
      "\n",
      " 45%|████▍     | 236/530 [00:02<00:03, 82.28it/s]\u001b[A\u001b[A\n",
      "\n",
      " 46%|████▌     | 245/530 [00:03<00:03, 79.05it/s]\u001b[A\u001b[A\n",
      "\n",
      " 48%|████▊     | 254/530 [00:03<00:03, 81.20it/s]\u001b[A\u001b[A\n",
      "\n",
      " 50%|████▉     | 263/530 [00:03<00:03, 82.71it/s]\u001b[A\u001b[A\n",
      "\n",
      " 51%|█████▏    | 272/530 [00:03<00:03, 83.41it/s]\u001b[A\u001b[A\n",
      "\n",
      " 53%|█████▎    | 281/530 [00:03<00:02, 84.24it/s]\u001b[A\u001b[A\n",
      "\n",
      " 55%|█████▍    | 290/530 [00:03<00:02, 84.91it/s]\u001b[A\u001b[A\n",
      "\n",
      " 56%|█████▋    | 299/530 [00:03<00:03, 75.15it/s]\u001b[A\u001b[A\n",
      "\n",
      " 58%|█████▊    | 308/530 [00:03<00:02, 77.55it/s]\u001b[A\u001b[A\n",
      "\n",
      " 60%|█████▉    | 317/530 [00:03<00:02, 79.65it/s]\u001b[A\u001b[A\n",
      "\n",
      " 62%|██████▏   | 326/530 [00:04<00:02, 73.46it/s]\u001b[A\u001b[A\n",
      "\n",
      " 63%|██████▎   | 334/530 [00:04<00:02, 68.53it/s]\u001b[A\u001b[A\n",
      "\n",
      " 65%|██████▍   | 342/530 [00:04<00:02, 67.59it/s]\u001b[A\u001b[A\n",
      "\n",
      " 66%|██████▌   | 351/530 [00:04<00:02, 72.10it/s]\u001b[A\u001b[A\n",
      "\n",
      " 68%|██████▊   | 360/530 [00:04<00:02, 75.95it/s]\u001b[A\u001b[A\n",
      "\n",
      " 70%|██████▉   | 369/530 [00:04<00:02, 78.47it/s]\u001b[A\u001b[A\n",
      "\n",
      " 71%|███████   | 377/530 [00:04<00:02, 72.32it/s]\u001b[A\u001b[A\n",
      "\n",
      " 73%|███████▎  | 385/530 [00:04<00:02, 71.47it/s]\u001b[A\u001b[A\n",
      "\n",
      " 74%|███████▍  | 393/530 [00:05<00:01, 70.71it/s]\u001b[A\u001b[A\n",
      "\n",
      " 76%|███████▌  | 402/530 [00:05<00:01, 74.48it/s]\u001b[A\u001b[A\n",
      "\n",
      " 78%|███████▊  | 411/530 [00:05<00:01, 77.38it/s]\u001b[A\u001b[A\n",
      "\n",
      " 79%|███████▉  | 420/530 [00:05<00:01, 79.76it/s]\u001b[A\u001b[A\n",
      "\n",
      " 81%|████████  | 429/530 [00:05<00:01, 77.98it/s]\u001b[A\u001b[A\n",
      "\n",
      " 82%|████████▏ | 437/530 [00:05<00:01, 78.15it/s]\u001b[A\u001b[A\n",
      "\n",
      " 84%|████████▍ | 445/530 [00:05<00:01, 75.38it/s]\u001b[A\u001b[A\n",
      "\n",
      " 86%|████████▌ | 454/530 [00:05<00:00, 78.32it/s]\u001b[A\u001b[A\n",
      "\n",
      " 87%|████████▋ | 463/530 [00:05<00:00, 79.18it/s]\u001b[A\u001b[A\n",
      "\n",
      " 89%|████████▉ | 471/530 [00:06<00:00, 77.56it/s]\u001b[A\u001b[A\n",
      "\n",
      " 90%|█████████ | 479/530 [00:06<00:00, 72.95it/s]\u001b[A\u001b[A\n",
      "\n",
      " 92%|█████████▏| 488/530 [00:06<00:00, 76.05it/s]\u001b[A\u001b[A\n",
      "\n",
      " 94%|█████████▍| 497/530 [00:06<00:00, 78.57it/s]\u001b[A\u001b[A\n",
      "\n",
      " 95%|█████████▌| 506/530 [00:06<00:00, 80.39it/s]\u001b[A\u001b[A\n",
      "\n",
      " 97%|█████████▋| 515/530 [00:06<00:00, 79.71it/s]\u001b[A\u001b[A\n",
      "\n",
      " 99%|█████████▉| 524/530 [00:06<00:00, 79.62it/s]\u001b[A\u001b[A\n",
      "\n",
      "100%|██████████| 530/530 [00:06<00:00, 78.22it/s]\u001b[A\u001b[A"
     ]
    }
   ],
   "source": [
    "deno_dict = {}\n",
    "error_dict = []\n",
    "res = defaultdict(lambda: {})\n",
    "for threshold in [0, 5, 10][::-1]:\n",
    "    for item in tqdm(ckp_res_list):\n",
    "        if item[0] in res[threshold]:\n",
    "            continue\n",
    "        if item[2] not in deno_dict:\n",
    "            deno_dict[item[2]] = norm_deno(item[0])\n",
    "        deno = deno_dict[item[2]]\n",
    "\n",
    "        ipt, tar, mask = item[-1][-1], item[-1][-2], item[-1][-3]\n",
    "        \n",
    "        ipt = ipt * deno\n",
    "        tar = tar * deno\n",
    "\n",
    "        ipt = ipt >= threshold\n",
    "        tar = tar >= threshold\n",
    "        \n",
    "        try:\n",
    "\n",
    "            acc = calculate_acc(ipt, tar, mask)\n",
    "            auc = calculate_auc(ipt, tar, mask)\n",
    "            aupr = calculate_aupr(ipt, tar, mask)\n",
    "            kappa = calculate_kappa(ipt, tar, mask)\n",
    "        \n",
    "        except Exception as e:\n",
    "            print(item[1])\n",
    "            print(tar.max())\n",
    "            print(deno)\n",
    "            print(tar.max() * deno)\n",
    "            print(e.args)\n",
    "            raise e\n",
    "\n",
    "        res[threshold][item[0]] = [\n",
    "            item[0],\n",
    "            item[1],\n",
    "            item[2],\n",
    "            [acc, auc, aupr, kappa]\n",
    "        ]"
   ]
  },
  {
   "cell_type": "code",
   "execution_count": 55,
   "metadata": {},
   "outputs": [],
   "source": [
    "nres = defaultdict(lambda: defaultdict(lambda: []))\n",
    "\n",
    "for threshold in [0, 5, 10]:\n",
    "    for item in ckp_res_list:\n",
    "        nres[threshold][item[2]].append(res[threshold][item[0]])\n",
    "\n",
    "def mean(data):\n",
    "    return sum(data) / len(data)\n",
    "\n",
    "res_score = {}\n",
    "for threshold in [0, 5, 10]:\n",
    "    res_score[threshold] = defaultdict(lambda: [])\n",
    "    for key in nres[threshold]:\n",
    "        scores = [item[-1] for item in nres[threshold][key]]\n",
    "        res_score[threshold][key] = [mean(item) for item in zip(*scores)]"
   ]
  },
  {
   "cell_type": "code",
   "execution_count": 57,
   "metadata": {},
   "outputs": [],
   "source": [
    "with open('res-grn-th=0.pkl', 'wb') as f:\n",
    "    pickle.dump(dict(res_score[0]), f)\n",
    "\n",
    "with open('res-grn-th=5.pkl', 'wb') as f:\n",
    "    pickle.dump(dict(res_score[5]), f)\n",
    "\n",
    "with open('res-grn-th=10.pkl', 'wb') as f:\n",
    "    pickle.dump(dict(res_score[10]), f)"
   ]
  },
  {
   "cell_type": "code",
   "execution_count": null,
   "metadata": {},
   "outputs": [],
   "source": []
  }
 ],
 "metadata": {
  "kernelspec": {
   "display_name": "Python 3",
   "language": "python",
   "name": "python3"
  },
  "language_info": {
   "codemirror_mode": {
    "name": "ipython",
    "version": 3
   },
   "file_extension": ".py",
   "mimetype": "text/x-python",
   "name": "python",
   "nbconvert_exporter": "python",
   "pygments_lexer": "ipython3",
   "version": "3.7.0"
  }
 },
 "nbformat": 4,
 "nbformat_minor": 2
}
